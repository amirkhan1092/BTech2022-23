{
 "cells": [
  {
   "cell_type": "code",
   "execution_count": 2,
   "metadata": {},
   "outputs": [
    {
     "name": "stdout",
     "output_type": "stream",
     "text": [
      "********  **\n",
      "*    *\n"
     ]
    },
    {
     "ename": "KeyboardInterrupt",
     "evalue": "",
     "output_type": "error",
     "traceback": [
      "\u001b[1;31m---------------------------------------------------------------------------\u001b[0m",
      "\u001b[1;31mKeyboardInterrupt\u001b[0m                         Traceback (most recent call last)",
      "\u001b[1;32mf:\\Python310\\Session2022-23\\First Year\\BTech2022-23\\ExtraClasses\\paper_class.ipynb Cell 1\u001b[0m in \u001b[0;36m5\n\u001b[0;32m      <a href='vscode-notebook-cell:/f%3A/Python310/Session2022-23/First%20Year/BTech2022-23/ExtraClasses/paper_class.ipynb#W0sZmlsZQ%3D%3D?line=2'>3</a>\u001b[0m i \u001b[39m=\u001b[39m rows \u001b[39m/\u001b[39m\u001b[39m/\u001b[39m \u001b[39m2\u001b[39m \u001b[39m-\u001b[39m\u001b[39m1\u001b[39m\n\u001b[0;32m      <a href='vscode-notebook-cell:/f%3A/Python310/Session2022-23/First%20Year/BTech2022-23/ExtraClasses/paper_class.ipynb#W0sZmlsZQ%3D%3D?line=3'>4</a>\u001b[0m j \u001b[39m=\u001b[39m \u001b[39m2\u001b[39m\n\u001b[1;32m----> <a href='vscode-notebook-cell:/f%3A/Python310/Session2022-23/First%20Year/BTech2022-23/ExtraClasses/paper_class.ipynb#W0sZmlsZQ%3D%3D?line=4'>5</a>\u001b[0m \u001b[39mwhile\u001b[39;00m i \u001b[39m>\u001b[39m\u001b[39m=\u001b[39m \u001b[39m0\u001b[39m:\n\u001b[0;32m      <a href='vscode-notebook-cell:/f%3A/Python310/Session2022-23/First%20Year/BTech2022-23/ExtraClasses/paper_class.ipynb#W0sZmlsZQ%3D%3D?line=5'>6</a>\u001b[0m     \u001b[39mwhile\u001b[39;00m j \u001b[39m<\u001b[39m\u001b[39m=\u001b[39m rows \u001b[39m-\u001b[39m \u001b[39m2\u001b[39m:\n\u001b[0;32m      <a href='vscode-notebook-cell:/f%3A/Python310/Session2022-23/First%20Year/BTech2022-23/ExtraClasses/paper_class.ipynb#W0sZmlsZQ%3D%3D?line=6'>7</a>\u001b[0m         \u001b[39mprint\u001b[39m(\u001b[39m'\u001b[39m\u001b[39m*\u001b[39m\u001b[39m'\u001b[39m \u001b[39m*\u001b[39m i, end\u001b[39m=\u001b[39m\u001b[39m'\u001b[39m\u001b[39m'\u001b[39m)\n",
      "\u001b[1;31mKeyboardInterrupt\u001b[0m: "
     ]
    }
   ],
   "source": [
    "rows = 6\n",
    "print('*' * rows, end='')\n",
    "i = rows // 2 -1\n",
    "j = 2\n",
    "while i >= 0:\n",
    "    while j <= rows - 2:\n",
    "        print('*' * i, end='')\n",
    "        print(' ' * j, end='')\n",
    "        print('*' * i)\n",
    "        i -= 1\n",
    "        j += 2"
   ]
  },
  {
   "cell_type": "code",
   "execution_count": 2,
   "metadata": {},
   "outputs": [],
   "source": [
    "# two sum \n",
    "arr = [2, 7, 11, 15]\n",
    "target = 11\n",
    "dct = {}\n",
    "for i in range(len(arr)):\n",
    "    if target - arr[i] in dct:\n",
    "        print(dct[target - arr[i]], i)\n",
    "    else:\n",
    "        dct[arr[i]] = i"
   ]
  }
 ],
 "metadata": {
  "kernelspec": {
   "display_name": "Python 3",
   "language": "python",
   "name": "python3"
  },
  "language_info": {
   "codemirror_mode": {
    "name": "ipython",
    "version": 3
   },
   "file_extension": ".py",
   "mimetype": "text/x-python",
   "name": "python",
   "nbconvert_exporter": "python",
   "pygments_lexer": "ipython3",
   "version": "3.10.7"
  },
  "orig_nbformat": 4
 },
 "nbformat": 4,
 "nbformat_minor": 2
}
