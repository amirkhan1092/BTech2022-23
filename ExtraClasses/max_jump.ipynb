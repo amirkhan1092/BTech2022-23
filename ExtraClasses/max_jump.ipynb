{
 "cells": [
  {
   "cell_type": "code",
   "execution_count": 8,
   "metadata": {},
   "outputs": [],
   "source": [
    "ls = [2, 1, 0, 3, 4]"
   ]
  },
  {
   "cell_type": "code",
   "execution_count": 9,
   "metadata": {},
   "outputs": [
    {
     "name": "stdout",
     "output_type": "stream",
     "text": [
      "False\n"
     ]
    }
   ],
   "source": [
    "reachable = 0\n",
    "for i in range(len(ls)):\n",
    "    if i > reachable:\n",
    "        break\n",
    "    reachable = max(reachable, i + ls[i])\n",
    "print(reachable >= len(ls) - 1)"
   ]
  },
  {
   "cell_type": "code",
   "execution_count": 3,
   "metadata": {},
   "outputs": [],
   "source": [
    "def strongPasswordChecker(s):\n",
    "        missing_type = 3\n",
    "        if any('a' <= c <= 'z' for c in s): missing_type -= 1\n",
    "        if any('A' <= c <= 'Z' for c in s): missing_type -= 1\n",
    "        if any(c.isdigit() for c in s): missing_type -= 1\n",
    "\n",
    "        change = 0\n",
    "        one = two = 0\n",
    "        p = 2\n",
    "        while p < len(s):\n",
    "            if s[p] == s[p-1] == s[p-2]:\n",
    "                length = 2\n",
    "                while p < len(s) and s[p] == s[p-1]:\n",
    "                    length += 1\n",
    "                    p += 1\n",
    "                    \n",
    "                change += length / 3\n",
    "                if length % 3 == 0: one += 1\n",
    "                elif length % 3 == 1: two += 1\n",
    "            else:\n",
    "                p += 1\n",
    "        \n",
    "        if len(s) < 6:\n",
    "            return max(missing_type, 6 - len(s))\n",
    "        elif len(s) <= 20:\n",
    "            return max(missing_type, change)\n",
    "        else:\n",
    "            delete = len(s) - 20\n",
    "            \n",
    "            change -= min(delete, one)\n",
    "            change -= min(max(delete - one, 0), two * 2) / 2\n",
    "            change -= max(delete - one - 2 * two, 0) / 3\n",
    "                \n",
    "            return delete + max(missing_type, change)\n",
    "st = \"aa3a@a\"\n",
    "out = strongPasswordChecker(st)\n",
    "print(out)"
   ]
  },
  {
   "cell_type": "code",
   "execution_count": 7,
   "metadata": {},
   "outputs": [
    {
     "ename": "UnboundLocalError",
     "evalue": "local variable 'a' referenced before assignment",
     "output_type": "error",
     "traceback": [
      "\u001b[1;31m---------------------------------------------------------------------------\u001b[0m",
      "\u001b[1;31mUnboundLocalError\u001b[0m                         Traceback (most recent call last)",
      "\u001b[1;32mf:\\Python310\\Session2022-23\\First Year\\BTech2022-23\\ExtraClasses\\max_jump.ipynb Cell 4\u001b[0m in \u001b[0;36m5\n\u001b[0;32m      <a href='vscode-notebook-cell:/f%3A/Python310/Session2022-23/First%20Year/BTech2022-23/ExtraClasses/max_jump.ipynb#W4sZmlsZQ%3D%3D?line=2'>3</a>\u001b[0m     a \u001b[39m=\u001b[39m \u001b[39m10\u001b[39m\n\u001b[0;32m      <a href='vscode-notebook-cell:/f%3A/Python310/Session2022-23/First%20Year/BTech2022-23/ExtraClasses/max_jump.ipynb#W4sZmlsZQ%3D%3D?line=3'>4</a>\u001b[0m a \u001b[39m=\u001b[39m \u001b[39m2\u001b[39m\n\u001b[1;32m----> <a href='vscode-notebook-cell:/f%3A/Python310/Session2022-23/First%20Year/BTech2022-23/ExtraClasses/max_jump.ipynb#W4sZmlsZQ%3D%3D?line=4'>5</a>\u001b[0m data()\n\u001b[0;32m      <a href='vscode-notebook-cell:/f%3A/Python310/Session2022-23/First%20Year/BTech2022-23/ExtraClasses/max_jump.ipynb#W4sZmlsZQ%3D%3D?line=5'>6</a>\u001b[0m \u001b[39mprint\u001b[39m(a)\n",
      "\u001b[1;32mf:\\Python310\\Session2022-23\\First Year\\BTech2022-23\\ExtraClasses\\max_jump.ipynb Cell 4\u001b[0m in \u001b[0;36m2\n\u001b[0;32m      <a href='vscode-notebook-cell:/f%3A/Python310/Session2022-23/First%20Year/BTech2022-23/ExtraClasses/max_jump.ipynb#W4sZmlsZQ%3D%3D?line=0'>1</a>\u001b[0m \u001b[39mdef\u001b[39;00m \u001b[39mdata\u001b[39m():\n\u001b[1;32m----> <a href='vscode-notebook-cell:/f%3A/Python310/Session2022-23/First%20Year/BTech2022-23/ExtraClasses/max_jump.ipynb#W4sZmlsZQ%3D%3D?line=1'>2</a>\u001b[0m     \u001b[39mprint\u001b[39m(a)\n\u001b[0;32m      <a href='vscode-notebook-cell:/f%3A/Python310/Session2022-23/First%20Year/BTech2022-23/ExtraClasses/max_jump.ipynb#W4sZmlsZQ%3D%3D?line=2'>3</a>\u001b[0m     a \u001b[39m=\u001b[39m \u001b[39m10\u001b[39m\n",
      "\u001b[1;31mUnboundLocalError\u001b[0m: local variable 'a' referenced before assignment"
     ]
    }
   ],
   "source": [
    "def data():\n",
    "    print(a)\n",
    "    a = 10\n",
    "a = 2\n",
    "data()\n",
    "print(a)"
   ]
  },
  {
   "cell_type": "code",
   "execution_count": 6,
   "metadata": {},
   "outputs": [
    {
     "name": "stdout",
     "output_type": "stream",
     "text": [
      "1\n"
     ]
    }
   ],
   "source": [
    "st = \"aa3a@a\"\n",
    "out = strongPasswordChecker(st)\n",
    "print(out)\n"
   ]
  }
 ],
 "metadata": {
  "kernelspec": {
   "display_name": "Python 3",
   "language": "python",
   "name": "python3"
  },
  "language_info": {
   "codemirror_mode": {
    "name": "ipython",
    "version": 3
   },
   "file_extension": ".py",
   "mimetype": "text/x-python",
   "name": "python",
   "nbconvert_exporter": "python",
   "pygments_lexer": "ipython3",
   "version": "3.10.7"
  },
  "orig_nbformat": 4
 },
 "nbformat": 4,
 "nbformat_minor": 2
}
