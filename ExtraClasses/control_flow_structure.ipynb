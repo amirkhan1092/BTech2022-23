{
 "cells": [
  {
   "cell_type": "code",
   "execution_count": null,
   "metadata": {},
   "outputs": [],
   "source": [
    "# control flow structure\n",
    "# statements\n",
    "'''\n",
    "if condition:\n",
    "    statements1...\n",
    "    ...\n",
    "'''\n",
    " "
   ]
  },
  {
   "cell_type": "code",
   "execution_count": 3,
   "metadata": {},
   "outputs": [
    {
     "name": "stdout",
     "output_type": "stream",
     "text": [
      "Number is Negative\n"
     ]
    }
   ],
   "source": [
    "num = -12\n",
    "if num > 0:\n",
    "    print('Number is Positive')\n",
    "else:\n",
    "    print('Number is Negative')"
   ]
  },
  {
   "cell_type": "code",
   "execution_count": 6,
   "metadata": {},
   "outputs": [
    {
     "name": "stdout",
     "output_type": "stream",
     "text": [
      "Underflow Condition\n",
      "Filled Height 0.0\n",
      "Remaining Height 10.0\n"
     ]
    }
   ],
   "source": [
    "h = 10  # height of water tank \n",
    "r = 5  # radius of tank\n",
    "F = 15  # pump flow rate\n",
    "t = int(input('Enter the time for pump to be on '))\n",
    "\n",
    "Vwtr = F * t\n",
    "Vtank = 3.14 * r ** 2 * h\n",
    "\n",
    "if Vwtr == Vtank:\n",
    "    print('Tank Full ')\n",
    "elif Vwtr < Vtank:\n",
    "    print('Underflow Condition')\n",
    "    ht = Vwtr / (3.14 * r ** 2)\n",
    "    hr = h - ht\n",
    "    print('Filled Height', ht)\n",
    "    print('Remaining Height', hr)\n",
    "else:\n",
    "    print('Overflow Condition ')\n",
    "    print('Overflow Volume', Vwtr-Vtank)  \n"
   ]
  },
  {
   "cell_type": "code",
   "execution_count": 9,
   "metadata": {},
   "outputs": [
    {
     "name": "stdout",
     "output_type": "stream",
     "text": [
      "Largest number  30\n"
     ]
    }
   ],
   "source": [
    "# conditional expression in python \n",
    "\n",
    "a = 23\n",
    "b = 30\n",
    "c = 45\n",
    "\n",
    "out = a if a > b else b\n",
    "\n",
    "print('Largest number ', out)   \n"
   ]
  },
  {
   "cell_type": "code",
   "execution_count": 15,
   "metadata": {},
   "outputs": [
    {
     "name": "stdout",
     "output_type": "stream",
     "text": [
      "Invalid Number \n"
     ]
    }
   ],
   "source": [
    "# match cases in Python \n",
    "\n",
    "val = 30\n",
    "match val:\n",
    "    case 1:\n",
    "        out = 'small'\n",
    "    case 2:     \n",
    "        out = 'Medium'\n",
    "    case 3:\n",
    "        out = 'Large'\n",
    "\n",
    "    case _:\n",
    "        out = 'Invalid Number '  \n",
    "\n",
    "print(out)\n",
    "\n"
   ]
  },
  {
   "cell_type": "code",
   "execution_count": 16,
   "metadata": {},
   "outputs": [
    {
     "name": "stdout",
     "output_type": "stream",
     "text": [
      "Pointer will ne on X axis\n"
     ]
    }
   ],
   "source": [
    "point = (2, 0)\n",
    "\n",
    "match point:\n",
    "    case (rt, 0):\n",
    "        print('Pointer will ne on X axis')\n",
    "    case (0, rt):\n",
    "        print('Pointer will be on Y Axis')\n",
    "    case (rx, tx):\n",
    "        print('Value is not in lines  ')\n",
    "\n",
    "\n",
    "\n",
    "\n"
   ]
  },
  {
   "cell_type": "code",
   "execution_count": 24,
   "metadata": {},
   "outputs": [
    {
     "name": "stdout",
     "output_type": "stream",
     "text": [
      "3\n"
     ]
    }
   ],
   "source": [
    "# list : collection of objects enclosed within square brack mutable in nature \n",
    "s = [3, 4, 5, 6, 7]\n",
    "print(s[0])"
   ]
  },
  {
   "cell_type": "code",
   "execution_count": 32,
   "metadata": {},
   "outputs": [
    {
     "name": "stdout",
     "output_type": "stream",
     "text": [
      "a=3\n",
      "b='hello'\n"
     ]
    }
   ],
   "source": [
    "# unpacking of list \n",
    "a, b = [3, 'hello']\n",
    "\n",
    "print(f'{a=}')\n",
    "print(f'{b=}')"
   ]
  },
  {
   "cell_type": "code",
   "execution_count": 41,
   "metadata": {},
   "outputs": [
    {
     "name": "stdout",
     "output_type": "stream",
     "text": [
      "('amit', 23, 'gla', 'mathura') 2824618902848\n",
      "(23, 'gla', 'mathura') 2824618488512\n"
     ]
    }
   ],
   "source": [
    "# tuple(): \n",
    "info = ('amit', 23, 'gla', 'mathura')\n",
    "print(info, id(info))\n",
    "\n",
    "info = list(info)\n",
    "del info[0] \n",
    "info = tuple(info)\n",
    "\n",
    "print(info, id(info))"
   ]
  },
  {
   "cell_type": "code",
   "execution_count": 54,
   "metadata": {},
   "outputs": [
    {
     "name": "stdout",
     "output_type": "stream",
     "text": [
      "a=34\n",
      "b=4\n",
      "y=[54, 3, 5, 3]\n"
     ]
    }
   ],
   "source": [
    "a, b, *y = 34, 4, 54,3 ,5 ,3\n",
    "print(f'{a=}')\n",
    "print(f'{b=}')\n",
    "print(f'{y=}')"
   ]
  },
  {
   "cell_type": "code",
   "execution_count": 56,
   "metadata": {},
   "outputs": [
    {
     "name": "stdout",
     "output_type": "stream",
     "text": [
      "a=34\n",
      "b=[4, 54, 3, 5]\n",
      "y=3\n"
     ]
    }
   ],
   "source": [
    "a, *b, y = 34, 4, 54,3 ,5 ,3\n",
    "print(f'{a=}')\n",
    "print(f'{b=}')\n",
    "print(f'{y=}')"
   ]
  },
  {
   "cell_type": "code",
   "execution_count": 62,
   "metadata": {},
   "outputs": [
    {
     "name": "stdout",
     "output_type": "stream",
     "text": [
      "['34', '25', '6', '9', '0', '23']\n"
     ]
    }
   ],
   "source": [
    "# string method split \n",
    "st = '34 25 6 9  0 23'\n",
    "out = st.split()\n",
    "print(out)"
   ]
  },
  {
   "cell_type": "code",
   "execution_count": 66,
   "metadata": {},
   "outputs": [
    {
     "name": "stdout",
     "output_type": "stream",
     "text": [
      "ls=['4', '55', '45']\n",
      "out=[4, 55, 45]\n"
     ]
    }
   ],
   "source": [
    "ls = ['4', '55', '45']\n",
    "out = list(map(int, ls))\n",
    "print(f'{ls=}')\n",
    "print(f'{out=}')    "
   ]
  },
  {
   "cell_type": "code",
   "execution_count": 68,
   "metadata": {},
   "outputs": [],
   "source": [
    "def c2f(x):\n",
    "    return 1.8 * x + 32"
   ]
  },
  {
   "cell_type": "code",
   "execution_count": 70,
   "metadata": {},
   "outputs": [
    {
     "name": "stdout",
     "output_type": "stream",
     "text": [
      "[93.2, 74.39, 253.4, -40.0, 212.0]\n"
     ]
    }
   ],
   "source": [
    "celcius_tmp = [34, 23.55, 123, -40, 100]\n",
    "\n",
    "ls = list(map(c2f, celcius_tmp))\n",
    "\n",
    "print(ls)\n",
    "\n"
   ]
  },
  {
   "cell_type": "code",
   "execution_count": 75,
   "metadata": {},
   "outputs": [
    {
     "name": "stdout",
     "output_type": "stream",
     "text": [
      "[114, 97, 104, 117, 108]\n"
     ]
    }
   ],
   "source": [
    "st = 'rahul'\n",
    "print(list(map(ord, st)))\n"
   ]
  },
  {
   "cell_type": "code",
   "execution_count": 78,
   "metadata": {},
   "outputs": [],
   "source": [
    "def u_fun(x):\n",
    "    return x + ' bhanu'"
   ]
  },
  {
   "cell_type": "code",
   "execution_count": 80,
   "metadata": {},
   "outputs": [
    {
     "name": "stdout",
     "output_type": "stream",
     "text": [
      "[5, 3, 5, 8, 4]\n"
     ]
    }
   ],
   "source": [
    "names = ['venky', 'rai', 'rahul', 'abhishek', 'zoya']\n",
    "\n",
    "print(list(map(len, names)))"
   ]
  },
  {
   "cell_type": "code",
   "execution_count": 83,
   "metadata": {},
   "outputs": [
    {
     "data": {
      "text/plain": [
       "1"
      ]
     },
     "execution_count": 83,
     "metadata": {},
     "output_type": "execute_result"
    }
   ],
   "source": [
    "# loop with range function \n",
    "\n",
    "# for-loop: iteration over the sequential data\n",
    "\n",
    "'''\n",
    "for val in seq:\n",
    "    body_for\n",
    "else:\n",
    "    body_else\n",
    "'''\n",
    "\n"
   ]
  },
  {
   "cell_type": "code",
   "execution_count": 106,
   "metadata": {},
   "outputs": [
    {
     "name": "stdout",
     "output_type": "stream",
     "text": [
      "2\n",
      "5\n",
      "8\n"
     ]
    }
   ],
   "source": [
    "# range(start=10, stop=1, step=-1)\n",
    "\n",
    "for i in range(10, 1, -1):   # [10, 9, 8, 7,6, 5, 4, 3, 2]\n",
    "    print(i)\n",
    "\n",
    "else:\n",
    "    print('loop completed')    \n",
    "  \n",
    "\n",
    "\n"
   ]
  }
 ],
 "metadata": {
  "kernelspec": {
   "display_name": "Python 3",
   "language": "python",
   "name": "python3"
  },
  "language_info": {
   "codemirror_mode": {
    "name": "ipython",
    "version": 3
   },
   "file_extension": ".py",
   "mimetype": "text/x-python",
   "name": "python",
   "nbconvert_exporter": "python",
   "pygments_lexer": "ipython3",
   "version": "3.10.7"
  },
  "orig_nbformat": 4
 },
 "nbformat": 4,
 "nbformat_minor": 2
}
