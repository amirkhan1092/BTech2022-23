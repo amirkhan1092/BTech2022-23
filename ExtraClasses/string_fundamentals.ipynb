{
 "cells": [
  {
   "cell_type": "code",
   "execution_count": 1,
   "metadata": {},
   "outputs": [
    {
     "name": "stdout",
     "output_type": "stream",
     "text": [
      "🎂😂😊🤦‍♂️👏💕🤣😒 <class 'str'>\n"
     ]
    }
   ],
   "source": [
    "# string: sequence of chars ('anything or everything within the single quote of double quotes is string in  Python')\n",
    "\n",
    "st = '🎂😂😊🤦‍♂️👏💕🤣😒'\n",
    "print(st, type(st))"
   ]
  },
  {
   "cell_type": "code",
   "execution_count": 4,
   "metadata": {},
   "outputs": [
    {
     "name": "stdout",
     "output_type": "stream",
     "text": [
      "hello \"python\n"
     ]
    }
   ],
   "source": [
    "ks = 'hello \"python'\n",
    "print(ks)"
   ]
  },
  {
   "cell_type": "code",
   "execution_count": 8,
   "metadata": {},
   "outputs": [
    {
     "name": "stdout",
     "output_type": "stream",
     "text": [
      "hello\\npython\n"
     ]
    }
   ],
   "source": [
    "ks = R'hello\\npython'\n",
    "print(ks)"
   ]
  },
  {
   "cell_type": "code",
   "execution_count": 13,
   "metadata": {},
   "outputs": [
    {
     "data": {
      "text/plain": [
       "'\\nName: Rahul\\nClass: Btech\\nCollege: AMity\\nRoll Number: 23'"
      ]
     },
     "execution_count": 13,
     "metadata": {},
     "output_type": "execute_result"
    }
   ],
   "source": [
    "name = 'Rahul'\n",
    "clg = 'AMity'\n",
    "cls = 'Btech'\n",
    "rolln = 23\n",
    "\n",
    "info = f'''\n",
    "Name: {name}\n",
    "Class: {cls}\n",
    "College: {clg}\n",
    "Roll Number: {rolln}'''\n",
    "\n",
    "info"
   ]
  },
  {
   "cell_type": "code",
   "execution_count": 25,
   "metadata": {},
   "outputs": [
    {
     "name": "stdout",
     "output_type": "stream",
     "text": [
      "h\n"
     ]
    }
   ],
   "source": [
    "# how to access the element (char) from string object \n",
    "# indexing: get the element(char) with position \n",
    "st = 'hello world'\n",
    "out = st[-11]\n",
    "print(out)"
   ]
  },
  {
   "cell_type": "code",
   "execution_count": 31,
   "metadata": {},
   "outputs": [
    {
     "name": "stdout",
     "output_type": "stream",
     "text": [
      "hlowrd\n"
     ]
    }
   ],
   "source": [
    "# slicing range: get the elements with range\n",
    "# seq[start=0:stop=end:step=1]\n",
    "st = 'hello world'\n",
    "out = st[::2]  # start = 0 stop: len(st) -1, step = 2==>  0, 2, 4, 6, 8, 10  \n",
    "print(out)\n"
   ]
  },
  {
   "cell_type": "code",
   "execution_count": 35,
   "metadata": {},
   "outputs": [
    {
     "name": "stdout",
     "output_type": "stream",
     "text": [
      "dlrow olleh\n"
     ]
    }
   ],
   "source": [
    "st = 'hello world'\n",
    "out = st[::-1]  # start = 5 stop: 1, step = -1  ==>  5, 4, 3, 2 \n",
    "print(out)"
   ]
  },
  {
   "cell_type": "code",
   "execution_count": 37,
   "metadata": {},
   "outputs": [
    {
     "name": "stdout",
     "output_type": "stream",
     "text": [
      "Palindrome string\n"
     ]
    }
   ],
   "source": [
    "# write a python program to check given string is palindrome of not \n",
    "\n",
    "st = input('Enter the string ')\n",
    "print('Palindrome string' if st ==  st[::-1] else 'Not a palindrom')"
   ]
  },
  {
   "cell_type": "code",
   "execution_count": 41,
   "metadata": {},
   "outputs": [
    {
     "name": "stdout",
     "output_type": "stream",
     "text": [
      "Not a Anagram \n"
     ]
    }
   ],
   "source": [
    "# write a program to check anagram of two string \n",
    "st1 = 'silent'\n",
    "st2 = 'client'\n",
    "print('Anagram string' if sorted(st1)== sorted(st2) else 'Not a Anagram ')"
   ]
  },
  {
   "cell_type": "code",
   "execution_count": 46,
   "metadata": {},
   "outputs": [
    {
     "name": "stdout",
     "output_type": "stream",
     "text": [
      "HELLO WORLD PYTHON PROGRAMMIMG3537\n"
     ]
    }
   ],
   "source": [
    "# methods of a string \n",
    "# upper(): convert all the letters into a upper case\n",
    "st = 'hello world python programmimg3537'\n",
    "out = st.upper()\n",
    "print(out)\n",
    "\n"
   ]
  },
  {
   "cell_type": "code",
   "execution_count": 44,
   "metadata": {},
   "outputs": [
    {
     "name": "stdout",
     "output_type": "stream",
     "text": [
      "hello world python programmimg\n"
     ]
    }
   ],
   "source": [
    "st = 'hello worlD pythoN pRogrammimg'\n",
    "out = st.casefold()\n",
    "print(out)"
   ]
  },
  {
   "cell_type": "code",
   "execution_count": 48,
   "metadata": {},
   "outputs": [
    {
     "name": "stdout",
     "output_type": "stream",
     "text": [
      "Hello World 56Python Programmimg 5G\n"
     ]
    }
   ],
   "source": [
    "st = 'hello world python programmimg 5g'\n",
    "out = st.title()\n",
    "print(out)"
   ]
  },
  {
   "cell_type": "code",
   "execution_count": 52,
   "metadata": {},
   "outputs": [
    {
     "name": "stdout",
     "output_type": "stream",
     "text": [
      "*******hello\n"
     ]
    }
   ],
   "source": [
    "# center()/rjust()/ljust(): \n",
    "st = 'hello'\n",
    "# out = st.center(100)\n",
    "out = st.rjust(12, '*')\n",
    "print(out)"
   ]
  },
  {
   "cell_type": "code",
   "execution_count": 54,
   "metadata": {},
   "outputs": [
    {
     "name": "stdout",
     "output_type": "stream",
     "text": [
      "b'I\\xf0\\x9f\\x92\\x95U'\n"
     ]
    }
   ],
   "source": [
    "st = 'I💕U'\n",
    "out = st.encode()\n",
    "print(out)\n"
   ]
  },
  {
   "cell_type": "code",
   "execution_count": 59,
   "metadata": {},
   "outputs": [
    {
     "name": "stdout",
     "output_type": "stream",
     "text": [
      "I����U\n"
     ]
    }
   ],
   "source": [
    "st = b'I\\xf0\\x9f\\x92\\x95U'\n",
    "print(st.decode('ascii', errors='replace'))"
   ]
  },
  {
   "cell_type": "code",
   "execution_count": 61,
   "metadata": {},
   "outputs": [
    {
     "name": "stdout",
     "output_type": "stream",
     "text": [
      "0\n"
     ]
    }
   ],
   "source": [
    "st = 'hello world python programmimg'\n",
    "out = st.count('wd')\n",
    "print(out)"
   ]
  },
  {
   "cell_type": "code",
   "execution_count": 63,
   "metadata": {},
   "outputs": [
    {
     "name": "stdout",
     "output_type": "stream",
     "text": [
      "0\n"
     ]
    }
   ],
   "source": [
    "# write a python programto find the frequency of the given char in a string object\n",
    "st = 'hello python program'\n",
    "ch = 'Z'\n",
    "print(st.count(ch))"
   ]
  },
  {
   "cell_type": "code",
   "execution_count": 65,
   "metadata": {},
   "outputs": [
    {
     "name": "stdout",
     "output_type": "stream",
     "text": [
      "True\n"
     ]
    }
   ],
   "source": [
    "st  =  'HELLO'\n",
    "out = st.isupper()\n",
    "print(out)"
   ]
  },
  {
   "cell_type": "code",
   "execution_count": 68,
   "metadata": {},
   "outputs": [
    {
     "name": "stdout",
     "output_type": "stream",
     "text": [
      "\n"
     ]
    }
   ],
   "source": [
    "st = 'hello'\n",
    "out = st * 0\n",
    "print(out)"
   ]
  },
  {
   "cell_type": "code",
   "execution_count": 73,
   "metadata": {},
   "outputs": [
    {
     "name": "stdout",
     "output_type": "stream",
     "text": [
      "Not Leap Year\n"
     ]
    }
   ],
   "source": [
    "year = 2025\n",
    "lg = year % 4 == 0 and year % 100 != 0 or year % 400 == 0\n",
    "print('Not Leap Year'*(1-lg) + 'Leap Year'*lg)"
   ]
  },
  {
   "cell_type": "code",
   "execution_count": 90,
   "metadata": {},
   "outputs": [
    {
     "name": "stdout",
     "output_type": "stream",
     "text": [
      "h e l l o\n"
     ]
    }
   ],
   "source": [
    "ls = 'hello'\n",
    "print(*ls, sep=' ')"
   ]
  }
 ],
 "metadata": {
  "kernelspec": {
   "display_name": "Python 3",
   "language": "python",
   "name": "python3"
  },
  "language_info": {
   "codemirror_mode": {
    "name": "ipython",
    "version": 3
   },
   "file_extension": ".py",
   "mimetype": "text/x-python",
   "name": "python",
   "nbconvert_exporter": "python",
   "pygments_lexer": "ipython3",
   "version": "3.10.7"
  },
  "orig_nbformat": 4
 },
 "nbformat": 4,
 "nbformat_minor": 2
}
