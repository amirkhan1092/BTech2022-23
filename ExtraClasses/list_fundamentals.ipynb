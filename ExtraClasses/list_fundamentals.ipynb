{
 "cells": [
  {
   "cell_type": "code",
   "execution_count": 1,
   "metadata": {},
   "outputs": [
    {
     "name": "stdout",
     "output_type": "stream",
     "text": [
      "[23, 'amit', 23.45, (23+4j)]\n"
     ]
    }
   ],
   "source": [
    "# list : collection of objects enclosed within square brackets \n",
    "\n",
    "ls = [23, 'amit', 23.45, 23+4j]\n",
    "print(ls)"
   ]
  },
  {
   "cell_type": "code",
   "execution_count": 4,
   "metadata": {},
   "outputs": [
    {
     "name": "stdout",
     "output_type": "stream",
     "text": [
      "[]\n"
     ]
    }
   ],
   "source": [
    "# list initialization \n",
    "ls = []  # list format \n",
    "# ls = list()  #\n",
    "print(ls) \n"
   ]
  },
  {
   "cell_type": "code",
   "execution_count": 5,
   "metadata": {},
   "outputs": [
    {
     "name": "stdout",
     "output_type": "stream",
     "text": [
      "['on', 'off', 'on', 'off']\n"
     ]
    }
   ],
   "source": [
    "ls = ['on', 'off', 'on', 'off']\n",
    "print(ls)"
   ]
  },
  {
   "cell_type": "code",
   "execution_count": 6,
   "metadata": {},
   "outputs": [
    {
     "name": "stdout",
     "output_type": "stream",
     "text": [
      "[]\n"
     ]
    }
   ],
   "source": [
    "# list properties \n",
    "# mutable in nature \n",
    "ls = []\n",
    "print(ls)"
   ]
  },
  {
   "cell_type": "code",
   "execution_count": 7,
   "metadata": {},
   "outputs": [
    {
     "name": "stdout",
     "output_type": "stream",
     "text": [
      "[100]\n"
     ]
    }
   ],
   "source": [
    "ls.append(100)\n",
    "print(ls)"
   ]
  },
  {
   "cell_type": "code",
   "execution_count": 8,
   "metadata": {},
   "outputs": [
    {
     "name": "stdout",
     "output_type": "stream",
     "text": [
      "[]\n"
     ]
    }
   ],
   "source": [
    "ls.clear()\n",
    "print(ls)"
   ]
  },
  {
   "cell_type": "code",
   "execution_count": 11,
   "metadata": {},
   "outputs": [
    {
     "name": "stdout",
     "output_type": "stream",
     "text": [
      "[5, 7, 100]\n"
     ]
    }
   ],
   "source": [
    "# items assignment \n",
    "# items deletion \n",
    "ls = [23, 5, 7, 100]\n",
    "# ls[0] = 500\n",
    "del ls[0]\n",
    "print(ls)"
   ]
  },
  {
   "cell_type": "code",
   "execution_count": 12,
   "metadata": {},
   "outputs": [
    {
     "ename": "TypeError",
     "evalue": "'str' object doesn't support item deletion",
     "output_type": "error",
     "traceback": [
      "\u001b[1;31m---------------------------------------------------------------------------\u001b[0m",
      "\u001b[1;31mTypeError\u001b[0m                                 Traceback (most recent call last)",
      "\u001b[1;32mf:\\Python310\\Session2022-23\\First Year\\BTech2022-23\\ExtraClasses\\list_fundamentals.ipynb Cell 8\u001b[0m in \u001b[0;36m3\n\u001b[0;32m      <a href='vscode-notebook-cell:/f%3A/Python310/Session2022-23/First%20Year/BTech2022-23/ExtraClasses/list_fundamentals.ipynb#X10sZmlsZQ%3D%3D?line=0'>1</a>\u001b[0m st \u001b[39m=\u001b[39m \u001b[39m'\u001b[39m\u001b[39mhello\u001b[39m\u001b[39m'\u001b[39m\n\u001b[0;32m      <a href='vscode-notebook-cell:/f%3A/Python310/Session2022-23/First%20Year/BTech2022-23/ExtraClasses/list_fundamentals.ipynb#X10sZmlsZQ%3D%3D?line=1'>2</a>\u001b[0m \u001b[39m# st[0] = 'H'\u001b[39;00m\n\u001b[1;32m----> <a href='vscode-notebook-cell:/f%3A/Python310/Session2022-23/First%20Year/BTech2022-23/ExtraClasses/list_fundamentals.ipynb#X10sZmlsZQ%3D%3D?line=2'>3</a>\u001b[0m \u001b[39mdel\u001b[39;00m st[\u001b[39m0\u001b[39m]\n\u001b[0;32m      <a href='vscode-notebook-cell:/f%3A/Python310/Session2022-23/First%20Year/BTech2022-23/ExtraClasses/list_fundamentals.ipynb#X10sZmlsZQ%3D%3D?line=3'>4</a>\u001b[0m \u001b[39mprint\u001b[39m(st)\n",
      "\u001b[1;31mTypeError\u001b[0m: 'str' object doesn't support item deletion"
     ]
    }
   ],
   "source": [
    "st = 'hello'\n",
    "# st[0] = 'H'\n",
    "del st[0]\n",
    "print(st)"
   ]
  },
  {
   "cell_type": "code",
   "execution_count": 19,
   "metadata": {},
   "outputs": [
    {
     "name": "stdout",
     "output_type": "stream",
     "text": [
      "gla\n"
     ]
    }
   ],
   "source": [
    "# how to access the elements from list \n",
    "ls = ['amit', 23, 'gla', 'mathura', 8.34]\n",
    "# indexing: get the element at position \n",
    "out = ls[-3]\n",
    "print(out)"
   ]
  },
  {
   "cell_type": "code",
   "execution_count": 25,
   "metadata": {},
   "outputs": [
    {
     "name": "stdout",
     "output_type": "stream",
     "text": [
      "['gla', 'mathura', 8.34]\n"
     ]
    }
   ],
   "source": [
    "# slicing range:\n",
    "out = ls[-3:]\n",
    "print(out)"
   ]
  },
  {
   "cell_type": "code",
   "execution_count": 34,
   "metadata": {},
   "outputs": [
    {
     "name": "stdout",
     "output_type": "stream",
     "text": [
      "ls=[33, 44, 2]\n",
      "ls2=[]\n"
     ]
    }
   ],
   "source": [
    "# methods in a list \n",
    "ls = [33, 44, 2]\n",
    "ls2 = ls.copy()\n",
    "ls2.clear()\n",
    "\n",
    "print(f'{ls=}')\n",
    "print(f'{ls2=}')"
   ]
  },
  {
   "cell_type": "code",
   "execution_count": 37,
   "metadata": {},
   "outputs": [
    {
     "name": "stdout",
     "output_type": "stream",
     "text": [
      "[7, 8, [100, 200, 33, 13], 200]\n"
     ]
    }
   ],
   "source": [
    "# append(): add the object at the end of the list\n",
    "ls = [7, 8]\n",
    "ls.append([100, 200, 33, 13])\n",
    "ls.append(200)\n",
    "print(ls)"
   ]
  },
  {
   "cell_type": "code",
   "execution_count": 42,
   "metadata": {},
   "outputs": [
    {
     "name": "stdout",
     "output_type": "stream",
     "text": [
      "[3, 45, 23, 'h', 'e', 'l', 'l', 'o']\n"
     ]
    }
   ],
   "source": [
    "# extend: add the sequential multiple entity\n",
    "ls = [3, 45, 23]\n",
    "ls.extend('hello')\n",
    "print(ls)"
   ]
  },
  {
   "cell_type": "code",
   "execution_count": 44,
   "metadata": {},
   "outputs": [
    {
     "name": "stdout",
     "output_type": "stream",
     "text": [
      "[23, 3, 'hello', 100, 300]\n"
     ]
    }
   ],
   "source": [
    "# insert: use to insert the element at custom position \n",
    "ls = [23, 3, 100, 300]\n",
    "ls.insert(2, 'hello')\n",
    "print(ls)"
   ]
  },
  {
   "cell_type": "code",
   "execution_count": 46,
   "metadata": {},
   "outputs": [
    {
     "name": "stdout",
     "output_type": "stream",
     "text": [
      "[45, 90, 23]\n"
     ]
    }
   ],
   "source": [
    "# remove()/pop()/clear()\n",
    "\n",
    "ls = [23, 45, 90, 23]\n",
    "ls.remove(23)\n",
    "print(ls)"
   ]
  },
  {
   "cell_type": "code",
   "execution_count": 54,
   "metadata": {},
   "outputs": [
    {
     "name": "stdout",
     "output_type": "stream",
     "text": [
      "deleted value 23\n",
      "[45, 90, 23]\n"
     ]
    }
   ],
   "source": [
    "# remove()/pop()/clear()\n",
    "\n",
    "ls = [23, 45, 90, 23]\n",
    "val = ls.pop(0)\n",
    "print('deleted value', val)\n",
    "print(ls)"
   ]
  },
  {
   "cell_type": "code",
   "execution_count": 55,
   "metadata": {},
   "outputs": [
    {
     "name": "stdout",
     "output_type": "stream",
     "text": [
      "[]\n"
     ]
    }
   ],
   "source": [
    "# remove()/pop()/clear()\n",
    "\n",
    "ls = [23, 45, 90, 23]\n",
    "ls.clear()\n",
    "print(ls)"
   ]
  },
  {
   "cell_type": "code",
   "execution_count": 58,
   "metadata": {},
   "outputs": [
    {
     "name": "stdout",
     "output_type": "stream",
     "text": [
      "[2, 3, 4, 5, 5, 34]\n"
     ]
    }
   ],
   "source": [
    "# sort()/reverse()\n",
    "\n",
    "ls = [34, 5, 2 ,5, 3, 4]\n",
    "ls.sort(reverse=False)\n",
    "print(ls)"
   ]
  },
  {
   "cell_type": "code",
   "execution_count": 61,
   "metadata": {},
   "outputs": [],
   "source": [
    "def fun(x):\n",
    "    return x[-1]"
   ]
  },
  {
   "cell_type": "code",
   "execution_count": 62,
   "metadata": {},
   "outputs": [
    {
     "name": "stdout",
     "output_type": "stream",
     "text": [
      "['neha', 'zoya', 'bharti', 'abhshek']\n"
     ]
    }
   ],
   "source": [
    "ls = ['neha', 'bharti', 'abhshek', 'zoya']\n",
    "ls.sort(key=fun)\n",
    "print(ls)"
   ]
  },
  {
   "cell_type": "code",
   "execution_count": 35,
   "metadata": {},
   "outputs": [
    {
     "data": {
      "text/plain": [
       "(1674393379904, 1674393134144)"
      ]
     },
     "execution_count": 35,
     "metadata": {},
     "output_type": "execute_result"
    }
   ],
   "source": [
    "id(ls), id(ls2)"
   ]
  },
  {
   "cell_type": "code",
   "execution_count": null,
   "metadata": {},
   "outputs": [],
   "source": []
  }
 ],
 "metadata": {
  "kernelspec": {
   "display_name": "Python 3",
   "language": "python",
   "name": "python3"
  },
  "language_info": {
   "codemirror_mode": {
    "name": "ipython",
    "version": 3
   },
   "file_extension": ".py",
   "mimetype": "text/x-python",
   "name": "python",
   "nbconvert_exporter": "python",
   "pygments_lexer": "ipython3",
   "version": "3.10.7"
  },
  "orig_nbformat": 4
 },
 "nbformat": 4,
 "nbformat_minor": 2
}
