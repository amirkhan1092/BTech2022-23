{
 "cells": [
  {
   "cell_type": "code",
   "execution_count": 2,
   "metadata": {},
   "outputs": [
    {
     "name": "stdout",
     "output_type": "stream",
     "text": [
      "4\n"
     ]
    }
   ],
   "source": [
    "ls = [[3, 4], [6, 13]]\n",
    "\n",
    "# disp matrix "
   ]
  },
  {
   "cell_type": "code",
   "execution_count": 13,
   "metadata": {},
   "outputs": [],
   "source": [
    "def disp_matrix(lst):\n",
    "    for r in lst:\n",
    "        print(*r, sep='   ')\n"
   ]
  },
  {
   "cell_type": "code",
   "execution_count": 22,
   "metadata": {},
   "outputs": [],
   "source": [
    "def matrix_validation(lst):\n",
    "    slen = len(lst[0])\n",
    "    flag = True\n",
    "    for r in lst:\n",
    "        if len(r) != slen:\n",
    "            flag = False\n",
    "        \n",
    "    return flag \n"
   ]
  },
  {
   "cell_type": "code",
   "execution_count": 28,
   "metadata": {},
   "outputs": [],
   "source": [
    "def shape(lst):\n",
    "    return len(lst), len(lst[0])"
   ]
  },
  {
   "cell_type": "code",
   "execution_count": 27,
   "metadata": {},
   "outputs": [
    {
     "name": "stdout",
     "output_type": "stream",
     "text": [
      "3   4   5   6\n",
      "1   2   3   223\n",
      "0   3   2   20\n"
     ]
    }
   ],
   "source": [
    "matrix = [[3, 4, 5, 6], [1, 2, 3, 223], [0, 3, 2, 20]]   # 3 X 4\n",
    "if matrix_validation(matrix):\n",
    "    disp_matrix(matrix)\n",
    "else:\n",
    "    print('Matrix is not valid')    "
   ]
  },
  {
   "cell_type": "code",
   "execution_count": 43,
   "metadata": {},
   "outputs": [],
   "source": [
    "def empty_matrix(r, c, ele):\n",
    "    return eval(str([[ele]*c]*r))"
   ]
  },
  {
   "cell_type": "code",
   "execution_count": 44,
   "metadata": {},
   "outputs": [
    {
     "name": "stdout",
     "output_type": "stream",
     "text": [
      "100   3   3   3\n",
      "3   3   3   3\n",
      "3   3   3   3\n"
     ]
    }
   ],
   "source": [
    "m = empty_matrix(3, 4, 3)\n",
    "m[0][0] = 100\n",
    "disp_matrix(m)"
   ]
  },
  {
   "cell_type": "code",
   "execution_count": 49,
   "metadata": {},
   "outputs": [
    {
     "name": "stdout",
     "output_type": "stream",
     "text": [
      "Matrix1\n",
      "2   4   5   23\n",
      "3   1   3   0\n",
      "3   1   2   9\n",
      "\n",
      "Matrix2\n",
      "1   3   1   0\n",
      "1   1   1   1\n",
      "3   0   0   0\n",
      "3   0   0   1\n",
      "\n",
      "Matrix Addition \n",
      "90   10   6   27\n",
      "13   10   4   1\n",
      "37   10   4   10\n"
     ]
    }
   ],
   "source": [
    "# matrix multiplication of two matrix \n",
    "m1 = [[2, 4, 5, 23], [3, 1, 3, 0], [3, 1, 2, 9]]  # 3X4\n",
    "m2 = [[1, 3, 1, 0], [1, 1, 1, 1], [3, 0, 0, 0], [3, 0, 0, 1]]  # 3X4\n",
    "'''\n",
    "3 X 4    4 X 4\n",
    "\n",
    "'''\n",
    "if matrix_validation(m1) and matrix_validation(m2):\n",
    "    r1, c1 = shape(m1)\n",
    "    r2, c2 = shape(m2)\n",
    "    # print(r2, c2)\n",
    "    if c1  == r2:\n",
    "        M = empty_matrix(r1, c2, 0)\n",
    "        print('Matrix1')\n",
    "        disp_matrix(m1)\n",
    "        print('\\nMatrix2')\n",
    "        disp_matrix(m2)\n",
    "        for i in range(r1):\n",
    "            for j in range(c2):\n",
    "                for k in range(c1):\n",
    "                    M[i][j] += m1[i][k]* m2[k][j]\n",
    "                \n",
    "            \n",
    "        print('\\nMatrix Addition ')\n",
    "        disp_matrix(M)\n",
    "    else:\n",
    "        print('Not Valid dimensions for the addition') \n",
    "else:\n",
    "    print('Matrix are invalid')\n",
    "\n"
   ]
  }
 ],
 "metadata": {
  "kernelspec": {
   "display_name": "Python 3",
   "language": "python",
   "name": "python3"
  },
  "language_info": {
   "codemirror_mode": {
    "name": "ipython",
    "version": 3
   },
   "file_extension": ".py",
   "mimetype": "text/x-python",
   "name": "python",
   "nbconvert_exporter": "python",
   "pygments_lexer": "ipython3",
   "version": "3.10.7"
  },
  "orig_nbformat": 4
 },
 "nbformat": 4,
 "nbformat_minor": 2
}
