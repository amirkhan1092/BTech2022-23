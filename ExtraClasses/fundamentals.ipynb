{
 "cells": [
  {
   "cell_type": "code",
   "execution_count": 1,
   "metadata": {},
   "outputs": [
    {
     "name": "stdout",
     "output_type": "stream",
     "text": [
      "sum of 100 and 233 is 333\n"
     ]
    }
   ],
   "source": [
    "# addition of two numbers \n",
    "\n",
    "# input section \n",
    "a = eval(input())\n",
    "b = eval(input())\n",
    "\n",
    "# logic section \n",
    "c = a + b\n",
    "\n",
    "# output section\n",
    "print(f'sum of {a} and {b} is {c}')"
   ]
  },
  {
   "cell_type": "code",
   "execution_count": 21,
   "metadata": {},
   "outputs": [
    {
     "name": "stdout",
     "output_type": "stream",
     "text": [
      "<class 'float'>\n"
     ]
    }
   ],
   "source": [
    "hs = input()  # '34.34'\n",
    "h = eval(hs)\n",
    "# print()\n",
    "print(type(h))"
   ]
  },
  {
   "cell_type": "code",
   "execution_count": 22,
   "metadata": {},
   "outputs": [
    {
     "name": "stdout",
     "output_type": "stream",
     "text": [
      "hello\n"
     ]
    }
   ],
   "source": [
    "hello = 'a'\n",
    "a = 'hello'\n",
    "\n",
    "print(eval(eval(a)))"
   ]
  },
  {
   "cell_type": "code",
   "execution_count": 29,
   "metadata": {},
   "outputs": [
    {
     "name": "stdout",
     "output_type": "stream",
     "text": [
      "1 <class 'int'>\n"
     ]
    }
   ],
   "source": [
    "hs = '1'\n",
    "out = int(hs, 8)\n",
    "print(out, type(out))"
   ]
  },
  {
   "cell_type": "code",
   "execution_count": 38,
   "metadata": {},
   "outputs": [],
   "source": [
    "a = 0x12a"
   ]
  },
  {
   "cell_type": "code",
   "execution_count": 42,
   "metadata": {},
   "outputs": [
    {
     "name": "stdout",
     "output_type": "stream",
     "text": [
      "30\n"
     ]
    }
   ],
   "source": [
    "a = 10\n",
    "b = 20\n",
    "out = a | b\n",
    "print(out)"
   ]
  },
  {
   "cell_type": "code",
   "execution_count": 35,
   "metadata": {},
   "outputs": [
    {
     "data": {
      "text/plain": [
       "10"
      ]
     },
     "execution_count": 35,
     "metadata": {},
     "output_type": "execute_result"
    }
   ],
   "source": [
    "# roadmap for python \n",
    "\n",
    "'''\n",
    "1. Data Types \n",
    "    a) Number : int, float, complex, bool\n",
    "    b) String: ascii-7, ascii-8, unicode string, bytes \n",
    "    c) List\n",
    "    d) Tuple\n",
    "    d) dictionary\n",
    "    e) sets\n",
    "2. Standard Input/Output\n",
    "    input()/print()\n",
    "3. Flow Control Statements \n",
    "    if-elif-else\n",
    "    match-case\n",
    "4. looping: \n",
    "    for-loop\n",
    "    while-loop \n",
    "5. function \n",
    "\n",
    "\n",
    "\n",
    "'''"
   ]
  },
  {
   "cell_type": "code",
   "execution_count": 69,
   "metadata": {},
   "outputs": [
    {
     "name": "stdout",
     "output_type": "stream",
     "text": [
      "3.0\n"
     ]
    }
   ],
   "source": [
    "# floor : greatest integer which <= value \n",
    "val = 3.034\n",
    "out = val // 1\n",
    "print(out)"
   ]
  },
  {
   "cell_type": "code",
   "execution_count": 70,
   "metadata": {},
   "outputs": [
    {
     "name": "stdout",
     "output_type": "stream",
     "text": [
      "4.0\n"
     ]
    }
   ],
   "source": [
    "# ceil : smallest integer >= value \n",
    "val = 3.034\n",
    "out = -(-val // 1)\n",
    "print(out)"
   ]
  },
  {
   "cell_type": "code",
   "execution_count": 71,
   "metadata": {},
   "outputs": [
    {
     "name": "stdout",
     "output_type": "stream",
     "text": [
      "floor 3\n",
      "ceil 3\n"
     ]
    }
   ],
   "source": [
    "from math import ceil , floor\n",
    "a = 3.00\n",
    "flr = floor(a)\n",
    "clr = ceil(a)\n",
    "\n",
    "print('floor', flr)\n",
    "print('ceil', clr)"
   ]
  },
  {
   "cell_type": "code",
   "execution_count": null,
   "metadata": {},
   "outputs": [],
   "source": [
    "# programming flow\n",
    "'''\n",
    "1. sequential : every statement run \n",
    "2. selection : skip the statements based on  condition \n",
    "3. repitition: repeat the statements until the condition is true  \n",
    "'''\n"
   ]
  },
  {
   "cell_type": "code",
   "execution_count": 49,
   "metadata": {},
   "outputs": [
    {
     "name": "stdout",
     "output_type": "stream",
     "text": [
      "(2+3j) <class 'complex'>\n"
     ]
    }
   ],
   "source": [
    "a = 2 + 3j\n",
    "print(a, type(a))"
   ]
  },
  {
   "cell_type": "code",
   "execution_count": 97,
   "metadata": {},
   "outputs": [
    {
     "name": "stdout",
     "output_type": "stream",
     "text": [
      "23.453437\n"
     ]
    }
   ],
   "source": [
    "# string format \n",
    "re = 23.4534374336436463\n",
    "print(f'{re:.6f}')"
   ]
  },
  {
   "cell_type": "code",
   "execution_count": 7,
   "metadata": {},
   "outputs": [
    {
     "name": "stdout",
     "output_type": "stream",
     "text": [
      "ohell\n"
     ]
    },
    {
     "data": {
      "text/plain": [
       "'lohel'"
      ]
     },
     "execution_count": 7,
     "metadata": {},
     "output_type": "execute_result"
    }
   ],
   "source": [
    "st = 'hello'\n",
    "rt = 6\n",
    "rt = rt % len(st)\n",
    "out = st[-rt:] + st[:-rt]\n",
    "print(out)\n",
    "# 1st rotation\n",
    "'ohell'\n",
    "'lohel'"
   ]
  },
  {
   "cell_type": "code",
   "execution_count": 41,
   "metadata": {},
   "outputs": [],
   "source": []
  },
  {
   "cell_type": "code",
   "execution_count": 47,
   "metadata": {},
   "outputs": [],
   "source": []
  },
  {
   "cell_type": "code",
   "execution_count": 50,
   "metadata": {},
   "outputs": [
    {
     "name": "stdout",
     "output_type": "stream",
     "text": [
      "['zzzoya', 'standing', 'python', 'hello', 'ant', 'library']\n"
     ]
    }
   ],
   "source": [
    "lst = ['hello', 'python', 'zzzoya', 'ant', 'library', 'standing']\n",
    "lst.sort(key=lambda x: x[-1])\n",
    "print(lst)"
   ]
  },
  {
   "cell_type": "code",
   "execution_count": 52,
   "metadata": {},
   "outputs": [
    {
     "name": "stdout",
     "output_type": "stream",
     "text": [
      "[(9, 3), (23, 15), (3, 22)]\n"
     ]
    }
   ],
   "source": [
    "sl = [(23, 15), (3, 22), (9, 3)]  # ('rolln', 'marks')\n",
    "\n",
    "sl.sort(key=lambda x:x[-1])\n",
    "\n",
    "print(sl)"
   ]
  },
  {
   "cell_type": "code",
   "execution_count": 31,
   "metadata": {},
   "outputs": [],
   "source": [
    "print =  100\n"
   ]
  },
  {
   "cell_type": "code",
   "execution_count": 33,
   "metadata": {},
   "outputs": [
    {
     "name": "stdout",
     "output_type": "stream",
     "text": [
      "23\n"
     ]
    }
   ],
   "source": [
    "a(23)"
   ]
  },
  {
   "cell_type": "code",
   "execution_count": 19,
   "metadata": {},
   "outputs": [
    {
     "data": {
      "text/plain": [
       "7"
      ]
     },
     "execution_count": 19,
     "metadata": {},
     "output_type": "execute_result"
    }
   ],
   "source": [
    "sum(3, 4)"
   ]
  },
  {
   "cell_type": "code",
   "execution_count": null,
   "metadata": {},
   "outputs": [],
   "source": []
  },
  {
   "cell_type": "code",
   "execution_count": 8,
   "metadata": {},
   "outputs": [
    {
     "name": "stdout",
     "output_type": "stream",
     "text": [
      "lohel\n"
     ]
    }
   ],
   "source": [
    "st = 'hello'\n",
    "\n",
    "print(st[-2:] + st[:-2])"
   ]
  },
  {
   "cell_type": "code",
   "execution_count": 56,
   "metadata": {},
   "outputs": [],
   "source": [
    "s = [3, 55, 3, 12, 55, 4, 100]\n",
    "ls = []\n",
    "\n",
    "for i in s:\n",
    "    ls.append((i, s.count(i)))\n",
    "\n",
    "ls = list(set(ls))"
   ]
  },
  {
   "cell_type": "code",
   "execution_count": 61,
   "metadata": {},
   "outputs": [
    {
     "name": "stdout",
     "output_type": "stream",
     "text": [
      "3\n"
     ]
    }
   ],
   "source": [
    "la = [3, 2, 3, 4, 5, 6, 2, 3]\n",
    "mx = 0\n",
    "for i in la:\n",
    "    x = la.count(i)\n",
    "    mx = x if x > mx else mx\n",
    "print(mx)"
   ]
  },
  {
   "cell_type": "code",
   "execution_count": null,
   "metadata": {},
   "outputs": [],
   "source": [
    "'''\n",
    "*\n",
    "**\n",
    "***\n",
    "****\n",
    "*****\n",
    "******\n",
    "'''"
   ]
  },
  {
   "cell_type": "code",
   "execution_count": 76,
   "metadata": {},
   "outputs": [
    {
     "name": "stdout",
     "output_type": "stream",
     "text": [
      "*\n",
      "**\n"
     ]
    }
   ],
   "source": [
    "rows = 2\n",
    "for i in range(1, rows+1):\n",
    "    print('*'*i)"
   ]
  },
  {
   "cell_type": "code",
   "execution_count": 82,
   "metadata": {},
   "outputs": [
    {
     "name": "stdout",
     "output_type": "stream",
     "text": [
      "*\n",
      "**\n",
      "***\n",
      "****\n"
     ]
    }
   ],
   "source": [
    "rows = 4\n",
    "for i in range(rows):\n",
    "    for j in range(i+1):\n",
    "        print('*', end='')\n",
    "    print()    \n"
   ]
  },
  {
   "cell_type": "code",
   "execution_count": null,
   "metadata": {},
   "outputs": [],
   "source": [
    "'''\n",
    "******\n",
    "*****\n",
    "****\n",
    "***\n",
    "**\n",
    "*\n",
    "\n",
    "'''"
   ]
  },
  {
   "cell_type": "code",
   "execution_count": 80,
   "metadata": {},
   "outputs": [
    {
     "name": "stdout",
     "output_type": "stream",
     "text": [
      "**********\n",
      "*********\n",
      "********\n",
      "*******\n",
      "******\n",
      "*****\n",
      "****\n",
      "***\n",
      "**\n",
      "*\n"
     ]
    }
   ],
   "source": [
    "rows = 10\n",
    "for i in range(1, rows+1):\n",
    "    for j in range(rows-i+1):\n",
    "        print('*', end='')\n",
    "    print()"
   ]
  },
  {
   "cell_type": "code",
   "execution_count": null,
   "metadata": {},
   "outputs": [],
   "source": [
    "'reverse: rows-i+1'\n",
    "'forward: i+1'"
   ]
  },
  {
   "cell_type": "code",
   "execution_count": null,
   "metadata": {},
   "outputs": [],
   "source": [
    "'''\n",
    "      *\n",
    "     **\n",
    "    ***\n",
    "   ****\n",
    "  *****\n",
    " ******\n",
    "*******\n",
    "\n",
    "1st triangle : reverse (rows-i+1)\n",
    "2nd triangle: forward (i+1)\n",
    "'''"
   ]
  },
  {
   "cell_type": "code",
   "execution_count": 87,
   "metadata": {},
   "outputs": [
    {
     "name": "stdout",
     "output_type": "stream",
     "text": [
      "*********##\n",
      "********###\n",
      "*******####\n",
      "******#####\n",
      "*****######\n",
      "****#######\n",
      "***########\n",
      "**#########\n",
      "*##########\n",
      "###########\n"
     ]
    }
   ],
   "source": [
    "rows = 10\n",
    "for i in range(1, rows+1):\n",
    "    for j in range(rows-i):\n",
    "        print('*',end='')\n",
    "    for j in range(i+1):\n",
    "        print('#', end='')    \n",
    "    print()"
   ]
  },
  {
   "cell_type": "code",
   "execution_count": null,
   "metadata": {},
   "outputs": [],
   "source": [
    "'''\n",
    "\n",
    "      *\n",
    "     ***\n",
    "    *****\n",
    "   *******\n",
    "  *********\n",
    " ***********\n",
    "************* \n",
    "\n",
    "(1) reverse: rows-i\n",
    "(2) forward: i\n",
    "(3) forward: i-1\n",
    "'''"
   ]
  },
  {
   "cell_type": "code",
   "execution_count": 92,
   "metadata": {},
   "outputs": [
    {
     "name": "stdout",
     "output_type": "stream",
     "text": [
      "         *\n",
      "        ***\n",
      "       *****\n",
      "      *******\n",
      "     *********\n",
      "    ***********\n",
      "   *************\n",
      "  ***************\n",
      " *****************\n",
      "*******************\n"
     ]
    }
   ],
   "source": [
    "rows = 10\n",
    "for i in range(1, rows+1):\n",
    "\n",
    "    for j in range(rows-i+1):  # reverse triangle \n",
    "        print(' ',end='')\n",
    "    for j in range(i):\n",
    "        print('*', end='')\n",
    "    for j in range(i-1):\n",
    "        print('*', end='')        \n",
    "\n",
    "    print()"
   ]
  },
  {
   "cell_type": "code",
   "execution_count": null,
   "metadata": {},
   "outputs": [],
   "source": [
    "'''\n",
    "1\n",
    "23\n",
    "456\n",
    "7890\n",
    "12345\n",
    "'''"
   ]
  },
  {
   "cell_type": "code",
   "execution_count": 98,
   "metadata": {},
   "outputs": [
    {
     "name": "stdout",
     "output_type": "stream",
     "text": [
      "A\n",
      "BB\n",
      "CCC\n",
      "DDDD\n",
      "EEEEE\n",
      "FFFFFF\n",
      "GGGGGGG\n",
      "HHHHHHHH\n",
      "IIIIIIIII\n",
      "JJJJJJJJJJ\n"
     ]
    }
   ],
   "source": [
    "rows = int(input())\n",
    "count = 65\n",
    "for i in range(1, rows+1):\n",
    "    for j in range(i):\n",
    "        print(chr(count), end='')\n",
    "    count += 1\n",
    "    print()"
   ]
  },
  {
   "cell_type": "code",
   "execution_count": null,
   "metadata": {},
   "outputs": [],
   "source": [
    "# i-->'1, rows+1'\n",
    "'forward: i'\n",
    "'reverse: rows-i+1'"
   ]
  },
  {
   "cell_type": "code",
   "execution_count": null,
   "metadata": {},
   "outputs": [],
   "source": [
    "'''\n",
    "**********\n",
    "****  ****\n",
    "***    ***\n",
    "**      **\n",
    "*        *\n",
    "\n",
    "'''\n",
    "\n",
    "# reverse: rows-i+1\n",
    "# forward: i"
   ]
  },
  {
   "cell_type": "code",
   "execution_count": 104,
   "metadata": {},
   "outputs": [
    {
     "name": "stdout",
     "output_type": "stream",
     "text": [
      "********************\n",
      "*********  *********\n",
      "********    ********\n",
      "*******      *******\n",
      "******        ******\n",
      "*****          *****\n",
      "****            ****\n",
      "***              ***\n",
      "**                **\n",
      "*                  *\n"
     ]
    }
   ],
   "source": [
    "rows = 10\n",
    "for i in range(1, rows+1):\n",
    "    for j in range(rows-i+1):\n",
    "        print('*', end='')\n",
    "    for j in range(i-1):\n",
    "        print(' ',end='')\n",
    "    for j in range(i-1):\n",
    "        print(' ', end='') \n",
    "    for j in range(rows-i+1):\n",
    "        print('*', end='')       \n",
    "    print()\n"
   ]
  },
  {
   "cell_type": "code",
   "execution_count": null,
   "metadata": {},
   "outputs": [],
   "source": [
    "'''\n",
    "*         *\n",
    "**       **\n",
    "***     ***\n",
    "****   ****\n",
    "***** *****\n",
    "***********\n",
    "'''"
   ]
  },
  {
   "cell_type": "code",
   "execution_count": 106,
   "metadata": {},
   "outputs": [
    {
     "name": "stdout",
     "output_type": "stream",
     "text": [
      "*                  *\n",
      "**                **\n",
      "***              ***\n",
      "****            ****\n",
      "*****          *****\n",
      "******        ******\n",
      "*******      *******\n",
      "********    ********\n",
      "*********  *********\n",
      "********************\n"
     ]
    }
   ],
   "source": [
    "rows = 10\n",
    "for i in range(1, rows+1):\n",
    "    for j in range(i):\n",
    "        print('*', end='')\n",
    "    for j in range(rows-i):\n",
    "        print(' ',end='')\n",
    "    for j in range(rows-i):\n",
    "        print(' ', end='') \n",
    "    for j in range(i):\n",
    "        print('*', end='')       \n",
    "    print()"
   ]
  },
  {
   "cell_type": "code",
   "execution_count": 1,
   "metadata": {},
   "outputs": [],
   "source": [
    "def numCells(grid):\n",
    "    # Write your code here\n",
    "    res = 0\n",
    "    for i in range(len(grid)):\n",
    "        for k in range (len(grid[0])):\n",
    "            val = grid[i][k]\n",
    "            flag = 1\n",
    "            for ii in range (max(0,i-1),min(len(grid),i+2)):\n",
    "                for kk in range(max(0,k-1),min(len(grid[0]),k+2)):\n",
    "                    if (ii,kk)!=(i,k) and val<= grid[ii][kk] :\n",
    "                         flag=0\n",
    "                         break \n",
    "                if flag == 0:\n",
    "                     break\n",
    "            else:\n",
    "                res+=1\n",
    "    return res"
   ]
  },
  {
   "cell_type": "code",
   "execution_count": null,
   "metadata": {},
   "outputs": [],
   "source": [
    "def missingCharacters(s):\n",
    "    l=[0]*123\n",
    "    result=\"\"\n",
    "    for i in range(len(s)):\n",
    "        x=ord(s[i])\n",
    "        l[x]+=1\n",
    "    for i in range(48,58):\n",
    "        if(l[i]==0):\n",
    "            result+=chr(i)\n",
    "    for i in range(97,123):\n",
    "        if(l[i]==0):\n",
    "            result+=chr(i)\n",
    "    return result"
   ]
  },
  {
   "cell_type": "code",
   "execution_count": 4,
   "metadata": {},
   "outputs": [
    {
     "data": {
      "text/plain": [
       "'0145789cdikmnpqtuvxyz'"
      ]
     },
     "execution_count": 4,
     "metadata": {},
     "output_type": "execute_result"
    }
   ],
   "source": [
    "from string import digits, ascii_lowercase\n",
    "\n",
    "def missingCharacters(s):\n",
    "    # if s is long, this will make the repeated membership test O(1)\n",
    "    # s = set(s)   \n",
    "    return \"\".join(c for c in digits + ascii_lowercase if c not in s)\n",
    "\n",
    "missingCharacters(\"362aghrjlsbwofhe\")"
   ]
  },
  {
   "cell_type": "code",
   "execution_count": null,
   "metadata": {},
   "outputs": [],
   "source": [
    "st = ''\n",
    "for c in '0123456789abcdefghijklmnopqrswxyz':\n",
    "    if c not in s:\n",
    "        \n"
   ]
  },
  {
   "cell_type": "code",
   "execution_count": 5,
   "metadata": {},
   "outputs": [
    {
     "data": {
      "text/plain": [
       "True"
      ]
     },
     "execution_count": 5,
     "metadata": {},
     "output_type": "execute_result"
    }
   ],
   "source": [
    "'hello'.__contains__('o')"
   ]
  },
  {
   "cell_type": "code",
   "execution_count": 2,
   "metadata": {},
   "outputs": [
    {
     "data": {
      "text/plain": [
       "2"
      ]
     },
     "execution_count": 2,
     "metadata": {},
     "output_type": "execute_result"
    }
   ],
   "source": [
    "numCells([[1, 2, 7], [4, 5, 6], [8, 8, 9]])"
   ]
  },
  {
   "cell_type": "code",
   "execution_count": 19,
   "metadata": {},
   "outputs": [],
   "source": [
    "from collections import defaultdict\n",
    "def nearlySimilarRectangles(sides):\n",
    "    gcd = lambda a, b: gcd(b, a % b) if b > 0 else a\n",
    "    d = defaultdict(int)\n",
    "    for w, h in sides:\n",
    "        z = gcd(w, h)\n",
    "        d[(w // z, h // z)] += 1\n",
    "    return sum((x * (x - 1)) // 2 for x in d.values())"
   ]
  },
  {
   "cell_type": "code",
   "execution_count": 21,
   "metadata": {},
   "outputs": [],
   "source": [
    "def minTime(files, numCores, limit):\n",
    "    x = []\n",
    "    y = []\n",
    "    for f in files:\n",
    "        if f % numCores == 0:\n",
    "            x.append(f)\n",
    "        else:\n",
    "            y.append(f)\n",
    "    x.sort(reverse=True)\n",
    "    return (sum(x[:limit]) // numCores) + sum(x[limit:]) + sum(y)"
   ]
  },
  {
   "cell_type": "code",
   "execution_count": 22,
   "metadata": {},
   "outputs": [
    {
     "data": {
      "text/plain": [
       "5"
      ]
     },
     "execution_count": 22,
     "metadata": {},
     "output_type": "execute_result"
    }
   ],
   "source": [
    "minTime([5, 3, 1], 5, 5)"
   ]
  },
  {
   "cell_type": "code",
   "execution_count": 20,
   "metadata": {},
   "outputs": [
    {
     "data": {
      "text/plain": [
       "2"
      ]
     },
     "execution_count": 20,
     "metadata": {},
     "output_type": "execute_result"
    }
   ],
   "source": [
    "nearlySimilarRectangles([(5, 10), (10, 10), (3, 6), (9, 9)])"
   ]
  },
  {
   "cell_type": "code",
   "execution_count": 8,
   "metadata": {},
   "outputs": [
    {
     "name": "stdout",
     "output_type": "stream",
     "text": [
      "defaultdict(<class 'int'>, {})\n"
     ]
    }
   ],
   "source": [
    "from collections import defaultdict\n",
    "dct = defaultdict(int)\n",
    "print(dct)"
   ]
  },
  {
   "cell_type": "code",
   "execution_count": null,
   "metadata": {},
   "outputs": [],
   "source": []
  },
  {
   "cell_type": "code",
   "execution_count": null,
   "metadata": {},
   "outputs": [],
   "source": []
  }
 ],
 "metadata": {
  "kernelspec": {
   "display_name": "Python 3",
   "language": "python",
   "name": "python3"
  },
  "language_info": {
   "codemirror_mode": {
    "name": "ipython",
    "version": 3
   },
   "file_extension": ".py",
   "mimetype": "text/x-python",
   "name": "python",
   "nbconvert_exporter": "python",
   "pygments_lexer": "ipython3",
   "version": "3.10.7"
  },
  "orig_nbformat": 4,
  "vscode": {
   "interpreter": {
    "hash": "490f1c68ed42f2c5a574e22fb9e03ff49b98516de8582ff1c5d4fb43fb70f61b"
   }
  }
 },
 "nbformat": 4,
 "nbformat_minor": 2
}
