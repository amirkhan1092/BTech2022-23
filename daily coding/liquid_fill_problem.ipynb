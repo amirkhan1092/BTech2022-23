{
 "cells": [
  {
   "cell_type": "code",
   "execution_count": null,
   "metadata": {},
   "outputs": [],
   "source": [
    "# liquid fill problem\n",
    "# https://www.geeksforgeeks.org/minimum-steps-reach-target-knight/\n",
    "\n",
    "# ls = [3, 0, 0, 2, 0, 4]\n",
    "\n",
    "ls = [2, 0, 1, 0, 4, 0, 1, 4]\n",
    " \n",
    "\n"
   ]
  },
  {
   "cell_type": "code",
   "execution_count": 5,
   "metadata": {},
   "outputs": [
    {
     "name": "stdout",
     "output_type": "stream",
     "text": [
      "6\n"
     ]
    }
   ],
   "source": [
    "# ls = [5, 3, 0, 5]\n",
    "ls = [2, 0, 4, 1, 3]\n",
    "\n",
    "mx = ls[0]\n",
    "sm = 0\n",
    "for i in range(1, len(ls)):\n",
    "    dff = mx - ls[i]\n",
    "    if dff > 0:\n",
    "        sm += dff\n",
    "    else:\n",
    "        mx = ls[i]\n",
    "print(sm)\n"
   ]
  },
  {
   "cell_type": "code",
   "execution_count": 1,
   "metadata": {},
   "outputs": [
    {
     "name": "stdout",
     "output_type": "stream",
     "text": [
      "MM\n",
      "AA\n",
      "TT\n",
      "HH\n",
      "UU\n",
      "RR\n",
      "AA\n"
     ]
    }
   ],
   "source": [
    "for i in tuple(\"MATHURA\"):\n",
    "    print(i+i)\n",
    "    "
   ]
  }
 ],
 "metadata": {
  "kernelspec": {
   "display_name": "Python 3",
   "language": "python",
   "name": "python3"
  },
  "language_info": {
   "codemirror_mode": {
    "name": "ipython",
    "version": 3
   },
   "file_extension": ".py",
   "mimetype": "text/x-python",
   "name": "python",
   "nbconvert_exporter": "python",
   "pygments_lexer": "ipython3",
   "version": "3.10.7"
  },
  "orig_nbformat": 4
 },
 "nbformat": 4,
 "nbformat_minor": 2
}
