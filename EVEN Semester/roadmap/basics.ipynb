{
 "cells": [
  {
   "cell_type": "code",
   "execution_count": null,
   "metadata": {},
   "outputs": [],
   "source": [
    "'''\n",
    "1. Data type\n",
    "    a) Number : int, float, complex, bool\n",
    "    b) String: ascii-7, ascii-8, unicode, bytes\n",
    "    c) List, Tuple\n",
    "    d) dict, set\n",
    "    e) None\n",
    "2. Standard I/O\n",
    "    input(): standard input\n",
    "    print(): standard output\n",
    "3. control flow statements:\n",
    "        if, if-else, if-elf-else\n",
    "4. Looping: for loop\n",
    "            while loop\n",
    "5. function\n",
    "6. file handling\n",
    "7. Exception Handling\n",
    "8. regex(Advance searching operation with string)        \n",
    "\n",
    "'''"
   ]
  },
  {
   "cell_type": "code",
   "execution_count": 48,
   "metadata": {},
   "outputs": [
    {
     "name": "stdout",
     "output_type": "stream",
     "text": [
      "b'I\\xf0\\x9f\\xa4\\xa6\\xe2\\x80\\x8d\\xe2\\x99\\x82\\xef\\xb8\\x8fGLA'\n"
     ]
    }
   ],
   "source": [
    "st = 'I🤦‍♂️GLA'\n",
    "out = st.encode()\n",
    "print(out)"
   ]
  },
  {
   "cell_type": "code",
   "execution_count": 52,
   "metadata": {},
   "outputs": [
    {
     "name": "stdout",
     "output_type": "stream",
     "text": [
      "I�������������GLA\n"
     ]
    }
   ],
   "source": [
    "s = b'I\\xf0\\x9f\\xa4\\xa6\\xe2\\x80\\x8d\\xe2\\x99\\x82\\xef\\xb8\\x8fGLA'\n",
    "out = s.decode('ascii', errors='replace')\n",
    "print(out)"
   ]
  },
  {
   "cell_type": "code",
   "execution_count": 15,
   "metadata": {},
   "outputs": [
    {
     "name": "stdout",
     "output_type": "stream",
     "text": [
      "I������GLA\n"
     ]
    }
   ],
   "source": [
    "ks = b'I\\xe2\\x9d\\xa4\\xef\\xb8\\x8fGLA'\n",
    "out = ks.decode('ascii', errors='replace')\n",
    "print(out)"
   ]
  },
  {
   "cell_type": "code",
   "execution_count": 9,
   "metadata": {},
   "outputs": [
    {
     "name": "stdout",
     "output_type": "stream",
     "text": [
      "128539\n"
     ]
    }
   ],
   "source": [
    "# st[5]\n",
    "out = ord('😛')\n",
    "print(out)"
   ]
  },
  {
   "cell_type": "code",
   "execution_count": 1,
   "metadata": {},
   "outputs": [
    {
     "name": "stdout",
     "output_type": "stream",
     "text": [
      "<class 'int'>\n"
     ]
    }
   ],
   "source": [
    "hs = 333\n",
    "print(type(hs))"
   ]
  },
  {
   "cell_type": "code",
   "execution_count": 25,
   "metadata": {},
   "outputs": [
    {
     "name": "stdout",
     "output_type": "stream",
     "text": [
      "helloamit\n",
      "world\n"
     ]
    }
   ],
   "source": [
    "# standard input/Output\n",
    "\n",
    "# print(): standard output use to display the formated data on consol\n",
    "\n",
    "print('hello', end='amit')\n",
    "print('world')"
   ]
  },
  {
   "cell_type": "code",
   "execution_count": 26,
   "metadata": {},
   "outputs": [],
   "source": [
    "print(end='')"
   ]
  },
  {
   "cell_type": "code",
   "execution_count": 34,
   "metadata": {},
   "outputs": [
    {
     "name": "stdout",
     "output_type": "stream",
     "text": [
      "hello*world\n"
     ]
    }
   ],
   "source": [
    "print('hello', 'world', sep='*')"
   ]
  },
  {
   "cell_type": "code",
   "execution_count": 42,
   "metadata": {},
   "outputs": [
    {
     "name": "stdout",
     "output_type": "stream",
     "text": [
      "3 5 7 8\n"
     ]
    }
   ],
   "source": [
    "x = [3, 5, 7, 8]\n",
    "print(*x)"
   ]
  },
  {
   "cell_type": "code",
   "execution_count": 57,
   "metadata": {},
   "outputs": [
    {
     "name": "stdout",
     "output_type": "stream",
     "text": [
      "hello world\n"
     ]
    }
   ],
   "source": [
    "# standard input/output\n",
    "# input()\n",
    "# print(): standard output use to display the data on consol\n",
    "print('hello', end=' ')\n",
    "print('world')"
   ]
  },
  {
   "cell_type": "code",
   "execution_count": 112,
   "metadata": {},
   "outputs": [
    {
     "name": "stdout",
     "output_type": "stream",
     "text": [
      "h e l l o\n"
     ]
    }
   ],
   "source": [
    "# keyword argument sep=\n",
    "ls = 'hello'\n",
    "print(*ls)\n"
   ]
  },
  {
   "cell_type": "code",
   "execution_count": 118,
   "metadata": {},
   "outputs": [
    {
     "data": {
      "text/plain": [
       "[3, 4]"
      ]
     },
     "execution_count": 118,
     "metadata": {},
     "output_type": "execute_result"
    }
   ],
   "source": [
    "[3, 4,]"
   ]
  },
  {
   "cell_type": "code",
   "execution_count": 126,
   "metadata": {},
   "outputs": [
    {
     "name": "stdout",
     "output_type": "stream",
     "text": [
      "value of z o\n",
      "value of r h\n",
      "remaining data ['e', 'l', 'l']\n"
     ]
    }
   ],
   "source": [
    "r, *tr, z = 'hello'\n",
    "print('value of z', z)\n",
    "print('value of r', r)\n",
    "print('remaining data', tr)"
   ]
  },
  {
   "cell_type": "code",
   "execution_count": 127,
   "metadata": {},
   "outputs": [
    {
     "name": "stdout",
     "output_type": "stream",
     "text": [
      "a 34\n",
      "b 26\n"
     ]
    }
   ],
   "source": [
    "a = 23\n",
    "b = 34\n",
    "a, b, *h = b , a + 3, 5, 6\n",
    "print('a', a)\n",
    "print('b', b)"
   ]
  },
  {
   "cell_type": "code",
   "execution_count": null,
   "metadata": {},
   "outputs": [],
   "source": []
  },
  {
   "cell_type": "code",
   "execution_count": 88,
   "metadata": {},
   "outputs": [
    {
     "name": "stdout",
     "output_type": "stream",
     "text": [
      "3 5 6 7\n"
     ]
    }
   ],
   "source": [
    "ls = [3, 5, 6, 7]\n",
    "print(*ls)"
   ]
  },
  {
   "cell_type": "code",
   "execution_count": 92,
   "metadata": {},
   "outputs": [
    {
     "name": "stdout",
     "output_type": "stream",
     "text": [
      "value of a=10 and value of b=34\n"
     ]
    }
   ],
   "source": [
    "a = 10\n",
    "b = 34\n",
    "out = f'value of {a=} and value of {b=}'\n",
    "print(out)"
   ]
  },
  {
   "cell_type": "code",
   "execution_count": 135,
   "metadata": {},
   "outputs": [
    {
     "name": "stdout",
     "output_type": "stream",
     "text": [
      "\n",
      "Name: ravi\n",
      "    Section: A\n",
      "        Roll Number: 34\n",
      "            CPI: 9.3\n",
      "\n"
     ]
    }
   ],
   "source": [
    "name = 'ravi'\n",
    "sec = 'A'\n",
    "rolln = 34\n",
    "cpi = 9.3\n",
    "tmp = f'''\n",
    "Name: {name}\n",
    "    Section: {sec}\n",
    "        Roll Number: {rolln}\n",
    "            CPI: {cpi}\n",
    "'''\n",
    "print(tmp)\n"
   ]
  },
  {
   "cell_type": "code",
   "execution_count": 137,
   "metadata": {},
   "outputs": [
    {
     "name": "stdout",
     "output_type": "stream",
     "text": [
      "sum of 23 and 34 is 57\n"
     ]
    }
   ],
   "source": [
    "a = 23\n",
    "b = 34\n",
    "out = a + b\n",
    "print(f'sum of {a} and {b} is {out}')"
   ]
  },
  {
   "cell_type": "code",
   "execution_count": 151,
   "metadata": {},
   "outputs": [
    {
     "name": "stdout",
     "output_type": "stream",
     "text": [
      "\n",
      "value of       hell\n",
      "value of         22\n",
      "\n"
     ]
    }
   ],
   "source": [
    "a = 'hello'\n",
    "b = 22\n",
    "out = f'''\n",
    "value of {a:<10.4}\n",
    "value of {b:10}\n",
    "'''\n",
    "print(out)"
   ]
  },
  {
   "cell_type": "code",
   "execution_count": 133,
   "metadata": {},
   "outputs": [
    {
     "data": {
      "text/plain": [
       "'\\nhello\\nworld\\n    python'"
      ]
     },
     "execution_count": 133,
     "metadata": {},
     "output_type": "execute_result"
    }
   ],
   "source": [
    "'''\n",
    "hello\n",
    "world\n",
    "    python'''\n"
   ]
  },
  {
   "cell_type": "code",
   "execution_count": null,
   "metadata": {},
   "outputs": [],
   "source": []
  }
 ],
 "metadata": {
  "kernelspec": {
   "display_name": "Python 3",
   "language": "python",
   "name": "python3"
  },
  "language_info": {
   "codemirror_mode": {
    "name": "ipython",
    "version": 3
   },
   "file_extension": ".py",
   "mimetype": "text/x-python",
   "name": "python",
   "nbconvert_exporter": "python",
   "pygments_lexer": "ipython3",
   "version": "3.10.7"
  },
  "orig_nbformat": 4,
  "vscode": {
   "interpreter": {
    "hash": "490f1c68ed42f2c5a574e22fb9e03ff49b98516de8582ff1c5d4fb43fb70f61b"
   }
  }
 },
 "nbformat": 4,
 "nbformat_minor": 2
}
