{
 "cells": [
  {
   "cell_type": "code",
   "execution_count": 1,
   "metadata": {},
   "outputs": [
    {
     "name": "stdout",
     "output_type": "stream",
     "text": [
      "5 is greater than 3\n",
      "5 is greater than 3\n"
     ]
    }
   ],
   "source": [
    "# if used as a conditional statement, it will execute the code block only if the condition is true\n",
    "# examples of if statement\n",
    "# if the condition is true, it will execute the code block\n",
    "if 5 > 3:\n",
    "    print(\"5 is greater than 3\")\n",
    "# if the condition is false, it will not execute the code block\n",
    "if 5 < 3:\n",
    "    print(\"5 is greater than 3\")\n",
    "# if the condition is true, it will execute the code block\n",
    "# if 5 > 3:\n",
    "#     print(\"5 is greater than 3\")\n",
    "# if the condition is false, it will not execute the code block"
   ]
  },
  {
   "cell_type": "code",
   "execution_count": null,
   "metadata": {},
   "outputs": [],
   "source": [
    "# if-else statement\n",
    "# if the condition is true, it will execute the code block\n",
    "# if the condition is false, it will execute the else block\n",
    "if 5 < 3:\n",
    "    print(\"5 is greater than 3\")\n",
    "else:\n",
    "    print(\"5 is not greater than 3\")\n",
    "# if the condition is true, it will execute the code block\n",
    "# if 5 > 3:\n",
    "#     print(\"5 is greater than 3\")\n",
    "# else:\n",
    "#     print(\"5 is not greater than 3\")"
   ]
  }
 ],
 "metadata": {
  "kernelspec": {
   "display_name": "Python 3",
   "language": "python",
   "name": "python3"
  },
  "language_info": {
   "codemirror_mode": {
    "name": "ipython",
    "version": 3
   },
   "file_extension": ".py",
   "mimetype": "text/x-python",
   "name": "python",
   "nbconvert_exporter": "python",
   "pygments_lexer": "ipython3",
   "version": "3.10.7"
  },
  "orig_nbformat": 4,
  "vscode": {
   "interpreter": {
    "hash": "490f1c68ed42f2c5a574e22fb9e03ff49b98516de8582ff1c5d4fb43fb70f61b"
   }
  }
 },
 "nbformat": 4,
 "nbformat_minor": 2
}
