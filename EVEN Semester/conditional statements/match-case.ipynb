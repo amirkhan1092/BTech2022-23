{
 "cells": [
  {
   "cell_type": "code",
   "execution_count": 2,
   "metadata": {},
   "outputs": [
    {
     "name": "stdout",
     "output_type": "stream",
     "text": [
      "B\n"
     ]
    }
   ],
   "source": [
    "# match-case is a new feature in python 3.10\n",
    "# match-case is a new feature in python 3.10\n",
    "\n",
    "# example 1\n",
    "marks = int(input('Enter marks '))\n",
    "match marks:\n",
    "    case marks if marks > 90:\n",
    "        print('O')\n",
    "    case marks if marks > 80:\n",
    "        print('A+')\n",
    "    case marks if marks > 70:\n",
    "        print('A')\n",
    "    case marks if marks > 60:\n",
    "        print('B+')\n",
    "    case marks if marks > 50:\n",
    "        print('B')\n",
    "    case marks if marks > 40:\n",
    "        print('F')\n",
    "    \n",
    "    \n",
    "    case _:\n",
    "        print('Invalid marks')\n"
   ]
  },
  {
   "cell_type": "code",
   "execution_count": 3,
   "metadata": {},
   "outputs": [
    {
     "name": "stdout",
     "output_type": "stream",
     "text": [
      "c is largest\n"
     ]
    }
   ],
   "source": [
    "# example 2\n",
    "\n",
    "a = int(input('Enter a '))\n",
    "b = int(input('Enter b '))\n",
    "c = int(input('Enter c '))\n",
    "match (a, b, c):\n",
    "    case (a, b, c) if a > b and a > c:\n",
    "        print('a is largest')\n",
    "    case (a, b, c) if b > a and b > c:\n",
    "        print('b is largest')\n",
    "    case (a, b, c) if c > a and c > b:\n",
    "        print('c is largest')\n",
    "    case _:\n",
    "        print('Invalid')"
   ]
  },
  {
   "cell_type": "code",
   "execution_count": null,
   "metadata": {},
   "outputs": [],
   "source": [
    "name = input('Enter name ')\n",
    "match name:\n",
    "    case 'Ravi':\n",
    "        "
   ]
  }
 ],
 "metadata": {
  "kernelspec": {
   "display_name": "Python 3",
   "language": "python",
   "name": "python3"
  },
  "language_info": {
   "codemirror_mode": {
    "name": "ipython",
    "version": 3
   },
   "file_extension": ".py",
   "mimetype": "text/x-python",
   "name": "python",
   "nbconvert_exporter": "python",
   "pygments_lexer": "ipython3",
   "version": "3.10.7"
  },
  "orig_nbformat": 4,
  "vscode": {
   "interpreter": {
    "hash": "490f1c68ed42f2c5a574e22fb9e03ff49b98516de8582ff1c5d4fb43fb70f61b"
   }
  }
 },
 "nbformat": 4,
 "nbformat_minor": 2
}
