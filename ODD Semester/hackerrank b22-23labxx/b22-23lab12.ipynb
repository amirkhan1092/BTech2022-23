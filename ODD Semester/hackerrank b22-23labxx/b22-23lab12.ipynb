{
 "cells": [
  {
   "cell_type": "code",
   "execution_count": null,
   "metadata": {},
   "outputs": [],
   "source": [
    "# The Ship Team\n",
    "dct = eval(input())\n",
    "team1 = []\n",
    "team2 = []\n",
    "for i in dct:\n",
    "    if dct[i] < 20 or dct[i] > 40:\n",
    "        team1.append(i)\n",
    "    else:\n",
    "        team2.append(i)\n",
    "\n",
    "team1.sort()\n",
    "team2.sort()\n",
    "out = f'[\\n {team1},\\n {team2}\\n]'\n",
    "print(out)"
   ]
  },
  {
   "cell_type": "code",
   "execution_count": null,
   "metadata": {},
   "outputs": [],
   "source": [
    "# Phone Book Dictionary\n",
    "num = int(input())\n",
    "dct = {}\n",
    "for i in range(num):\n",
    "    name, mob = input().split()\n",
    "    dct[name] = mob\n",
    "for i in range(num):\n",
    "    name_q = input()\n",
    "    out = dct.get(name_q)\n",
    "    if out:\n",
    "        print(f'{name_q}={out}')\n",
    "    else:\n",
    "        print('Not found')"
   ]
  },
  {
   "cell_type": "code",
   "execution_count": null,
   "metadata": {},
   "outputs": [],
   "source": [
    "# Binary Bits 1\n",
    "num1, num2 = map(int, input().split())\n",
    "thersold = int(input())\n",
    "\n",
    "op_and = num1 & num2\n",
    "op_or = num1 | num2\n",
    "op_xor = num1 ^ num2\n",
    "\n",
    "# filter \n",
    "op_and = op_and * (op_and < thersold)\n",
    "op_or = op_or * (op_or < thersold)\n",
    "op_xor = op_xor * (op_xor < thersold)\n",
    "\n",
    "print(max(op_and, op_or, op_xor))"
   ]
  },
  {
   "cell_type": "code",
   "execution_count": 4,
   "metadata": {},
   "outputs": [
    {
     "name": "stdout",
     "output_type": "stream",
     "text": [
      "[[]]\n"
     ]
    }
   ],
   "source": [
    "# High Efficiency \n",
    "def applicationPairs(deviceCapacity, foregroundApplist, backgroundApplist):\n",
    "  \n",
    "    comb1 = []\n",
    "    comb = []\n",
    "    mx = 0\n",
    "    for i in range(len(foregroundApplist)):\n",
    "        for j in range(len(backgroundApplist)):\n",
    "            x = foregroundApplist[i][1] + backgroundApplist[j][1]\n",
    "            if x < deviceCapacity:\n",
    "                if x > mx:\n",
    "                    comb = [foregroundApplist[i][0],  backgroundApplist[j][0]]\n",
    "                    mx = x\n",
    "            elif x == deviceCapacity:\n",
    "                comb1.append([foregroundApplist[i][0],  backgroundApplist[j][0]])\n",
    "\n",
    "    return [comb] if len(comb1) == 0 else comb1            \n",
    "\n",
    "\n",
    "capacity = int(input())\n",
    "foreground = eval(input())\n",
    "background = eval(input())\n",
    "out = applicationPairs(capacity, foreground, background)\n",
    "print(out)\n",
    "# print('[', end='')\n",
    "# print(*out, end='')\n",
    "# print(']')"
   ]
  }
 ],
 "metadata": {
  "kernelspec": {
   "display_name": "Python 3",
   "language": "python",
   "name": "python3"
  },
  "language_info": {
   "codemirror_mode": {
    "name": "ipython",
    "version": 3
   },
   "file_extension": ".py",
   "mimetype": "text/x-python",
   "name": "python",
   "nbconvert_exporter": "python",
   "pygments_lexer": "ipython3",
   "version": "3.10.7 (tags/v3.10.7:6cc6b13, Sep  5 2022, 14:08:36) [MSC v.1933 64 bit (AMD64)]"
  },
  "orig_nbformat": 4,
  "vscode": {
   "interpreter": {
    "hash": "490f1c68ed42f2c5a574e22fb9e03ff49b98516de8582ff1c5d4fb43fb70f61b"
   }
  }
 },
 "nbformat": 4,
 "nbformat_minor": 2
}
