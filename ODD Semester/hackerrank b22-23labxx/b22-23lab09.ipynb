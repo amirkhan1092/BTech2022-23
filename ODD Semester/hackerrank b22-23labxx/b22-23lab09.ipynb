{
 "cells": [
  {
   "cell_type": "code",
   "execution_count": 4,
   "metadata": {},
   "outputs": [
    {
     "name": "stdout",
     "output_type": "stream",
     "text": [
      "3 4\n",
      "5 3\n"
     ]
    }
   ],
   "source": [
    "# matric behavior\n",
    "def create_matrix(arr, r, c):\n",
    "    m = []\n",
    "    element = 0\n",
    "    for i in range(r):\n",
    "        t = []\n",
    "        for j in range(c):\n",
    "            t.append(arr[element])\n",
    "            element += 1\n",
    "        m.append(t)    \n",
    "    return m\n",
    "def display_matrix(arr):\n",
    "    for r in arr:\n",
    "        print(*r)     \n",
    "\n",
    "# main code\n",
    "# user data is in orignal form\n",
    "ls = eval(input())\n",
    "r, c = map(int, input().split('x'))\n",
    "if r * c == len(ls):\n",
    "    out = create_matrix(ls, r, c)\n",
    "    display_matrix(out)\n",
    "else:\n",
    "    print(None)       "
   ]
  },
  {
   "cell_type": "code",
   "execution_count": 3,
   "metadata": {},
   "outputs": [
    {
     "name": "stdout",
     "output_type": "stream",
     "text": [
      "None\n"
     ]
    }
   ],
   "source": [
    "print(None)"
   ]
  }
 ],
 "metadata": {
  "kernelspec": {
   "display_name": "Python 3",
   "language": "python",
   "name": "python3"
  },
  "language_info": {
   "codemirror_mode": {
    "name": "ipython",
    "version": 3
   },
   "file_extension": ".py",
   "mimetype": "text/x-python",
   "name": "python",
   "nbconvert_exporter": "python",
   "pygments_lexer": "ipython3",
   "version": "3.10.7"
  },
  "orig_nbformat": 4,
  "vscode": {
   "interpreter": {
    "hash": "490f1c68ed42f2c5a574e22fb9e03ff49b98516de8582ff1c5d4fb43fb70f61b"
   }
  }
 },
 "nbformat": 4,
 "nbformat_minor": 2
}
