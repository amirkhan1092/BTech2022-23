{
 "cells": [
  {
   "cell_type": "code",
   "execution_count": 1,
   "metadata": {},
   "outputs": [
    {
     "name": "stdout",
     "output_type": "stream",
     "text": [
      "1\n",
      "1 1\n",
      "2 1\n",
      "1 2 1 1\n",
      "1 1 1 2 2 1\n"
     ]
    }
   ],
   "source": [
    "# tell me again \n",
    "pos = int(input())\n",
    "st = '1'\n",
    "print(*st)\n",
    "for _ in range(1, pos):\n",
    "    st += '~'\n",
    "    ln = len(st)\n",
    "    tmp = ''\n",
    "    s = ''\n",
    "    for i in range(ln-1):\n",
    "        if st[i] != st[i+1]:\n",
    "            tmp += st[i]\n",
    "            s += str(tmp.count(tmp[0])) + tmp[0]\n",
    "            tmp = ''\n",
    "        else:\n",
    "            tmp += st[i]\n",
    "    print(*s)\n",
    "    st = s    "
   ]
  },
  {
   "cell_type": "code",
   "execution_count": 2,
   "metadata": {},
   "outputs": [
    {
     "name": "stdout",
     "output_type": "stream",
     "text": [
      "2\n"
     ]
    }
   ],
   "source": [
    "# Boolean Expression\n",
    "a, b, x = int(input()), int(input()), int(input())\n",
    "print(a*x+b*(1-x))"
   ]
  },
  {
   "cell_type": "code",
   "execution_count": 3,
   "metadata": {},
   "outputs": [
    {
     "name": "stdout",
     "output_type": "stream",
     "text": [
      "lohel\n"
     ]
    }
   ],
   "source": [
    "# Stream Flow\n",
    "st, rt = input(), int(input())\n",
    "ft = rt % len(st)\n",
    "print(st[ft:]+st[:ft])"
   ]
  },
  {
   "cell_type": "code",
   "execution_count": 8,
   "metadata": {},
   "outputs": [],
   "source": [
    "# the bar\n",
    "\n",
    "line = input()\n",
    "raw_data = line\n",
    "while line != '}':\n",
    "    line = input()\n",
    "    raw_data += line\n",
    "dct = eval(raw_data)\n",
    "# print(dct)\n"
   ]
  },
  {
   "cell_type": "code",
   "execution_count": 31,
   "metadata": {},
   "outputs": [],
   "source": [
    "dct = {\n",
    "    0: [0, 5],\n",
    "    1: [5],\n",
    "    2: [2, 6, 5],\n",
    "    3: [1, 5],\n",
    "    4: [9, 7]\n",
    "}"
   ]
  },
  {
   "cell_type": "code",
   "execution_count": 29,
   "metadata": {},
   "outputs": [],
   "source": [
    "def intersection(ar1, ar2):\n",
    "    for i in ar1:\n",
    "        if i in ar2:\n",
    "            return True\n",
    "    return False    \n",
    "# main\n",
    "# ls1 = [3, 5]\n",
    "# ls2 = [4, 3]\n",
    "# print(intersection(ls1, ls2))    "
   ]
  },
  {
   "cell_type": "code",
   "execution_count": 32,
   "metadata": {},
   "outputs": [
    {
     "name": "stdout",
     "output_type": "stream",
     "text": [
      "2\n"
     ]
    }
   ],
   "source": [
    "from itertools import combinations\n",
    "flag = False\n",
    "all_drinks = []\n",
    "for k, v in dct.items():\n",
    "    for i in v:\n",
    "        if i not in all_drinks:\n",
    "            all_drinks.append(i)\n",
    "for i in range(1, len(all_drinks)+1):\n",
    "    out = list(combinations(all_drinks, i))\n",
    "    # print(out)\n",
    "    for st in out:\n",
    "        for c, d in dct.items():\n",
    "            if not intersection(d, st):\n",
    "                break\n",
    "        else:\n",
    "            if not flag:\n",
    "                print(i)\n",
    "                flag = True\n",
    "            \n",
    "    else:\n",
    "        if flag:\n",
    "            break\n"
   ]
  },
  {
   "cell_type": "code",
   "execution_count": 14,
   "metadata": {},
   "outputs": [
    {
     "data": {
      "text/plain": [
       "set()"
      ]
     },
     "execution_count": 14,
     "metadata": {},
     "output_type": "execute_result"
    }
   ],
   "source": [
    "{3, 5} & {1, 9}"
   ]
  },
  {
   "cell_type": "code",
   "execution_count": 6,
   "metadata": {},
   "outputs": [
    {
     "data": {
      "text/plain": [
       "{2: [2, 4, 5], 1: [3, 4, 2]}"
      ]
     },
     "execution_count": 6,
     "metadata": {},
     "output_type": "execute_result"
    }
   ],
   "source": [
    "dct"
   ]
  }
 ],
 "metadata": {
  "kernelspec": {
   "display_name": "Python 3",
   "language": "python",
   "name": "python3"
  },
  "language_info": {
   "codemirror_mode": {
    "name": "ipython",
    "version": 3
   },
   "file_extension": ".py",
   "mimetype": "text/x-python",
   "name": "python",
   "nbconvert_exporter": "python",
   "pygments_lexer": "ipython3",
   "version": "3.10.7"
  },
  "orig_nbformat": 4,
  "vscode": {
   "interpreter": {
    "hash": "490f1c68ed42f2c5a574e22fb9e03ff49b98516de8582ff1c5d4fb43fb70f61b"
   }
  }
 },
 "nbformat": 4,
 "nbformat_minor": 2
}
