{
 "cells": [
  {
   "cell_type": "code",
   "execution_count": 1,
   "metadata": {},
   "outputs": [
    {
     "name": "stdout",
     "output_type": "stream",
     "text": [
      "1 4 2\n",
      "2 3 5\n",
      "\n",
      "1 4 2 5 3 2\n"
     ]
    }
   ],
   "source": [
    "# spiral matrix\n",
    "# 3 4\n",
    "# 3 5 3 2\n",
    "# 1 2 4 6\n",
    "# 0 4 6 2\n",
    "\n",
    "R, C = list(map(int, input().split()))  # [3, 4]\n",
    "M = []\n",
    "for i in range(R):\n",
    "    M.append(list(map(int, input().split())))\n",
    "\n",
    "for i in M:\n",
    "    print(*i)\n",
    "print()    \n",
    "\n",
    "t = 0\n",
    "b = R - 1\n",
    "l = 0\n",
    "r = C - 1\n",
    "d = 0\n",
    "out = []\n",
    "while t <= b and l <= r:\n",
    "    if d == 0:\n",
    "        for i in range(l, r+1):\n",
    "            out.append(M[t][i])\n",
    "        d = 1\n",
    "        t += 1\n",
    "    elif d == 1:\n",
    "        for i in range(t, b+1):\n",
    "            out.append(M[i][r])\n",
    "        d = 2\n",
    "        r -= 1\n",
    "    elif d == 2:\n",
    "        for i in range(r, l-1, -1):\n",
    "            out.append(M[b][i])\n",
    "        d = 3\n",
    "        b -= 1\n",
    "    elif d == 3:\n",
    "        for i in range(b, t-1, -1):\n",
    "            out.append(M[i][l])\n",
    "        d = 0\n",
    "        l += 1\n",
    "print(*out)\n"
   ]
  },
  {
   "cell_type": "code",
   "execution_count": 2,
   "metadata": {},
   "outputs": [
    {
     "name": "stdout",
     "output_type": "stream",
     "text": [
      "4\n"
     ]
    }
   ],
   "source": [
    "# detest of threes\n",
    "pos = int(input())\n",
    "i = 1\n",
    "count = 0\n",
    "# ls = []\n",
    "out_ele = 1\n",
    "while count < pos:\n",
    "    if i % 3 != 0 and i % 10 != 3:\n",
    "        count += 1\n",
    "        out_ele = i\n",
    "    i += 1\n",
    "print(out_ele)\n"
   ]
  },
  {
   "cell_type": "code",
   "execution_count": 3,
   "metadata": {},
   "outputs": [
    {
     "name": "stdout",
     "output_type": "stream",
     "text": [
      "48 52\n"
     ]
    }
   ],
   "source": [
    "# Positive Integer Pairs\n",
    "P = int(input())\n",
    "X = int(input())\n",
    "\n",
    "for i in range(P//2+1):\n",
    "    j = P - i\n",
    "    if i ^ j == X:\n",
    "        print(i, j)"
   ]
  },
  {
   "cell_type": "code",
   "execution_count": 4,
   "metadata": {},
   "outputs": [
    {
     "name": "stdout",
     "output_type": "stream",
     "text": [
      "3\n"
     ]
    }
   ],
   "source": [
    "# logest unique \n",
    "ls = eval(input())\n",
    "mx = 1\n",
    "for i in range(len(ls)):\n",
    "    for j in range(i+1, len(ls)):\n",
    "        # print(ls[i:j+1])\n",
    "        if len(set(ls[i:j+1])) == len(ls[i:j+1]):\n",
    "            mx = len(ls[i:j+1]) if len(ls[i:j+1]) > mx else mx\n",
    "print(mx)  "
   ]
  }
 ],
 "metadata": {
  "kernelspec": {
   "display_name": "Python 3",
   "language": "python",
   "name": "python3"
  },
  "language_info": {
   "codemirror_mode": {
    "name": "ipython",
    "version": 3
   },
   "file_extension": ".py",
   "mimetype": "text/x-python",
   "name": "python",
   "nbconvert_exporter": "python",
   "pygments_lexer": "ipython3",
   "version": "3.10.7 (tags/v3.10.7:6cc6b13, Sep  5 2022, 14:08:36) [MSC v.1933 64 bit (AMD64)]"
  },
  "orig_nbformat": 4,
  "vscode": {
   "interpreter": {
    "hash": "490f1c68ed42f2c5a574e22fb9e03ff49b98516de8582ff1c5d4fb43fb70f61b"
   }
  }
 },
 "nbformat": 4,
 "nbformat_minor": 2
}
