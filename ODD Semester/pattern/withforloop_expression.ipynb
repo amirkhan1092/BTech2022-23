{
 "cells": [
  {
   "cell_type": "code",
   "execution_count": null,
   "metadata": {},
   "outputs": [],
   "source": [
    "'''\n",
    "*\n",
    "**\n",
    "***\n",
    "****\n",
    "*****\n",
    "******\n",
    "\n",
    "1\n",
    "2 3\n",
    "4 5 6\n",
    "7 8 9 10\n",
    "'''"
   ]
  },
  {
   "cell_type": "code",
   "execution_count": 26,
   "metadata": {},
   "outputs": [
    {
     "name": "stdout",
     "output_type": "stream",
     "text": [
      "A \n",
      "B C \n",
      "D E F \n",
      "G H I J \n",
      "K L M N O \n",
      "P Q R S T U \n",
      "V W X Y Z A B \n",
      "C D E F G H I J \n",
      "K L M N O P Q R S \n",
      "T U V W X Y Z A B C \n"
     ]
    }
   ],
   "source": [
    "rows = 10\n",
    "count = 65\n",
    "for i in range(1, rows+1):\n",
    "    for j in range(i):\n",
    "        print(chr(count), end=' ')\n",
    "        count += 1\n",
    "        if count >90:\n",
    "            count = 65\n",
    "        \n",
    "    print()\n",
    "    \n",
    "\n",
    "    "
   ]
  },
  {
   "cell_type": "code",
   "execution_count": null,
   "metadata": {},
   "outputs": [],
   "source": [
    "'''\n",
    "******\n",
    "*****\n",
    "****\n",
    "***\n",
    "**\n",
    "*\n",
    "\n",
    "\n",
    "'''"
   ]
  },
  {
   "cell_type": "code",
   "execution_count": 4,
   "metadata": {},
   "outputs": [
    {
     "name": "stdout",
     "output_type": "stream",
     "text": [
      "**********\n",
      "*********\n",
      "********\n",
      "*******\n",
      "******\n",
      "*****\n",
      "****\n",
      "***\n",
      "**\n",
      "*\n"
     ]
    }
   ],
   "source": [
    "rows = 10\n",
    "for i in range(1, rows+1):\n",
    "    for j in range(rows-i+1):\n",
    "        print('*', end='')\n",
    "    print()"
   ]
  },
  {
   "cell_type": "code",
   "execution_count": null,
   "metadata": {},
   "outputs": [],
   "source": [
    "'''\n",
    "*       *\n",
    "**      **\n",
    "***     *** \n",
    "****    ****\n",
    "*****   *****\n",
    "******  ******\n",
    "******* *******\n",
    "****************\n",
    "\n",
    "\n",
    "'''"
   ]
  },
  {
   "cell_type": "code",
   "execution_count": 12,
   "metadata": {},
   "outputs": [
    {
     "name": "stdout",
     "output_type": "stream",
     "text": [
      "*         *\n",
      "**        **\n",
      "***       ***\n",
      "****      ****\n",
      "*****     *****\n",
      "******    ******\n",
      "*******   *******\n",
      "********  ********\n",
      "********* *********\n",
      "********************\n"
     ]
    }
   ],
   "source": [
    "rows = 10\n",
    "for i in range(1, rows+1):\n",
    "    for j in range(i):\n",
    "        print('*', end='')\n",
    "    for j in range(rows-i):\n",
    "        print(' ', end='')\n",
    "    for j in range(i):\n",
    "        print('*', end='')    \n",
    "    print()"
   ]
  },
  {
   "cell_type": "code",
   "execution_count": null,
   "metadata": {},
   "outputs": [],
   "source": [
    "'''\n",
    "        *\n",
    "       **\n",
    "      ***\n",
    "     ****\n",
    "    *****\n",
    "   ******\n",
    "  *******\n",
    " ********\n",
    "*********\n",
    "\n",
    "'''"
   ]
  },
  {
   "cell_type": "code",
   "execution_count": 17,
   "metadata": {},
   "outputs": [
    {
     "name": "stdout",
     "output_type": "stream",
     "text": [
      "    *\n",
      "   ***\n",
      "  *****\n",
      " *******\n",
      "*********\n"
     ]
    }
   ],
   "source": [
    "rows = 5\n",
    "for i in range(1, rows+1):\n",
    "    for j in range(rows-i):\n",
    "        print(' ', end='')\n",
    "    for j in range(i):\n",
    "        print('*', end='')\n",
    "    for j in range(i-1):\n",
    "        print('*', end='')      \n",
    "    \n",
    "    print()"
   ]
  },
  {
   "cell_type": "code",
   "execution_count": null,
   "metadata": {},
   "outputs": [],
   "source": [
    "'''\n",
    "\n",
    "************\n",
    "*****  *****\n",
    "****    ****\n",
    "***      ***\n",
    "**        **\n",
    "*          *\n",
    "\n",
    "'''"
   ]
  },
  {
   "cell_type": "code",
   "execution_count": 29,
   "metadata": {},
   "outputs": [
    {
     "name": "stdout",
     "output_type": "stream",
     "text": [
      "**********\n",
      "*********\n",
      "********\n",
      "*******\n",
      "******\n",
      "*****\n",
      "****\n",
      "***\n",
      "**\n",
      "*\n"
     ]
    }
   ],
   "source": [
    "rows = 10\n",
    "for i in range(1, rows+1):\n",
    "    for j in range(rows-i+1):\n",
    "        print('*', end='')\n",
    "\n",
    "    print()"
   ]
  },
  {
   "cell_type": "code",
   "execution_count": null,
   "metadata": {},
   "outputs": [],
   "source": [
    "'''\n",
    "*      *\n",
    "**     **\n",
    "***    ***\n",
    "****   ****\n",
    "*****  *****\n",
    "****** ******\n",
    "**************\n",
    "\n",
    "'''"
   ]
  },
  {
   "cell_type": "code",
   "execution_count": 33,
   "metadata": {},
   "outputs": [
    {
     "name": "stdout",
     "output_type": "stream",
     "text": [
      "*         *\n",
      "**        **\n",
      "***       ***\n",
      "****      ****\n",
      "*****     *****\n",
      "******    ******\n",
      "*******   *******\n",
      "********  ********\n",
      "********* *********\n",
      "********************\n"
     ]
    }
   ],
   "source": [
    "rows = 10\n",
    "for i in range(1, rows+1):\n",
    "    \n",
    "    for j in range(i):\n",
    "        print('*', end='')\n",
    "    for j in range(rows-i):\n",
    "        print(' ', end='')\n",
    "    for j in range(i):\n",
    "        print('*', end='')        \n",
    "\n",
    "    print()"
   ]
  },
  {
   "cell_type": "code",
   "execution_count": null,
   "metadata": {},
   "outputs": [],
   "source": [
    "'''\n",
    "\n",
    "     *\n",
    "    **\n",
    "   ***\n",
    "  ****\n",
    " *****\n",
    "****** \n",
    "\n",
    "'''"
   ]
  },
  {
   "cell_type": "code",
   "execution_count": 45,
   "metadata": {},
   "outputs": [
    {
     "name": "stdout",
     "output_type": "stream",
     "text": [
      "         *\n",
      "        ***\n",
      "       *****\n",
      "      *******\n",
      "     *********\n",
      "    ***********\n",
      "   *************\n",
      "  ***************\n",
      " *****************\n",
      "*******************\n"
     ]
    }
   ],
   "source": [
    "rows = 10\n",
    "count = 65\n",
    "for i in range(1, rows+1):\n",
    "    for j in range(rows-i):\n",
    "        print(' ', end='')\n",
    "    for j in range(i):\n",
    "        print('*', end='')\n",
    "    for j in range(i-1):\n",
    "        print('*', end='')         \n",
    "    print()"
   ]
  },
  {
   "cell_type": "code",
   "execution_count": null,
   "metadata": {},
   "outputs": [],
   "source": [
    "'''\n",
    "***********\n",
    "***** *****\n",
    "****   ****\n",
    "***     ***\n",
    "**       **\n",
    "*         *\n",
    "\n",
    "'''\n"
   ]
  },
  {
   "cell_type": "code",
   "execution_count": 47,
   "metadata": {},
   "outputs": [
    {
     "name": "stdout",
     "output_type": "stream",
     "text": [
      "********************\n",
      "*********  *********\n",
      "********    ********\n",
      "*******      *******\n",
      "******        ******\n",
      "*****          *****\n",
      "****            ****\n",
      "***              ***\n",
      "**                **\n",
      "*                  *\n"
     ]
    }
   ],
   "source": [
    "rows=10\n",
    "for i in range(1,rows+1):\n",
    "    for j in range (rows-i+1):\n",
    "        print('*',end='')\n",
    "    for j in range (i-1):\n",
    "        print(' ',end='')\n",
    "    for j in range (i-1):\n",
    "        print(' ',end='')\n",
    "    for j in range (rows-i+1):\n",
    "        print('*',end='')\n",
    "    print()"
   ]
  },
  {
   "cell_type": "code",
   "execution_count": null,
   "metadata": {},
   "outputs": [],
   "source": [
    "'''\n",
    "A\n",
    "BB\n",
    "CCC\n",
    "DDDD\n",
    "EEEEE\n",
    "\n",
    "'''"
   ]
  },
  {
   "cell_type": "code",
   "execution_count": 52,
   "metadata": {},
   "outputs": [
    {
     "name": "stdout",
     "output_type": "stream",
     "text": [
      "A\n",
      "BC\n",
      "DEF\n",
      "GHIJ\n",
      "KLMNO\n",
      "PQRSTU\n",
      "VWXYZAB\n",
      "CDEFGHIJ\n",
      "KLMNOPQRS\n",
      "TUVWXYZABC\n"
     ]
    }
   ],
   "source": [
    "rows=10\n",
    "count = 65\n",
    "for i in range(1,rows+1):\n",
    "    for j in range (i):\n",
    "        print(chr(count),end='')\n",
    "        count += 1\n",
    "        if count >  90:\n",
    "            count=65  \n",
    "    print()"
   ]
  },
  {
   "cell_type": "code",
   "execution_count": null,
   "metadata": {},
   "outputs": [],
   "source": []
  }
 ],
 "metadata": {
  "kernelspec": {
   "display_name": "Python 3.10.7 64-bit",
   "language": "python",
   "name": "python3"
  },
  "language_info": {
   "codemirror_mode": {
    "name": "ipython",
    "version": 3
   },
   "file_extension": ".py",
   "mimetype": "text/x-python",
   "name": "python",
   "nbconvert_exporter": "python",
   "pygments_lexer": "ipython3",
   "version": "3.10.7"
  },
  "orig_nbformat": 4,
  "vscode": {
   "interpreter": {
    "hash": "490f1c68ed42f2c5a574e22fb9e03ff49b98516de8582ff1c5d4fb43fb70f61b"
   }
  }
 },
 "nbformat": 4,
 "nbformat_minor": 2
}
