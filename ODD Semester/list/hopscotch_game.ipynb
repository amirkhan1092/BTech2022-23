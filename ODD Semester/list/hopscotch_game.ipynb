{
 "cells": [
  {
   "cell_type": "code",
   "execution_count": 1,
   "metadata": {},
   "outputs": [
    {
     "name": "stdout",
     "output_type": "stream",
     "text": [
      "True\n"
     ]
    }
   ],
   "source": [
    "\"hopscotch game\"\n",
    "\n",
    "jumps = list(map(int, input().split()))  # [2,3,1,1,4]\n",
    "hop_jump_index = len(jumps) - 1  # 4\n",
    "for i in range(len(jumps)-1, -1, -1):\n",
    "    if i + jumps[i] >= hop_jump_index:\n",
    "        hop_jump_index = i\n",
    "    # print(hop_jump_index)    \n",
    "print(hop_jump_index == 0)     "
   ]
  }
 ],
 "metadata": {
  "kernelspec": {
   "display_name": "Python 3.10.7 64-bit",
   "language": "python",
   "name": "python3"
  },
  "language_info": {
   "codemirror_mode": {
    "name": "ipython",
    "version": 3
   },
   "file_extension": ".py",
   "mimetype": "text/x-python",
   "name": "python",
   "nbconvert_exporter": "python",
   "pygments_lexer": "ipython3",
   "version": "3.10.7"
  },
  "orig_nbformat": 4,
  "vscode": {
   "interpreter": {
    "hash": "490f1c68ed42f2c5a574e22fb9e03ff49b98516de8582ff1c5d4fb43fb70f61b"
   }
  }
 },
 "nbformat": 4,
 "nbformat_minor": 2
}
