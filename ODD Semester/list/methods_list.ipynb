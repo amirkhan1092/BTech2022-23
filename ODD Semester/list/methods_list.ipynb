{
 "cells": [
  {
   "cell_type": "code",
   "execution_count": 17,
   "metadata": {},
   "outputs": [
    {
     "name": "stdout",
     "output_type": "stream",
     "text": [
      "Before append [33, 5, 6, 'hello']\n",
      "After Append: [33, 5, 6, 'hello', 100, 'world', [3, 5, 6]]\n"
     ]
    }
   ],
   "source": [
    "# append(): add the item at the end of the list\n",
    "ls = [33, 5, 6, 'hello']\n",
    "print('Before append', ls)\n",
    "ls.append(100)\n",
    "ls.append('world')\n",
    "ls.append([3, 5, 6])\n",
    "print('After Append:', ls)"
   ]
  },
  {
   "cell_type": "code",
   "execution_count": 25,
   "metadata": {},
   "outputs": [
    {
     "name": "stdout",
     "output_type": "stream",
     "text": [
      "[23, 5, 6, 'hello']\n"
     ]
    }
   ],
   "source": [
    "# Extend():\n",
    "ls = [23, 5, 6]\n",
    "ls.extend('hello')\n",
    "print(ls)"
   ]
  },
  {
   "cell_type": "code",
   "execution_count": 30,
   "metadata": {},
   "outputs": [
    {
     "name": "stdout",
     "output_type": "stream",
     "text": [
      "[2, 4, 100, 5]\n"
     ]
    }
   ],
   "source": [
    "# insert()\n",
    "ls = [2, 4, 5]\n",
    "ls.insert(-1, 100)\n",
    "print(ls)"
   ]
  },
  {
   "cell_type": "code",
   "execution_count": 35,
   "metadata": {},
   "outputs": [
    {
     "name": "stdout",
     "output_type": "stream",
     "text": [
      "['naman', 'rakesh', 'ravi']\n"
     ]
    }
   ],
   "source": [
    "# remove():\n",
    "info = ['ravi', 'saket', 'naman', 'rakesh', 'ravi']\n",
    "info.remove('saket')\n",
    "info.remove('ravi')\n",
    "print(info)\n"
   ]
  },
  {
   "cell_type": "code",
   "execution_count": 39,
   "metadata": {},
   "outputs": [
    {
     "name": "stdout",
     "output_type": "stream",
     "text": [
      "Item deleted saket\n",
      "['ravi', 'naman', 'rakesh']\n"
     ]
    }
   ],
   "source": [
    "# pop()\n",
    "info = ['ravi', 'saket', 'naman', 'rakesh']\n",
    "out = info.pop(1)\n",
    "print('Item deleted', out)\n",
    "print(info)"
   ]
  },
  {
   "cell_type": "code",
   "execution_count": 16,
   "metadata": {},
   "outputs": [
    {
     "name": "stdout",
     "output_type": "stream",
     "text": [
      "hello*world\n"
     ]
    }
   ],
   "source": [
    "print('hello', end='*')\n",
    "print('world')"
   ]
  },
  {
   "cell_type": "code",
   "execution_count": 5,
   "metadata": {},
   "outputs": [
    {
     "name": "stdout",
     "output_type": "stream",
     "text": [
      "<class 'str'>\n"
     ]
    }
   ],
   "source": [
    "st = str(344)\n",
    "print(type(st))"
   ]
  },
  {
   "cell_type": "code",
   "execution_count": 46,
   "metadata": {},
   "outputs": [
    {
     "name": "stdout",
     "output_type": "stream",
     "text": [
      "Before Append: [3, 4, 6, 7, 100]\n",
      "After Append: [3, 4, 6, 7, 100, 230, 0, [23, 5, 4, 2]]\n"
     ]
    }
   ],
   "source": [
    "# append()/extend()/insert()\n",
    "ls = [3, 4, 6, 7, 100]\n",
    "print('Before Append:', ls)\n",
    "ls.append(230)\n",
    "ls.append(0)\n",
    "ls.append([23, 5, 4, 2])\n",
    "print('After Append:', ls)"
   ]
  },
  {
   "cell_type": "code",
   "execution_count": 55,
   "metadata": {},
   "outputs": [
    {
     "name": "stdout",
     "output_type": "stream",
     "text": [
      "[3, 54, 64, 'h', 'i']\n"
     ]
    }
   ],
   "source": [
    "# extend():\n",
    "ls = [3, 54, 64]\n",
    "ls.extend('hi')\n",
    "print(ls)"
   ]
  },
  {
   "cell_type": "code",
   "execution_count": 67,
   "metadata": {},
   "outputs": [
    {
     "name": "stdout",
     "output_type": "stream",
     "text": [
      "[23, 4, 100, 43, 22]\n"
     ]
    }
   ],
   "source": [
    "# insert()\n",
    "ls = [23, 4, 43, 22]\n",
    "ls.insert(-4, 100)\n",
    "out = ls[-4]\n",
    "# ls.insert(0, -23)\n",
    "# ls.insert(0, 23)\n",
    "print(out)"
   ]
  },
  {
   "cell_type": "code",
   "execution_count": 72,
   "metadata": {},
   "outputs": [
    {
     "name": "stdout",
     "output_type": "stream",
     "text": [
      "['ravi', 'venky', 'rakesh', 'venky']\n"
     ]
    }
   ],
   "source": [
    "# remove()\n",
    "info = ['ravi', 'venky', 'rakesh', 'gareeb', 'venky']\n",
    "# info.remove('vikas')\n",
    "info.remove('gareeb')\n",
    "print(info)"
   ]
  },
  {
   "cell_type": "code",
   "execution_count": 85,
   "metadata": {},
   "outputs": [
    {
     "name": "stdout",
     "output_type": "stream",
     "text": [
      "deleted item venky\n",
      "['ravi', 'venky', 'rakesh', 'gareeb']\n"
     ]
    }
   ],
   "source": [
    "# pop()\n",
    "info = ['ravi', 'venky', 'rakesh', 'gareeb', 'venky']\n",
    "out = info.pop(-1)\n",
    "print('deleted item', out)\n",
    "print(info)"
   ]
  },
  {
   "cell_type": "code",
   "execution_count": 86,
   "metadata": {},
   "outputs": [
    {
     "name": "stdout",
     "output_type": "stream",
     "text": [
      "[]\n"
     ]
    }
   ],
   "source": [
    "# clear()\n",
    "info = ['ravi', 'venky', 'rakesh', 'gareeb', 'venky']\n",
    "info.clear()\n",
    "print(info)"
   ]
  },
  {
   "cell_type": "code",
   "execution_count": 91,
   "metadata": {},
   "outputs": [
    {
     "name": "stdout",
     "output_type": "stream",
     "text": [
      "Before apend: [44, 35]\n",
      "After Append: [44, 35, 100, 'hello', [2, 4, 56]]\n"
     ]
    }
   ],
   "source": [
    "# methods in a list class\n",
    "# append()/extend()/insert()\n",
    "# append(): Add the value(any object) at the end of list\n",
    "ls = [44, 35]\n",
    "print('Before append:', ls)\n",
    "ls.append(100)\n",
    "ls.append('hello')\n",
    "ls.append([2, 4, 56])\n",
    "print('After Append:', ls)"
   ]
  },
  {
   "cell_type": "code",
   "execution_count": 98,
   "metadata": {},
   "outputs": [
    {
     "name": "stdout",
     "output_type": "stream",
     "text": [
      "[3, 5, 6, 1, 2, 3, 4, 5]\n"
     ]
    }
   ],
   "source": [
    "# extend(): add elements of a list into a oringnal list\n",
    "ls = [3, 5, 6]\n",
    "ls.extend(range(1, 6))\n",
    "print(ls)\n"
   ]
  },
  {
   "cell_type": "code",
   "execution_count": 107,
   "metadata": {},
   "outputs": [
    {
     "name": "stdout",
     "output_type": "stream",
     "text": [
      "100\n"
     ]
    }
   ],
   "source": [
    "# 3. insert(): insert the value at position\n",
    "ls = [3, 5, 7, 8]\n",
    "ls.insert(-5, 100)\n",
    "out = ls[-5]\n",
    "print(out)\n"
   ]
  },
  {
   "cell_type": "code",
   "execution_count": 114,
   "metadata": {},
   "outputs": [
    {
     "name": "stdout",
     "output_type": "stream",
     "text": [
      "['ravi', 'saket', 'mayank', 'venky']\n"
     ]
    }
   ],
   "source": [
    "# remove()/pop()/clear()\n",
    "info = ['ravi', 'saket', 'venky', 'mayank', 'venky']\n",
    "# info.remove('saurabh')\n",
    "info.remove('venky')\n",
    "print(info)"
   ]
  },
  {
   "cell_type": "code",
   "execution_count": 123,
   "metadata": {},
   "outputs": [
    {
     "name": "stdout",
     "output_type": "stream",
     "text": [
      "Deleted item venky\n",
      "Deleted item mayank\n",
      "Deleted item venky\n",
      "Deleted item saket\n",
      "Deleted item ravi\n",
      "[]\n"
     ]
    }
   ],
   "source": [
    "# pop()\n",
    "info = ['ravi', 'saket', 'venky', 'mayank', 'venky']\n",
    "print('Deleted item',info.pop())\n",
    "print('Deleted item',info.pop())\n",
    "print('Deleted item',info.pop())\n",
    "print('Deleted item',info.pop())\n",
    "print('Deleted item',info.pop())\n",
    "print(info)"
   ]
  },
  {
   "cell_type": "code",
   "execution_count": 8,
   "metadata": {},
   "outputs": [
    {
     "name": "stdout",
     "output_type": "stream",
     "text": [
      "2\n"
     ]
    }
   ],
   "source": [
    "# index(): return the index (position) of the item\n",
    "ls = [23, 45, 53, 4, 23]\n",
    "# out = ls.index(4)\n",
    "out = ls.count(23)\n",
    "print(out)\n",
    "\n"
   ]
  },
  {
   "cell_type": "code",
   "execution_count": 17,
   "metadata": {},
   "outputs": [
    {
     "name": "stdout",
     "output_type": "stream",
     "text": [
      "Before sort [33, 2, 34, 23, 432, 9]\n",
      "After sort [2, 9, 23, 33, 34, 432]\n"
     ]
    }
   ],
   "source": [
    "# sort()\n",
    "ls = [33, 2, 34, 23, 432, 9]\n",
    "print('Before sort', ls)\n",
    "ls.sort()\n",
    "print('After sort', ls)\n",
    "\n"
   ]
  },
  {
   "cell_type": "code",
   "execution_count": 19,
   "metadata": {},
   "outputs": [
    {
     "name": "stdout",
     "output_type": "stream",
     "text": [
      "['hello', 2, 0, 9, 5, 2]\n"
     ]
    }
   ],
   "source": [
    "# reverse()\n",
    "ls = [2, 5, 9, 0, 2, 'hello']\n",
    "ls.reverse()\n",
    "print(ls)"
   ]
  },
  {
   "cell_type": "code",
   "execution_count": null,
   "metadata": {},
   "outputs": [],
   "source": [
    "ls = int(input('Enter the number '))  #  343"
   ]
  },
  {
   "cell_type": "code",
   "execution_count": 28,
   "metadata": {},
   "outputs": [
    {
     "name": "stdout",
     "output_type": "stream",
     "text": [
      "['[', '3', ',', ' ', '5', ']'] <class 'list'>\n"
     ]
    }
   ],
   "source": [
    "out = eval(input())  # 3 4 5 3 3\n",
    "a = '2 3 4 5 54'\n",
    "print(out, type(out))"
   ]
  },
  {
   "cell_type": "code",
   "execution_count": 35,
   "metadata": {},
   "outputs": [
    {
     "name": "stdout",
     "output_type": "stream",
     "text": [
      "[0, 3, 4, 6, 43] <class 'list'>\n"
     ]
    }
   ],
   "source": [
    "\n",
    "ls = list(map(int, input().split()))\n",
    "ls.sort()\n",
    "print(ls, type(ls))\n"
   ]
  },
  {
   "cell_type": "code",
   "execution_count": 3,
   "metadata": {},
   "outputs": [
    {
     "name": "stdout",
     "output_type": "stream",
     "text": [
      "[3, 54, 6, 2, 100, 'hello', [3, 10, 5]]\n"
     ]
    }
   ],
   "source": [
    "ls = [3, 54, 6, 2]\n",
    "ls.append(100)\n",
    "ls.append('hello')\n",
    "ls.append([3, 10, 5])\n",
    "print(ls)\n"
   ]
  },
  {
   "cell_type": "code",
   "execution_count": 6,
   "metadata": {},
   "outputs": [
    {
     "name": "stdout",
     "output_type": "stream",
     "text": [
      "[3, 5, 3, 100]\n"
     ]
    }
   ],
   "source": [
    "# extend\n",
    "ls = [3, 5]\n",
    "ls.extend([3, 100])\n",
    "print(ls)"
   ]
  },
  {
   "cell_type": "code",
   "execution_count": 9,
   "metadata": {},
   "outputs": [
    {
     "name": "stdout",
     "output_type": "stream",
     "text": [
      "2806666981888\n",
      "2806666981888\n"
     ]
    }
   ],
   "source": [
    "ls = [3, 5, 6]\n",
    "print(id(ls))\n",
    "ls2 = [100, 300]\n",
    "ls.extend(ls2)\n",
    "print(id(ls))\n"
   ]
  },
  {
   "cell_type": "code",
   "execution_count": 13,
   "metadata": {},
   "outputs": [
    {
     "name": "stdout",
     "output_type": "stream",
     "text": [
      "[3, 100, 34, 'hello']\n"
     ]
    }
   ],
   "source": [
    "# insert():\n",
    "ls = [3, 100, 34]\n",
    "ls.insert(10, 'hello')\n",
    "print(ls)\n"
   ]
  },
  {
   "cell_type": "code",
   "execution_count": 19,
   "metadata": {},
   "outputs": [
    {
     "name": "stdout",
     "output_type": "stream",
     "text": [
      "['saurabh', 'amit']\n"
     ]
    }
   ],
   "source": [
    "# remove()\n",
    "info = ['ravi', 'saket', 'saurabh', 'amit']\n",
    "info.remove('ravi')\n",
    "info.remove('saket')\n",
    "print(info)\n"
   ]
  },
  {
   "cell_type": "code",
   "execution_count": 23,
   "metadata": {},
   "outputs": [
    {
     "name": "stdout",
     "output_type": "stream",
     "text": [
      "deleted item amit\n",
      "['ravi', 'saket', 'saurabh']\n"
     ]
    }
   ],
   "source": [
    "# pop()\n",
    "info = ['ravi', 'saket', 'saurabh', 'amit']\n",
    "data = info.pop()\n",
    "print('deleted item', data)\n",
    "print(info)\n"
   ]
  },
  {
   "cell_type": "code",
   "execution_count": 24,
   "metadata": {},
   "outputs": [
    {
     "name": "stdout",
     "output_type": "stream",
     "text": [
      "['Rahul', 'saket', 'saurabh', 'amit']\n"
     ]
    }
   ],
   "source": [
    "# remove()\n",
    "info = ['ravi', 'saket', 'saurabh', 'amit']\n",
    "info[0] = 'Rahul'\n",
    "print(info)\n"
   ]
  },
  {
   "cell_type": "code",
   "execution_count": 29,
   "metadata": {},
   "outputs": [
    {
     "name": "stdout",
     "output_type": "stream",
     "text": [
      "[-3, 0, 2, 2, 3, 10]\n"
     ]
    }
   ],
   "source": [
    "# sort():\n",
    "ls = [3, 2, -3, 0, 2, 10]\n",
    "ls.sort()\n",
    "# ls.reverse()\n",
    "print(ls)"
   ]
  },
  {
   "cell_type": "code",
   "execution_count": 32,
   "metadata": {},
   "outputs": [
    {
     "name": "stdout",
     "output_type": "stream",
     "text": [
      "12\n"
     ]
    }
   ],
   "source": [
    "'''\n",
    "2 3 4 -4 1\n",
    "\n",
    "[-4, 1, 2, 3, 4]\n",
    "\n",
    "'''"
   ]
  },
  {
   "cell_type": "code",
   "execution_count": 38,
   "metadata": {},
   "outputs": [
    {
     "name": "stdout",
     "output_type": "stream",
     "text": [
      "False\n"
     ]
    }
   ],
   "source": [
    "a = 8\n",
    "out = a % 8 and a > 100\n",
    "print(out)"
   ]
  },
  {
   "cell_type": "code",
   "execution_count": 2,
   "metadata": {},
   "outputs": [
    {
     "name": "stdout",
     "output_type": "stream",
     "text": [
      "[-4, 1, 2, 2, 5]\n"
     ]
    }
   ],
   "source": [
    "# read array elements from user and display in ascending order\n",
    "'''\n",
    "sample input\n",
    "3 -4 2 34\n",
    "\n",
    "sample output\n",
    "[-4, 2, 3, 34]\n",
    "\n",
    "'''\n",
    "ls = list(map(int, input().split()))   # ['3', '-4', '2', '34']\n",
    "ls.sort()\n",
    "print(ls)"
   ]
  },
  {
   "cell_type": "code",
   "execution_count": 5,
   "metadata": {},
   "outputs": [
    {
     "name": "stdout",
     "output_type": "stream",
     "text": [
      "[4, 4, 3, 2, 0]\n"
     ]
    }
   ],
   "source": [
    "ls = [2, 4, 4, 0, 3]\n",
    "out = sorted(ls, reverse=True)\n",
    "print(out)"
   ]
  }
 ],
 "metadata": {
  "kernelspec": {
   "display_name": "Python 3.10.7 64-bit",
   "language": "python",
   "name": "python3"
  },
  "language_info": {
   "codemirror_mode": {
    "name": "ipython",
    "version": 3
   },
   "file_extension": ".py",
   "mimetype": "text/x-python",
   "name": "python",
   "nbconvert_exporter": "python",
   "pygments_lexer": "ipython3",
   "version": "3.10.7"
  },
  "orig_nbformat": 4,
  "vscode": {
   "interpreter": {
    "hash": "490f1c68ed42f2c5a574e22fb9e03ff49b98516de8582ff1c5d4fb43fb70f61b"
   }
  }
 },
 "nbformat": 4,
 "nbformat_minor": 2
}
