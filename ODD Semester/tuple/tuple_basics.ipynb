{
 "cells": [
  {
   "cell_type": "code",
   "execution_count": 1,
   "metadata": {},
   "outputs": [
    {
     "name": "stdout",
     "output_type": "stream",
     "text": [
      "('iob bank', 21221212, 'gla branch')\n"
     ]
    }
   ],
   "source": [
    "# tuple(): tuple is the ordered collection of objects enclosed within paranthesis\n",
    "account_info = ('iob bank', 21221212, 'gla branch')\n",
    "print(account_info)"
   ]
  },
  {
   "cell_type": "code",
   "execution_count": 3,
   "metadata": {},
   "outputs": [
    {
     "name": "stdout",
     "output_type": "stream",
     "text": [
      "(42, 'hello')\n"
     ]
    }
   ],
   "source": [
    "# accessing the elements\n",
    "tp = (22, 42, 'hello', 3.8)\n",
    "# out = tp[0]  # index\n",
    "out = out = tp[1:3]  # slicing range\n",
    "print(out)"
   ]
  },
  {
   "cell_type": "code",
   "execution_count": 10,
   "metadata": {},
   "outputs": [
    {
     "name": "stdout",
     "output_type": "stream",
     "text": [
      "[3]\n"
     ]
    }
   ],
   "source": [
    "# item assignment:  'tuple' object doesn't support item assignment \n",
    "# item deletion: 'tuple' object doesn't support item deletion\n",
    "ls = [3, 43]\n",
    "del ls[1]\n",
    "print(ls)"
   ]
  },
  {
   "cell_type": "code",
   "execution_count": 7,
   "metadata": {},
   "outputs": [
    {
     "name": "stdout",
     "output_type": "stream",
     "text": [
      "[10, 100] 1873679589184\n",
      "['R', 100] 1873679589184\n"
     ]
    }
   ],
   "source": [
    "ls = [10, 100]\n",
    "print(ls, id(ls))\n",
    "ls[0] = 'R'\n",
    "print(ls, id(ls))\n"
   ]
  },
  {
   "cell_type": "code",
   "execution_count": 14,
   "metadata": {},
   "outputs": [
    {
     "name": "stdout",
     "output_type": "stream",
     "text": [
      "(30, 34, 2, 100) <class 'tuple'>\n"
     ]
    }
   ],
   "source": [
    "tp1 = (30, 34)\n",
    "tp2 = (2, 100)\n",
    "tp = tp1 + tp2\n",
    "print(tp, type(tp))\n"
   ]
  },
  {
   "cell_type": "code",
   "execution_count": 11,
   "metadata": {},
   "outputs": [],
   "source": [
    "# list in a tuple\n",
    "# tuple in a list\n"
   ]
  },
  {
   "cell_type": "code",
   "execution_count": 4,
   "metadata": {},
   "outputs": [
    {
     "ename": "TypeError",
     "evalue": "'tuple' object does not support item assignment",
     "output_type": "error",
     "traceback": [
      "\u001b[1;31m---------------------------------------------------------------------------\u001b[0m",
      "\u001b[1;31mTypeError\u001b[0m                                 Traceback (most recent call last)",
      "Cell \u001b[1;32mIn [4], line 2\u001b[0m\n\u001b[0;32m      1\u001b[0m ls \u001b[39m=\u001b[39m (\u001b[39m3\u001b[39m, \u001b[39m4\u001b[39m, \u001b[39m5\u001b[39m)\n\u001b[1;32m----> 2\u001b[0m ls[\u001b[39m0\u001b[39m] \u001b[39m=\u001b[39m \u001b[39m100\u001b[39m\n\u001b[0;32m      3\u001b[0m \u001b[39m# print(out)\u001b[39;00m\n\u001b[0;32m      4\u001b[0m \u001b[39mprint\u001b[39m(ls)\n",
      "\u001b[1;31mTypeError\u001b[0m: 'tuple' object does not support item assignment"
     ]
    }
   ],
   "source": [
    "ls = (3, 4, 5)\n",
    "ls[0] = 100\n",
    "# print(out)\n",
    "print(ls)"
   ]
  },
  {
   "cell_type": "code",
   "execution_count": 10,
   "metadata": {},
   "outputs": [
    {
     "ename": "TypeError",
     "evalue": "'tuple' object doesn't support item deletion",
     "output_type": "error",
     "traceback": [
      "\u001b[1;31m---------------------------------------------------------------------------\u001b[0m",
      "\u001b[1;31mTypeError\u001b[0m                                 Traceback (most recent call last)",
      "Cell \u001b[1;32mIn [10], line 4\u001b[0m\n\u001b[0;32m      1\u001b[0m k \u001b[39m=\u001b[39m (\u001b[39m3\u001b[39m, \u001b[39m'\u001b[39m\u001b[39mhello\u001b[39m\u001b[39m'\u001b[39m, \u001b[39m3.54\u001b[39m)\n\u001b[0;32m      2\u001b[0m \u001b[39m# k[0] = 100  # tuple dosnt support the item assignment\u001b[39;00m\n\u001b[1;32m----> 4\u001b[0m \u001b[39mdel\u001b[39;00m k[\u001b[39m0\u001b[39m]\n\u001b[0;32m      5\u001b[0m \u001b[39mprint\u001b[39m(k)\n",
      "\u001b[1;31mTypeError\u001b[0m: 'tuple' object doesn't support item deletion"
     ]
    }
   ],
   "source": [
    "k = (3, 'hello', 3.54)\n",
    "# k[0] = 100  # tuple dosnt support the item assignment\n",
    "del k[0]\n",
    "print(k)\n",
    "\n"
   ]
  },
  {
   "cell_type": "code",
   "execution_count": 18,
   "metadata": {},
   "outputs": [
    {
     "name": "stdout",
     "output_type": "stream",
     "text": [
      "(4, 67, (3, 4), [100, 5])\n"
     ]
    }
   ],
   "source": [
    "ls = (4, 67, (3, 4), [3, 5])\n",
    "ls[-1][0] = 100\n",
    "print(ls)"
   ]
  }
 ],
 "metadata": {
  "kernelspec": {
   "display_name": "Python 3.10.7 64-bit",
   "language": "python",
   "name": "python3"
  },
  "language_info": {
   "codemirror_mode": {
    "name": "ipython",
    "version": 3
   },
   "file_extension": ".py",
   "mimetype": "text/x-python",
   "name": "python",
   "nbconvert_exporter": "python",
   "pygments_lexer": "ipython3",
   "version": "3.10.7"
  },
  "orig_nbformat": 4,
  "vscode": {
   "interpreter": {
    "hash": "490f1c68ed42f2c5a574e22fb9e03ff49b98516de8582ff1c5d4fb43fb70f61b"
   }
  }
 },
 "nbformat": 4,
 "nbformat_minor": 2
}
