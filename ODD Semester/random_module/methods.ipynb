{
 "cells": [
  {
   "cell_type": "code",
   "execution_count": 10,
   "metadata": {},
   "outputs": [
    {
     "name": "stdout",
     "output_type": "stream",
     "text": [
      "['neelesh', 'akash', 'arun']\n"
     ]
    }
   ],
   "source": [
    "# sample(): to take a sample from given seq of unique elements\n",
    "import random\n",
    "ls = ['navneet', 'akash', 'neelesh', 'arun', 'meet']\n",
    "out = random.sample(ls, k=3)\n",
    "print(out)  "
   ]
  },
  {
   "cell_type": "code",
   "execution_count": 13,
   "metadata": {},
   "outputs": [
    {
     "name": "stdout",
     "output_type": "stream",
     "text": [
      "before shuffle ['navneet', 'akash', 'neelesh', 'arun', 'meet']\n",
      "After Shuffle ['arun', 'akash', 'meet', 'neelesh', 'navneet']\n"
     ]
    }
   ],
   "source": [
    "# shuffle\n",
    "import random\n",
    "ls = ['navneet', 'akash', 'neelesh', 'arun', 'meet']\n",
    "print('before shuffle', ls)\n",
    "random.shuffle(ls)\n",
    "print('After Shuffle', ls)"
   ]
  },
  {
   "cell_type": "code",
   "execution_count": 44,
   "metadata": {},
   "outputs": [
    {
     "name": "stdout",
     "output_type": "stream",
     "text": [
      "0.4672994790326198\n"
     ]
    }
   ],
   "source": [
    "# random(): return value between 0 and 1\n",
    "out = random.random()\n",
    "print(out)\n"
   ]
  },
  {
   "cell_type": "code",
   "execution_count": 49,
   "metadata": {},
   "outputs": [
    {
     "name": "stdout",
     "output_type": "stream",
     "text": [
      "18.934967437893153\n"
     ]
    }
   ],
   "source": [
    "out = random.uniform(1, 20)\n",
    "print(out)"
   ]
  },
  {
   "cell_type": "code",
   "execution_count": 59,
   "metadata": {},
   "outputs": [
    {
     "name": "stdout",
     "output_type": "stream",
     "text": [
      "8.556421248098241\n"
     ]
    }
   ],
   "source": [
    "out = random.triangular(1, 20, 12)\n",
    "print(out)"
   ]
  },
  {
   "cell_type": "code",
   "execution_count": 27,
   "metadata": {},
   "outputs": [
    {
     "name": "stdout",
     "output_type": "stream",
     "text": [
      "0.43185275431948167\n"
     ]
    }
   ],
   "source": [
    "# random(): return float value between 0 and 1\n",
    "import random\n",
    "out = random.random()\n",
    "print(out)\n"
   ]
  },
  {
   "cell_type": "code",
   "execution_count": 39,
   "metadata": {},
   "outputs": [
    {
     "name": "stdout",
     "output_type": "stream",
     "text": [
      "1.88920910408424\n"
     ]
    }
   ],
   "source": [
    "# uniform()\n",
    "out = random.uniform(1, 2)\n",
    "print(out)"
   ]
  },
  {
   "cell_type": "code",
   "execution_count": 55,
   "metadata": {},
   "outputs": [
    {
     "name": "stdout",
     "output_type": "stream",
     "text": [
      "11.873062372465977\n"
     ]
    }
   ],
   "source": [
    "# triangular()\n",
    "out = random.triangular(1, 20, 5)\n",
    "print(out)\n"
   ]
  },
  {
   "cell_type": "code",
   "execution_count": 74,
   "metadata": {},
   "outputs": [],
   "source": [
    "random.seed(100)"
   ]
  },
  {
   "cell_type": "code",
   "execution_count": 69,
   "metadata": {},
   "outputs": [
    {
     "name": "stdout",
     "output_type": "stream",
     "text": [
      "akash\n"
     ]
    }
   ],
   "source": [
    "ls = ['navneet', 'akash', 'neelesh', 'arun', 'meet']\n",
    "out = random.choice(ls)\n",
    "print(out)"
   ]
  },
  {
   "cell_type": "code",
   "execution_count": 77,
   "metadata": {},
   "outputs": [
    {
     "data": {
      "text/plain": [
       "0.7707838056590222"
      ]
     },
     "execution_count": 77,
     "metadata": {},
     "output_type": "execute_result"
    }
   ],
   "source": [
    "random.random()"
   ]
  }
 ],
 "metadata": {
  "kernelspec": {
   "display_name": "Python 3",
   "language": "python",
   "name": "python3"
  },
  "language_info": {
   "codemirror_mode": {
    "name": "ipython",
    "version": 3
   },
   "file_extension": ".py",
   "mimetype": "text/x-python",
   "name": "python",
   "nbconvert_exporter": "python",
   "pygments_lexer": "ipython3",
   "version": "3.10.7 (tags/v3.10.7:6cc6b13, Sep  5 2022, 14:08:36) [MSC v.1933 64 bit (AMD64)]"
  },
  "orig_nbformat": 4,
  "vscode": {
   "interpreter": {
    "hash": "490f1c68ed42f2c5a574e22fb9e03ff49b98516de8582ff1c5d4fb43fb70f61b"
   }
  }
 },
 "nbformat": 4,
 "nbformat_minor": 2
}
