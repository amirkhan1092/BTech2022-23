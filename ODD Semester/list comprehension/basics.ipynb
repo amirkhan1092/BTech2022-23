{
 "cells": [
  {
   "cell_type": "code",
   "execution_count": 15,
   "metadata": {},
   "outputs": [
    {
     "name": "stdout",
     "output_type": "stream",
     "text": [
      "Orignal Marks [12, 3, 6, 28, 29, 1, 22, 23]\n",
      "Modified Marks [28, 29, 22, 23]\n"
     ]
    }
   ],
   "source": [
    "# list comprehension: consize way to create the list\n",
    "\n",
    "# [express for i in seq]  syntax\n",
    "\n",
    "# filter the marks(consider all values >= 20 only )\n",
    "marks = [12, 3, 6, 28, 29, 1, 22, 23]\n",
    "updated_marks = [i for i in marks if i >= 20]\n",
    "print('Orignal Marks', marks)\n",
    "print('Modified Marks', updated_marks)\n"
   ]
  },
  {
   "cell_type": "code",
   "execution_count": 10,
   "metadata": {},
   "outputs": [
    {
     "name": "stdout",
     "output_type": "stream",
     "text": [
      "[30, -40, 200, 48]\n",
      "[86.0, -40.0, 392.0, 118.4]\n"
     ]
    }
   ],
   "source": [
    "# \n",
    "vals = [30, -40, 200, 48]\n",
    "fah = [ 1.8 * i + 32 for i in vals]\n",
    "print(vals)\n",
    "print(fah)\n"
   ]
  },
  {
   "cell_type": "code",
   "execution_count": 16,
   "metadata": {},
   "outputs": [
    {
     "name": "stdout",
     "output_type": "stream",
     "text": [
      "[2, 4, 67, 3, 4]\n"
     ]
    }
   ],
   "source": [
    "# ['3', '4', '5', '6', '75', '2']\n",
    "out = [int(i) for i in input().split()]\n",
    "# out = list(map(int, input().split()))\n",
    "print(out)\n"
   ]
  },
  {
   "cell_type": "code",
   "execution_count": 19,
   "metadata": {},
   "outputs": [
    {
     "name": "stdout",
     "output_type": "stream",
     "text": [
      "[3, 4, -34, 0, 12, -34, -9]\n",
      "[3, 4, 0, 12]\n"
     ]
    }
   ],
   "source": [
    "ls = [3, 4, -34, 0, 12, -34, -9]\n",
    "out = [i for i in ls if i >= 0]\n",
    "print(ls)\n",
    "print(out)"
   ]
  },
  {
   "cell_type": "code",
   "execution_count": 27,
   "metadata": {},
   "outputs": [
    {
     "name": "stdout",
     "output_type": "stream",
     "text": [
      "Orignal Marks [2, 14, 10, 14, 20, 3, 24, 27, 21]\n",
      "Updated Marks [3, 15, 11, 15, 21, 4, 25, 28, 22]\n"
     ]
    }
   ],
   "source": [
    "# list comprehension: consize way to create a list\n",
    "'''\n",
    "syntax\n",
    "[expression for i in sequential_object if condition]\n",
    "'''\n",
    "\n",
    "marks = [2, 14, 10, 14, 20, 3, 24, 27, 21] \n",
    "updated_marks = [i+1 for i in marks]\n",
    "print('Orignal Marks', marks)\n",
    "print('Updated Marks', updated_marks)"
   ]
  },
  {
   "cell_type": "code",
   "execution_count": 29,
   "metadata": {},
   "outputs": [
    {
     "name": "stdout",
     "output_type": "stream",
     "text": [
      "[23, -40, 45, 12, 67]\n",
      "[73.4, -40.0, 113.0, 53.6, 152.6]\n"
     ]
    }
   ],
   "source": [
    "# \n",
    "celcius_values = [23, -40, 45, 12, 67]\n",
    "fah_values = [round(c*1.8+32, 2) for c in celcius_values]\n",
    "\n",
    "print(celcius_values)\n",
    "print(fah_values)"
   ]
  },
  {
   "cell_type": "code",
   "execution_count": null,
   "metadata": {},
   "outputs": [],
   "source": [
    "#  ['3', '4', '5', '6', '67']\n",
    "out = [int(i) for i in input().split() ]\n",
    "# out = list(map(int, input().split()))\n",
    "print(out)"
   ]
  },
  {
   "cell_type": "code",
   "execution_count": 33,
   "metadata": {},
   "outputs": [
    {
     "name": "stdout",
     "output_type": "stream",
     "text": [
      "[3, 4, 5, -43, 0, -3, 2, -100]\n",
      "[3, 4, 5, 0, 2]\n"
     ]
    }
   ],
   "source": [
    "# list comprehension as a filter\n",
    "ls = [3, 4, 5, -43, 0, -3, 2, -100]\n",
    "out = [i for i in ls if i >= 0]\n",
    "\n",
    "print(ls)\n",
    "print(out)"
   ]
  },
  {
   "cell_type": "code",
   "execution_count": 36,
   "metadata": {},
   "outputs": [
    {
     "name": "stdout",
     "output_type": "stream",
     "text": [
      "AMIRKHANGLAACIN\n"
     ]
    }
   ],
   "source": [
    "st = 'amir.khan@gla.ac.in'\n",
    "alpha = ''.join([i.upper() for i in st if i.isalpha()])\n",
    "print(alpha)"
   ]
  },
  {
   "cell_type": "code",
   "execution_count": 8,
   "metadata": {},
   "outputs": [
    {
     "name": "stdout",
     "output_type": "stream",
     "text": [
      "Orignal Marks [2, 5, 7, 12, 1]\n",
      "Updated Marks [4, 7, 9, 14, 3]\n"
     ]
    }
   ],
   "source": [
    "# list comprehension: the cosize way to create a list \n",
    "# Syntax : [expression for i in sequential if filter_condition]\n",
    "\n",
    "marks = [2, 5, 7, 12, 1]\n",
    "upadted_marks = [i+2 for i in marks]\n",
    "print('Orignal Marks', marks)\n",
    "print('Updated Marks', upadted_marks)\n"
   ]
  },
  {
   "cell_type": "code",
   "execution_count": 9,
   "metadata": {},
   "outputs": [
    {
     "name": "stdout",
     "output_type": "stream",
     "text": [
      "temperature in farenhite [93.2, -40.0, 131.0, 140.0, 208.4]\n"
     ]
    }
   ],
   "source": [
    "celcius_values = [34, -40, 55, 60, 98]\n",
    "far_temp=[i*1.8+32 for i in celcius_values]\n",
    "print(\"temperature in farenhite\",far_temp)"
   ]
  },
  {
   "cell_type": "code",
   "execution_count": 19,
   "metadata": {},
   "outputs": [],
   "source": [
    "from sympy import isprime"
   ]
  },
  {
   "cell_type": "code",
   "execution_count": 23,
   "metadata": {},
   "outputs": [
    {
     "name": "stdout",
     "output_type": "stream",
     "text": [
      "[3, 14, 2, 19]\n"
     ]
    }
   ],
   "source": [
    "# list comprehension as a filter\n",
    "ls = [3, -5, -3, 14, 2, 4, 0, -8, 19]\n",
    "even_ls = [i for i in ls if i > 10 or isprime(i)]\n",
    "print(even_ls)  "
   ]
  },
  {
   "cell_type": "code",
   "execution_count": 25,
   "metadata": {},
   "outputs": [
    {
     "name": "stdout",
     "output_type": "stream",
     "text": [
      "\n",
      "        c\n",
      "⎛     2⎞ \n",
      "⎝3⋅a⋅b ⎠ \n",
      "\n"
     ]
    }
   ],
   "source": [
    "from sympy import Symbol, pprint\n",
    "\n",
    "\n",
    "def main():\n",
    "    a = Symbol('a')\n",
    "    b = Symbol('b')\n",
    "    c = Symbol('c')\n",
    "    e = ( a*b*b + 2*b*a*b )**c\n",
    "\n",
    "    print('')\n",
    "    pprint(e)\n",
    "    print('')\n",
    "\n",
    "if __name__ == \"__main__\":\n",
    "    main()"
   ]
  },
  {
   "cell_type": "code",
   "execution_count": 33,
   "metadata": {},
   "outputs": [
    {
     "name": "stdout",
     "output_type": "stream",
     "text": [
      "<class 'sympy.core.symbol.Symbol'>\n"
     ]
    }
   ],
   "source": [
    "a = Symbol('a')\n",
    "b = Symbol('b')\n",
    "c = Symbol('c')\n",
    "# e = ( a*b*b + 2*b*a*b )**c\n",
    "print(type(a))"
   ]
  }
 ],
 "metadata": {
  "kernelspec": {
   "display_name": "Python 3",
   "language": "python",
   "name": "python3"
  },
  "language_info": {
   "codemirror_mode": {
    "name": "ipython",
    "version": 3
   },
   "file_extension": ".py",
   "mimetype": "text/x-python",
   "name": "python",
   "nbconvert_exporter": "python",
   "pygments_lexer": "ipython3",
   "version": "3.10.7"
  },
  "orig_nbformat": 4,
  "vscode": {
   "interpreter": {
    "hash": "490f1c68ed42f2c5a574e22fb9e03ff49b98516de8582ff1c5d4fb43fb70f61b"
   }
  }
 },
 "nbformat": 4,
 "nbformat_minor": 2
}
