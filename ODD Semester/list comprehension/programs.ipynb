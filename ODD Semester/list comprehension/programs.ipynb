{
 "cells": [
  {
   "cell_type": "code",
   "execution_count": null,
   "metadata": {},
   "outputs": [],
   "source": [
    "# list Comprehension: consize way to create a list\n",
    "'''[expression for i in sequential_object if condition]'''"
   ]
  },
  {
   "cell_type": "code",
   "execution_count": 5,
   "metadata": {},
   "outputs": [
    {
     "name": "stdout",
     "output_type": "stream",
     "text": [
      "[2, 13, 20, 27, 28, 6, 15]\n",
      "[4, 15, 22, 29, 30, 8, 17]\n"
     ]
    }
   ],
   "source": [
    "# examples 1\n",
    "marks = [2, 13, 20, 27, 28, 6, 15]\n",
    "out = [i+2 for i in marks]\n",
    "print(marks)\n",
    "print(out)\n"
   ]
  },
  {
   "cell_type": "code",
   "execution_count": 6,
   "metadata": {},
   "outputs": [
    {
     "name": "stdout",
     "output_type": "stream",
     "text": [
      "[32, 45, -40, 23, 100]\n",
      "[89.6, 113.0, -40.0, 73.4, 212.0]\n"
     ]
    }
   ],
   "source": [
    "# Example 2\n",
    "ls = [32, 45, -40, 23, 100]\n",
    "fah_value = [1.8*c+32 for c in ls]\n",
    "print(ls)\n",
    "print(fah_value)"
   ]
  },
  {
   "cell_type": "code",
   "execution_count": null,
   "metadata": {},
   "outputs": [],
   "source": [
    "# example 3\n",
    "# ['3', '4', '5', '43', '4']\n",
    "\n",
    "ks = [int(i) for i in input().split() ]\n",
    "print(ks)"
   ]
  },
  {
   "cell_type": "code",
   "execution_count": 9,
   "metadata": {},
   "outputs": [
    {
     "name": "stdout",
     "output_type": "stream",
     "text": [
      "[None, None, None, None, None, None, None, None, None, None]\n"
     ]
    }
   ],
   "source": [
    "# out = [print(i, end=' ') for i in range(10)]\n",
    "print(out)"
   ]
  },
  {
   "cell_type": "code",
   "execution_count": 15,
   "metadata": {},
   "outputs": [
    {
     "name": "stdout",
     "output_type": "stream",
     "text": [
      "[23, -4, -34, 2, 0, -44, 17, 4]\n",
      "[23, 2, 0, 17, 4]\n"
     ]
    }
   ],
   "source": [
    "# list comprehension as a filter \n",
    "ls = [23, -4, -34, 2, 0, -44, 17, 4]\n",
    "new_ls = [i for i in ls if i >= 0]\n",
    "print(ls)\n",
    "print(new_ls)"
   ]
  },
  {
   "cell_type": "code",
   "execution_count": 17,
   "metadata": {},
   "outputs": [
    {
     "name": "stdout",
     "output_type": "stream",
     "text": [
      "garv.sharma_cs22@gla.ac.in\n",
      "garvsharmacsglaacin\n"
     ]
    }
   ],
   "source": [
    "st = 'garv.sharma_cs22@gla.ac.in'\n",
    "\n",
    "ls = ''.join([i for i in st if i.isalpha()])\n",
    "print(st)\n",
    "print(ls)"
   ]
  },
  {
   "cell_type": "code",
   "execution_count": 18,
   "metadata": {},
   "outputs": [
    {
     "name": "stdout",
     "output_type": "stream",
     "text": [
      "h|e|l|l|o\n"
     ]
    }
   ],
   "source": [
    "st = 'hello'\n",
    "out = '|'.join(st)\n",
    "print(out)\n",
    "# h|e|l|l|o"
   ]
  }
 ],
 "metadata": {
  "kernelspec": {
   "display_name": "Python 3",
   "language": "python",
   "name": "python3"
  },
  "language_info": {
   "codemirror_mode": {
    "name": "ipython",
    "version": 3
   },
   "file_extension": ".py",
   "mimetype": "text/x-python",
   "name": "python",
   "nbconvert_exporter": "python",
   "pygments_lexer": "ipython3",
   "version": "3.10.7 (tags/v3.10.7:6cc6b13, Sep  5 2022, 14:08:36) [MSC v.1933 64 bit (AMD64)]"
  },
  "orig_nbformat": 4,
  "vscode": {
   "interpreter": {
    "hash": "490f1c68ed42f2c5a574e22fb9e03ff49b98516de8582ff1c5d4fb43fb70f61b"
   }
  }
 },
 "nbformat": 4,
 "nbformat_minor": 2
}
