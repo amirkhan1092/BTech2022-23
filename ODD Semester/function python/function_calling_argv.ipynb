{
 "cells": [
  {
   "cell_type": "code",
   "execution_count": null,
   "metadata": {},
   "outputs": [],
   "source": [
    "# type of arguments \n",
    "'''\n",
    "1. positional Argument\n",
    "2. keywords Argument\n",
    "3. Default Argument\n",
    "'''"
   ]
  },
  {
   "cell_type": "code",
   "execution_count": 9,
   "metadata": {},
   "outputs": [],
   "source": [
    "def add(a: int, b: int)->int:\n",
    "    'function for addition'\n",
    "    return a + b"
   ]
  },
  {
   "cell_type": "code",
   "execution_count": 16,
   "metadata": {},
   "outputs": [
    {
     "name": "stdout",
     "output_type": "stream",
     "text": [
      "35\n"
     ]
    }
   ],
   "source": [
    "import math\n",
    "out = math.ceil(34.002)\n",
    "print(out)"
   ]
  },
  {
   "cell_type": "code",
   "execution_count": 30,
   "metadata": {},
   "outputs": [
    {
     "name": "stdout",
     "output_type": "stream",
     "text": [
      "35.0\n"
     ]
    }
   ],
   "source": [
    "num = 34.12\n",
    "out = -(-num // 1)\n",
    "print(out)"
   ]
  },
  {
   "cell_type": "code",
   "execution_count": null,
   "metadata": {},
   "outputs": [],
   "source": [
    "-3\n",
    "-3.5\n",
    "-4"
   ]
  },
  {
   "cell_type": "code",
   "execution_count": null,
   "metadata": {},
   "outputs": [],
   "source": [
    "'''\n",
    "7906372967\n",
    "Hardik Gaur\n",
    "\n",
    "\n",
    "'''"
   ]
  },
  {
   "cell_type": "code",
   "execution_count": 36,
   "metadata": {},
   "outputs": [
    {
     "name": "stdout",
     "output_type": "stream",
     "text": [
      "a 4\n",
      "b 6\n"
     ]
    }
   ],
   "source": [
    "def add(a, b):\n",
    "    print('a', a)\n",
    "    print('b', b)\n",
    "\n",
    "out = add(4, 6)\n",
    "# print(out)    "
   ]
  },
  {
   "cell_type": "code",
   "execution_count": 51,
   "metadata": {},
   "outputs": [
    {
     "name": "stdout",
     "output_type": "stream",
     "text": [
      "19\n"
     ]
    }
   ],
   "source": [
    "def add(*c, a , b):\n",
    "    # print('c=', c)\n",
    "    s = 0\n",
    "    for i in c:\n",
    "        s += i \n",
    "    return s\n",
    "\n",
    "out = add(12, 3, 4, a=22, b=23)\n",
    "print(out)"
   ]
  },
  {
   "cell_type": "code",
   "execution_count": 61,
   "metadata": {},
   "outputs": [
    {
     "name": "stdout",
     "output_type": "stream",
     "text": [
      "34\n"
     ]
    }
   ],
   "source": [
    "def add(a, b=0):\n",
    "    return a + b\n",
    "\n",
    "out = add(34)\n",
    "print(out)    "
   ]
  },
  {
   "cell_type": "code",
   "execution_count": 95,
   "metadata": {},
   "outputs": [],
   "source": [
    "def student_info(name, rolln, college, subject):\n",
    "    return f'''\n",
    "    Name: {name}\n",
    "    roll no: {rolln}\n",
    "    College: {college}\n",
    "    Subject: {subject} \n",
    "    '''"
   ]
  },
  {
   "cell_type": "code",
   "execution_count": 102,
   "metadata": {},
   "outputs": [
    {
     "name": "stdout",
     "output_type": "stream",
     "text": [
      "\n",
      "    Name: h\n",
      "    roll no: e\n",
      "    College: l\n",
      "    Subject: p \n",
      "    \n"
     ]
    }
   ],
   "source": [
    "x = ['Rahul', 32,'GLA', 'Python']\n",
    "out = student_info(*'help')\n",
    "print(out)"
   ]
  },
  {
   "cell_type": "code",
   "execution_count": 10,
   "metadata": {},
   "outputs": [],
   "source": [
    "def sqr_cube(x):\n",
    "    x1 = x ** 2\n",
    "    x2 = x ** 3\n",
    "    return x1\n",
    "    return x2\n",
    "    return x3"
   ]
  },
  {
   "cell_type": "code",
   "execution_count": 11,
   "metadata": {},
   "outputs": [
    {
     "name": "stdout",
     "output_type": "stream",
     "text": [
      "(9, 27, 36)\n"
     ]
    }
   ],
   "source": [
    "out = sqr_cube(3)\n",
    "print(out)"
   ]
  },
  {
   "cell_type": "code",
   "execution_count": 26,
   "metadata": {},
   "outputs": [],
   "source": [
    "def add(*argv, a, b=0):\n",
    "    s = 0\n",
    "    for i in argv:\n",
    "        s += i\n",
    "    return s / a + b   "
   ]
  },
  {
   "cell_type": "code",
   "execution_count": 27,
   "metadata": {},
   "outputs": [
    {
     "name": "stdout",
     "output_type": "stream",
     "text": [
      "18.333333333333332\n"
     ]
    }
   ],
   "source": [
    "out = add(3, 45, 3, 4,  a=3)\n",
    "print(out)"
   ]
  },
  {
   "cell_type": "code",
   "execution_count": null,
   "metadata": {},
   "outputs": [],
   "source": [
    "# type of arguments \n",
    "'''\n",
    "1. positional argument\n",
    "2. keyword argument\n",
    "3. default argument\n",
    "\n",
    "'''"
   ]
  },
  {
   "cell_type": "code",
   "execution_count": 55,
   "metadata": {},
   "outputs": [],
   "source": [
    "def add(*c):\n",
    "    s = 0\n",
    "    for i in c:\n",
    "        s += i\n",
    "    return s     "
   ]
  },
  {
   "cell_type": "code",
   "execution_count": 56,
   "metadata": {},
   "outputs": [
    {
     "data": {
      "text/plain": [
       "114"
      ]
     },
     "execution_count": 56,
     "metadata": {},
     "output_type": "execute_result"
    }
   ],
   "source": [
    "add(23, 1, 3, 5, 6, 76, )"
   ]
  },
  {
   "cell_type": "code",
   "execution_count": 84,
   "metadata": {},
   "outputs": [],
   "source": [
    "def add(*a, b=1, c=1):\n",
    "    return sum(a) / b + c     "
   ]
  },
  {
   "cell_type": "code",
   "execution_count": 86,
   "metadata": {},
   "outputs": [
    {
     "data": {
      "text/plain": [
       "3.0"
      ]
     },
     "execution_count": 86,
     "metadata": {},
     "output_type": "execute_result"
    }
   ],
   "source": [
    "add(10, 10, b=10)"
   ]
  },
  {
   "cell_type": "code",
   "execution_count": 1,
   "metadata": {},
   "outputs": [],
   "source": [
    "def student_info(name, rolln, subject, college):\n",
    "    return f'''\n",
    "    Name: {name}\n",
    "    Roll Number: {rolln}\n",
    "    Subject: {subject}\n",
    "    College: {college}\n",
    "    '''"
   ]
  },
  {
   "cell_type": "code",
   "execution_count": 11,
   "metadata": {},
   "outputs": [
    {
     "name": "stdout",
     "output_type": "stream",
     "text": [
      "\n",
      "    Name: Ravi\n",
      "    Roll Number: 34\n",
      "    Subject: Python\n",
      "    College: GLA\n",
      "    \n"
     ]
    }
   ],
   "source": [
    "# x = ['Ravi', 34, 'Python', 'GLA']\n",
    "out = student_info(name='Ravi', college='GLA', rolln=34, subject='Python')\n",
    "print(out)"
   ]
  }
 ],
 "metadata": {
  "kernelspec": {
   "display_name": "Python 3.10.7 64-bit",
   "language": "python",
   "name": "python3"
  },
  "language_info": {
   "codemirror_mode": {
    "name": "ipython",
    "version": 3
   },
   "file_extension": ".py",
   "mimetype": "text/x-python",
   "name": "python",
   "nbconvert_exporter": "python",
   "pygments_lexer": "ipython3",
   "version": "3.10.7"
  },
  "orig_nbformat": 4,
  "vscode": {
   "interpreter": {
    "hash": "490f1c68ed42f2c5a574e22fb9e03ff49b98516de8582ff1c5d4fb43fb70f61b"
   }
  }
 },
 "nbformat": 4,
 "nbformat_minor": 2
}
