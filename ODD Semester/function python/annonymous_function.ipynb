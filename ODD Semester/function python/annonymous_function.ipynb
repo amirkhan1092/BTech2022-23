{
 "cells": [
  {
   "cell_type": "code",
   "execution_count": 8,
   "metadata": {},
   "outputs": [],
   "source": [
    "# addition of two numbers \n",
    "# def add(a, b):\n",
    "#     return a + b\n",
    "\n",
    "add = lambda a, b: a + b  "
   ]
  },
  {
   "cell_type": "code",
   "execution_count": 9,
   "metadata": {},
   "outputs": [
    {
     "name": "stdout",
     "output_type": "stream",
     "text": [
      "8\n"
     ]
    }
   ],
   "source": [
    "out = add(3, 5)\n",
    "print(out)"
   ]
  },
  {
   "cell_type": "code",
   "execution_count": 17,
   "metadata": {},
   "outputs": [],
   "source": [
    "\n"
   ]
  },
  {
   "cell_type": "code",
   "execution_count": 20,
   "metadata": {},
   "outputs": [
    {
     "name": "stdout",
     "output_type": "stream",
     "text": [
      "[73.4, 152.60000000000002, -40.0, 446.0, 93.2]\n"
     ]
    }
   ],
   "source": [
    "lst = [23, 67, -40, 230, 34]\n",
    "out = list(map(lambda x: x * 1.8 + 32, lst))\n",
    "print(out)"
   ]
  },
  {
   "cell_type": "code",
   "execution_count": 23,
   "metadata": {},
   "outputs": [
    {
     "name": "stdout",
     "output_type": "stream",
     "text": [
      "532\n"
     ]
    }
   ],
   "source": [
    "st = 'hello'\n",
    "out = sum(list(map(ord, st)))\n",
    "print(out) "
   ]
  },
  {
   "cell_type": "code",
   "execution_count": 25,
   "metadata": {},
   "outputs": [
    {
     "name": "stdout",
     "output_type": "stream",
     "text": [
      "['ravi', 'saket']\n"
     ]
    }
   ],
   "source": [
    "\n",
    "lst = ['ravi', 'saket']\n",
    "lst.sort(key=lambda x: sum(list(map(ord, x))))\n",
    "print(lst)   "
   ]
  },
  {
   "cell_type": "code",
   "execution_count": 32,
   "metadata": {},
   "outputs": [],
   "source": [
    "# annonymous function\n",
    "\n",
    "add = lambda a, b : a + b"
   ]
  },
  {
   "cell_type": "code",
   "execution_count": 33,
   "metadata": {},
   "outputs": [
    {
     "name": "stdout",
     "output_type": "stream",
     "text": [
      "39\n"
     ]
    }
   ],
   "source": [
    "out = add(34, 5)\n",
    "print(out)"
   ]
  },
  {
   "cell_type": "code",
   "execution_count": 36,
   "metadata": {},
   "outputs": [],
   "source": [
    "# def c2f(c):\n",
    "#     return c * 1.8 + 32 \n",
    "\n",
    "c2f = lambda c: c * 1.8 + 32"
   ]
  },
  {
   "cell_type": "code",
   "execution_count": 37,
   "metadata": {},
   "outputs": [
    {
     "name": "stdout",
     "output_type": "stream",
     "text": [
      "-40.0\n"
     ]
    }
   ],
   "source": [
    "value = -40\n",
    "out = c2f(value)\n",
    "print(out)"
   ]
  },
  {
   "cell_type": "code",
   "execution_count": 39,
   "metadata": {},
   "outputs": [
    {
     "name": "stdout",
     "output_type": "stream",
     "text": [
      "[37.4, 73.4, 113.53999999999999, -40.0, 53.6]\n"
     ]
    }
   ],
   "source": [
    "lst = [3, 23, 45.3, -40, 12]\n",
    "out = list(map(lambda c: c * 1.8 + 32, lst))\n",
    "print(out)"
   ]
  },
  {
   "cell_type": "code",
   "execution_count": 71,
   "metadata": {},
   "outputs": [
    {
     "name": "stdout",
     "output_type": "stream",
     "text": [
      "['Ravi', 'Saket', 'Abhishek']\n"
     ]
    }
   ],
   "source": [
    "a = ['Saket', 'Ravi', 'Abhishek']\n",
    "a.sort(key=lambda st: sum(map(ord, st)))\n",
    "print(a)"
   ]
  },
  {
   "cell_type": "code",
   "execution_count": 43,
   "metadata": {},
   "outputs": [
    {
     "name": "stdout",
     "output_type": "stream",
     "text": [
      "[8, 32, 21, 10]\n"
     ]
    }
   ],
   "source": [
    "\n",
    "lst = [10, 34, 23, 12]\n",
    "out = list(map(lambda x: x - 2  , lst))\n",
    "print(out)"
   ]
  },
  {
   "cell_type": "code",
   "execution_count": 49,
   "metadata": {},
   "outputs": [],
   "source": []
  },
  {
   "cell_type": "code",
   "execution_count": 52,
   "metadata": {},
   "outputs": [
    {
     "name": "stdout",
     "output_type": "stream",
     "text": [
      "[56, 2, 4]\n"
     ]
    }
   ],
   "source": [
    "# filter \n",
    "lst = [3, 5, 56,3 ,43 ,2,  4, 3]\n",
    "out = list(filter(lambda x : x % 2 == 0  , lst))\n",
    "print(out)        \n"
   ]
  },
  {
   "cell_type": "code",
   "execution_count": 66,
   "metadata": {},
   "outputs": [],
   "source": [
    "\n",
    "c2f = lambda c: c * 1.8 + 32"
   ]
  },
  {
   "cell_type": "code",
   "execution_count": 67,
   "metadata": {},
   "outputs": [
    {
     "name": "stdout",
     "output_type": "stream",
     "text": [
      "-40.0\n"
     ]
    }
   ],
   "source": [
    "value = [32, 4, 2, 43, 3, 3]\n",
    "out = list(map(lambda c:c*1.8+32,value))\n",
    "print(out)"
   ]
  },
  {
   "cell_type": "code",
   "execution_count": 9,
   "metadata": {},
   "outputs": [],
   "source": [
    "# annonymous function\n",
    "# def c2f(c):\n",
    "#     return c * 1.8 + 32\n",
    "\n",
    "c2f = lambda c : c * 1.8  + 32"
   ]
  },
  {
   "cell_type": "code",
   "execution_count": 11,
   "metadata": {},
   "outputs": [
    {
     "name": "stdout",
     "output_type": "stream",
     "text": [
      "-40.0\n"
     ]
    }
   ],
   "source": [
    "value = -40\n",
    "out = c2f(value)\n",
    "print(out)"
   ]
  }
 ],
 "metadata": {
  "kernelspec": {
   "display_name": "Python 3.10.7 64-bit",
   "language": "python",
   "name": "python3"
  },
  "language_info": {
   "codemirror_mode": {
    "name": "ipython",
    "version": 3
   },
   "file_extension": ".py",
   "mimetype": "text/x-python",
   "name": "python",
   "nbconvert_exporter": "python",
   "pygments_lexer": "ipython3",
   "version": "3.10.7"
  },
  "orig_nbformat": 4,
  "vscode": {
   "interpreter": {
    "hash": "490f1c68ed42f2c5a574e22fb9e03ff49b98516de8582ff1c5d4fb43fb70f61b"
   }
  }
 },
 "nbformat": 4,
 "nbformat_minor": 2
}
