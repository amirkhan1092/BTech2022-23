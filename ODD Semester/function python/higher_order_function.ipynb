{
 "cells": [
  {
   "cell_type": "code",
   "execution_count": 4,
   "metadata": {},
   "outputs": [
    {
     "name": "stdout",
     "output_type": "stream",
     "text": [
      "['akarsh', 'ravi', 'abhishek', 'sonal']\n"
     ]
    }
   ],
   "source": [
    "# built-in functions \n",
    "def apna_fun(x):\n",
    "    return x[-1]\n",
    "\n",
    "lst = ['abhishek', 'ravi', 'akarsh', 'sonal']\n",
    "lst.sort(key=apna_fun)\n",
    "print(lst)\n"
   ]
  },
  {
   "cell_type": "code",
   "execution_count": 11,
   "metadata": {},
   "outputs": [
    {
     "name": "stdout",
     "output_type": "stream",
     "text": [
      "[6, 5, 3, 3, -1]\n"
     ]
    }
   ],
   "source": [
    "ls = [3, 5, 6, 3, -1]\n",
    "ls.sort()\n",
    "ls.reverse()\n",
    "print(ls)"
   ]
  },
  {
   "cell_type": "code",
   "execution_count": 6,
   "metadata": {},
   "outputs": [
    {
     "name": "stdout",
     "output_type": "stream",
     "text": [
      "641\n"
     ]
    }
   ],
   "source": [
    "def ascii_weight(x):\n",
    "    s = 0\n",
    "    for i in x:\n",
    "        s += ord(i)\n",
    "    return s    \n",
    "\n",
    "data = 'mayank'\n",
    "out = ascii_weight(data)\n",
    "print(out)"
   ]
  },
  {
   "cell_type": "code",
   "execution_count": 12,
   "metadata": {},
   "outputs": [
    {
     "name": "stdout",
     "output_type": "stream",
     "text": [
      "['ravi', 'sonal', 'akarsh', 'abhishek']\n"
     ]
    }
   ],
   "source": [
    "lst = ['abhishek', 'ravi', 'akarsh', 'sonal']\n",
    "lst.sort(key=ascii_weight)\n",
    "print(lst)"
   ]
  },
  {
   "cell_type": "code",
   "execution_count": 1,
   "metadata": {},
   "outputs": [
    {
     "data": {
      "text/plain": [
       "150"
      ]
     },
     "execution_count": 1,
     "metadata": {},
     "output_type": "execute_result"
    }
   ],
   "source": [
    "def fact_sum(*argv):\n",
    "    def fact(x):\n",
    "        if x == 0:\n",
    "            return 1\n",
    "        return x * fact(x-1)\n",
    "    s = 0\n",
    "    for i in argv:\n",
    "        s += fact(i)\n",
    "    return s\n",
    "fact_sum(3, 4, 5)"
   ]
  },
  {
   "cell_type": "code",
   "execution_count": null,
   "metadata": {},
   "outputs": [],
   "source": [
    "# higher order functions \n",
    "def prime(num):\n",
    "    count = 0\n",
    "    for i in range(1, num+1):\n",
    "        if num % i == 0:\n",
    "            count += 1\n",
    "    if count == 2:\n",
    "        return 'Prime'\n",
    "    else:\n",
    "        return 'Not a Prime'\n",
    "\n",
    "# input section\n",
    "num = 23\n",
    "\n",
    "out = prime(num)\n",
    "\n",
    "# display section\n",
    "print(out)            "
   ]
  },
  {
   "cell_type": "code",
   "execution_count": 4,
   "metadata": {},
   "outputs": [
    {
     "data": {
      "text/plain": [
       "3"
      ]
     },
     "execution_count": 4,
     "metadata": {},
     "output_type": "execute_result"
    }
   ],
   "source": [
    "def fact_sum(*argv):\n",
    "    def fact(x):\n",
    "        f = 1\n",
    "        for i in range(1, x+1):\n",
    "            f *= i\n",
    "        return f \n",
    "    s = 0\n",
    "    for i in argv:\n",
    "        s += fact(i)    \n",
    "    return s \n",
    "# main code \n",
    "n = int(input('Enter the number of elements '))\n",
    "ls = []\n",
    "for i in range(n):\n",
    "    ele = int(input(f'Enter the positive Integer {i+1} '))\n",
    "    if ele >= 0:\n",
    "        ls.append(ele)\n",
    "\n",
    "out = fact_sum(*ls)\n",
    "print(out)"
   ]
  },
  {
   "cell_type": "code",
   "execution_count": 16,
   "metadata": {},
   "outputs": [
    {
     "name": "stdout",
     "output_type": "stream",
     "text": [
      "541\n"
     ]
    }
   ],
   "source": [
    "def ascii_weight(x):\n",
    "    s = 0\n",
    "    for i in x:\n",
    "        s += ord(i)\n",
    "    return s \n",
    "# main code\n",
    "ele = 'sonal'\n",
    "out = ascii_weight(ele)\n",
    "print(out)       "
   ]
  },
  {
   "cell_type": "code",
   "execution_count": 17,
   "metadata": {},
   "outputs": [
    {
     "name": "stdout",
     "output_type": "stream",
     "text": [
      "['amit', 'sonal', 'raghav', 'abhishek']\n"
     ]
    }
   ],
   "source": [
    "# heigher order function\n",
    "def apna_fun(x):\n",
    "    return x[-1]\n",
    "\n",
    "ls = ['abhishek', 'sonal', 'raghav', 'amit']\n",
    "# ls = ['@', '&', '#']\n",
    "ls.sort(key=ascii_weight)\n",
    "print(ls)"
   ]
  },
  {
   "cell_type": "code",
   "execution_count": 9,
   "metadata": {},
   "outputs": [
    {
     "data": {
      "text/plain": [
       "38"
      ]
     },
     "execution_count": 9,
     "metadata": {},
     "output_type": "execute_result"
    }
   ],
   "source": [
    "def issorted(lst):\n",
    "    t = lst.copy()\n",
    "    lst.sort()\n",
    "    if t == lst :\n",
    "        return 1\n",
    "    elif t==lst[::-1]:\n",
    "        return 0\n",
    "    else:\n",
    "        return -1\n",
    "\n",
    "# main \n",
    "ls = list(map(int, input().split()))\n",
    "out = issorted(ls)\n",
    "print(out)\n",
    "\n",
    "\n",
    "'''\n",
    "I/P-> 2 3 5 -2\n",
    "O/P-> -1\n",
    "\n",
    "I/P-> 2 9 14\n",
    "O/P-> 1\n",
    "\n",
    "I/P-> 20 9 4\n",
    "O/P-> 0\n",
    "'''"
   ]
  },
  {
   "cell_type": "code",
   "execution_count": 25,
   "metadata": {},
   "outputs": [
    {
     "name": "stdout",
     "output_type": "stream",
     "text": [
      "<map object at 0x000001E4059D6FB0>\n"
     ]
    }
   ],
   "source": [
    "# map(): \n",
    "def apna_fun(x):\n",
    "    f = 1\n",
    "    for i in range(1, x+1):\n",
    "        f *= i\n",
    "    return f    \n",
    "\n",
    "\n",
    "lst = [4, 6, 5]\n",
    "out = map(apna_fun, lst)\n",
    "print(out)\n"
   ]
  },
  {
   "cell_type": "code",
   "execution_count": 26,
   "metadata": {},
   "outputs": [
    {
     "data": {
      "text/plain": [
       "24"
      ]
     },
     "execution_count": 26,
     "metadata": {},
     "output_type": "execute_result"
    }
   ],
   "source": [
    "next(out)"
   ]
  },
  {
   "cell_type": "code",
   "execution_count": 32,
   "metadata": {},
   "outputs": [
    {
     "name": "stdout",
     "output_type": "stream",
     "text": [
      "[2, 44, 11]\n"
     ]
    }
   ],
   "source": [
    "def apna_fun(x):\n",
    "    return int(x) - 1\n",
    "ls = ['3',  '45',  '12']\n",
    "out = list(map(apna_fun, ls))\n",
    "print(out)    "
   ]
  },
  {
   "cell_type": "code",
   "execution_count": 33,
   "metadata": {},
   "outputs": [
    {
     "name": "stdout",
     "output_type": "stream",
     "text": [
      "[104, 101, 108, 108, 111]\n"
     ]
    }
   ],
   "source": [
    "st = 'hello'\n",
    "out = list(map(ord, st))\n",
    "print(out)"
   ]
  },
  {
   "cell_type": "code",
   "execution_count": 37,
   "metadata": {},
   "outputs": [],
   "source": [
    "def ascii_weight(x):\n",
    "    s = 0\n",
    "    for i in x:\n",
    "        s += ord(i)\n",
    "    return s    \n"
   ]
  },
  {
   "cell_type": "code",
   "execution_count": 43,
   "metadata": {},
   "outputs": [
    {
     "name": "stdout",
     "output_type": "stream",
     "text": [
      "['zziya', 'ramesh', 'akash', 'lalit', 'anuz']\n"
     ]
    }
   ],
   "source": [
    "\n",
    "lst = ['ramesh', 'akash', 'lalit', 'anuz', 'zziya']\n",
    "lst.sort(key=lambda x: x[-1])\n",
    "print(lst)\n",
    "\n"
   ]
  },
  {
   "cell_type": "code",
   "execution_count": null,
   "metadata": {},
   "outputs": [],
   "source": [
    "def ascii_weight(x):\n",
    "    s = 0\n",
    "    for i in x:\n",
    "        \n",
    "\n",
    "\n",
    "lst = ['ramesh', 'akash', 'lalit', 'anuz', 'zziya']\n",
    "lst.sort(key=)\n",
    "print(lst)\n",
    "\n"
   ]
  },
  {
   "cell_type": "code",
   "execution_count": 70,
   "metadata": {},
   "outputs": [
    {
     "name": "stdout",
     "output_type": "stream",
     "text": [
      "[6, 24, 120, 720]\n"
     ]
    }
   ],
   "source": [
    "import math\n",
    "st = [3, 4, 5, 6]\n",
    "out = list(map(math.factorial, st))\n",
    "print(out)    "
   ]
  },
  {
   "cell_type": "code",
   "execution_count": 71,
   "metadata": {},
   "outputs": [
    {
     "name": "stdout",
     "output_type": "stream",
     "text": [
      "[35, 6, 44, 44]\n"
     ]
    }
   ],
   "source": [
    "st = [33, 4, 42, 42]\n",
    "out = list(map(lambda x: x+2, st))\n",
    "print(out)"
   ]
  },
  {
   "cell_type": "code",
   "execution_count": 69,
   "metadata": {},
   "outputs": [
    {
     "name": "stdout",
     "output_type": "stream",
     "text": [
      "6\n",
      "[24, 120, 720]\n"
     ]
    }
   ],
   "source": [
    "for i in out:\n",
    "    print(i)\n",
    "    print(list(out))"
   ]
  },
  {
   "cell_type": "code",
   "execution_count": 2,
   "metadata": {},
   "outputs": [
    {
     "name": "stdout",
     "output_type": "stream",
     "text": [
      "0\n"
     ]
    }
   ],
   "source": [
    "# heigher order functions\n",
    "def issorted(ls):\n",
    "    t = sorted(ls)\n",
    "    if t == ls:\n",
    "        return 0\n",
    "    elif t == ls[::-1]:\n",
    "        return 1\n",
    "    else:\n",
    "        return -1    \n",
    "\n",
    "# main code\n",
    "lst = list(map(int, input().split()))\n",
    "out = issorted(lst)\n",
    "print(out)"
   ]
  },
  {
   "cell_type": "code",
   "execution_count": 46,
   "metadata": {},
   "outputs": [
    {
     "name": "stdout",
     "output_type": "stream",
     "text": [
      "['anu', 'zoya', 'saket', 'ramesh', 'satish']\n"
     ]
    }
   ],
   "source": [
    "\n",
    "    \n",
    "lst = ['ramesh', 'satish', 'anu', 'zoya', 'saket']\n",
    "lst.sort(key=lambda x: sum(map(ord, x)) )\n",
    "print(lst)"
   ]
  },
  {
   "cell_type": "code",
   "execution_count": 45,
   "metadata": {},
   "outputs": [
    {
     "name": "stdout",
     "output_type": "stream",
     "text": [
      "532\n"
     ]
    }
   ],
   "source": [
    "\n",
    "ascii_weight = lambda x: sum(map(ord, x)) \n",
    "\n",
    "# main\n",
    "st = 'abhishek'\n",
    "out = ascii_weight(st)\n",
    "print(out)"
   ]
  },
  {
   "cell_type": "code",
   "execution_count": 42,
   "metadata": {},
   "outputs": [],
   "source": [
    "# [104, 101, 108, 108]\n",
    "for i in out:\n",
    "    print(i)\n",
    "    next(out)"
   ]
  },
  {
   "cell_type": "code",
   "execution_count": 7,
   "metadata": {},
   "outputs": [
    {
     "name": "stdout",
     "output_type": "stream",
     "text": [
      "[2, 3, 5, 7, 11, 17, 19, 23, 4, 6, 22]\n"
     ]
    }
   ],
   "source": [
    "def prime(x):\n",
    "    for i in range(2, x):\n",
    "        if x % i == 0:\n",
    "            return 1\n",
    "    return 0         \n",
    "\n",
    "lst = [3, 4, 5, 6, 2, 7, 11, 17, 19, 22, 23]\n",
    "lst.sort()\n",
    "lst.sort(key=prime)\n",
    "print(lst)"
   ]
  },
  {
   "cell_type": "code",
   "execution_count": 5,
   "metadata": {},
   "outputs": [
    {
     "name": "stdout",
     "output_type": "stream",
     "text": [
      "-40.0\n"
     ]
    }
   ],
   "source": [
    "# lambda function\n",
    "# def c2f(c):\n",
    "#     return c * 1.8 + 32\n",
    "\n",
    "c2f = lambda c: c * 1.8 + 32\n",
    "out = c2f(-40)\n",
    "print(out)\n"
   ]
  },
  {
   "cell_type": "code",
   "execution_count": null,
   "metadata": {},
   "outputs": [],
   "source": []
  }
 ],
 "metadata": {
  "kernelspec": {
   "display_name": "Python 3.10.7 64-bit",
   "language": "python",
   "name": "python3"
  },
  "language_info": {
   "codemirror_mode": {
    "name": "ipython",
    "version": 3
   },
   "file_extension": ".py",
   "mimetype": "text/x-python",
   "name": "python",
   "nbconvert_exporter": "python",
   "pygments_lexer": "ipython3",
   "version": "3.10.7 (tags/v3.10.7:6cc6b13, Sep  5 2022, 14:08:36) [MSC v.1933 64 bit (AMD64)]"
  },
  "orig_nbformat": 4,
  "vscode": {
   "interpreter": {
    "hash": "490f1c68ed42f2c5a574e22fb9e03ff49b98516de8582ff1c5d4fb43fb70f61b"
   }
  }
 },
 "nbformat": 4,
 "nbformat_minor": 2
}
