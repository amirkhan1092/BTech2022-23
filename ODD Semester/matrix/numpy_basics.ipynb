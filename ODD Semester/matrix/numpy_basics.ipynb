{
 "cells": [
  {
   "cell_type": "code",
   "execution_count": 1,
   "metadata": {},
   "outputs": [],
   "source": [
    "import numpy as np"
   ]
  },
  {
   "cell_type": "code",
   "execution_count": 14,
   "metadata": {},
   "outputs": [
    {
     "name": "stdout",
     "output_type": "stream",
     "text": [
      "[2 4 5 1 4 0]\n",
      "object\n",
      "<class 'numpy.ndarray'>\n"
     ]
    }
   ],
   "source": [
    "ls = [2, 4, 5, 1, 4, 0]\n",
    "arr = np.array(ls, dtype='object')\n",
    "print(arr)\n",
    "print(arr.dtype)\n",
    "\n",
    "print(type(arr))"
   ]
  },
  {
   "cell_type": "code",
   "execution_count": 19,
   "metadata": {},
   "outputs": [
    {
     "name": "stdout",
     "output_type": "stream",
     "text": [
      "[[1 2 3]\n",
      " [4 5 3]]\n",
      "[[1 2]\n",
      " [3 4]\n",
      " [5 3]]\n",
      "[[22 19]\n",
      " [34 37]]\n"
     ]
    }
   ],
   "source": [
    "arr1 = np.array([1, 2, 3, 4, 5, 3]).reshape(2, 3)\n",
    "print(arr1)\n",
    "arr2 = np.array([1, 2, 3, 4, 5, 3]).reshape(3, 2)\n",
    "print(arr2)\n",
    "\n",
    "out = np.matmul(arr1, arr2)\n",
    "print(out)"
   ]
  },
  {
   "cell_type": "code",
   "execution_count": 33,
   "metadata": {},
   "outputs": [
    {
     "name": "stdout",
     "output_type": "stream",
     "text": [
      "[[1 2]\n",
      " [3 4]]\n",
      "[ 2 12]\n"
     ]
    }
   ],
   "source": [
    "arr3 = np.array([1, 2, 3, 4]).reshape(2, 2)\n",
    "print(arr3)\n",
    "\n",
    "print(np.product(arr3, axis=1))\n",
    "\n"
   ]
  }
 ],
 "metadata": {
  "kernelspec": {
   "display_name": "Python 3",
   "language": "python",
   "name": "python3"
  },
  "language_info": {
   "codemirror_mode": {
    "name": "ipython",
    "version": 3
   },
   "file_extension": ".py",
   "mimetype": "text/x-python",
   "name": "python",
   "nbconvert_exporter": "python",
   "pygments_lexer": "ipython3",
   "version": "3.10.7"
  },
  "orig_nbformat": 4
 },
 "nbformat": 4,
 "nbformat_minor": 2
}
