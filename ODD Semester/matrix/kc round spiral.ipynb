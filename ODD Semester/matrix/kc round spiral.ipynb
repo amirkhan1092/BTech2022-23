{
 "cells": [
  {
   "cell_type": "code",
   "execution_count": null,
   "metadata": {},
   "outputs": [],
   "source": [
    "r, c = map(int, input().split())\n",
    "M = []\n",
    "for i in range(r):\n",
    "    M.append(list(map(int, input().split())))\n",
    "\n",
    "\n",
    "t = 0\n",
    "b = r - 1\n",
    "l = 0\n",
    "r = c - 1\n",
    "d = 0\n",
    "out = []\n",
    "while t <= b and l <= r:\n",
    "    if d == 0:\n",
    "        for i in range(l, r+1):\n",
    "            out.append(M[t][i])\n",
    "        d = 1\n",
    "        t += 1 \n",
    "    elif d == 1:\n",
    "        for i in range(t, b+1):\n",
    "            out.append(M[i][r])\n",
    "        d = 2\n",
    "        r -= 1\n",
    "    elif d == 2:\n",
    "        for i in range(r, l-1, -1):\n",
    "            out.append(M[b][i])\n",
    "        d = 3\n",
    "        b -= 1\n",
    "    elif d == 3:\n",
    "        for i in range(b, t-1, -1):\n",
    "            out.append(M[i][l])\n",
    "        d = 0\n",
    "        l += 1\n",
    "print(*out)"
   ]
  },
  {
   "cell_type": "code",
   "execution_count": null,
   "metadata": {},
   "outputs": [],
   "source": [
    "# 3 4\n",
    "# 4 5 6 7\n",
    "# 4 3 5 2\n",
    "# 2 1 3 2\n",
    "R, C = map(int, input().split())\n",
    "M = []\n",
    "for i in range(R):\n",
    "    M.append(list(map(int, input().split())))\n",
    "\n",
    "t = 0\n",
    "b = R - 1\n",
    "l = 0\n",
    "r = C - 1\n",
    "d = 0\n",
    "out = []\n",
    "while t <= b and l <= r:\n",
    "    if d == 0:\n",
    "        for i in range(l, r+1):\n",
    "            out.append(M[t][i])\n",
    "        d = 1\n",
    "        t += 1\n",
    "    elif d == 1:\n",
    "        for i in range(t, b+1):\n",
    "            out.append(M[i][r])\n",
    "        d = 2\n",
    "        r -= 1\n",
    "    elif d == 2:\n",
    "        for i in range(r, l-1, -1):\n",
    "            out.append(M[b][i])\n",
    "        d = 3\n",
    "        b -= 1\n",
    "    elif d == 3:\n",
    "        for i in range(b, t-1, -1):\n",
    "            out.append(M[i][l])\n",
    "        d = 0\n",
    "        l += 1\n",
    "print(*out)\n"
   ]
  },
  {
   "cell_type": "code",
   "execution_count": null,
   "metadata": {},
   "outputs": [],
   "source": [
    "# df_residential = df[df.buildingType == \"RESIDENTIAL\"]\n",
    "# df_flat = df_residential[df_residential.calculationAttribute == 'Flat']\n",
    "# df_connectionType = df_flat[df_flat.connectionType == 'Non_Metered']"
   ]
  },
  {
   "cell_type": "code",
   "execution_count": null,
   "metadata": {},
   "outputs": [],
   "source": [
    "# df_connectionType = df[]"
   ]
  }
 ],
 "metadata": {
  "kernelspec": {
   "display_name": "Python 3",
   "language": "python",
   "name": "python3"
  },
  "language_info": {
   "name": "python",
   "version": "3.10.7 (tags/v3.10.7:6cc6b13, Sep  5 2022, 14:08:36) [MSC v.1933 64 bit (AMD64)]"
  },
  "orig_nbformat": 4,
  "vscode": {
   "interpreter": {
    "hash": "490f1c68ed42f2c5a574e22fb9e03ff49b98516de8582ff1c5d4fb43fb70f61b"
   }
  }
 },
 "nbformat": 4,
 "nbformat_minor": 2
}
