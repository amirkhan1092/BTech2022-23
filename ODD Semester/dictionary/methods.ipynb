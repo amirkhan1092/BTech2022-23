{
 "cells": [
  {
   "cell_type": "code",
   "execution_count": 38,
   "metadata": {},
   "outputs": [
    {
     "name": "stdout",
     "output_type": "stream",
     "text": [
      "{'name': 'ayush sambharwal', 'section': 3, 'subject': 'python', 'roll_no': 47} <class 'dict'>\n"
     ]
    }
   ],
   "source": [
    "# dictionary methods\n",
    "info = {'name':'ayush sambharwal', \n",
    "        'section': 3,\n",
    "        'subject' :'python',\n",
    "        'roll_no':47\n",
    "        }\n",
    "print(info, type(info))"
   ]
  },
  {
   "cell_type": "code",
   "execution_count": 8,
   "metadata": {},
   "outputs": [
    {
     "name": "stdout",
     "output_type": "stream",
     "text": [
      "NA\n"
     ]
    }
   ],
   "source": [
    "# get(key): return the value of the given key \n",
    "out = info.get('address', 'NA')\n",
    "print(out)\n",
    " "
   ]
  },
  {
   "cell_type": "code",
   "execution_count": 11,
   "metadata": {},
   "outputs": [
    {
     "name": "stdout",
     "output_type": "stream",
     "text": [
      "dict_keys(['name', 'section', 'subject', 'roll_no'])\n"
     ]
    }
   ],
   "source": [
    "# values()/keys(): retunr all values/keys from dictinary object\n",
    "# out = list(info.values())\n",
    "out = info.keys()\n",
    "print(out)"
   ]
  },
  {
   "cell_type": "code",
   "execution_count": 27,
   "metadata": {},
   "outputs": [
    {
     "name": "stdout",
     "output_type": "stream",
     "text": [
      "One Two Zero Two Three "
     ]
    }
   ],
   "source": [
    "# dictionary raw form \n",
    "dm = dict([(0, 'Zero'), (1, 'One'), (2, 'Two'), (3, 'Three')])\n",
    "num = 12023\n",
    "for i in str(num):\n",
    "    print(dm[int(i)], end=' ')"
   ]
  },
  {
   "cell_type": "code",
   "execution_count": 21,
   "metadata": {},
   "outputs": [
    {
     "name": "stdout",
     "output_type": "stream",
     "text": [
      "[('name', 'ayush sambharwal'), ('section', 3), ('subject', 'python'), ('roll_no', 47)]\n"
     ]
    }
   ],
   "source": [
    "# items(): return list of all items in form tuple\n",
    "raw_form = list(info.items())\n",
    "print(raw_form)"
   ]
  },
  {
   "cell_type": "code",
   "execution_count": 34,
   "metadata": {},
   "outputs": [
    {
     "name": "stdout",
     "output_type": "stream",
     "text": [
      "{'name': 'NA', 'id': 'NA', 'dob': 'NA', 'photo': 'NA', 'mobile': 'NA'}\n"
     ]
    }
   ],
   "source": [
    "# fromkeys(): return the dictionary with keys in a list\n",
    "ls = ['name', 'id', 'dob', 'photo', 'mobile']\n",
    "out = {}.fromkeys(ls, 'NA')\n",
    "print(out)"
   ]
  },
  {
   "cell_type": "code",
   "execution_count": 37,
   "metadata": {},
   "outputs": [
    {
     "name": "stdout",
     "output_type": "stream",
     "text": [
      "{}\n"
     ]
    }
   ],
   "source": [
    "# clear(): remove all the items from dict object\n",
    "info.clear()\n",
    "print(info)"
   ]
  },
  {
   "cell_type": "code",
   "execution_count": 44,
   "metadata": {},
   "outputs": [
    {
     "name": "stdout",
     "output_type": "stream",
     "text": [
      "deleted value Null\n",
      "{'name': 'ayush sambharwal', 'section': 3, 'subject': 'python', 'roll_no': 47}\n"
     ]
    }
   ],
   "source": [
    "# pop(): remove the item using given key\n",
    "info = {'name': 'ayush sambharwal', 'section': 3, 'subject': 'python', 'roll_no': 47}\n",
    "val = info.pop('address', 'Null')\n",
    "print('deleted value', val)\n",
    "print(info)"
   ]
  },
  {
   "cell_type": "code",
   "execution_count": 46,
   "metadata": {},
   "outputs": [
    {
     "name": "stdout",
     "output_type": "stream",
     "text": [
      "deleted value ('roll_no', 47)\n",
      "{'name': 'ayush sambharwal', 'section': 3}\n"
     ]
    }
   ],
   "source": [
    "# popitem(): remove the last arbitrary item(pair)\n",
    "info = {'name': 'ayush sambharwal', 'section': 3, 'subject': 'python', 'roll_no': 47}\n",
    "val = info.popitem()\n",
    "info.popitem()\n",
    "print('deleted value', val)\n",
    "print(info)"
   ]
  },
  {
   "cell_type": "code",
   "execution_count": 49,
   "metadata": {},
   "outputs": [
    {
     "name": "stdout",
     "output_type": "stream",
     "text": [
      "value: 8.5\n",
      "{'name': 'ayush sambharwal', 'section': 3, 'subject': 'python', 'roll_no': 47, 'CPI': 8.5}\n"
     ]
    }
   ],
   "source": [
    "# setdefault(): add the default key in a dictionary\n",
    "info = {'name': 'ayush sambharwal', 'section': 3, 'subject': 'python', 'roll_no': 47}\n",
    "val = info.setdefault('CPI', 8.5)\n",
    "print('value:', val)\n",
    "print(info)"
   ]
  },
  {
   "cell_type": "code",
   "execution_count": 50,
   "metadata": {},
   "outputs": [
    {
     "name": "stdout",
     "output_type": "stream",
     "text": [
      "{'name': 'Hunny', 'section': 34, 'cpi': 8.6}\n"
     ]
    }
   ],
   "source": [
    "# update() : merge two dictionary \n",
    "info1 = {'name': 'Ravi', 'section': 34}\n",
    "info2 = {'cpi': 8.6, 'name':'Hunny'}\n",
    "info1.update(info2)\n",
    "print(info1)"
   ]
  },
  {
   "cell_type": "code",
   "execution_count": 3,
   "metadata": {},
   "outputs": [
    {
     "data": {
      "text/plain": [
       "'😓'"
      ]
     },
     "execution_count": 3,
     "metadata": {},
     "output_type": "execute_result"
    }
   ],
   "source": [
    "chr(128531)"
   ]
  }
 ],
 "metadata": {
  "kernelspec": {
   "display_name": "Python 3",
   "language": "python",
   "name": "python3"
  },
  "language_info": {
   "codemirror_mode": {
    "name": "ipython",
    "version": 3
   },
   "file_extension": ".py",
   "mimetype": "text/x-python",
   "name": "python",
   "nbconvert_exporter": "python",
   "pygments_lexer": "ipython3",
   "version": "3.10.7"
  },
  "orig_nbformat": 4,
  "vscode": {
   "interpreter": {
    "hash": "490f1c68ed42f2c5a574e22fb9e03ff49b98516de8582ff1c5d4fb43fb70f61b"
   }
  }
 },
 "nbformat": 4,
 "nbformat_minor": 2
}
