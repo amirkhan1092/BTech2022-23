{
 "cells": [
  {
   "cell_type": "code",
   "execution_count": 6,
   "metadata": {},
   "outputs": [
    {
     "name": "stdout",
     "output_type": "stream",
     "text": [
      "\n",
      "orignal data\n",
      "hello python\n",
      "programming\n",
      "section L IIOTnext textnext textt\n",
      "Word to be replaced: python\n",
      "new word: world\n",
      "\n",
      "After Modification\n",
      "hello world\n",
      "programming\n",
      "section L IIOTnext textnext texttt\n"
     ]
    }
   ],
   "source": [
    "\n",
    "f = open('sample.txt', 'r+')\n",
    "data = f.read()\n",
    "print(f'\\norignal data\\n{data}')\n",
    "word = input(\"Enter the word to be replaced: \")\n",
    "new = input(\"Enter the new word: \")\n",
    "print(f'Word to be replaced: {word}')\n",
    "print(f'new word: {new}')\n",
    "new_data = data.replace(word, new)\n",
    "f.seek(0, 0)  # set the cursor location to begining to write new data\n",
    "f.write(new_data)\n",
    "f.seek(0)  # set cursor location to begining to read back \n",
    "data = f.read()\n",
    "print(f'\\nAfter Modification\\n{data}')\n",
    "f.close()"
   ]
  }
 ],
 "metadata": {
  "kernelspec": {
   "display_name": "Python 3",
   "language": "python",
   "name": "python3"
  },
  "language_info": {
   "codemirror_mode": {
    "name": "ipython",
    "version": 3
   },
   "file_extension": ".py",
   "mimetype": "text/x-python",
   "name": "python",
   "nbconvert_exporter": "python",
   "pygments_lexer": "ipython3",
   "version": "3.10.7"
  },
  "orig_nbformat": 4,
  "vscode": {
   "interpreter": {
    "hash": "490f1c68ed42f2c5a574e22fb9e03ff49b98516de8582ff1c5d4fb43fb70f61b"
   }
  }
 },
 "nbformat": 4,
 "nbformat_minor": 2
}
