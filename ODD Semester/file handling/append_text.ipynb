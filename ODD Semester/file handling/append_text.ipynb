{
 "cells": [
  {
   "cell_type": "code",
   "execution_count": 6,
   "metadata": {},
   "outputs": [
    {
     "name": "stdout",
     "output_type": "stream",
     "text": [
      "hello python\n",
      "programming\n",
      "section L IIOTnext textnext text\n"
     ]
    }
   ],
   "source": [
    "# a/a+\n",
    "\n",
    "with open('sample.txt') as f:\n",
    "    print(f.read())\n"
   ]
  },
  {
   "cell_type": "code",
   "execution_count": 8,
   "metadata": {},
   "outputs": [
    {
     "name": "stdout",
     "output_type": "stream",
     "text": [
      "hello python\n",
      "programming\n",
      "section L IIOTnext textnext text\n"
     ]
    }
   ],
   "source": [
    "f = open('sample.txt', 'a+')\n",
    "f.write('My text')\n",
    "f.seek(0, 0)\n",
    "data = f.read()\n",
    "print(data)\n",
    "f.close()"
   ]
  },
  {
   "cell_type": "code",
   "execution_count": 1,
   "metadata": {},
   "outputs": [
    {
     "name": "stdout",
     "output_type": "stream",
     "text": [
      "57\n"
     ]
    }
   ],
   "source": [
    "'''\n",
    "1. open\n",
    "2. write()/read()\n",
    "3. close\n",
    "'''\n",
    "# open(filename, mode='r')\n",
    "f = open('sample.txt')\n",
    "st = f.read()\n",
    "number_of_char = len(st)\n",
    "print(number_of_char)"
   ]
  },
  {
   "cell_type": "code",
   "execution_count": 5,
   "metadata": {},
   "outputs": [
    {
     "name": "stdout",
     "output_type": "stream",
     "text": [
      "Number of alphabet only 11\n"
     ]
    }
   ],
   "source": [
    "st = 'Hello Python 123 54 # $ % @'\n",
    "count_u = 0\n",
    "count_l = 0\n",
    "for i in st:\n",
    "    if i.isalpha():\n",
    "        if i.isupper():\n",
    "            count_u +=1\n",
    "        else:\n",
    "            count_l += 1    \n",
    "\n",
    "print('Number of alphabet only', count)"
   ]
  },
  {
   "cell_type": "code",
   "execution_count": 10,
   "metadata": {},
   "outputs": [
    {
     "name": "stdout",
     "output_type": "stream",
     "text": [
      "programming\n"
     ]
    }
   ],
   "source": [
    "# longest word in a file \n",
    "f = open('sample.txt')\n",
    "data = f.read()\n",
    "# list of words\n",
    "ls_word = data.split()\n",
    "# number_of_words = len(ls_word)\n",
    "out = max(ls_word, key=len)\n",
    "print(out)\n",
    "f.close()"
   ]
  },
  {
   "cell_type": "code",
   "execution_count": 16,
   "metadata": {},
   "outputs": [
    {
     "name": "stdout",
     "output_type": "stream",
     "text": [
      "section L IIOTnext textnext text\n"
     ]
    }
   ],
   "source": [
    "# longest word in a file \n",
    "f = open('sample.txt')\n",
    "data=f.readlines()\n",
    "out=max(data,key=len)\n",
    "print(out)       \n",
    "f.close()"
   ]
  }
 ],
 "metadata": {
  "kernelspec": {
   "display_name": "Python 3",
   "language": "python",
   "name": "python3"
  },
  "language_info": {
   "codemirror_mode": {
    "name": "ipython",
    "version": 3
   },
   "file_extension": ".py",
   "mimetype": "text/x-python",
   "name": "python",
   "nbconvert_exporter": "python",
   "pygments_lexer": "ipython3",
   "version": "3.10.7 (tags/v3.10.7:6cc6b13, Sep  5 2022, 14:08:36) [MSC v.1933 64 bit (AMD64)]"
  },
  "orig_nbformat": 4,
  "vscode": {
   "interpreter": {
    "hash": "490f1c68ed42f2c5a574e22fb9e03ff49b98516de8582ff1c5d4fb43fb70f61b"
   }
  }
 },
 "nbformat": 4,
 "nbformat_minor": 2
}
