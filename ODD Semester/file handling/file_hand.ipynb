{
 "cells": [
  {
   "cell_type": "code",
   "execution_count": 2,
   "metadata": {},
   "outputs": [
    {
     "data": {
      "text/plain": [
       "<function TextIOWrapper.close()>"
      ]
     },
     "execution_count": 2,
     "metadata": {},
     "output_type": "execute_result"
    }
   ],
   "source": [
    "f = open('aishvarya.mp4', 'w')\n",
    "f.write('Hello How Are You?')\n",
    "f.close"
   ]
  },
  {
   "cell_type": "code",
   "execution_count": 4,
   "metadata": {},
   "outputs": [],
   "source": [
    "import pickle\n",
    "f = open('data.txt', 'wb')\n",
    "ls = [1, 2, 3, 4, 5, 23, 4, 5, 6, 7, 8, 9, 0]\n",
    "pickle.dump(ls, f)\n",
    "f.close()"
   ]
  },
  {
   "cell_type": "code",
   "execution_count": 6,
   "metadata": {},
   "outputs": [],
   "source": [
    "import pickle\n",
    "f = open('data.txt', 'rb+')\n",
    "ls = pickle.load(f)\n",
    "ls.sort()\n",
    "f.seek(0)\n",
    "f.truncate()\n",
    "pickle.dump(ls, f)\n",
    "f.close()"
   ]
  },
  {
   "cell_type": "code",
   "execution_count": 7,
   "metadata": {},
   "outputs": [
    {
     "name": "stdout",
     "output_type": "stream",
     "text": [
      "[0, 1, 2, 3, 4, 4, 5, 5, 6, 7, 8, 9, 23]\n"
     ]
    }
   ],
   "source": [
    "f = open('data.txt', 'rb')\n",
    "ls = pickle.load(f)\n",
    "print(ls)\n",
    "f.close()"
   ]
  },
  {
   "cell_type": "code",
   "execution_count": null,
   "metadata": {},
   "outputs": [],
   "source": [
    "# additon of two matrix\n",
    "def valid_matrix(arr):\n",
    "    ln = len(arr[0])\n",
    "    for r in arr:\n",
    "        if ln != len(r):\n",
    "            return False\n",
    "    return True\n",
    "def dimension(arr):\n",
    "    return len(arr), len(arr[0])\n",
    "\n",
    "def create_matrix(r, c, ele):\n",
    "    return eval(str([[ele] * c ] * r ))\n",
    "# main code\n",
    "mat1 = [[3, 5, 1], [2, 4, 6]]\n",
    "mat2 = [[4, 6, 2], [2, 5, 8]]\n",
    "\n",
    "if valid_matrix(mat1) and valid_matrix(mat2):\n",
    "    # validity for addition\n",
    "    r1, c1 = dimension(mat1)\n",
    "    r2, c2 = dimension(mat2)\n",
    "    if (r1, c1) == (r2 ,c2):\n",
    "        mat = create_matrix(r1, c1, 0)\n",
    "        for i in range(r1):\n",
    "            for j in range(c1):\n",
    "                mat[i][j] = mat1[i][j] + mat2[i][j]\n",
    "        print('Addition of Two Matrix')\n",
    "        print('Matrix1')\n",
    "        disp_matrix(mat1)\n",
    "        print('Matrix2')\n",
    "        disp_matrix(mat2)\n",
    "        print('Result')\n",
    "        disp_matrix(mat)\n",
    "    else:\n",
    "        print('Dimension not match for Addition')"
   ]
  }
 ],
 "metadata": {
  "kernelspec": {
   "display_name": "Python 3",
   "language": "python",
   "name": "python3"
  },
  "language_info": {
   "codemirror_mode": {
    "name": "ipython",
    "version": 3
   },
   "file_extension": ".py",
   "mimetype": "text/x-python",
   "name": "python",
   "nbconvert_exporter": "python",
   "pygments_lexer": "ipython3",
   "version": "3.10.7"
  },
  "orig_nbformat": 4
 },
 "nbformat": 4,
 "nbformat_minor": 2
}
