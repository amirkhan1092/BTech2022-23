{
 "cells": [
  {
   "cell_type": "code",
   "execution_count": 1,
   "metadata": {},
   "outputs": [
    {
     "name": "stdout",
     "output_type": "stream",
     "text": [
      "Overflow Condition\n",
      "Volume of 55.0\n"
     ]
    }
   ],
   "source": [
    "h = 10\n",
    "r = 5\n",
    "F = 15\n",
    "t = int(input('Enter the time '))\n",
    "Vtank = 3.14 * r ** 2 * h\n",
    "Vwtr = F * t\n",
    "if Vtank < Vwtr:\n",
    "    print('Overflow Condition')\n",
    "    print('Volume of', Vwtr - Vtank)\n",
    "elif Vtank > Vwtr:\n",
    "    print('Underflow Condition')\n",
    "    ht = Vwtr / (3.14 * r ** 2)\n",
    "    hr = h - ht\n",
    "    print(f'Filled Height {ht}\\nRemaining Height {hr}')\n",
    "else:\n",
    "    print('Tank Full')"
   ]
  },
  {
   "cell_type": "code",
   "execution_count": null,
   "metadata": {},
   "outputs": [],
   "source": []
  }
 ],
 "metadata": {
  "kernelspec": {
   "display_name": "Python 3.10.4 64-bit",
   "language": "python",
   "name": "python3"
  },
  "language_info": {
   "codemirror_mode": {
    "name": "ipython",
    "version": 3
   },
   "file_extension": ".py",
   "mimetype": "text/x-python",
   "name": "python",
   "nbconvert_exporter": "python",
   "pygments_lexer": "ipython3",
   "version": "3.10.7"
  },
  "orig_nbformat": 4,
  "vscode": {
   "interpreter": {
    "hash": "490f1c68ed42f2c5a574e22fb9e03ff49b98516de8582ff1c5d4fb43fb70f61b"
   }
  }
 },
 "nbformat": 4,
 "nbformat_minor": 2
}
