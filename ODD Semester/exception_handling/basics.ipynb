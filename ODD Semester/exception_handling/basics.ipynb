{
 "cells": [
  {
   "cell_type": "code",
   "execution_count": null,
   "metadata": {},
   "outputs": [],
   "source": [
    "# Exception Handling \n",
    "'''\n",
    "Type of Error\n",
    "1. Syntax Error: Error before the run the program or \n",
    "errors in programming structure\n",
    "2. Exceptions(Run Time Error): Error after run the program \n",
    "3. Logical Error: Incorrect Output(accuracy of the output)/ part of testing\n",
    "'''"
   ]
  },
  {
   "cell_type": "code",
   "execution_count": 7,
   "metadata": {},
   "outputs": [
    {
     "name": "stdout",
     "output_type": "stream",
     "text": [
      "Invalid Operation\n"
     ]
    }
   ],
   "source": [
    "a = 12\n",
    "b = [123]\n",
    "try:\n",
    "    out = a + b\n",
    "    print(out)\n",
    "except:\n",
    "    print('Invalid Operation')    "
   ]
  },
  {
   "cell_type": "code",
   "execution_count": 14,
   "metadata": {},
   "outputs": [
    {
     "name": "stdout",
     "output_type": "stream",
     "text": [
      "Error Handeled division by zero\n"
     ]
    }
   ],
   "source": [
    "try:\n",
    "    out = 12 / 0\n",
    "    print(out)\n",
    "except ZeroDivisionError as e:\n",
    "    print('Error Handeled', e)"
   ]
  },
  {
   "cell_type": "code",
   "execution_count": 16,
   "metadata": {},
   "outputs": [
    {
     "ename": "TypeError",
     "evalue": "unsupported operand type(s) for +: 'int' and 'str'",
     "output_type": "error",
     "traceback": [
      "\u001b[1;31m---------------------------------------------------------------------------\u001b[0m",
      "\u001b[1;31mTypeError\u001b[0m                                 Traceback (most recent call last)",
      "Cell \u001b[1;32mIn [16], line 1\u001b[0m\n\u001b[1;32m----> 1\u001b[0m \u001b[39m4\u001b[39m \u001b[39m+\u001b[39m \u001b[39m'\u001b[39m\u001b[39mhello\u001b[39m\u001b[39m'\u001b[39m\n",
      "\u001b[1;31mTypeError\u001b[0m: unsupported operand type(s) for +: 'int' and 'str'"
     ]
    }
   ],
   "source": [
    "4 + 'hello'"
   ]
  },
  {
   "cell_type": "code",
   "execution_count": 3,
   "metadata": {},
   "outputs": [
    {
     "name": "stdout",
     "output_type": "stream",
     "text": [
      "2.3\n"
     ]
    }
   ],
   "source": [
    "# division of two number \n",
    "num1 = 23\n",
    "num2 = 10\n",
    "\n",
    "# operation\n",
    "try:\n",
    "    out = num1 / num2\n",
    "except:\n",
    "    out = None \n",
    "    print('Invalid Operation')   \n",
    "\n",
    "# output section\n",
    "print(out)"
   ]
  },
  {
   "cell_type": "code",
   "execution_count": 22,
   "metadata": {},
   "outputs": [
    {
     "name": "stdout",
     "output_type": "stream",
     "text": [
      "Start of the program \n",
      "Invalid Integer\n",
      "End of the Program\n"
     ]
    }
   ],
   "source": [
    "# user input\n",
    "print('Start of the program ')\n",
    "while True:\n",
    "    try:\n",
    "        num = int(input('Enter the integer value '))\n",
    "        print('User Integer Value', num)\n",
    "        break\n",
    "    except:\n",
    "        print('Invalid Integer')\n",
    "        print('try again')    \n",
    "\n",
    "\n",
    "print('End of the Program')"
   ]
  },
  {
   "cell_type": "code",
   "execution_count": null,
   "metadata": {},
   "outputs": [],
   "source": [
    "'''\n",
    "(1)\n",
    "try:\n",
    "    # lines\n",
    "except:\n",
    "    # lines\n",
    "\n",
    "\n",
    "(2)\n",
    "try:\n",
    "    # lines\n",
    "except:\n",
    "    # lines\n",
    "else:\n",
    "    # lines\n",
    "\n",
    "(3)\n",
    "try:\n",
    "    # lines\n",
    "except:\n",
    "    # lines\n",
    "finally:\n",
    "    # lines\n",
    "\n",
    "(4):\n",
    "try:\n",
    "    # lines\n",
    "except:\n",
    "    # lines\n",
    "else:\n",
    "    # lines\n",
    "finally:\n",
    "    #lines\n",
    "\n",
    "(5)\n",
    "try:\n",
    "    # lines\n",
    "finally:\n",
    "    # lines\n",
    "'''"
   ]
  },
  {
   "cell_type": "code",
   "execution_count": 8,
   "metadata": {},
   "outputs": [
    {
     "name": "stdout",
     "output_type": "stream",
     "text": [
      "Invalid Operation\n"
     ]
    }
   ],
   "source": [
    "# \n",
    "a = 23\n",
    "b = 0\n",
    "\n",
    "# operation\n",
    "try:\n",
    "    out = a / b\n",
    "    print(out)\n",
    "except:\n",
    "    print('Invalid Operation')    "
   ]
  },
  {
   "cell_type": "code",
   "execution_count": 11,
   "metadata": {},
   "outputs": [
    {
     "name": "stdout",
     "output_type": "stream",
     "text": [
      "Invalid Integer value\n",
      "Try Again\n",
      "Invalid Integer value\n",
      "Try Again\n",
      "User input Integer 56\n"
     ]
    }
   ],
   "source": [
    "while 1:\n",
    "    try:\n",
    "        num = int(input())\n",
    "        print(f'User input Integer {num}')\n",
    "        break\n",
    "    except:\n",
    "        print('Invalid Integer value\\nTry Again')    "
   ]
  },
  {
   "cell_type": "code",
   "execution_count": 23,
   "metadata": {},
   "outputs": [
    {
     "name": "stdout",
     "output_type": "stream",
     "text": [
      "start\n",
      "Error division by zero\n",
      "stop\n"
     ]
    }
   ],
   "source": [
    "print('start')\n",
    "try:\n",
    "    out = 4 + 101\n",
    "    b = 0\n",
    "    print(out/b)\n",
    "except (TypeError, ZeroDivisionError) as e:\n",
    "    print('Error', e)\n",
    "finally:\n",
    "    print('stop')        "
   ]
  },
  {
   "cell_type": "code",
   "execution_count": 9,
   "metadata": {},
   "outputs": [
    {
     "name": "stdout",
     "output_type": "stream",
     "text": [
      "Outer Exception\n"
     ]
    }
   ],
   "source": [
    "try:\n",
    "    try:\n",
    "        raise IndexError\n",
    "    except Exception :\n",
    "        print('Error handled')\n",
    "except:\n",
    "    print('Outer Exception')        \n"
   ]
  },
  {
   "cell_type": "code",
   "execution_count": 18,
   "metadata": {},
   "outputs": [
    {
     "ename": "KeyError",
     "evalue": "'shraddha'",
     "output_type": "error",
     "traceback": [
      "\u001b[1;31m---------------------------------------------------------------------------\u001b[0m",
      "\u001b[1;31mKeyError\u001b[0m                                  Traceback (most recent call last)",
      "Cell \u001b[1;32mIn [18], line 2\u001b[0m\n\u001b[0;32m      1\u001b[0m info \u001b[39m=\u001b[39m {\u001b[39m'\u001b[39m\u001b[39mname\u001b[39m\u001b[39m'\u001b[39m:\u001b[39m'\u001b[39m\u001b[39mmradul\u001b[39m\u001b[39m'\u001b[39m,\u001b[39m'\u001b[39m\u001b[39mroll\u001b[39m\u001b[39m'\u001b[39m:\u001b[39m75\u001b[39m}\n\u001b[1;32m----> 2\u001b[0m info [\u001b[39m'\u001b[39m\u001b[39mshraddha\u001b[39m\u001b[39m'\u001b[39m]\n",
      "\u001b[1;31mKeyError\u001b[0m: 'shraddha'"
     ]
    }
   ],
   "source": [
    "info = {'name':'mradul','roll':75}\n",
    "info ['shraddha']\n",
    "\n"
   ]
  },
  {
   "cell_type": "code",
   "execution_count": 2,
   "metadata": {},
   "outputs": [
    {
     "ename": "IndexError",
     "evalue": "string index out of range",
     "output_type": "error",
     "traceback": [
      "\u001b[1;31m---------------------------------------------------------------------------\u001b[0m",
      "\u001b[1;31mIndexError\u001b[0m                                Traceback (most recent call last)",
      "Cell \u001b[1;32mIn [2], line 2\u001b[0m\n\u001b[0;32m      1\u001b[0m a \u001b[39m=\u001b[39m \u001b[39m'\u001b[39m\u001b[39mhello\u001b[39m\u001b[39m'\u001b[39m\n\u001b[1;32m----> 2\u001b[0m out \u001b[39m=\u001b[39m a[\u001b[39m5\u001b[39m]\n\u001b[0;32m      3\u001b[0m \u001b[39mprint\u001b[39m(out)\n",
      "\u001b[1;31mIndexError\u001b[0m: string index out of range"
     ]
    }
   ],
   "source": [
    "a = 'hello'\n",
    "out = a[5]\n",
    "print(out)"
   ]
  },
  {
   "cell_type": "code",
   "execution_count": 12,
   "metadata": {},
   "outputs": [
    {
     "data": {
      "text/plain": [
       "'h'"
      ]
     },
     "execution_count": 12,
     "metadata": {},
     "output_type": "execute_result"
    }
   ],
   "source": [
    "# raise IndexError('User generated error')\n",
    "'hello'[0]"
   ]
  },
  {
   "cell_type": "code",
   "execution_count": 11,
   "metadata": {},
   "outputs": [
    {
     "name": "stdout",
     "output_type": "stream",
     "text": [
      "20\n"
     ]
    }
   ],
   "source": [
    "try:\n",
    "    try:\n",
    "        a = 20\n",
    "        print(a)\n",
    "    except ZeroDivisionError:\n",
    "        print('Error')\n",
    "except:\n",
    "    print('Outer Exception')        \n"
   ]
  },
  {
   "cell_type": "code",
   "execution_count": 21,
   "metadata": {},
   "outputs": [],
   "source": [
    "def prime(n: int)->bool:\n",
    "    '''This is the function to check wheather \n",
    "    given number is prime of not'''\n",
    "    count = 0\n",
    "    for i in range(1, n+1):\n",
    "        if n % i == 0:\n",
    "            count += 1\n",
    "    return count == 2\n",
    "\n"
   ]
  },
  {
   "cell_type": "code",
   "execution_count": 22,
   "metadata": {},
   "outputs": [
    {
     "name": "stdout",
     "output_type": "stream",
     "text": [
      "This is the function to check wheather \n",
      "    given number is prime of not\n"
     ]
    }
   ],
   "source": [
    "out = prime(3)\n",
    "print(out)"
   ]
  },
  {
   "cell_type": "code",
   "execution_count": 11,
   "metadata": {},
   "outputs": [
    {
     "name": "stdout",
     "output_type": "stream",
     "text": [
      "b'Anjd\\xe2\\x9d\\xa4\\xef\\xb8\\x8f'\n"
     ]
    }
   ],
   "source": [
    "k = 'Anjd❤️'\n",
    "data = k.encode()\n",
    "\n",
    "print(data)"
   ]
  },
  {
   "cell_type": "code",
   "execution_count": 12,
   "metadata": {},
   "outputs": [
    {
     "name": "stdout",
     "output_type": "stream",
     "text": [
      "❤️\n"
     ]
    }
   ],
   "source": [
    "k = b'\\xe2\\x9d\\xa4\\xef\\xb8\\x8f'\n",
    "out = k.decode()\n",
    "print(out)"
   ]
  }
 ],
 "metadata": {
  "kernelspec": {
   "display_name": "Python 3",
   "language": "python",
   "name": "python3"
  },
  "language_info": {
   "codemirror_mode": {
    "name": "ipython",
    "version": 3
   },
   "file_extension": ".py",
   "mimetype": "text/x-python",
   "name": "python",
   "nbconvert_exporter": "python",
   "pygments_lexer": "ipython3",
   "version": "3.10.7"
  },
  "orig_nbformat": 4,
  "vscode": {
   "interpreter": {
    "hash": "490f1c68ed42f2c5a574e22fb9e03ff49b98516de8582ff1c5d4fb43fb70f61b"
   }
  }
 },
 "nbformat": 4,
 "nbformat_minor": 2
}
