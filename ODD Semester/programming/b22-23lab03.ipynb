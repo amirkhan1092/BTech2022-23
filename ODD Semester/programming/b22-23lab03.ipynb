{
 "cells": [
  {
   "cell_type": "code",
   "execution_count": null,
   "metadata": {},
   "outputs": [],
   "source": [
    "# divisibility check\n",
    "\n",
    "n = int(input())\n",
    "d1 = int(input())\n",
    "d2 = int(input())\n",
    "\n",
    "if n % d1 == 0 and n % d2 == 0:\n",
    "    print('Yes.')\n",
    "else:\n",
    "    print('No.')"
   ]
  },
  {
   "cell_type": "code",
   "execution_count": null,
   "metadata": {},
   "outputs": [],
   "source": [
    "# Vowel or Consonant 1\n",
    "ch = input().lower()\n",
    "\n",
    "if ch in 'aeiou':\n",
    "    print('Vowel.')\n",
    "elif ch.isalpha():\n",
    "    print('Consonant.')\n",
    "else:\n",
    "    print('Not an alphabet.')"
   ]
  },
  {
   "cell_type": "code",
   "execution_count": 1,
   "metadata": {},
   "outputs": [
    {
     "name": "stdout",
     "output_type": "stream",
     "text": [
      "15\n"
     ]
    }
   ],
   "source": [
    "# sum of n natural numbers\n",
    "num = int(input())\n",
    "# method 1\n",
    "out = num * (num + 1) // 2\n",
    "print(out)"
   ]
  },
  {
   "cell_type": "code",
   "execution_count": 2,
   "metadata": {},
   "outputs": [
    {
     "name": "stdout",
     "output_type": "stream",
     "text": [
      "1010\n"
     ]
    }
   ],
   "source": [
    "# binary conversion\n",
    "num = int(input())\n",
    "out = bin(num)[2:]\n",
    "print(out)\n",
    "\n",
    "\n",
    "# method 2\n",
    "num = int(input())\n",
    "\n",
    "while num != 0:\n",
    "    re = num % 2\n",
    "    print(re, end='')\n",
    "    num //= 2\n",
    "    "
   ]
  },
  {
   "cell_type": "code",
   "execution_count": null,
   "metadata": {},
   "outputs": [],
   "source": [
    "# Remainder 3\n",
    "n1, n2 = map(int, input().split())\n",
    "while n1 >= n2:\n",
    "    n1 -= n2\n",
    "print(n1)    "
   ]
  },
  {
   "cell_type": "code",
   "execution_count": null,
   "metadata": {},
   "outputs": [],
   "source": [
    "# Armstrong number 22\n",
    "num = input()\n",
    "ln = len(num)\n",
    "s = 0\n",
    "for i in num:\n",
    "    s += int(i) ** ln\n",
    "print('Armstrong Number.' if s == int(num) else 'Not Armstrong.')     "
   ]
  },
  {
   "cell_type": "code",
   "execution_count": null,
   "metadata": {},
   "outputs": [],
   "source": [
    "# Wonderful Chocolate Offer\n",
    "\n",
    "C = int(input())\n",
    "N = int(input())\n",
    "D = int(input())\n",
    "\n",
    "out = C + N * D - N\n",
    "print(out)"
   ]
  },
  {
   "cell_type": "code",
   "execution_count": null,
   "metadata": {},
   "outputs": [],
   "source": [
    "# Encoded name\n",
    "ls = input().split('&')\n",
    "out = ''.join(map(chr, map(int, ls)))\n",
    "print(out)"
   ]
  },
  {
   "cell_type": "code",
   "execution_count": null,
   "metadata": {},
   "outputs": [],
   "source": [
    "# Floor and ceil\n",
    "num = eval(input())\n",
    "floor = num // 1\n",
    "ceil = -(- num // 1)\n",
    "print(f'{floor:0.6f}\\n{ceil:0.6f}')"
   ]
  },
  {
   "cell_type": "code",
   "execution_count": null,
   "metadata": {},
   "outputs": [],
   "source": [
    "# hungry friends\n",
    "\n",
    "jalebi = int(input())\n",
    "\n",
    "if jalebi == 2:\n",
    "    print('NOT PLAY')\n",
    "elif jalebi % 2 == 0:\n",
    "    print('PLAY')\n",
    "else:\n",
    "    print('NOT PLAY')"
   ]
  },
  {
   "cell_type": "code",
   "execution_count": null,
   "metadata": {},
   "outputs": [],
   "source": []
  }
 ],
 "metadata": {
  "kernelspec": {
   "display_name": "Python 3.10.7 64-bit",
   "language": "python",
   "name": "python3"
  },
  "language_info": {
   "codemirror_mode": {
    "name": "ipython",
    "version": 3
   },
   "file_extension": ".py",
   "mimetype": "text/x-python",
   "name": "python",
   "nbconvert_exporter": "python",
   "pygments_lexer": "ipython3",
   "version": "3.10.7"
  },
  "orig_nbformat": 4,
  "vscode": {
   "interpreter": {
    "hash": "490f1c68ed42f2c5a574e22fb9e03ff49b98516de8582ff1c5d4fb43fb70f61b"
   }
  }
 },
 "nbformat": 4,
 "nbformat_minor": 2
}
