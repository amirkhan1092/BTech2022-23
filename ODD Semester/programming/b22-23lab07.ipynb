{
 "cells": [
  {
   "cell_type": "code",
   "execution_count": 1,
   "metadata": {},
   "outputs": [
    {
     "name": "stdout",
     "output_type": "stream",
     "text": [
      "         *\n",
      "        * *\n",
      "       *   *\n",
      "      *******\n",
      "     *       *\n",
      "    *         *\n",
      "   *           *\n",
      "  *             *\n",
      " *               *\n",
      "*                 *\n"
     ]
    }
   ],
   "source": [
    "# pattern A\n",
    "rows = int(input())\n",
    "pos = int(input())\n",
    "\n",
    "for i in range(1, rows+1):\n",
    "    print(' '*(rows-i), end='')\n",
    "    for j in range(2*i-1):\n",
    "        if j == 0 or j == 2 * i - 2 or i == pos:\n",
    "            print(end='*')\n",
    "        else:\n",
    "            print(end=' ')\n",
    "    print()        "
   ]
  },
  {
   "cell_type": "code",
   "execution_count": 2,
   "metadata": {},
   "outputs": [
    {
     "name": "stdout",
     "output_type": "stream",
     "text": [
      "2\n"
     ]
    }
   ],
   "source": [
    "# harry to hogwarts\n",
    "# Path: hackerrank b22-23labxx\\b22-23lab08.ipynb\n",
    "num = input()\n",
    "count = 0\n",
    "while num != '6174':\n",
    "    raw = ''.join(sorted(num))\n",
    "    x = raw\n",
    "    y = raw[::-1]\n",
    "    num = str(abs(int(x)-int(y)))\n",
    "    count += 1\n",
    "print(count)\n",
    "    "
   ]
  },
  {
   "cell_type": "code",
   "execution_count": 4,
   "metadata": {},
   "outputs": [
    {
     "name": "stdout",
     "output_type": "stream",
     "text": [
      "YES\n"
     ]
    }
   ],
   "source": [
    "# Possibility Match of string\n",
    "n = int(input())\n",
    "for i in range(n):\n",
    "    a = input().upper()\n",
    "    b = input()\n",
    "    for ch in b:\n",
    "        if ch not in a:\n",
    "            print('NO')\n",
    "            break\n",
    "    else:\n",
    "        print('YES')"
   ]
  },
  {
   "cell_type": "code",
   "execution_count": 5,
   "metadata": {},
   "outputs": [
    {
     "name": "stdout",
     "output_type": "stream",
     "text": [
      "4\n"
     ]
    }
   ],
   "source": [
    "# binary social distancing\n",
    "width = int(input())\n",
    "count = 0\n",
    "for i in range(1, 2 ** width):\n",
    "    if '11' not in bin(i):\n",
    "        count += 1\n",
    "print(count)"
   ]
  },
  {
   "cell_type": "code",
   "execution_count": 6,
   "metadata": {},
   "outputs": [
    {
     "name": "stdout",
     "output_type": "stream",
     "text": [
      "1\n"
     ]
    }
   ],
   "source": [
    "# list of anagram\n",
    "lst1 = eval(input())\n",
    "lst2 = eval(input())\n",
    "count = 0\n",
    "for i in lst1:\n",
    "    for j in lst2:\n",
    "        if sorted(i) == sorted(j):\n",
    "            count += 1\n",
    "print(count)"
   ]
  }
 ],
 "metadata": {
  "kernelspec": {
   "display_name": "Python 3",
   "language": "python",
   "name": "python3"
  },
  "language_info": {
   "codemirror_mode": {
    "name": "ipython",
    "version": 3
   },
   "file_extension": ".py",
   "mimetype": "text/x-python",
   "name": "python",
   "nbconvert_exporter": "python",
   "pygments_lexer": "ipython3",
   "version": "3.10.7 (tags/v3.10.7:6cc6b13, Sep  5 2022, 14:08:36) [MSC v.1933 64 bit (AMD64)]"
  },
  "orig_nbformat": 4,
  "vscode": {
   "interpreter": {
    "hash": "490f1c68ed42f2c5a574e22fb9e03ff49b98516de8582ff1c5d4fb43fb70f61b"
   }
  }
 },
 "nbformat": 4,
 "nbformat_minor": 2
}
