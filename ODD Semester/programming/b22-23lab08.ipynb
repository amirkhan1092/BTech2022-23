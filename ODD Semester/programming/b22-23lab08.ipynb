{
 "cells": [
  {
   "cell_type": "code",
   "execution_count": 6,
   "metadata": {},
   "outputs": [
    {
     "name": "stdout",
     "output_type": "stream",
     "text": [
      "1\n"
     ]
    }
   ],
   "source": [
    "# hackerrank.com/b22-23lab08\n",
    "# The Soap Mystery\n",
    "# https://www.hackerrank.com/challenges/soap-mystery/problem\n",
    "n = int(input())  # total number of soaps in the shop\n",
    "prices = list(map(int, input().split()))\n",
    "nq = int(input())  # number of query \n",
    "for _ in range(nq):\n",
    "    qe = int(input())\n",
    "    out = sum(i < qe for i in prices)\n",
    "    print(out)"
   ]
  },
  {
   "cell_type": "code",
   "execution_count": null,
   "metadata": {},
   "outputs": [],
   "source": [
    "# prime sort \n",
    "def prime_sort(num):\n",
    "    n = int(num)\n",
    "    if n <= 1:\n",
    "        return 100\n",
    "    for i in range(2, n):\n",
    "        if n % i == 0:\n",
    "            return 100\n",
    "    return n    \n",
    "    \n",
    "\n",
    "raw_data = input()[1:-1]  # read all digits as string after truncate the string \"\"\n",
    "out = ''.join(sorted(raw_data, key=prime_sort))\n",
    "print(f'\"{out}\"')"
   ]
  },
  {
   "cell_type": "code",
   "execution_count": null,
   "metadata": {},
   "outputs": [],
   "source": [
    "# Bitwise complement\n",
    "ls = list(map(int, input().split()))\n",
    "s = 0\n",
    "for i in ls:\n",
    "    s += ~i\n",
    "print('YES' if '0' in str(s) else 'NO')\n",
    "    "
   ]
  },
  {
   "cell_type": "code",
   "execution_count": null,
   "metadata": {},
   "outputs": [],
   "source": [
    "#Similar Char 1\n",
    "\n",
    "num = int(input())\n",
    "raw = input()\n",
    "q = int(input())\n",
    "for _ in range(q):\n",
    "    pos = int(input())\n",
    "    out = raw[:pos-1].count(raw[pos-1])\n",
    "    print(out)"
   ]
  },
  {
   "cell_type": "code",
   "execution_count": null,
   "metadata": {},
   "outputs": [],
   "source": [
    "# Days2Years\n",
    "days = int(input())\n",
    "\n",
    "years = days // 365\n",
    "days %= 365\n",
    "\n",
    "weeks = days // 7\n",
    "days %= 7\n",
    "\n",
    "print(years, weeks, days, sep='\\n')"
   ]
  },
  {
   "cell_type": "code",
   "execution_count": null,
   "metadata": {},
   "outputs": [],
   "source": [
    "# Level Zero Up Down\n",
    "num = int(input())\n",
    "elements = list(map(int, input().split()))\n",
    "pos = 0\n",
    "neg = 0\n",
    "zeros = 0\n",
    "for i in elements:\n",
    "    if i > 0:\n",
    "        pos += 1\n",
    "    elif i < 0:\n",
    "        neg += 1\n",
    "    else:\n",
    "        zeros += 1\n",
    "print(f'{pos/num:.6f}\\n{neg/num:.6f}\\n{zeros/num:.6f}')"
   ]
  }
 ],
 "metadata": {
  "kernelspec": {
   "display_name": "Python 3",
   "language": "python",
   "name": "python3"
  },
  "language_info": {
   "codemirror_mode": {
    "name": "ipython",
    "version": 3
   },
   "file_extension": ".py",
   "mimetype": "text/x-python",
   "name": "python",
   "nbconvert_exporter": "python",
   "pygments_lexer": "ipython3",
   "version": "3.10.7"
  },
  "orig_nbformat": 4,
  "vscode": {
   "interpreter": {
    "hash": "490f1c68ed42f2c5a574e22fb9e03ff49b98516de8582ff1c5d4fb43fb70f61b"
   }
  }
 },
 "nbformat": 4,
 "nbformat_minor": 2
}
