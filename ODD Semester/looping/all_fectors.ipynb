{
 "cells": [
  {
   "cell_type": "code",
   "execution_count": 18,
   "metadata": {},
   "outputs": [
    {
     "name": "stdout",
     "output_type": "stream",
     "text": [
      "not a primeno.\n"
     ]
    }
   ],
   "source": [
    "# num = int(input(''))\n",
    "num = 4\n",
    "k=0\n",
    "for i in range(1, num+1):\n",
    "    if num % i == 0:\n",
    "        k+=1\n",
    "if(k==2):\n",
    "    print(\"prime no.\")\n",
    "else:\n",
    "    print(\"not a primeno.\")\n",
    "         \n",
    "# output  1, 2, 3, 4, 6, 12"
   ]
  },
  {
   "cell_type": "code",
   "execution_count": 19,
   "metadata": {},
   "outputs": [
    {
     "name": "stdout",
     "output_type": "stream",
     "text": [
      "the number is perfect\n"
     ]
    }
   ],
   "source": [
    "# sum of all the divisors\n",
    "# num=int(input(\"Enter a no.:\"))\n",
    "num = 28\n",
    "s=0\n",
    "for i in range(1, num):\n",
    "    if num%i==0:\n",
    "        s+=i\n",
    "\n",
    "if s==num:\n",
    "    print(\"the number is perfect\")\n",
    "else:\n",
    "    print(\"the number isnnot perfect\")"
   ]
  }
 ],
 "metadata": {
  "kernelspec": {
   "display_name": "Python 3.10.7 64-bit",
   "language": "python",
   "name": "python3"
  },
  "language_info": {
   "codemirror_mode": {
    "name": "ipython",
    "version": 3
   },
   "file_extension": ".py",
   "mimetype": "text/x-python",
   "name": "python",
   "nbconvert_exporter": "python",
   "pygments_lexer": "ipython3",
   "version": "3.10.7"
  },
  "orig_nbformat": 4,
  "vscode": {
   "interpreter": {
    "hash": "490f1c68ed42f2c5a574e22fb9e03ff49b98516de8582ff1c5d4fb43fb70f61b"
   }
  }
 },
 "nbformat": 4,
 "nbformat_minor": 2
}
