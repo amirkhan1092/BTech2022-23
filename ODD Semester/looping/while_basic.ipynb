{
 "cells": [
  {
   "cell_type": "code",
   "execution_count": null,
   "metadata": {},
   "outputs": [],
   "source": [
    "# while loop: condition cotrolled loop"
   ]
  },
  {
   "cell_type": "code",
   "execution_count": 4,
   "metadata": {},
   "outputs": [
    {
     "name": "stdout",
     "output_type": "stream",
     "text": [
      "hello\n",
      "hello\n",
      "hello\n"
     ]
    }
   ],
   "source": [
    "num = 3\n",
    "while num > 0:\n",
    "    print('hello')\n",
    "    num = num -1\n"
   ]
  },
  {
   "cell_type": "code",
   "execution_count": null,
   "metadata": {},
   "outputs": [],
   "source": [
    "# natural sum using while loop\n",
    "num = 3\n",
    "s = 0\n",
    "while num > 0:\n",
    "    s += num\n",
    "    num -= 1\n",
    "print(s)    "
   ]
  },
  {
   "cell_type": "code",
   "execution_count": 5,
   "metadata": {},
   "outputs": [
    {
     "name": "stdout",
     "output_type": "stream",
     "text": [
      "3\n"
     ]
    }
   ],
   "source": [
    "# input section\n",
    "n1, n2 = input().split()   # ['10', '212']\n",
    "n1 = int(n1)\n",
    "n2 = int(n2)\n",
    "k = int(input())\n",
    "# logic section\n",
    "re1 = n1 & n2\n",
    "re2 = n1 | n2\n",
    "re3 = n1 ^ n2\n",
    "\n",
    "# re1 = re1 * (re1 < k)\n",
    "\n",
    "if re1 > k:\n",
    "    re1 = 0\n",
    "if re2 > k:\n",
    "    re2 = 0\n",
    "if re3 > k:\n",
    "    re3 = 0\n",
    "out = max(re1, re2, re3)\n",
    "\n",
    "# display section \n",
    "print(out)"
   ]
  },
  {
   "cell_type": "code",
   "execution_count": 12,
   "metadata": {},
   "outputs": [
    {
     "name": "stdout",
     "output_type": "stream",
     "text": [
      "hello\n",
      "hello\n",
      "hello\n"
     ]
    }
   ],
   "source": [
    "num = 3\n",
    "while num > 0:\n",
    "    print('hello')\n",
    "    num -= 1"
   ]
  },
  {
   "cell_type": "code",
   "execution_count": 17,
   "metadata": {},
   "outputs": [
    {
     "name": "stdout",
     "output_type": "stream",
     "text": [
      "15\n"
     ]
    }
   ],
   "source": [
    "# natural sum\n",
    "num = 5\n",
    "s = 0\n",
    "while num > 0:\n",
    "    s = s + num\n",
    "    num -= 1\n",
    "\n",
    "print(s)"
   ]
  },
  {
   "cell_type": "code",
   "execution_count": 18,
   "metadata": {},
   "outputs": [
    {
     "name": "stdout",
     "output_type": "stream",
     "text": [
      "120\n"
     ]
    }
   ],
   "source": [
    "# factorial\n",
    "num = 5\n",
    "f = 1\n",
    "while num > 0:\n",
    "    f *= num\n",
    "    num -= 1\n",
    "print(f)"
   ]
  },
  {
   "cell_type": "code",
   "execution_count": null,
   "metadata": {},
   "outputs": [],
   "source": []
  },
  {
   "cell_type": "code",
   "execution_count": 25,
   "metadata": {},
   "outputs": [
    {
     "name": "stdout",
     "output_type": "stream",
     "text": [
      "0 1 2 3 4 5 6 7 8 9 \n",
      "Loop Completed\n"
     ]
    }
   ],
   "source": [
    "# else part of for loop\n",
    "for i in range(10):\n",
    "    if i > 50:\n",
    "        break\n",
    "    print(i, end=' ')\n",
    "else:\n",
    "    print('\\nLoop Completed')    "
   ]
  },
  {
   "cell_type": "code",
   "execution_count": 44,
   "metadata": {},
   "outputs": [
    {
     "name": "stdout",
     "output_type": "stream",
     "text": [
      "hello\n",
      "End of while\n"
     ]
    }
   ],
   "source": [
    "num = 1\n",
    "while num > 0:\n",
    "    print('hello')\n",
    "    num = 0\n",
    "else:\n",
    "    print('End of while')    "
   ]
  },
  {
   "cell_type": "code",
   "execution_count": 37,
   "metadata": {},
   "outputs": [
    {
     "name": "stdout",
     "output_type": "stream",
     "text": [
      "120\n"
     ]
    }
   ],
   "source": [
    "# factorial \n",
    "num=5\n",
    "s=1\n",
    "while num>0:\n",
    "    s=s*num\n",
    "    num=num-1\n",
    "print(s)\n"
   ]
  },
  {
   "cell_type": "code",
   "execution_count": 43,
   "metadata": {},
   "outputs": [
    {
     "name": "stdout",
     "output_type": "stream",
     "text": [
      "0 1 2 3 4 5 Loop completed\n"
     ]
    }
   ],
   "source": [
    "# else part of loop\n",
    "# keyword pass/continue/break\n",
    "\n",
    "for i in range(10):\n",
    "    if i > 5:\n",
    "        pass\n",
    "    print(i, end=' ')\n",
    "else:\n",
    "    print('Loop completed')    \n"
   ]
  },
  {
   "cell_type": "code",
   "execution_count": null,
   "metadata": {},
   "outputs": [],
   "source": [
    "def apna_fun():\n",
    "    pass\n",
    "    # write logic here\n"
   ]
  },
  {
   "cell_type": "code",
   "execution_count": null,
   "metadata": {},
   "outputs": [],
   "source": [
    "num = 23\n",
    "for i in range(2, num):\n",
    "    if num % i == 0:\n",
    "        print('Not a prime number')\n",
    "        break\n",
    "else:\n",
    "    print(\"Prime Number\")     -       "
   ]
  }
 ],
 "metadata": {
  "kernelspec": {
   "display_name": "Python 3.10.7 64-bit",
   "language": "python",
   "name": "python3"
  },
  "language_info": {
   "codemirror_mode": {
    "name": "ipython",
    "version": 3
   },
   "file_extension": ".py",
   "mimetype": "text/x-python",
   "name": "python",
   "nbconvert_exporter": "python",
   "pygments_lexer": "ipython3",
   "version": "3.10.7"
  },
  "orig_nbformat": 4,
  "vscode": {
   "interpreter": {
    "hash": "490f1c68ed42f2c5a574e22fb9e03ff49b98516de8582ff1c5d4fb43fb70f61b"
   }
  }
 },
 "nbformat": 4,
 "nbformat_minor": 2
}
