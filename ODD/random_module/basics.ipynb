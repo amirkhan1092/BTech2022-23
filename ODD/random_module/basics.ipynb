{
 "cells": [
  {
   "cell_type": "code",
   "execution_count": 1,
   "metadata": {},
   "outputs": [],
   "source": [
    "# random Module: Standard module in Python\n",
    "# random variable generator\n",
    "import random"
   ]
  },
  {
   "cell_type": "code",
   "execution_count": 11,
   "metadata": {},
   "outputs": [
    {
     "name": "stdout",
     "output_type": "stream",
     "text": [
      "20\n"
     ]
    }
   ],
   "source": [
    "ls = [3, 5, 6, 31, 20]\n",
    "out = random.choice(ls)\n",
    "print(out)"
   ]
  },
  {
   "cell_type": "code",
   "execution_count": 27,
   "metadata": {},
   "outputs": [
    {
     "name": "stdout",
     "output_type": "stream",
     "text": [
      "11\n"
     ]
    }
   ],
   "source": [
    "# randrange(): return random integer within the range with step size \n",
    "out = random.randrange(1, 55, 10)\n",
    "print(out)"
   ]
  },
  {
   "cell_type": "code",
   "execution_count": 35,
   "metadata": {},
   "outputs": [
    {
     "name": "stdout",
     "output_type": "stream",
     "text": [
      "18\n"
     ]
    }
   ],
   "source": [
    "# randint(): return the random intger within the range only without step size\n",
    "out = random.randint(1, 20)\n",
    "print(out)"
   ]
  },
  {
   "cell_type": "code",
   "execution_count": 44,
   "metadata": {},
   "outputs": [
    {
     "name": "stdout",
     "output_type": "stream",
     "text": [
      "You Win with score 19\n"
     ]
    }
   ],
   "source": [
    "number = random.randint(1, 100)\n",
    "count = 20\n",
    "while 1:\n",
    "    user_number = int(input('Guess the number between 1 to 100 '))\n",
    "    count -= 1\n",
    "    if user_number == number:\n",
    "        print('You Win', 'with score', count)\n",
    "        break\n",
    "    elif user_number < number:\n",
    "        print('Smaller Number ')\n",
    "    else:\n",
    "        print('Greater Number ')  \n",
    "    print(f'Attempt Left {count}')      \n"
   ]
  },
  {
   "cell_type": "code",
   "execution_count": 58,
   "metadata": {},
   "outputs": [
    {
     "name": "stdout",
     "output_type": "stream",
     "text": [
      "8\n"
     ]
    }
   ],
   "source": [
    "out = random.getrandbits(4)\n",
    "print(out)\n"
   ]
  },
  {
   "cell_type": "code",
   "execution_count": 42,
   "metadata": {},
   "outputs": [],
   "source": [
    "random.seed(100)\n",
    "# out = random.randint(1, 100)\n",
    "# print(out)"
   ]
  },
  {
   "cell_type": "code",
   "execution_count": 63,
   "metadata": {},
   "outputs": [
    {
     "name": "stdout",
     "output_type": "stream",
     "text": [
      "saraswati\n"
     ]
    }
   ],
   "source": [
    "# choice(): return any random item from the given seq\n",
    "names = ['saraswati', 'vanshika', 'khushi', 'anushka']\n",
    "out = random.choice(names)\n",
    "print(out)"
   ]
  },
  {
   "cell_type": "code",
   "execution_count": 70,
   "metadata": {},
   "outputs": [
    {
     "name": "stdout",
     "output_type": "stream",
     "text": [
      "['khushi', 'khushi', 'khushi', 'saraswati', 'khushi', 'khushi', 'anushka', 'khushi', 'khushi', 'khushi']\n"
     ]
    }
   ],
   "source": [
    "# choices()\n",
    "names = ['saraswati', 'vanshika', 'khushi', 'anushka']\n",
    "out = random.choices(names,weights=[1, 0, 10, 1], k=10)\n",
    "print(out)"
   ]
  },
  {
   "cell_type": "code",
   "execution_count": null,
   "metadata": {},
   "outputs": [],
   "source": [
    "# random module in Python\n",
    "'''\n",
    "random variable generator\n",
    ":> integer\n",
    ":> sequence\n",
    ":> floating value(real value)\n",
    "\n",
    "''' "
   ]
  },
  {
   "cell_type": "code",
   "execution_count": 15,
   "metadata": {},
   "outputs": [
    {
     "name": "stdout",
     "output_type": "stream",
     "text": [
      "1\n"
     ]
    }
   ],
   "source": [
    "# randrange(): return a random integer within the given range with step size\n",
    "import random\n",
    "out = random.randrange(1, 10, 20)\n",
    "print(out)"
   ]
  },
  {
   "cell_type": "code",
   "execution_count": 23,
   "metadata": {},
   "outputs": [
    {
     "name": "stdout",
     "output_type": "stream",
     "text": [
      "5\n"
     ]
    }
   ],
   "source": [
    "# randint(): return the random integer within the inclusive range \n",
    "out = random.randint(1, 5)\n",
    "print(out)"
   ]
  },
  {
   "cell_type": "code",
   "execution_count": 34,
   "metadata": {},
   "outputs": [
    {
     "name": "stdout",
     "output_type": "stream",
     "text": [
      "170\n"
     ]
    }
   ],
   "source": [
    "# getrandbits(k): return the random integer with k bits\n",
    "out = random.getrandbits(8)\n",
    "print(out)\n"
   ]
  },
  {
   "cell_type": "code",
   "execution_count": 37,
   "metadata": {},
   "outputs": [
    {
     "name": "stdout",
     "output_type": "stream",
     "text": [
      "rakesh\n"
     ]
    }
   ],
   "source": [
    "# choice(): return any random element from given seq\n",
    "ls = ['rakshat', 'manish', 'rakesh', 'ayushi', 'garvit']\n",
    "out = random.choice(ls)\n",
    "print(out)"
   ]
  },
  {
   "cell_type": "code",
   "execution_count": 42,
   "metadata": {},
   "outputs": [
    {
     "name": "stdout",
     "output_type": "stream",
     "text": [
      "['rakshat', 'rakshat', 'manish', 'manish']\n"
     ]
    }
   ],
   "source": [
    "# choices()\n",
    "ls = ['rakshat', 'manish', 'rakesh', 'ayushi', 'garvit']\n",
    "out = random.choices(ls, weights=[1, 10, 1, 1, 1], k=20)\n",
    "print(out)"
   ]
  },
  {
   "cell_type": "code",
   "execution_count": 45,
   "metadata": {},
   "outputs": [
    {
     "name": "stdout",
     "output_type": "stream",
     "text": [
      "['garvit', 'rakesh', 'manish']\n"
     ]
    }
   ],
   "source": [
    "# sample():\n",
    "ls = ['rakshat', 'manish', 'rakesh', 'ayushi', 'garvit']\n",
    "out = random.sample(ls, k=3)\n",
    "print(out)"
   ]
  },
  {
   "cell_type": "code",
   "execution_count": 46,
   "metadata": {},
   "outputs": [
    {
     "name": "stdout",
     "output_type": "stream",
     "text": [
      "Before shuffle ['rakshat', 'manish', 'rakesh', 'ayushi', 'garvit']\n",
      "After Shuffle ['garvit', 'manish', 'rakesh', 'ayushi', 'rakshat']\n"
     ]
    }
   ],
   "source": [
    "# shuffle():\n",
    "# to shuffle the list itms\n",
    "ls = ['rakshat', 'manish', 'rakesh', 'ayushi', 'garvit']\n",
    "print('Before shuffle', ls)\n",
    "random.shuffle(ls)\n",
    "print('After Shuffle', ls)"
   ]
  },
  {
   "cell_type": "code",
   "execution_count": 52,
   "metadata": {},
   "outputs": [
    {
     "name": "stdout",
     "output_type": "stream",
     "text": [
      "0.4036001747678293\n"
     ]
    }
   ],
   "source": [
    "# random(): return float value between 0 and 1\n",
    "out = random.random()\n",
    "print(out)"
   ]
  },
  {
   "cell_type": "code",
   "execution_count": 58,
   "metadata": {},
   "outputs": [
    {
     "name": "stdout",
     "output_type": "stream",
     "text": [
      "10.606981383284287\n"
     ]
    }
   ],
   "source": [
    "# uniform()\n",
    "out = random.uniform(1, 20)\n",
    "print(out)"
   ]
  },
  {
   "cell_type": "code",
   "execution_count": 69,
   "metadata": {},
   "outputs": [
    {
     "name": "stdout",
     "output_type": "stream",
     "text": [
      "13.898110841423536\n"
     ]
    }
   ],
   "source": [
    "# triangular()\n",
    "out = random.triangular(1, 20, 16)\n",
    "print(out)"
   ]
  },
  {
   "cell_type": "code",
   "execution_count": null,
   "metadata": {},
   "outputs": [],
   "source": [
    "# random module:\n",
    "import random\n",
    "\n",
    "'''\n",
    "1. integer\n",
    "2. sequence\n",
    "3. real numbers \n",
    "'''\n"
   ]
  },
  {
   "cell_type": "code",
   "execution_count": 17,
   "metadata": {},
   "outputs": [
    {
     "name": "stdout",
     "output_type": "stream",
     "text": [
      "9\n"
     ]
    }
   ],
   "source": [
    "# randrange(): return the random integer number within the range with step size\n",
    "import random\n",
    "num = random.randrange(1, 10, 2)\n",
    "print(num)"
   ]
  },
  {
   "cell_type": "code",
   "execution_count": 32,
   "metadata": {},
   "outputs": [
    {
     "name": "stdout",
     "output_type": "stream",
     "text": [
      "4\n"
     ]
    }
   ],
   "source": [
    "# randint(): return the random integer within the inclusive range\n",
    "num = random.randint(1, 10)\n",
    "print(num)"
   ]
  },
  {
   "cell_type": "code",
   "execution_count": 55,
   "metadata": {},
   "outputs": [
    {
     "name": "stdout",
     "output_type": "stream",
     "text": [
      "1\n"
     ]
    }
   ],
   "source": [
    "# getrandbits(k): return random integer with bit size k\n",
    "num = random.getrandbits(4)\n",
    "print(num)\n"
   ]
  },
  {
   "cell_type": "code",
   "execution_count": 59,
   "metadata": {},
   "outputs": [
    {
     "name": "stdout",
     "output_type": "stream",
     "text": [
      "parth\n"
     ]
    }
   ],
   "source": [
    "# sequence:\n",
    "# choice(): return any random element from the given seq\n",
    "names = ['prashant', 'parth', 'kartikey', 'abhi', 'devansh']\n",
    "out = random.choice(names)\n",
    "print(out)"
   ]
  },
  {
   "cell_type": "code",
   "execution_count": 69,
   "metadata": {},
   "outputs": [
    {
     "name": "stdout",
     "output_type": "stream",
     "text": [
      "['abhi', 'abhi', 'abhi', 'abhi', 'abhi']\n"
     ]
    }
   ],
   "source": [
    "# sequence:\n",
    "# choices(): return collection of choice in the form of list\n",
    "names = ['prashant', 'parth', 'kartikey', 'abhi', 'devansh']\n",
    "out = random.choices(names, weights=[0, 1, 1, 10, 1], k=5)\n",
    "print(out)"
   ]
  },
  {
   "cell_type": "code",
   "execution_count": 73,
   "metadata": {},
   "outputs": [
    {
     "name": "stdout",
     "output_type": "stream",
     "text": [
      "['kartikey']\n"
     ]
    }
   ],
   "source": [
    "# sample(): \n",
    "\n",
    "names = ['prashant', 'parth', 'kartikey', 'abhi', 'devansh']\n",
    "out = random.sample(names, k=1)\n",
    "print(out)"
   ]
  },
  {
   "cell_type": "code",
   "execution_count": 75,
   "metadata": {},
   "outputs": [
    {
     "name": "stdout",
     "output_type": "stream",
     "text": [
      "Before Shuffle ['prashant', 'parth', 'kartikey', 'abhi', 'devansh']\n",
      "After Shuffle ['devansh', 'kartikey', 'parth', 'prashant', 'abhi']\n"
     ]
    }
   ],
   "source": [
    "# shuffle(): to shuffle the list items\n",
    "\n",
    "names = ['prashant', 'parth', 'kartikey', 'abhi', 'devansh']\n",
    "print('Before Shuffle', names)\n",
    "random.shuffle(names)\n",
    "print('After Shuffle', names)"
   ]
  }
 ],
 "metadata": {
  "kernelspec": {
   "display_name": "Python 3",
   "language": "python",
   "name": "python3"
  },
  "language_info": {
   "codemirror_mode": {
    "name": "ipython",
    "version": 3
   },
   "file_extension": ".py",
   "mimetype": "text/x-python",
   "name": "python",
   "nbconvert_exporter": "python",
   "pygments_lexer": "ipython3",
   "version": "3.10.7 (tags/v3.10.7:6cc6b13, Sep  5 2022, 14:08:36) [MSC v.1933 64 bit (AMD64)]"
  },
  "orig_nbformat": 4,
  "vscode": {
   "interpreter": {
    "hash": "490f1c68ed42f2c5a574e22fb9e03ff49b98516de8582ff1c5d4fb43fb70f61b"
   }
  }
 },
 "nbformat": 4,
 "nbformat_minor": 2
}
