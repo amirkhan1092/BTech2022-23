{
 "cells": [
  {
   "cell_type": "code",
   "execution_count": null,
   "metadata": {},
   "outputs": [],
   "source": [
    "# argv types\n",
    "'''\n",
    "1. positional argv\n",
    "2. keywords argv\n",
    "3. default argv\n",
    "'''"
   ]
  },
  {
   "cell_type": "code",
   "execution_count": 4,
   "metadata": {},
   "outputs": [
    {
     "name": "stdout",
     "output_type": "stream",
     "text": [
      "\n",
      "    Name: Amit\n",
      "    Roll Number: 34\n"
     ]
    }
   ],
   "source": [
    "def student_info(x, rl):\n",
    "    st =f'''\n",
    "    Name: {x}\n",
    "    Roll Number: {rl}'''\n",
    "    print(st)\n",
    "\n",
    "student_info('Amit', 34)"
   ]
  },
  {
   "cell_type": "code",
   "execution_count": 7,
   "metadata": {},
   "outputs": [
    {
     "name": "stdout",
     "output_type": "stream",
     "text": [
      "\n",
      "    Name: Ravi\n",
      "    Roll Number: 100\n"
     ]
    }
   ],
   "source": [
    "student_info('Ravi', 100)"
   ]
  },
  {
   "cell_type": "code",
   "execution_count": 9,
   "metadata": {},
   "outputs": [
    {
     "name": "stdout",
     "output_type": "stream",
     "text": [
      "56\n"
     ]
    }
   ],
   "source": [
    "def add(a, b):\n",
    "    return a + b\n",
    "\n",
    "# main code\n",
    "n1 = 23\n",
    "n2 = 33\n",
    "out = add(n1, n2)\n",
    "print(out)"
   ]
  },
  {
   "cell_type": "code",
   "execution_count": 33,
   "metadata": {},
   "outputs": [],
   "source": [
    "import random\n",
    "def otp():\n",
    "    out = str(random.random())[-4:]\n",
    "    return out\n"
   ]
  },
  {
   "cell_type": "code",
   "execution_count": 41,
   "metadata": {},
   "outputs": [
    {
     "data": {
      "text/plain": [
       "'9468'"
      ]
     },
     "execution_count": 41,
     "metadata": {},
     "output_type": "execute_result"
    }
   ],
   "source": [
    "otp()"
   ]
  },
  {
   "cell_type": "code",
   "execution_count": 48,
   "metadata": {},
   "outputs": [
    {
     "name": "stdout",
     "output_type": "stream",
     "text": [
      "a 19\n",
      "b 23\n"
     ]
    }
   ],
   "source": [
    "# positional arguments\n",
    "def add(a, b):\n",
    "    print('a', a)\n",
    "    print('b', b)\n",
    "# main code\n",
    "x = 19\n",
    "y = 23\n",
    "add(x, y)"
   ]
  },
  {
   "cell_type": "code",
   "execution_count": 60,
   "metadata": {},
   "outputs": [
    {
     "name": "stdout",
     "output_type": "stream",
     "text": [
      "44\n"
     ]
    }
   ],
   "source": [
    "# optional positinal Arguments\n",
    "# positional arguments\n",
    "def add(*c):\n",
    "    s = 0\n",
    "    for i in c:\n",
    "        s += i\n",
    "    return s    \n",
    "# main code\n",
    "x = 19\n",
    "y = 23\n",
    "out = add(10, 34)\n",
    "print(out)"
   ]
  },
  {
   "cell_type": "code",
   "execution_count": 69,
   "metadata": {},
   "outputs": [
    {
     "name": "stdout",
     "output_type": "stream",
     "text": [
      "200\n"
     ]
    }
   ],
   "source": [
    "# default arguments\n",
    "def add(a, b=0):\n",
    "    return a + b \n",
    "\n",
    "# main code\n",
    "out = add(200)\n",
    "print(out)\n"
   ]
  },
  {
   "cell_type": "code",
   "execution_count": null,
   "metadata": {},
   "outputs": [],
   "source": [
    "# type of arguments\n",
    "'''\n",
    "1. positional\n",
    "2. keyword\n",
    "3. default \n",
    "'''"
   ]
  },
  {
   "cell_type": "code",
   "execution_count": 70,
   "metadata": {},
   "outputs": [],
   "source": [
    "def info():\n",
    "    print('''\n",
    "    GLA University, Mathura\n",
    "    Best University in India\n",
    "    NAAC A++\n",
    "    NIRF 99\n",
    "    ''')\n"
   ]
  },
  {
   "cell_type": "code",
   "execution_count": 73,
   "metadata": {},
   "outputs": [
    {
     "name": "stdout",
     "output_type": "stream",
     "text": [
      "\n",
      "    GLA University, Mathura\n",
      "    Best University in India\n",
      "    NAAC A++\n",
      "    NIRF 99\n",
      "    \n"
     ]
    }
   ],
   "source": [
    "info()"
   ]
  },
  {
   "cell_type": "code",
   "execution_count": 74,
   "metadata": {},
   "outputs": [],
   "source": [
    "def student_info(a, rl):\n",
    "    print(f'''\n",
    "    Name: {a}\n",
    "    Class Roll Number: {rl}\n",
    "    ''')"
   ]
  },
  {
   "cell_type": "code",
   "execution_count": 77,
   "metadata": {},
   "outputs": [
    {
     "name": "stdout",
     "output_type": "stream",
     "text": [
      "\n",
      "    Name: Shubhi\n",
      "    Class Roll Number: 2\n",
      "    \n"
     ]
    }
   ],
   "source": [
    "student_info('Shubhi', 2)"
   ]
  },
  {
   "cell_type": "code",
   "execution_count": 79,
   "metadata": {},
   "outputs": [
    {
     "name": "stdout",
     "output_type": "stream",
     "text": [
      "243\n",
      "146\n"
     ]
    }
   ],
   "source": [
    "# with arguments with return \n",
    "def add(a, b):\n",
    "    return a + b\n",
    "\n",
    "# main code\n",
    "x1 = 233\n",
    "x2 = 10\n",
    "out = add(x1, x2)\n",
    "out2 = add(23, 123)\n",
    "print(out)\n",
    "print(out2)\n"
   ]
  },
  {
   "cell_type": "code",
   "execution_count": 105,
   "metadata": {},
   "outputs": [
    {
     "name": "stdout",
     "output_type": "stream",
     "text": [
      "7559\n"
     ]
    }
   ],
   "source": [
    "# No argv with return \n",
    "def otp():\n",
    "    out = str(random.random())[-4:]\n",
    "    return out\n",
    "\n",
    "# main code\n",
    "out = otp()\n",
    "print(out)"
   ]
  },
  {
   "cell_type": "code",
   "execution_count": 121,
   "metadata": {},
   "outputs": [
    {
     "data": {
      "text/plain": [
       "'5342'"
      ]
     },
     "execution_count": 121,
     "metadata": {},
     "output_type": "execute_result"
    }
   ],
   "source": [
    "otp()"
   ]
  },
  {
   "cell_type": "code",
   "execution_count": 129,
   "metadata": {},
   "outputs": [
    {
     "name": "stdout",
     "output_type": "stream",
     "text": [
      "a 10\n",
      "b 2\n"
     ]
    }
   ],
   "source": [
    "# positional argument\n",
    "def add(a, b):\n",
    "    print('a', a)\n",
    "    print('b', b)\n",
    "\n",
    "\n",
    "add(10, 2)"
   ]
  },
  {
   "cell_type": "code",
   "execution_count": 147,
   "metadata": {},
   "outputs": [
    {
     "name": "stdout",
     "output_type": "stream",
     "text": [
      "80\n"
     ]
    }
   ],
   "source": [
    "# optional positinal argument\n",
    "def optional_add(*c):\n",
    "    s = 0\n",
    "    for i in c:\n",
    "        s += i\n",
    "    return s\n",
    "# main\n",
    "out = optional_add(12, 34, 34)\n",
    "print(out)\n",
    "\n"
   ]
  },
  {
   "cell_type": "code",
   "execution_count": 159,
   "metadata": {},
   "outputs": [
    {
     "name": "stdout",
     "output_type": "stream",
     "text": [
      "2\n"
     ]
    }
   ],
   "source": [
    "# default argument\n",
    "def add(a=0, b=0):\n",
    "    return a + b\n",
    "\n",
    "# main code\n",
    "out = add(2)\n",
    "print(out)\n"
   ]
  }
 ],
 "metadata": {
  "kernelspec": {
   "display_name": "Python 3.10.7 64-bit",
   "language": "python",
   "name": "python3"
  },
  "language_info": {
   "codemirror_mode": {
    "name": "ipython",
    "version": 3
   },
   "file_extension": ".py",
   "mimetype": "text/x-python",
   "name": "python",
   "nbconvert_exporter": "python",
   "pygments_lexer": "ipython3",
   "version": "3.10.7"
  },
  "orig_nbformat": 4,
  "vscode": {
   "interpreter": {
    "hash": "490f1c68ed42f2c5a574e22fb9e03ff49b98516de8582ff1c5d4fb43fb70f61b"
   }
  }
 },
 "nbformat": 4,
 "nbformat_minor": 2
}
