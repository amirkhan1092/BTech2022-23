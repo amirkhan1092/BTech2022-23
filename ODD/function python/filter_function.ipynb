{
 "cells": [
  {
   "cell_type": "code",
   "execution_count": 1,
   "metadata": {},
   "outputs": [
    {
     "name": "stdout",
     "output_type": "stream",
     "text": [
      "[4, 2, 6]\n"
     ]
    }
   ],
   "source": [
    "lst = [3, 4, 2, 5 , 6]\n",
    "out = []\n",
    "for i in lst:\n",
    "    if i % 2 == 0:\n",
    "        out.append(i)\n",
    "print(out)        "
   ]
  },
  {
   "cell_type": "code",
   "execution_count": 3,
   "metadata": {},
   "outputs": [],
   "source": [
    "\n",
    "  "
   ]
  },
  {
   "cell_type": "code",
   "execution_count": 5,
   "metadata": {},
   "outputs": [
    {
     "name": "stdout",
     "output_type": "stream",
     "text": [
      "[4, 2, 6]\n"
     ]
    }
   ],
   "source": [
    "\n",
    "lst = [3, 4, 2, 5, 6]\n",
    "out = list(filter(lambda x: x % 2 == 0  , lst))\n",
    "print(out) "
   ]
  },
  {
   "cell_type": "code",
   "execution_count": 8,
   "metadata": {},
   "outputs": [
    {
     "name": "stdout",
     "output_type": "stream",
     "text": [
      "amirkhanglaacin\n"
     ]
    }
   ],
   "source": [
    "st = 'amir.khan@gla.ac.in'\n",
    "out = ''.join(filter(lambda x: x.isalpha(), st))\n",
    "print(out)\n",
    "\n",
    "# amirkhanglaacin\n"
   ]
  },
  {
   "cell_type": "code",
   "execution_count": 8,
   "metadata": {},
   "outputs": [
    {
     "name": "stdout",
     "output_type": "stream",
     "text": [
      "[3, 4, 5, 6, 2, 7, 11, 17, 19, 22, 23]\n",
      "[4, 6, 2, 22]\n"
     ]
    }
   ],
   "source": [
    "\n",
    "lst = [3, 4, 5, 6, 2, 7, 11, 17, 19, 22, 23]\n",
    "out = list(filter(prime, lst))\n",
    "print(lst)\n",
    "print(out)"
   ]
  },
  {
   "cell_type": "code",
   "execution_count": 13,
   "metadata": {},
   "outputs": [
    {
     "name": "stdout",
     "output_type": "stream",
     "text": [
      "121\n"
     ]
    }
   ],
   "source": [
    "st = 'shgsh#121vbdv'\n",
    "out = ''.join(list(filter(lambda x:x.isdigit(), st)))\n",
    "print(out)"
   ]
  },
  {
   "cell_type": "code",
   "execution_count": 17,
   "metadata": {},
   "outputs": [
    {
     "name": "stdout",
     "output_type": "stream",
     "text": [
      "False\n"
     ]
    }
   ],
   "source": [
    "lst = [' ', None, 0, 0, 0]\n",
    "# out = any(lst)\n",
    "out = all(lst)\n",
    "print(out)"
   ]
  },
  {
   "cell_type": "code",
   "execution_count": 28,
   "metadata": {},
   "outputs": [
    {
     "name": "stdout",
     "output_type": "stream",
     "text": [
      "[104, 101, 108, 108, 111]\n"
     ]
    }
   ],
   "source": [
    "# filter \n",
    "\n",
    "st = 'hello'\n",
    "out = list(map(ord, st) )   \n",
    "print(out)\n",
    "# output [104, 101, 108, 108, 111]"
   ]
  },
  {
   "cell_type": "code",
   "execution_count": 30,
   "metadata": {},
   "outputs": [
    {
     "name": "stdout",
     "output_type": "stream",
     "text": [
      "[5, 7, 8, 9]\n"
     ]
    }
   ],
   "source": [
    "\n",
    "marks = [3, 5, 6, 7]\n",
    "updated_marks = list(map(lambda x: x + 2, marks))\n",
    "print(updated_marks)"
   ]
  },
  {
   "cell_type": "code",
   "execution_count": 27,
   "metadata": {},
   "outputs": [],
   "source": [
    "for i in out:\n",
    "    print(i)\n",
    "    re = list(out)"
   ]
  },
  {
   "cell_type": "code",
   "execution_count": 38,
   "metadata": {},
   "outputs": [
    {
     "name": "stdout",
     "output_type": "stream",
     "text": [
      "[6, 34, 10]\n"
     ]
    }
   ],
   "source": [
    " \n",
    "lst = [3, 5, 6, 34, 5, 10]\n",
    "out = list(filter(lambda y: y % 2 == 0 , lst))\n",
    "print(out)        "
   ]
  },
  {
   "cell_type": "code",
   "execution_count": 44,
   "metadata": {},
   "outputs": [
    {
     "name": "stdout",
     "output_type": "stream",
     "text": [
      "pawanbeniwalcsglaacin\n"
     ]
    }
   ],
   "source": [
    "\n",
    "st = 'pawan.beniwal_cs22@gla.ac.in'\n",
    "# logic here\n",
    "out = ''.join((filter(lambda y: y.isalpha(), st)))\n",
    "print(out)\n",
    "\n",
    "# output: pawanbeniwalcsglaacin"
   ]
  },
  {
   "cell_type": "code",
   "execution_count": 43,
   "metadata": {},
   "outputs": [
    {
     "name": "stdout",
     "output_type": "stream",
     "text": [
      "14231\n"
     ]
    }
   ],
   "source": [
    "ls = ['14', '23', '1']\n",
    "out = ''.join(ls)\n",
    "print(out)"
   ]
  }
 ],
 "metadata": {
  "kernelspec": {
   "display_name": "Python 3.10.7 64-bit",
   "language": "python",
   "name": "python3"
  },
  "language_info": {
   "codemirror_mode": {
    "name": "ipython",
    "version": 3
   },
   "file_extension": ".py",
   "mimetype": "text/x-python",
   "name": "python",
   "nbconvert_exporter": "python",
   "pygments_lexer": "ipython3",
   "version": "3.10.7 (tags/v3.10.7:6cc6b13, Sep  5 2022, 14:08:36) [MSC v.1933 64 bit (AMD64)]"
  },
  "orig_nbformat": 4,
  "vscode": {
   "interpreter": {
    "hash": "490f1c68ed42f2c5a574e22fb9e03ff49b98516de8582ff1c5d4fb43fb70f61b"
   }
  }
 },
 "nbformat": 4,
 "nbformat_minor": 2
}
