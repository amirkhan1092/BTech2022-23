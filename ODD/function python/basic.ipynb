{
 "cells": [
  {
   "cell_type": "code",
   "execution_count": 7,
   "metadata": {},
   "outputs": [],
   "source": [
    "# buil-in\n",
    "\n",
    "def prime(x):\n",
    "    count = 0\n",
    "    for i in range(1, x+1):\n",
    "        if x % i == 0:\n",
    "            count += 1\n",
    "    if count == 2:\n",
    "        return 'prime'\n",
    "    else:\n",
    "        return 'Not prime'            "
   ]
  },
  {
   "cell_type": "code",
   "execution_count": 9,
   "metadata": {},
   "outputs": [
    {
     "name": "stdout",
     "output_type": "stream",
     "text": [
      "prime\n"
     ]
    }
   ],
   "source": [
    "num = 2\n",
    "out = prime(num)\n",
    "out2 =  \n",
    "print(out)"
   ]
  },
  {
   "cell_type": "code",
   "execution_count": 13,
   "metadata": {},
   "outputs": [],
   "source": [
    "def info(name):\n",
    "    print(f'This is {name}')"
   ]
  },
  {
   "cell_type": "code",
   "execution_count": 15,
   "metadata": {},
   "outputs": [
    {
     "name": "stdout",
     "output_type": "stream",
     "text": [
      "This is Amit\n",
      "This is ravi\n"
     ]
    }
   ],
   "source": [
    "info('Amit')\n",
    "info('ravi')\n"
   ]
  },
  {
   "cell_type": "code",
   "execution_count": null,
   "metadata": {},
   "outputs": [],
   "source": []
  },
  {
   "cell_type": "code",
   "execution_count": 29,
   "metadata": {},
   "outputs": [],
   "source": [
    "def info(a, b):\n",
    "    st = f'''\n",
    "    Name = {a}\n",
    "    Section: {b}\n",
    "    Class Roll No: 23\n",
    "    College: GLA University\n",
    "    '''\n",
    "    return st"
   ]
  },
  {
   "cell_type": "code",
   "execution_count": 37,
   "metadata": {},
   "outputs": [
    {
     "name": "stdout",
     "output_type": "stream",
     "text": [
      "\n",
      "    Name = laxmi\n",
      "    Section: 5\n",
      "    Class Roll No: 23\n",
      "    College: GLA University\n",
      "    \n",
      "\n",
      "    Name = ravi\n",
      "    Section: 6\n",
      "    Class Roll No: 23\n",
      "    College: GLA University\n",
      "    \n"
     ]
    }
   ],
   "source": [
    "out = info('laxmi', 5)\n",
    "out2 = info('ravi', 6)\n",
    "print(out)\n",
    "print(out2)\n"
   ]
  },
  {
   "cell_type": "code",
   "execution_count": 20,
   "metadata": {},
   "outputs": [
    {
     "name": "stdout",
     "output_type": "stream",
     "text": [
      "\n",
      "    Name = Saket\n",
      "    Section: 4\n",
      "    Class Roll No: 23\n",
      "    College: GLA University\n",
      "    \n"
     ]
    }
   ],
   "source": [
    "def area(x, y):\n",
    "    return x * y\n",
    "# main code\n",
    "length = int(input('Enter the length'))\n",
    "breadth = int(input('Enter the breadth'))\n",
    "out = area(length, breadth)\n",
    "print('Area of Given Rectangle', out)"
   ]
  },
  {
   "cell_type": "code",
   "execution_count": null,
   "metadata": {},
   "outputs": [],
   "source": [
    "def perfect(num):\n",
    "    s=0\n",
    "    for i in range(1,num):\n",
    "        if num%i==0:\n",
    "            s+=i\n",
    "    if s==num:\n",
    "        return('perfect no')\n",
    "    else:\n",
    "        return('not perfect')"
   ]
  },
  {
   "cell_type": "code",
   "execution_count": 11,
   "metadata": {},
   "outputs": [
    {
     "name": "stdout",
     "output_type": "stream",
     "text": [
      "hello\n",
      "['e', 'h', 'l', 'l', 'o']\n"
     ]
    }
   ],
   "source": [
    "# built-in Python3\n",
    "ls = 'hello'\n",
    "out = apna_function(ls)\n",
    "print(ls)\n",
    "print(out)"
   ]
  },
  {
   "cell_type": "code",
   "execution_count": 19,
   "metadata": {},
   "outputs": [],
   "source": [
    "def info(x, rl):\n",
    "    st = f'''\n",
    "    Name: {x}\n",
    "    Section: L\n",
    "    Roll No: {rl}\n",
    "    College: GLA University\n",
    "    '''\n",
    "    print(st)"
   ]
  },
  {
   "cell_type": "code",
   "execution_count": 22,
   "metadata": {},
   "outputs": [
    {
     "name": "stdout",
     "output_type": "stream",
     "text": [
      "\n",
      "    Name: Ravi\n",
      "    Section: L\n",
      "    Roll No: 1\n",
      "    College: GLA University\n",
      "    \n",
      "\n",
      "    Name: Toni\n",
      "    Section: L\n",
      "    Roll No: 34\n",
      "    College: GLA University\n",
      "    \n"
     ]
    }
   ],
   "source": [
    "info('Ravi', 1)\n",
    "info('Toni', 34)"
   ]
  },
  {
   "cell_type": "code",
   "execution_count": 24,
   "metadata": {},
   "outputs": [
    {
     "name": "stdout",
     "output_type": "stream",
     "text": [
      "Not Prime\n"
     ]
    }
   ],
   "source": [
    "def prime_number(n):\n",
    "    # code here \n",
    "    count = 0\n",
    "    for i in range(1, n+1):\n",
    "        if n % i == 0:\n",
    "            count += 1\n",
    "\n",
    "    if count == 2:\n",
    "        return 'prime'\n",
    "    else:\n",
    "        return 'Not Prime'    \n",
    "\n",
    "# main section\n",
    "num = 22\n",
    "prime_number(num)\n"
   ]
  },
  {
   "cell_type": "code",
   "execution_count": 3,
   "metadata": {},
   "outputs": [
    {
     "name": "stdout",
     "output_type": "stream",
     "text": [
      "34.0\n"
     ]
    }
   ],
   "source": [
    "num = 34\n",
    "out = prime(num)\n",
    "print(out)"
   ]
  },
  {
   "cell_type": "code",
   "execution_count": 4,
   "metadata": {},
   "outputs": [
    {
     "name": "stdout",
     "output_type": "stream",
     "text": [
      "56\n"
     ]
    }
   ],
   "source": [
    "def add(a, b):\n",
    "    return a + b\n",
    "\n",
    "# main\n",
    "x1 = 23\n",
    "x2 = 33\n",
    "out = add(x1, x2)\n",
    "print(out)"
   ]
  },
  {
   "cell_type": "code",
   "execution_count": 5,
   "metadata": {},
   "outputs": [
    {
     "name": "stdout",
     "output_type": "stream",
     "text": [
      "True\n"
     ]
    }
   ],
   "source": [
    "# perfect number\n",
    "def perfect(n):\n",
    "    a=0\n",
    "    for i in range(1,n):\n",
    "        if n%i==0:\n",
    "            a+=i\n",
    "    return n==a\n",
    "\n",
    "# main code\n",
    "num = int(input('Enter the number '))\n",
    "out = perfect(num)\n",
    "print(out)"
   ]
  },
  {
   "cell_type": "code",
   "execution_count": null,
   "metadata": {},
   "outputs": [],
   "source": [
    "# function flow\n",
    "'''\n",
    "1. No Arguments No Return\n",
    "'''"
   ]
  },
  {
   "cell_type": "code",
   "execution_count": 9,
   "metadata": {},
   "outputs": [],
   "source": [
    "def info():\n",
    "    print('''\n",
    "    GLA University is the best university in the World\n",
    "    NAAC A++\n",
    "    NIRF 99\n",
    "    \n",
    "    ''')"
   ]
  },
  {
   "cell_type": "code",
   "execution_count": 10,
   "metadata": {},
   "outputs": [
    {
     "name": "stdout",
     "output_type": "stream",
     "text": [
      "\n",
      "    GLA University is the best university in the World\n",
      "    NAAC A++\n",
      "    NIRF 99\n",
      "    \n",
      "    \n"
     ]
    }
   ],
   "source": [
    "info()\n",
    "# info()"
   ]
  },
  {
   "cell_type": "code",
   "execution_count": 13,
   "metadata": {},
   "outputs": [
    {
     "name": "stdout",
     "output_type": "stream",
     "text": [
      "\n",
      "    Name: Rahul\n",
      "    Clas Roll Number: 2\n",
      "    \n",
      "    \n"
     ]
    }
   ],
   "source": [
    "# With arguments No Return\n",
    "def student_info(name, roll):\n",
    "    print(f'''\n",
    "    Name: {name}\n",
    "    Clas Roll Number: {roll}\n",
    "    \n",
    "    ''')\n",
    "# main code    \n",
    "student_info('Rahul', 2)"
   ]
  },
  {
   "cell_type": "code",
   "execution_count": 15,
   "metadata": {},
   "outputs": [
    {
     "name": "stdout",
     "output_type": "stream",
     "text": [
      "Prime\n"
     ]
    }
   ],
   "source": [
    "# with argv with return \n",
    "def prime(num):\n",
    "    count = 0\n",
    "    for i in range(1, num+1):\n",
    "        if num % i == 0:\n",
    "            count += 1\n",
    "    if count == 2:\n",
    "        return 'Prime'\n",
    "    else:\n",
    "        return 'Not Prime'               \n",
    "\n",
    "# main code\n",
    "num = 23\n",
    "out = prime(num)\n",
    "print(out)"
   ]
  },
  {
   "cell_type": "code",
   "execution_count": null,
   "metadata": {},
   "outputs": [],
   "source": []
  },
  {
   "cell_type": "code",
   "execution_count": 28,
   "metadata": {},
   "outputs": [
    {
     "name": "stdout",
     "output_type": "stream",
     "text": [
      "5698\n"
     ]
    }
   ],
   "source": [
    "# No Argument with return \n",
    "import random\n",
    "def otp():\n",
    "    out = str(random.random())[-4:]\n",
    "    return out\n",
    "\n",
    "# main code\n",
    "out = otp()\n",
    "print(out)\n"
   ]
  },
  {
   "cell_type": "code",
   "execution_count": 30,
   "metadata": {},
   "outputs": [
    {
     "name": "stdout",
     "output_type": "stream",
     "text": [
      "2604\n"
     ]
    }
   ],
   "source": [
    "out = otp()\n",
    "print(out)\n"
   ]
  },
  {
   "cell_type": "code",
   "execution_count": 34,
   "metadata": {},
   "outputs": [
    {
     "name": "stdout",
     "output_type": "stream",
     "text": [
      "Not Prime\n"
     ]
    }
   ],
   "source": [
    "# main code\n",
    "def prime(n):\n",
    "    count = 0\n",
    "    for i in range(1, n+1):\n",
    "        if n % i == 0:\n",
    "            count += 1\n",
    "    if count == 2:\n",
    "        return 'Prime'\n",
    "    else:\n",
    "        return 'Not Prime'  \n",
    "# main code                 \n",
    "num = 34\n",
    "out = prime(num)\n",
    "print(out)"
   ]
  },
  {
   "cell_type": "code",
   "execution_count": null,
   "metadata": {},
   "outputs": [],
   "source": [
    "# function flow\n",
    "'''\n",
    "1. No Argument No Retun\n",
    "\n",
    "'''"
   ]
  },
  {
   "cell_type": "code",
   "execution_count": 35,
   "metadata": {},
   "outputs": [],
   "source": [
    "def info():\n",
    "    print('''\n",
    "    GLA University is the best university in World\n",
    "    NAAC A++\n",
    "    NIRF 99\n",
    "    ''')"
   ]
  },
  {
   "cell_type": "code",
   "execution_count": 38,
   "metadata": {},
   "outputs": [
    {
     "name": "stdout",
     "output_type": "stream",
     "text": [
      "\n",
      "    GLA University is the best university in World\n",
      "    NAAC A++\n",
      "    NIRF 99\n",
      "    \n"
     ]
    }
   ],
   "source": [
    "info()"
   ]
  },
  {
   "cell_type": "code",
   "execution_count": 40,
   "metadata": {},
   "outputs": [
    {
     "name": "stdout",
     "output_type": "stream",
     "text": [
      "    \n",
      "    Name: Amit\n",
      "    Class Roll Number: 2\n",
      "    \n"
     ]
    }
   ],
   "source": [
    "# With Argument No Return\n",
    "def student_info(x, rl):\n",
    "    print(f'''    \n",
    "    Name: {x}\n",
    "    Class Roll Number: {rl}\n",
    "    ''')\n",
    "\n",
    "\n",
    "student_info('Amit', 2) "
   ]
  },
  {
   "cell_type": "code",
   "execution_count": 41,
   "metadata": {},
   "outputs": [
    {
     "name": "stdout",
     "output_type": "stream",
     "text": [
      "    \n",
      "    Name: Rahul\n",
      "    Class Roll Number: 2\n",
      "    \n"
     ]
    }
   ],
   "source": [
    "student_info('Rahul', 2)"
   ]
  },
  {
   "cell_type": "code",
   "execution_count": 43,
   "metadata": {},
   "outputs": [
    {
     "name": "stdout",
     "output_type": "stream",
     "text": [
      "False\n"
     ]
    }
   ],
   "source": [
    "# with argument with return\n",
    "def perfect(num):\n",
    "    sum = 0\n",
    "    for i in range(1, num):\n",
    "        if num%i==0:\n",
    "            sum+=i\n",
    "    return sum==num\n",
    "\n",
    "# main code\n",
    "num = int(input('Enter the positive Integer '))\n",
    "out = perfect(num)\n",
    "print(out)"
   ]
  },
  {
   "cell_type": "code",
   "execution_count": 66,
   "metadata": {},
   "outputs": [
    {
     "name": "stdout",
     "output_type": "stream",
     "text": [
      "5975\n"
     ]
    }
   ],
   "source": [
    "# No Argument with Return \n",
    "def otp():\n",
    "    out = str(random.random())[-4:]\n",
    "    return out\n",
    "\n",
    "# main\n",
    "out = otp()\n",
    "print(out)"
   ]
  },
  {
   "cell_type": "code",
   "execution_count": 67,
   "metadata": {},
   "outputs": [
    {
     "name": "stdout",
     "output_type": "stream",
     "text": [
      "5695\n"
     ]
    }
   ],
   "source": [
    "out = otp()\n",
    "print(out)\n"
   ]
  }
 ],
 "metadata": {
  "kernelspec": {
   "display_name": "Python 3.10.7 64-bit",
   "language": "python",
   "name": "python3"
  },
  "language_info": {
   "codemirror_mode": {
    "name": "ipython",
    "version": 3
   },
   "file_extension": ".py",
   "mimetype": "text/x-python",
   "name": "python",
   "nbconvert_exporter": "python",
   "pygments_lexer": "ipython3",
   "version": "3.10.7"
  },
  "orig_nbformat": 4,
  "vscode": {
   "interpreter": {
    "hash": "490f1c68ed42f2c5a574e22fb9e03ff49b98516de8582ff1c5d4fb43fb70f61b"
   }
  }
 },
 "nbformat": 4,
 "nbformat_minor": 2
}
