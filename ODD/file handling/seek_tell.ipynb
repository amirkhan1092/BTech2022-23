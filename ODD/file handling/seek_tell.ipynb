{
 "cells": [
  {
   "cell_type": "code",
   "execution_count": 5,
   "metadata": {},
   "outputs": [
    {
     "name": "stdout",
     "output_type": "stream",
     "text": [
      "Number of char in a file sample.txt 62\n"
     ]
    }
   ],
   "source": [
    "# seek(): set the cursor location within the file \n",
    "# tell(): return the current cursor location in file\n",
    "\n",
    "# syntax to creat the file object\n",
    "# open(file_name, mode='r') \n",
    "f = open('sample.txt')\n",
    "\n",
    "data = f.read()\n",
    "number_of_char = len(data)\n",
    "print(f'Number of char in a file sample.txt {number_of_char}')\n",
    "f.close()"
   ]
  },
  {
   "cell_type": "code",
   "execution_count": 4,
   "metadata": {},
   "outputs": [
    {
     "name": "stdout",
     "output_type": "stream",
     "text": [
      "12\n"
     ]
    }
   ],
   "source": [
    "st = 'hello python'\n",
    "number_of_char = len(st)\n",
    "print(number_of_char)"
   ]
  },
  {
   "cell_type": "code",
   "execution_count": 6,
   "metadata": {},
   "outputs": [
    {
     "name": "stdout",
     "output_type": "stream",
     "text": [
      "Number of Alphabets is 53\n"
     ]
    }
   ],
   "source": [
    "# count the number of alphabet only\n",
    "f = open('sample.txt')\n",
    "data = f.read()\n",
    "count_alp = 0\n",
    "count_alpU= 0\n",
    "count_alpL = 0\n",
    "count_digits = 0\n",
    "count_space = 0\n",
    "count_spc = 0\n",
    "\n",
    "for i in data:\n",
    "    if i.isalpha():\n",
    "        count_alp += 1\n",
    "    if i.isupper():\n",
    "        count_alpU += 1    \n",
    "\n",
    "print(f'Number of Alphabets is {count_alp}')\n",
    "f.close()"
   ]
  },
  {
   "cell_type": "code",
   "execution_count": 14,
   "metadata": {},
   "outputs": [
    {
     "name": "stdout",
     "output_type": "stream",
     "text": [
      "programming\n"
     ]
    }
   ],
   "source": [
    "# longest word\n",
    "f = open('sample.txt')\n",
    "data = f.read()\n",
    "ls_words = data.split()\n",
    "# ls_words.sort(key=len)\n",
    "longest_word = max(ls_words, key=len)\n",
    "# print(ls_words[-1])\n",
    "print(longest_word)\n",
    "f.close()"
   ]
  },
  {
   "cell_type": "code",
   "execution_count": 22,
   "metadata": {},
   "outputs": [
    {
     "name": "stdout",
     "output_type": "stream",
     "text": [
      "hello python\n",
      "programming\n",
      "section L IIOT next text python class\n",
      "True\n"
     ]
    }
   ],
   "source": [
    "# seek(): set the cursor location within the file\n",
    "# tell()\n",
    "\n",
    "f = open('sample.txt')\n",
    "data = f.read()\n",
    "print(data)\n",
    "f.close()\n",
    "print(f.closed)\n",
    "\n",
    "# with open('sample.txt') as f:\n",
    "#     data = f.read()\n",
    "#     print(data)\n",
    "#     print(f.closed)"
   ]
  },
  {
   "cell_type": "code",
   "execution_count": 38,
   "metadata": {},
   "outputs": [
    {
     "name": "stdout",
     "output_type": "stream",
     "text": [
      "Current cursor location 0\n",
      "Current cursor location 59\n",
      "class\n",
      "Current cursor location 64\n"
     ]
    }
   ],
   "source": [
    "# seek(): set the cursor location within the file\n",
    "# tell(): return the current cursor location\n",
    "\n",
    "f = open('sample.txt', 'rb')\n",
    "loc = f.tell()\n",
    "# f.seek(position, origin)\n",
    "'''\n",
    "origin\n",
    "0: begining\n",
    "1: current\n",
    "2: last\n",
    "'''\n",
    "print('Current cursor location', f.tell())\n",
    "f.seek(-5, 2)\n",
    "print('Current cursor location', f.tell())\n",
    "data = f.read().decode()\n",
    "print(data)\n",
    "print('Current cursor location', f.tell())\n",
    "f.close()"
   ]
  },
  {
   "cell_type": "code",
   "execution_count": 36,
   "metadata": {},
   "outputs": [
    {
     "name": "stdout",
     "output_type": "stream",
     "text": [
      "b'hello\\xf0\\x9f\\x8e\\x82'\n"
     ]
    }
   ],
   "source": [
    "st = 'hello🎂'\n",
    "out = st.encode()\n",
    "print(out)"
   ]
  },
  {
   "cell_type": "code",
   "execution_count": 37,
   "metadata": {},
   "outputs": [
    {
     "name": "stdout",
     "output_type": "stream",
     "text": [
      "🎂\n"
     ]
    }
   ],
   "source": [
    "st = b'\\xf0\\x9f\\x8e\\x82'\n",
    "print(st.decode())"
   ]
  },
  {
   "cell_type": "code",
   "execution_count": 35,
   "metadata": {},
   "outputs": [
    {
     "name": "stdout",
     "output_type": "stream",
     "text": [
      "101\n"
     ]
    }
   ],
   "source": [
    "st = b'hello'\n",
    "out = st[1]\n",
    "print(out)"
   ]
  }
 ],
 "metadata": {
  "kernelspec": {
   "display_name": "Python 3",
   "language": "python",
   "name": "python3"
  },
  "language_info": {
   "codemirror_mode": {
    "name": "ipython",
    "version": 3
   },
   "file_extension": ".py",
   "mimetype": "text/x-python",
   "name": "python",
   "nbconvert_exporter": "python",
   "pygments_lexer": "ipython3",
   "version": "3.10.7 (tags/v3.10.7:6cc6b13, Sep  5 2022, 14:08:36) [MSC v.1933 64 bit (AMD64)]"
  },
  "orig_nbformat": 4,
  "vscode": {
   "interpreter": {
    "hash": "490f1c68ed42f2c5a574e22fb9e03ff49b98516de8582ff1c5d4fb43fb70f61b"
   }
  }
 },
 "nbformat": 4,
 "nbformat_minor": 2
}
