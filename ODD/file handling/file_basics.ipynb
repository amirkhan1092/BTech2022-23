{
 "cells": [
  {
   "cell_type": "code",
   "execution_count": 5,
   "metadata": {},
   "outputs": [],
   "source": [
    "# python lines to create the text file\n",
    "f = open('test.txt', 'w')\n",
    "f.write('Hello File Handling')\n",
    "# a = 23\n",
    "# b = 45\n",
    "# c = a + b\n",
    "# print(f'Sum of a {a} and b {b} is c {c}', file=f) \n",
    "f.close() "
   ]
  },
  {
   "cell_type": "code",
   "execution_count": 8,
   "metadata": {},
   "outputs": [
    {
     "name": "stdout",
     "output_type": "stream",
     "text": [
      "{'y': 1, 'e': 1, 'l': 2, 'o': 1, 'w': 1}\n"
     ]
    }
   ],
   "source": [
    "# dictionary comprehension\n",
    "st = 'yellow'\n",
    "out = {i:st.count(i) for i in st}\n",
    "print(out)"
   ]
  },
  {
   "cell_type": "code",
   "execution_count": 17,
   "metadata": {},
   "outputs": [],
   "source": [
    "# file handling: \n",
    "# reading and writing operation with local file \n",
    "# \n",
    "f = open(r'C:\\Users\\drami\\OneDrive\\Desktop\\section5\\sample', 'w')\n",
    "f.write('This is my first time to write in my file')\n",
    "f.close()"
   ]
  },
  {
   "cell_type": "code",
   "execution_count": 20,
   "metadata": {},
   "outputs": [],
   "source": [
    "f = open('table.txt', 'w')\n",
    "for i in range(1, 11):\n",
    "    for j in range(1, 11):\n",
    "        print(i*j, end='\\t', file=f)\n",
    "    print(file=f)\n",
    "\n",
    "f.close()        "
   ]
  },
  {
   "cell_type": "code",
   "execution_count": 21,
   "metadata": {},
   "outputs": [
    {
     "name": "stdout",
     "output_type": "stream",
     "text": [
      "\n",
      "choices\n",
      "1> Add\n",
      "2> Sub\n",
      "3> Mul\n",
      "4> Div\n",
      "\n",
      "\n"
     ]
    }
   ],
   "source": [
    "import time\n",
    "num1 = eval(input('Enter the first number '))\n",
    "num2 = eval(input('Enter the second number '))\n",
    "\n",
    "print('''\n",
    "choices\n",
    "1> Add\n",
    "2> Sub\n",
    "3> Mul\n",
    "4> Div\n",
    "\n",
    "''')\n",
    "c = int(input('Enter the choice 1/2/3/4 '))\n",
    "t = time.asctime()\n",
    "if c == 1:\n",
    "    out = num1 + num2\n",
    "    op = 'Addition'\n",
    "elif c == 2:\n",
    "    out = num1 - num2\n",
    "    op = 'Subtraction'\n",
    "f = open('calc.txt', 'w')\n",
    "tmp = f'{num1}\\t{num2}\\t{op}\\t{t}\\t{out}'\n",
    "print(tmp, file=f)\n",
    "f.close()"
   ]
  },
  {
   "cell_type": "code",
   "execution_count": 1,
   "metadata": {},
   "outputs": [
    {
     "name": "stdout",
     "output_type": "stream",
     "text": [
      "1\t2\t3\t4\t5\t6\t7\t8\t9\t10\t\n",
      "2\t4\t6\t8\t10\t12\t14\t16\t18\t20\t\n",
      "3\t6\t9\t12\t15\t18\t21\t24\t27\t30\t\n",
      "4\t8\t12\t16\t20\t24\t28\t32\t36\t40\t\n",
      "5\t10\t15\t20\t25\t30\t35\t40\t45\t50\t\n",
      "6\t12\t18\t24\t30\t36\t42\t48\t54\t60\t\n",
      "7\t14\t21\t28\t35\t42\t49\t56\t63\t70\t\n",
      "8\t16\t24\t32\t40\t48\t56\t64\t72\t80\t\n",
      "9\t18\t27\t36\t45\t54\t63\t72\t81\t90\t\n",
      "10\t20\t30\t40\t50\t60\t70\t80\t90\t100\t\n"
     ]
    }
   ],
   "source": [
    "# file handling: reading and writing operation with local file \n",
    "# program to display the number table 1 to 10\n",
    "for i in range(1, 11):\n",
    "    for j in range(1, 11):\n",
    "        print(i*j, end='\\t')\n",
    "    print()"
   ]
  },
  {
   "cell_type": "code",
   "execution_count": 20,
   "metadata": {},
   "outputs": [],
   "source": [
    "'GLA/AB7/R211'\n",
    "\n",
    "\n",
    "f = open(r'C:\\Users\\drami\\OneDrive\\Desktop\\section3\\sample.dat', 'w')\n",
    "# f.write()\n",
    "f.write('Hello World\\nPython Programming')\n",
    "\n",
    "f.close()\n"
   ]
  },
  {
   "cell_type": "code",
   "execution_count": 15,
   "metadata": {},
   "outputs": [
    {
     "name": "stdout",
     "output_type": "stream",
     "text": [
      "hello\\nWorld\n"
     ]
    }
   ],
   "source": [
    "st = 'hello\\\\nWorld'\n",
    "print(st)"
   ]
  },
  {
   "cell_type": "code",
   "execution_count": null,
   "metadata": {},
   "outputs": [],
   "source": [
    "# pattern\n",
    "'''\n",
    "syntax to handle the file object\n",
    "file_object = open(filename, mode)\n",
    "mode: default is read\n",
    "\n",
    "Write function\n",
    "write()\n",
    "writelines()\n",
    "\n",
    "Read function\n",
    "read()\n",
    "readline()\n",
    "readlines()\n",
    "'''\n",
    "\n"
   ]
  },
  {
   "cell_type": "code",
   "execution_count": 7,
   "metadata": {},
   "outputs": [],
   "source": [
    "# write the student info into a local file \n",
    "# step1: open the file \n",
    "f = open('info.txt', 'w')\n",
    "\n",
    "# student_info = {}\n",
    "# for i in range(4):\n",
    "#     key = input('Enter the keyword')\n",
    "#     value = input('Enter the value ')\n",
    "#     student_info[key] = value\n",
    "\n",
    "student_info = {'name':'Ravi', 'rolln': 39, 'college': 'GLA', 'branch': 'Biotech'}\n",
    "tmp = f'''\n",
    "Name: {student_info.get('name')}\n",
    "College: {student_info.get('college')}\n",
    "Roll Number: {student_info.get('rolln')}\n",
    "Branch: {student_info.get('branch')}\n",
    "'''\n",
    "# print(tmp)\n",
    "# tmp = 'Hello how are you'\n",
    "# step2: write operation\n",
    "f.write(tmp)\n",
    "\n",
    "\n",
    "\n",
    "# step 3: close the file\n",
    "f.close()"
   ]
  },
  {
   "cell_type": "code",
   "execution_count": 13,
   "metadata": {},
   "outputs": [],
   "source": [
    "# write(): to write the data in form of string \n",
    "# Note: write function dont have any new line char at end of the operation\n",
    "f = open('sample.txt', 'w')\n",
    "f.write('hello world\\n')\n",
    "f.write('Python Programming Class')\n",
    "# print('hello world')\n",
    "# print('Python Programming Class')\n",
    "f.close()\n"
   ]
  },
  {
   "cell_type": "code",
   "execution_count": 14,
   "metadata": {},
   "outputs": [],
   "source": [
    "# writelines(): Write the list of lines into a file \n",
    "f = open('sample.txt', 'w')\n",
    "ls = ['hello world\\n', 'python programming\\n', 'section biotech']\n",
    "f.writelines(ls)\n",
    "f.close()"
   ]
  },
  {
   "cell_type": "code",
   "execution_count": 10,
   "metadata": {},
   "outputs": [],
   "source": [
    "# file handling: Reading and Writing operation with local file \n",
    "'''\n",
    "1. open the file \n",
    "2. do the operation(read/write)\n",
    "3. close the file \n",
    "'''\n",
    "\n",
    "'''\n",
    "file_object = open(filename, mode='r')  # default mode 'r' \n",
    "\n",
    "'''\n",
    "f = open(r'C:\\Users\\drami\\OneDrive\\Desktop\\sectionL\\sample.yash', 'w')\n",
    "print('Hello World', file=f)\n",
    "print('Python Programming', file=f)\n",
    "f.close()\n"
   ]
  },
  {
   "cell_type": "code",
   "execution_count": null,
   "metadata": {},
   "outputs": [],
   "source": [
    "# function in file handling with file_object\n",
    "'''\n",
    "Writing operation w/w+/a/a+/r+\n",
    "1. write()\n",
    "2. writelines()\n",
    "\n",
    "Reading Operation\n",
    "1. read()\n",
    "2. readline()\n",
    "3. readlines()\n",
    "\n",
    "'''"
   ]
  },
  {
   "cell_type": "code",
   "execution_count": 14,
   "metadata": {},
   "outputs": [],
   "source": [
    "# write(): Use to write the string data into a file \n",
    "# note: write function dont have any new line char which executed after the operation like print \n",
    "f = open('info.txt', 'w')\n",
    "\n",
    "# f.write('hello world\\n')\n",
    "# f.write('python programming')\n",
    "a = 33\n",
    "b = 34\n",
    "c = a + b\n",
    "f.write(f'sum of a {a} and {b} is {c}')\n",
    "\n",
    "f.close()"
   ]
  },
  {
   "cell_type": "code",
   "execution_count": 7,
   "metadata": {},
   "outputs": [
    {
     "data": {
      "text/plain": [
       "'hello\\\\nworld'"
      ]
     },
     "execution_count": 7,
     "metadata": {},
     "output_type": "execute_result"
    }
   ],
   "source": [
    "st = r'hello\\nworld'\n",
    "st"
   ]
  },
  {
   "cell_type": "code",
   "execution_count": 15,
   "metadata": {},
   "outputs": [],
   "source": [
    "# writelines(): To Write the list of strings(lines)\n",
    "ls = ['hello python\\n', 'programming\\n', 'section L IIOT']\n",
    "f = open('sample.txt', 'w')\n",
    "f.writelines(ls)\n",
    "f.close()\n",
    "\n"
   ]
  },
  {
   "cell_type": "code",
   "execution_count": 17,
   "metadata": {},
   "outputs": [
    {
     "name": "stdout",
     "output_type": "stream",
     "text": [
      "hel\n",
      "lo py\n"
     ]
    }
   ],
   "source": [
    "# read(): Use to read the entire text of the file in the form of string\n",
    "f = open('sample.txt', 'r')\n",
    "\n",
    "data = f.read(3)\n",
    "data2 = f.read(5)\n",
    "print(data)\n",
    "print(data2)\n",
    "\n",
    "f.close()"
   ]
  },
  {
   "cell_type": "code",
   "execution_count": 26,
   "metadata": {},
   "outputs": [
    {
     "name": "stdout",
     "output_type": "stream",
     "text": [
      "hello python\n",
      "\n",
      "programming\n",
      "\n"
     ]
    }
   ],
   "source": [
    "# readline(): Read the current line\n",
    "f = open('sample.txt')\n",
    "\n",
    "data = f.readline(13)\n",
    "data2 = f.readline()\n",
    "print(data)\n",
    "print(data2)\n",
    "\n",
    "f.close()\n"
   ]
  }
 ],
 "metadata": {
  "kernelspec": {
   "display_name": "Python 3",
   "language": "python",
   "name": "python3"
  },
  "language_info": {
   "codemirror_mode": {
    "name": "ipython",
    "version": 3
   },
   "file_extension": ".py",
   "mimetype": "text/x-python",
   "name": "python",
   "nbconvert_exporter": "python",
   "pygments_lexer": "ipython3",
   "version": "3.10.7"
  },
  "orig_nbformat": 4,
  "vscode": {
   "interpreter": {
    "hash": "490f1c68ed42f2c5a574e22fb9e03ff49b98516de8582ff1c5d4fb43fb70f61b"
   }
  }
 },
 "nbformat": 4,
 "nbformat_minor": 2
}
