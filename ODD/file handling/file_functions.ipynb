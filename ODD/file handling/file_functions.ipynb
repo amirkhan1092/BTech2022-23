{
 "cells": [
  {
   "cell_type": "code",
   "execution_count": null,
   "metadata": {},
   "outputs": [],
   "source": [
    "# file functions\n",
    "'''\n",
    "syntax to create file object \n",
    "file_object = open(filename, mode)\n",
    "\n",
    "# write operation(functions) mode: w, w+, a, a+, r+\n",
    "write(): To write the string data as a text\n",
    "writelines(): To Write list of strings(lines)\n",
    "\n",
    "#read operations(functions) mode: default, r, r+, w+, a+\n",
    "read(): read the entire text of file in the form of string\n",
    "readline(): To read the current line\n",
    "readlines(): To read the entire text in the form of list of lines \n",
    "'''"
   ]
  },
  {
   "cell_type": "code",
   "execution_count": 2,
   "metadata": {},
   "outputs": [],
   "source": [
    "# write()\n",
    "# Note: Write function dont have any new line char at the end of operation\n",
    "# Example: write the student info into a file\n",
    "ls = ['name', 'rolln', 'branch', 'college']\n",
    "\n",
    "f = open('info.txt', 'w')\n",
    "\n",
    "student_info = {}\n",
    "for i in ls:\n",
    "    value = input(f'Enter the {i}')\n",
    "    student_info[i] = value\n",
    "\n",
    "data = f'''\n",
    "Name: {student_info.get('name')}\n",
    "Roll Number: {student_info.get('rolln')}\n",
    "Branch: {student_info.get('branch')}\n",
    "College: {student_info.get('college')}\n",
    "\n",
    "'''\n",
    "f.write(data)\n",
    "# print(data, file=f)\n",
    "\n",
    "\n",
    "f.close()\n"
   ]
  },
  {
   "cell_type": "code",
   "execution_count": 5,
   "metadata": {},
   "outputs": [],
   "source": [
    "# writelines()\n",
    "f = open('sample.txt', 'w')\n",
    "# f.write('hello world\\n')\n",
    "# f.write('python Programming')\n",
    "# # print('hello world')\n",
    "# print('python Programming')\n",
    "ls = ['hello world\\n', 'python programming']\n",
    "f.writelines(ls)\n",
    "f.close() "
   ]
  },
  {
   "cell_type": "code",
   "execution_count": 13,
   "metadata": {},
   "outputs": [
    {
     "name": "stdout",
     "output_type": "stream",
     "text": [
      "hell\n",
      "o wor\n"
     ]
    }
   ],
   "source": [
    "# read(): to the entire text from the file object\n",
    "f = open('sample.txt', 'r')\n",
    "data = f.read(4)\n",
    "data2 = f.read(5)\n",
    "print(data)\n",
    "print(data2)\n",
    "f.close()"
   ]
  },
  {
   "cell_type": "code",
   "execution_count": 21,
   "metadata": {},
   "outputs": [
    {
     "name": "stdout",
     "output_type": "stream",
     "text": [
      "python programming\n"
     ]
    }
   ],
   "source": [
    "# readline():\n",
    " \n",
    "f = open('sample.txt', 'r')\n",
    "tmp = f.read(12)\n",
    "data = f.readline()\n",
    "# data2 = f.readline()\n",
    "print(data)\n",
    "# print(data2)\n",
    "f.close()"
   ]
  },
  {
   "cell_type": "code",
   "execution_count": 27,
   "metadata": {},
   "outputs": [
    {
     "name": "stdout",
     "output_type": "stream",
     "text": [
      "['hello world\\n', 'python programming']\n"
     ]
    }
   ],
   "source": [
    "# readlines():\n",
    " \n",
    "f = open('sample.txt', 'r')\n",
    "# tmp = f.read(12)\n",
    "data = f.readlines(20)\n",
    "# data2 = f.readline()\n",
    "print(data)\n",
    "# print(data2)\n",
    "f.close()"
   ]
  },
  {
   "cell_type": "code",
   "execution_count": null,
   "metadata": {},
   "outputs": [],
   "source": [
    "# functions with file object \n",
    "'''\n",
    "file_object = open(filename, mode)\n",
    "mode: default mode is read('r')\n",
    "\n",
    "functins for writing file  # w/a/w+/r+/a+\n",
    "1. write()\n",
    "2. writelines()\n",
    "\n",
    "functins for reading file  # r(default)/r+/w+/a+\n",
    "1. read()\n",
    "2. readline()\n",
    "3. readlines()\n",
    "\n",
    "'''"
   ]
  },
  {
   "cell_type": "code",
   "execution_count": 5,
   "metadata": {},
   "outputs": [],
   "source": [
    "# write(): To write the string into a file \n",
    "# note: write function dont have any new line char at the end of the operation\n",
    "f = open('sample.txt', 'w')\n",
    "\n",
    "f.write('hello world\\n')\n",
    "f.write('python programming')\n",
    "# print('hello world')\n",
    "# print('Python Programming')\n",
    "\n",
    "f.close()"
   ]
  },
  {
   "cell_type": "code",
   "execution_count": 6,
   "metadata": {},
   "outputs": [],
   "source": [
    "# writelines(): to Write the list of string(lines)\n",
    "f = open('sample.txt', 'w')\n",
    "ls = ['hello world\\n', 'python programming']\n",
    "f.writelines(ls)\n",
    "f.close()"
   ]
  },
  {
   "cell_type": "code",
   "execution_count": 16,
   "metadata": {},
   "outputs": [
    {
     "name": "stdout",
     "output_type": "stream",
     "text": [
      "hello worl\n",
      "d\n",
      "py\n"
     ]
    }
   ],
   "source": [
    "# read(): return the entire text of the file in the form of string\n",
    "f = open('sample.txt')  # default mode is 'r'\n",
    "data = f.read(10)\n",
    "data2 = f.read(4)\n",
    "print(data)\n",
    "print(data2)\n",
    "f.close()"
   ]
  },
  {
   "cell_type": "code",
   "execution_count": 26,
   "metadata": {},
   "outputs": [
    {
     "name": "stdout",
     "output_type": "stream",
     "text": [
      "hello world\n",
      "\n",
      "python programming\n"
     ]
    }
   ],
   "source": [
    "# readline(): read the current line only\n",
    "f = open('sample.txt')\n",
    "data = f.readline(12)\n",
    "data2 = f.readline()\n",
    "print(data)\n",
    "print(data2)\n",
    "f.close()"
   ]
  },
  {
   "cell_type": "code",
   "execution_count": 32,
   "metadata": {},
   "outputs": [
    {
     "name": "stdout",
     "output_type": "stream",
     "text": [
      "['hello world\\n']\n",
      "python programming\n"
     ]
    }
   ],
   "source": [
    "# readlines(): read entire text in the form of list of lines\n",
    "\n",
    "f = open('sample.txt')\n",
    "data = f.readlines(2)\n",
    "data2 = f.readline()\n",
    "print(data)\n",
    "print(data2)\n",
    "f.close()"
   ]
  }
 ],
 "metadata": {
  "kernelspec": {
   "display_name": "Python 3",
   "language": "python",
   "name": "python3"
  },
  "language_info": {
   "codemirror_mode": {
    "name": "ipython",
    "version": 3
   },
   "file_extension": ".py",
   "mimetype": "text/x-python",
   "name": "python",
   "nbconvert_exporter": "python",
   "pygments_lexer": "ipython3",
   "version": "3.10.7"
  },
  "orig_nbformat": 4,
  "vscode": {
   "interpreter": {
    "hash": "490f1c68ed42f2c5a574e22fb9e03ff49b98516de8582ff1c5d4fb43fb70f61b"
   }
  }
 },
 "nbformat": 4,
 "nbformat_minor": 2
}
