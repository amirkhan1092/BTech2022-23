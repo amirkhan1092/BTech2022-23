{
 "cells": [
  {
   "cell_type": "code",
   "execution_count": 1,
   "metadata": {},
   "outputs": [],
   "source": [
    "# binary file\n",
    "f = open('object_file.csv', 'wb')\n",
    "f.write(b'Class Rollnumber,Name,Mobile\\n')\n",
    "f.write(b'30,Mandeep Singh,983776266')  \n",
    "f.close()"
   ]
  },
  {
   "cell_type": "code",
   "execution_count": 2,
   "metadata": {},
   "outputs": [],
   "source": [
    "#Example_pickling_in_python\n",
    "\n",
    "import pickle\n",
    "\n",
    "def write():\n",
    "    file = open(\"binary.dat\",'wb')\n",
    "    x = [1,2,3,4,5]    #data we wrote in file\n",
    "    pickle.dump(x,file)\n",
    "    file.close()\n",
    "\n",
    "write()"
   ]
  },
  {
   "cell_type": "code",
   "execution_count": 3,
   "metadata": {},
   "outputs": [
    {
     "name": "stdout",
     "output_type": "stream",
     "text": [
      "[1, 2, 3, 4, 5]\n"
     ]
    }
   ],
   "source": [
    "#Example_unpickling\n",
    "import pickle\n",
    "\n",
    "def read():\n",
    "    file = open(\"binary.dat\",'rb')\n",
    "    data = pickle.load(file)\n",
    "    file.close()\n",
    "    print(data)\n",
    "\n",
    "read()"
   ]
  }
 ],
 "metadata": {
  "kernelspec": {
   "display_name": "Python 3",
   "language": "python",
   "name": "python3"
  },
  "language_info": {
   "codemirror_mode": {
    "name": "ipython",
    "version": 3
   },
   "file_extension": ".py",
   "mimetype": "text/x-python",
   "name": "python",
   "nbconvert_exporter": "python",
   "pygments_lexer": "ipython3",
   "version": "3.10.7 (tags/v3.10.7:6cc6b13, Sep  5 2022, 14:08:36) [MSC v.1933 64 bit (AMD64)]"
  },
  "orig_nbformat": 4,
  "vscode": {
   "interpreter": {
    "hash": "490f1c68ed42f2c5a574e22fb9e03ff49b98516de8582ff1c5d4fb43fb70f61b"
   }
  }
 },
 "nbformat": 4,
 "nbformat_minor": 2
}
