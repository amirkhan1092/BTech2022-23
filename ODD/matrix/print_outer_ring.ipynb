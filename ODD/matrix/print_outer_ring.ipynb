{
 "cells": [
  {
   "cell_type": "code",
   "execution_count": 4,
   "metadata": {},
   "outputs": [
    {
     "name": "stdout",
     "output_type": "stream",
     "text": [
      "2 4 2\n",
      "1 3 1\n",
      "0 2 4\n",
      "[2, 4, 2]\n",
      "[1]\n",
      "[4, 2, 0]\n",
      "[1]\n"
     ]
    }
   ],
   "source": [
    "# matrix\n",
    "M = [[2, 4, 2], [1, 3, 1], [0, 2, 4]]\n",
    "\n",
    "for r in M:\n",
    "    print(*r)\n",
    "\n",
    "# print outer ring\n",
    "print(M[0])\n",
    "print([row[-1] for row in M[1:-1]])\n",
    "print(M[-1][::-1])\n",
    "print([row[0] for row in M[1:-1]][::-1])\n"
   ]
  },
  {
   "cell_type": "code",
   "execution_count": 18,
   "metadata": {},
   "outputs": [
    {
     "name": "stdout",
     "output_type": "stream",
     "text": [
      "Orignal Matrix:\n",
      "2 4 2 4\n",
      "0 1 3 1\n",
      "2 0 2 4\n",
      "6 1 2 3\n",
      "9 4 5 6\n",
      "\n",
      "Only Outer Ring:\n",
      "2 4 2 4\n",
      "0     1\n",
      "2     4\n",
      "6     3\n",
      "6 5 4 9\n"
     ]
    }
   ],
   "source": [
    "M = [[2, 4, 2, 4], [0, 1, 3, 1], [2, 0, 2, 4], [6, 1, 2, 3], [9, 4, 5, 6]]\n",
    "r = len(M)\n",
    "c = len(M[0])\n",
    "# display matrix\n",
    "print('Orignal Matrix:')\n",
    "for r in M:\n",
    "    print(*r)\n",
    "\n",
    "print()\n",
    "\n",
    "# print outer ring\n",
    "print('Only Outer Ring:')\n",
    "for i in range(len(M)):\n",
    "    if i == 0:\n",
    "        print(*M[i])\n",
    "    elif i == len(M) - 1:\n",
    "        print(*M[i][::-1])\n",
    "    else:\n",
    "        print(M[i][0], M[i][-1], sep=' '*(2*c-3))"
   ]
  },
  {
   "cell_type": "code",
   "execution_count": 35,
   "metadata": {},
   "outputs": [
    {
     "name": "stdout",
     "output_type": "stream",
     "text": [
      "Orignal Matrix:\n",
      "2 4 2 4\n",
      "0 1 3 1\n",
      "2 0 2 4\n",
      "6 1 2 3\n",
      "9 4 5 6\n",
      "\n",
      "Open First Layer:\n",
      "1 3\n",
      "0 2\n",
      "1 2\n"
     ]
    }
   ],
   "source": [
    "M = [[2, 4, 2, 4], [0, 1, 3, 1], [2, 0, 2, 4], [6, 1, 2, 3], [9, 4, 5, 6]]\n",
    "r = len(M)\n",
    "c = len(M[0])\n",
    "# display matrix\n",
    "print('Orignal Matrix:')\n",
    "for r in M:\n",
    "    print(*r)\n",
    "\n",
    "print()\n",
    "\n",
    "# open first layer\n",
    "print('Open First Layer:')\n",
    "\n",
    "out = [row[1:-1] for row in M[1:-1]]\n",
    "for r in out:\n",
    "    print(*r)\n",
    "# print(out)\n",
    "# out.insert(0, M[0][1:-1])\n",
    "# out.append(M[-1][1:-1][::-1])\n",
    "# for r in out:\n",
    "#     print(*r)\n",
    "\n",
    "\n",
    "\n"
   ]
  }
 ],
 "metadata": {
  "kernelspec": {
   "display_name": "Python 3",
   "language": "python",
   "name": "python3"
  },
  "language_info": {
   "codemirror_mode": {
    "name": "ipython",
    "version": 3
   },
   "file_extension": ".py",
   "mimetype": "text/x-python",
   "name": "python",
   "nbconvert_exporter": "python",
   "pygments_lexer": "ipython3",
   "version": "3.10.7 (tags/v3.10.7:6cc6b13, Sep  5 2022, 14:08:36) [MSC v.1933 64 bit (AMD64)]"
  },
  "orig_nbformat": 4,
  "vscode": {
   "interpreter": {
    "hash": "490f1c68ed42f2c5a574e22fb9e03ff49b98516de8582ff1c5d4fb43fb70f61b"
   }
  }
 },
 "nbformat": 4,
 "nbformat_minor": 2
}
