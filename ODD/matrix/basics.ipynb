{
 "cells": [
  {
   "cell_type": "code",
   "execution_count": 3,
   "metadata": {},
   "outputs": [
    {
     "name": "stdout",
     "output_type": "stream",
     "text": [
      "navneet\n"
     ]
    }
   ],
   "source": [
    "import random\n",
    "ls = ['navneet', 'akash', 'neelesh', 'arun', 'meet']\n",
    "out = random.choice(ls)\n",
    "print(out)"
   ]
  },
  {
   "cell_type": "code",
   "execution_count": 18,
   "metadata": {},
   "outputs": [],
   "source": [
    "random.seed(100000000)"
   ]
  },
  {
   "cell_type": "code",
   "execution_count": 21,
   "metadata": {},
   "outputs": [
    {
     "data": {
      "text/plain": [
       "0.6332735604470153"
      ]
     },
     "execution_count": 21,
     "metadata": {},
     "output_type": "execute_result"
    }
   ],
   "source": [
    "random.random()"
   ]
  },
  {
   "cell_type": "code",
   "execution_count": 13,
   "metadata": {},
   "outputs": [
    {
     "name": "stdout",
     "output_type": "stream",
     "text": [
      "o\n"
     ]
    }
   ],
   "source": [
    "st = 'hello world'\n",
    "out = random.choice(st)\n",
    "print(out)"
   ]
  },
  {
   "cell_type": "code",
   "execution_count": 25,
   "metadata": {},
   "outputs": [
    {
     "name": "stdout",
     "output_type": "stream",
     "text": [
      "1\n",
      "1\t3\t5\t2\n",
      "4\t1\t0\t1\n",
      "3\t6\t7\t32\n"
     ]
    }
   ],
   "source": [
    "# matrix\n",
    "# example 3 x 4\n",
    "ls = [[1, 3, 5, 2], [4, 1, 0, 1], [3, 6, 7, 32]]\n",
    "# out = ls[0][0]\n",
    "print(out)\n",
    "for i in ls:\n",
    "    print(*i, sep='\\t')"
   ]
  },
  {
   "cell_type": "code",
   "execution_count": 34,
   "metadata": {},
   "outputs": [
    {
     "name": "stdout",
     "output_type": "stream",
     "text": [
      "1\t3\t54\t35\n",
      "2\t4\t5\t8\n",
      "0\t9\t3\t4\n"
     ]
    }
   ],
   "source": [
    "# matrix\n",
    "'''\n",
    "3 x 4\n",
    "'''\n",
    "def valid_matrix(ls):\n",
    "    ln = len(ls[0])\n",
    "    for r in ls:\n",
    "        if len(r) != ln:\n",
    "            return False\n",
    "    return True        \n",
    "\n",
    "\n",
    "ls = [[1, 3, 54, 35], [2, 4, 5, 8], [0, 9, 3, 4]]\n",
    "if valid_matrix(ls):\n",
    "    for row in ls:\n",
    "        print(*row, sep='\\t')\n",
    "else:\n",
    "    print('Invalid Matrix')        "
   ]
  },
  {
   "cell_type": "code",
   "execution_count": 12,
   "metadata": {},
   "outputs": [
    {
     "name": "stdout",
     "output_type": "stream",
     "text": [
      "[[ 4  7  4]\n",
      " [ 6 10 12]]\n"
     ]
    }
   ],
   "source": [
    "# matrix\n",
    "'''3 X 3'''\n",
    "import numpy as np\n",
    "ls1 = [[3, 5, 1], [2, 5, 6]]\n",
    "ls2 = [[1, 2, 3], [4, 5, 6]]\n",
    "arr1 = np.array(ls1)\n",
    "arr2 = np.array(ls2)\n",
    "out = np.add(arr1, arr2)\n",
    "print(out)"
   ]
  },
  {
   "cell_type": "code",
   "execution_count": 26,
   "metadata": {},
   "outputs": [],
   "source": [
    "def disp_matrix(arr):\n",
    "    for i in arr:\n",
    "        print(*i, sep='\\t')\n",
    "\n",
    "def shape(arr):\n",
    "    return len(arr), len(arr[0])\n",
    "\n",
    "def create_matrix(r, c, ele):\n",
    "    return eval(str([[ele] * c]*r))"
   ]
  },
  {
   "cell_type": "code",
   "execution_count": 48,
   "metadata": {},
   "outputs": [],
   "source": [
    "# [[0, 0, 0], [0, 0, 0], [0, 0, 0]]\n",
    "def create_matrix(r, c, ele):\n",
    "    return eval(str([[ele] * c]*r))\n"
   ]
  },
  {
   "cell_type": "code",
   "execution_count": 31,
   "metadata": {},
   "outputs": [
    {
     "name": "stdout",
     "output_type": "stream",
     "text": [
      "100\t0\t0\n",
      "100\t0\t0\n",
      "100\t0\t0\n"
     ]
    }
   ],
   "source": [
    "out = create_matrix(3, 3, 0)\n",
    "out[0][0] = 100\n",
    "disp_matrix(out)"
   ]
  },
  {
   "cell_type": "code",
   "execution_count": 47,
   "metadata": {},
   "outputs": [
    {
     "data": {
      "text/plain": [
       "[[0, 0], [0, 0], [0, 0]]"
      ]
     },
     "execution_count": 47,
     "metadata": {},
     "output_type": "execute_result"
    }
   ],
   "source": [
    "ls = [[0]*2]*3\n",
    "# ls[0].append(100)\n",
    "raw = eval(str(ls))\n",
    "raw"
   ]
  },
  {
   "cell_type": "code",
   "execution_count": 49,
   "metadata": {},
   "outputs": [
    {
     "name": "stdout",
     "output_type": "stream",
     "text": [
      "Matrix1\n",
      "3\t5\t2\t1\n",
      "1\t2\t3\t4\n",
      "1\t0\t0\t0\n",
      "\n",
      "Matrix2\n",
      "1\t5\t0\t1\n",
      "1\t2\t9\t4\n",
      "1\t10\t0\t3\n",
      "Addition\n",
      "4\t10\t2\t2\n",
      "2\t4\t12\t8\n",
      "2\t10\t0\t3\n"
     ]
    }
   ],
   "source": [
    "# matrix\n",
    "# 3 x 4 \n",
    "ls1 = [[3, 5, 2, 1], [1, 2, 3, 4], [1, 0, 0, 0]]\n",
    "ls2 = [[1, 5, 0, 1], [1, 2, 9, 4], [1, 10, 0, 3]]\n",
    "print('Matrix1')\n",
    "disp_matrix(ls1)\n",
    "print('\\nMatrix2')\n",
    "disp_matrix(ls2)\n",
    "r1, c1 = shape(ls1)\n",
    "r2, c2 = shape(ls2)\n",
    "if (r1, c1) == (r2, c2):\n",
    "    out = create_matrix(r1, c1, 0)\n",
    "    for i in range(r1):\n",
    "        for j in range(c1):\n",
    "            out[i][j] = ls1[i][j] + ls2[i][j] \n",
    "    print(\"Addition\")\n",
    "    disp_matrix(out)        \n",
    "else:\n",
    "    print('Shape is not valid for Addition')\n"
   ]
  },
  {
   "cell_type": "code",
   "execution_count": 19,
   "metadata": {},
   "outputs": [
    {
     "name": "stdout",
     "output_type": "stream",
     "text": [
      "1\n"
     ]
    }
   ],
   "source": [
    "ls = [[[33, 1, 3], [5, 2]], [[5, 4], [4, 8]]]\n",
    "out = \n",
    "print(out)"
   ]
  },
  {
   "cell_type": "code",
   "execution_count": null,
   "metadata": {},
   "outputs": [],
   "source": []
  }
 ],
 "metadata": {
  "kernelspec": {
   "display_name": "Python 3",
   "language": "python",
   "name": "python3"
  },
  "language_info": {
   "codemirror_mode": {
    "name": "ipython",
    "version": 3
   },
   "file_extension": ".py",
   "mimetype": "text/x-python",
   "name": "python",
   "nbconvert_exporter": "python",
   "pygments_lexer": "ipython3",
   "version": "3.10.7"
  },
  "orig_nbformat": 4,
  "vscode": {
   "interpreter": {
    "hash": "490f1c68ed42f2c5a574e22fb9e03ff49b98516de8582ff1c5d4fb43fb70f61b"
   }
  }
 },
 "nbformat": 4,
 "nbformat_minor": 2
}
