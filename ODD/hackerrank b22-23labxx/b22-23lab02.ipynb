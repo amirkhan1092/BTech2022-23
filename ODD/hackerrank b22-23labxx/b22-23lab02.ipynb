{
 "cells": [
  {
   "cell_type": "code",
   "execution_count": null,
   "metadata": {},
   "outputs": [],
   "source": [
    "# loose Number\n",
    "num = int(input())\n",
    "\n",
    "if num % 2:\n",
    "    print('Weird')\n",
    "else:\n",
    "    if 2 <= num <= 5:\n",
    "        print('Not Weird')\n",
    "    elif 6 <= num <= 20:\n",
    "        print('Weird')\n",
    "    elif num > 20:\n",
    "        print('Not Weird')"
   ]
  },
  {
   "cell_type": "code",
   "execution_count": null,
   "metadata": {},
   "outputs": [],
   "source": [
    "# vector sum 1\n",
    "vec = input()\n",
    "out = sum(map(int, list(vec)))\n",
    "print(out)"
   ]
  },
  {
   "cell_type": "code",
   "execution_count": null,
   "metadata": {},
   "outputs": [],
   "source": [
    "# Binary Bits 1\n",
    "\n",
    "n1, n2 = map(int, input().split())\n",
    "k = int(input())\n",
    "\n",
    "re_and = n1 & n2\n",
    "re_or = n1 | n2\n",
    "re_xor = n1 ^ n2\n",
    "\n",
    "# apply filter \n",
    "re_and *= (k > re_and)\n",
    "re_or *= k > re_or\n",
    "re_xor *= k > re_xor\n",
    "\n",
    "# display maximum\n",
    "out = max(re_and, re_or, re_xor)\n",
    "\n",
    "print(out)"
   ]
  },
  {
   "cell_type": "code",
   "execution_count": null,
   "metadata": {},
   "outputs": [],
   "source": [
    "# rock paper scissor\n",
    "name1 = input()\n",
    "name2 = input()\n",
    "ch1 = input()\n",
    "ch2 = input()\n",
    "\n",
    "if ch1 == 'Rock' and ch2 == 'Scissor' or ch1 == 'Paper' and ch2 == 'Rock' or ch1 == 'Scissor' and ch2 == 'Paper':\n",
    "    print(name1, 'Win')\n",
    "else:\n",
    "    print(name2, 'Win')"
   ]
  },
  {
   "cell_type": "code",
   "execution_count": null,
   "metadata": {},
   "outputs": [],
   "source": [
    "# Feet to inches\n",
    "feet = eval(input())\n",
    "inches = feet * 12\n",
    "print(inches)"
   ]
  }
 ],
 "metadata": {
  "kernelspec": {
   "display_name": "Python 3.10.7 64-bit",
   "language": "python",
   "name": "python3"
  },
  "language_info": {
   "name": "python",
   "version": "3.10.7"
  },
  "orig_nbformat": 4,
  "vscode": {
   "interpreter": {
    "hash": "490f1c68ed42f2c5a574e22fb9e03ff49b98516de8582ff1c5d4fb43fb70f61b"
   }
  }
 },
 "nbformat": 4,
 "nbformat_minor": 2
}
