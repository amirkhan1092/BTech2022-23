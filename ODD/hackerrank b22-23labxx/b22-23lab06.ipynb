{
 "cells": [
  {
   "cell_type": "code",
   "execution_count": 1,
   "metadata": {},
   "outputs": [
    {
     "name": "stdout",
     "output_type": "stream",
     "text": [
      "\"_tdgd72_ws\"\n"
     ]
    }
   ],
   "source": [
    "# filter string\n",
    "def filter_string(st):\n",
    "    # Write your code here and return output\n",
    "    new_st = '\"'\n",
    "    for i in st:\n",
    "        if i.isalnum() or i == '/':\n",
    "            new_st += i\n",
    "        else:\n",
    "            if new_st[-1] != '_':\n",
    "                new_st += '_'\n",
    "    return new_st +'\"' \n",
    "st = input()\n",
    "out = filter_string(st)\n",
    "print(out)    "
   ]
  },
  {
   "cell_type": "code",
   "execution_count": 3,
   "metadata": {},
   "outputs": [
    {
     "name": "stdout",
     "output_type": "stream",
     "text": [
      "g 2\n",
      "o 2\n",
      "e 1\n"
     ]
    }
   ],
   "source": [
    "# Most Common char in Company name\n",
    "# Enter your code here. Read input from STDIN. Print output to STDOUT\n",
    "def ret(x):\n",
    "    return x[-1]\n",
    "\n",
    "\n",
    "st = input()  # read the string from user via keyboard\n",
    "counter = []\n",
    "for i in st:\n",
    "    t = i, st.count(i)\n",
    "    if t not in counter:\n",
    "        counter.append(t)\n",
    "counter.sort()\n",
    "counter.sort(key=ret, reverse=True)\n",
    "# display method 1\n",
    "# for i in range(3):\n",
    "#     print(counter[i][0], counter[i][1])\n",
    "\n",
    "\n",
    "# display method 2\n",
    "for i, j in counter[:3]:\n",
    "    print(i, j)"
   ]
  },
  {
   "cell_type": "code",
   "execution_count": 1,
   "metadata": {},
   "outputs": [
    {
     "name": "stdout",
     "output_type": "stream",
     "text": [
      "jyoti\n"
     ]
    }
   ],
   "source": [
    "# badminton \n",
    "names = input().split(',')\n",
    "pair = [[i, names.count(i)] for i in names]\n",
    "pair.sort(reverse=True)\n",
    "pair.sort(key=lambda x:x[-1])\n",
    "print(pair[-1][0])"
   ]
  },
  {
   "cell_type": "code",
   "execution_count": 2,
   "metadata": {},
   "outputs": [
    {
     "name": "stdout",
     "output_type": "stream",
     "text": [
      "**********\n",
      "****  ****\n",
      "***    ***\n",
      "**      **\n",
      "*        *\n",
      "*        *\n",
      "**      **\n",
      "***    ***\n",
      "****  ****\n",
      "**********\n"
     ]
    }
   ],
   "source": [
    "# pattern\n",
    "rows = int(input())\n",
    "for i in range(1, rows+1):\n",
    "    print('*'*(rows-i+1) + ' '*(2*i-2) + '*'*(rows-i+1))\n",
    "\n",
    "for i in range(1, rows+1):\n",
    "    print('*'*i + ' '* 2*(rows-i)+ '*'*i)"
   ]
  },
  {
   "cell_type": "code",
   "execution_count": 3,
   "metadata": {},
   "outputs": [
    {
     "name": "stdout",
     "output_type": "stream",
     "text": [
      "2\n"
     ]
    }
   ],
   "source": [
    "# count string sub_string occurance\n",
    "\n",
    "st = input() \n",
    "sub_st = input()\n",
    "count = 0\n",
    "ln_st = len(st)\n",
    "ln_sub_st = len(sub_st)\n",
    "start = 0\n",
    "end = ln_sub_st\n",
    "for i in range(0, ln_st):\n",
    "    x = st[start:end]\n",
    "    # print(x)\n",
    "    if x == sub_st:\n",
    "        count += 1\n",
    "    start += 1\n",
    "    end += 1 \n",
    "print(count)"
   ]
  }
 ],
 "metadata": {
  "kernelspec": {
   "display_name": "Python 3.10.7 64-bit",
   "language": "python",
   "name": "python3"
  },
  "language_info": {
   "codemirror_mode": {
    "name": "ipython",
    "version": 3
   },
   "file_extension": ".py",
   "mimetype": "text/x-python",
   "name": "python",
   "nbconvert_exporter": "python",
   "pygments_lexer": "ipython3",
   "version": "3.10.7"
  },
  "orig_nbformat": 4,
  "vscode": {
   "interpreter": {
    "hash": "490f1c68ed42f2c5a574e22fb9e03ff49b98516de8582ff1c5d4fb43fb70f61b"
   }
  }
 },
 "nbformat": 4,
 "nbformat_minor": 2
}
