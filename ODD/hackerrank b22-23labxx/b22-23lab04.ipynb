{
 "cells": [
  {
   "cell_type": "code",
   "execution_count": 2,
   "metadata": {},
   "outputs": [
    {
     "name": "stdout",
     "output_type": "stream",
     "text": [
      "'True'\n"
     ]
    }
   ],
   "source": [
    "# Invalid Parentheses\n",
    "st = input()\n",
    "count = 0\n",
    "for i in st:\n",
    "    if i == '(':\n",
    "        count += 1\n",
    "    elif i == ')':\n",
    "        count -= 1\n",
    "        if count < 0:\n",
    "            break\n",
    "print(f\"'{count == 0}'\")"
   ]
  },
  {
   "cell_type": "code",
   "execution_count": 4,
   "metadata": {},
   "outputs": [
    {
     "name": "stdout",
     "output_type": "stream",
     "text": [
      "1 \n",
      "2 3 \n",
      "4 5 6 \n",
      "7 8 9 10 \n"
     ]
    }
   ],
   "source": [
    "# Right angle Triangle 3\n",
    "num = int(input())\n",
    "count = 1\n",
    "for i in range(num):\n",
    "    for j in range(i+1):\n",
    "        print(count, end=' ')\n",
    "        count += 1\n",
    "    print()    "
   ]
  },
  {
   "cell_type": "code",
   "execution_count": null,
   "metadata": {},
   "outputs": [],
   "source": [
    "\"hopscotch game\"\n",
    "\n",
    "jumps = list(map(int, input().split()))  # [2,3,1,1,4]\n",
    "hop_jump_index = len(jumps) - 1  # 4\n",
    "for i in range(len(jumps)-1, -1, -1):\n",
    "    if i + jumps[i] >= hop_jump_index:\n",
    "        hop_jump_index = i\n",
    "    # print(hop_jump_index)    \n",
    "print(hop_jump_index == 0)   "
   ]
  },
  {
   "cell_type": "code",
   "execution_count": 5,
   "metadata": {},
   "outputs": [
    {
     "name": "stdout",
     "output_type": "stream",
     "text": [
      "2\n"
     ]
    }
   ],
   "source": [
    "# Logical Array\n",
    "arr = list(map(int, input().split()))\n",
    "out = max([i & j for i in arr for j in arr if i != j])\n",
    "print(out)"
   ]
  },
  {
   "cell_type": "code",
   "execution_count": 6,
   "metadata": {},
   "outputs": [
    {
     "name": "stdout",
     "output_type": "stream",
     "text": [
      "   0\n",
      "   1\n",
      "  10\n",
      "  11\n",
      " 100\n",
      " 101\n",
      " 110\n",
      " 111\n",
      "1000\n",
      "1001\n",
      "1010\n"
     ]
    }
   ],
   "source": [
    "# Binary Burj Khalifa\n",
    "num = int(input())\n",
    "w = len(bin(num)) - 2\n",
    "for i in range(num+1):\n",
    "    d = bin(i)[2:]\n",
    "    print(d.rjust(w))"
   ]
  }
 ],
 "metadata": {
  "kernelspec": {
   "display_name": "Python 3.10.7 64-bit",
   "language": "python",
   "name": "python3"
  },
  "language_info": {
   "codemirror_mode": {
    "name": "ipython",
    "version": 3
   },
   "file_extension": ".py",
   "mimetype": "text/x-python",
   "name": "python",
   "nbconvert_exporter": "python",
   "pygments_lexer": "ipython3",
   "version": "3.10.7"
  },
  "orig_nbformat": 4,
  "vscode": {
   "interpreter": {
    "hash": "490f1c68ed42f2c5a574e22fb9e03ff49b98516de8582ff1c5d4fb43fb70f61b"
   }
  }
 },
 "nbformat": 4,
 "nbformat_minor": 2
}
