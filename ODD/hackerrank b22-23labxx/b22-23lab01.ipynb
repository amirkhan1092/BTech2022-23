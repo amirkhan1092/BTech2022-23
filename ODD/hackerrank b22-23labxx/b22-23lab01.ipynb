{
 "cells": [
  {
   "cell_type": "code",
   "execution_count": null,
   "metadata": {},
   "outputs": [],
   "source": [
    "# Product of 2 numbers\n",
    "num1 = int(input())\n",
    "num2 = int(input())\n",
    "out = num1 * num2\n",
    "print(f'{out}')"
   ]
  },
  {
   "cell_type": "code",
   "execution_count": null,
   "metadata": {},
   "outputs": [],
   "source": [
    "# Valentine Match\n",
    "num1 = int(input())\n",
    "num2 = int(input())\n",
    "xor = num1 ^ num2\n",
    "sm = num1 + num2\n",
    "\n",
    "print(\"'Valentine Match'\" if xor == sm else None)"
   ]
  },
  {
   "cell_type": "code",
   "execution_count": 1,
   "metadata": {},
   "outputs": [
    {
     "name": "stdout",
     "output_type": "stream",
     "text": [
      "True\n"
     ]
    }
   ],
   "source": [
    "# leap year\n",
    "year = int(input())\n",
    "out = year % 4 == 0 and year % 100 != 0 or year % 400 == 0\n",
    "print(f'{out}')"
   ]
  },
  {
   "cell_type": "code",
   "execution_count": 2,
   "metadata": {},
   "outputs": [
    {
     "name": "stdout",
     "output_type": "stream",
     "text": [
      "28\n"
     ]
    }
   ],
   "source": [
    "# number of days\n",
    "ls = [31, 28, 31, 30, 31, 30, 31, 31, 30, 31, 30, 31]\n",
    "out = ls[int(input())-1]\n",
    "print(f'{out}')"
   ]
  },
  {
   "cell_type": "code",
   "execution_count": null,
   "metadata": {},
   "outputs": [],
   "source": [
    "# English Word\n",
    "digit = int(input())\n",
    "digits = ['ONE', 'TWO', 'THREE', 'FOUR', 'FIVE', 'SIX', 'SEVEN', 'EIGHT', 'NINE']\n",
    "print( '''can't digit covered with \" tokens''' if digit > 9 or digit == 0 else digits[digit-1])"
   ]
  }
 ],
 "metadata": {
  "kernelspec": {
   "display_name": "Python 3.10.7 64-bit",
   "language": "python",
   "name": "python3"
  },
  "language_info": {
   "codemirror_mode": {
    "name": "ipython",
    "version": 3
   },
   "file_extension": ".py",
   "mimetype": "text/x-python",
   "name": "python",
   "nbconvert_exporter": "python",
   "pygments_lexer": "ipython3",
   "version": "3.10.7"
  },
  "orig_nbformat": 4,
  "vscode": {
   "interpreter": {
    "hash": "490f1c68ed42f2c5a574e22fb9e03ff49b98516de8582ff1c5d4fb43fb70f61b"
   }
  }
 },
 "nbformat": 4,
 "nbformat_minor": 2
}
