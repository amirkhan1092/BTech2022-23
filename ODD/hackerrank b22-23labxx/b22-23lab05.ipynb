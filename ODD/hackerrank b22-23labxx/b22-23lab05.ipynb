{
 "cells": [
  {
   "cell_type": "code",
   "execution_count": 1,
   "metadata": {},
   "outputs": [
    {
     "name": "stdout",
     "output_type": "stream",
     "text": [
      "2,3,5,"
     ]
    }
   ],
   "source": [
    "# Prime upto N\n",
    "num = int(input())\n",
    "for n in range(2, num+1):\n",
    "    for i in range(2, n):\n",
    "        if n % i == 0:\n",
    "            break\n",
    "    else:\n",
    "        print(n, end=',')    "
   ]
  },
  {
   "cell_type": "code",
   "execution_count": 2,
   "metadata": {},
   "outputs": [
    {
     "name": "stdout",
     "output_type": "stream",
     "text": [
      "15\n",
      "17\n",
      "f\n",
      "F\n"
     ]
    }
   ],
   "source": [
    "# Number System 1\n",
    "num = int(input())\n",
    "print(num)\n",
    "print(oct(num)[2:])\n",
    "x = hex(num)[2:]\n",
    "print(x)\n",
    "print(x.upper())"
   ]
  },
  {
   "cell_type": "code",
   "execution_count": 3,
   "metadata": {},
   "outputs": [
    {
     "name": "stdout",
     "output_type": "stream",
     "text": [
      "ehpl\n"
     ]
    }
   ],
   "source": [
    "# Adjacent characters\n",
    "st = input()\n",
    "re = ''\n",
    "if len(st) % 2:\n",
    "    print('Odd length.')\n",
    "else:\n",
    "    for i in range(0, len(st), 2):\n",
    "        re += st[i:i+2][::-1]\n",
    "    print(re)            "
   ]
  },
  {
   "cell_type": "code",
   "execution_count": 4,
   "metadata": {},
   "outputs": [
    {
     "name": "stdout",
     "output_type": "stream",
     "text": [
      "[False, False, True]\n"
     ]
    }
   ],
   "source": [
    "# List String Title\n",
    "lst = eval(input())\n",
    "out = [st.istitle() for st in lst]\n",
    "print(out)"
   ]
  },
  {
   "cell_type": "code",
   "execution_count": 6,
   "metadata": {},
   "outputs": [
    {
     "name": "stdout",
     "output_type": "stream",
     "text": [
      "4\n"
     ]
    }
   ],
   "source": [
    "# The war\n",
    "r, c = map(int, input().split(' x '))\n",
    "out = (r * c) // 2\n",
    "print(out)"
   ]
  },
  {
   "cell_type": "code",
   "execution_count": 7,
   "metadata": {},
   "outputs": [
    {
     "name": "stdout",
     "output_type": "stream",
     "text": [
      "1\n"
     ]
    }
   ],
   "source": [
    "# Binary string with consecutive 1’s\n",
    "\n",
    "width = int(input())\n",
    "count = 0\n",
    "for i in range(2 ** width):\n",
    "    if '11' in bin(i):\n",
    "        count += 1\n",
    "print(count) \n",
    "\n",
    "\n"
   ]
  },
  {
   "cell_type": "code",
   "execution_count": 8,
   "metadata": {},
   "outputs": [
    {
     "name": "stdout",
     "output_type": "stream",
     "text": [
      "l o w o r l d h e l l o w o r l d h e l\n"
     ]
    }
   ],
   "source": [
    "# Gully Boy Boht Hard Question\n",
    "st = input()\n",
    "pos = int(input())\n",
    "rep = int(input())\n",
    "\n",
    "re = (st[pos:] + st[:pos]).replace(' ', '')*rep\n",
    "print(*re)"
   ]
  },
  {
   "cell_type": "code",
   "execution_count": 10,
   "metadata": {},
   "outputs": [
    {
     "name": "stdout",
     "output_type": "stream",
     "text": [
      "aa\n",
      "ac\n",
      "ak\n",
      "ap\n",
      "cc\n",
      "ck\n",
      "cp\n",
      "kk\n",
      "kp\n",
      "pp\n"
     ]
    }
   ],
   "source": [
    "# String Subsequences Combinations\n",
    "st, n = input().split()\n",
    "n = int(n)\n",
    "ln = len(st)\n",
    "ls = []\n",
    "for i in range(ln):\n",
    "    for j in range(i, ln):\n",
    "        ls.append(''.join(sorted(st[i]+st[j])))\n",
    "ls.sort()\n",
    "print(*ls, sep='\\n') \n",
    "       "
   ]
  }
 ],
 "metadata": {
  "kernelspec": {
   "display_name": "Python 3.10.7 64-bit",
   "language": "python",
   "name": "python3"
  },
  "language_info": {
   "codemirror_mode": {
    "name": "ipython",
    "version": 3
   },
   "file_extension": ".py",
   "mimetype": "text/x-python",
   "name": "python",
   "nbconvert_exporter": "python",
   "pygments_lexer": "ipython3",
   "version": "3.10.7"
  },
  "orig_nbformat": 4,
  "vscode": {
   "interpreter": {
    "hash": "490f1c68ed42f2c5a574e22fb9e03ff49b98516de8582ff1c5d4fb43fb70f61b"
   }
  }
 },
 "nbformat": 4,
 "nbformat_minor": 2
}
