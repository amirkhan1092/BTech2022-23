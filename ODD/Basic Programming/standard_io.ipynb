{
 "cells": [
  {
   "cell_type": "code",
   "execution_count": null,
   "metadata": {},
   "outputs": [],
   "source": [
    "# input\n",
    "'''\n",
    "input(prompt): Use to get the data from user at run time via keyboard\n",
    "'''"
   ]
  },
  {
   "cell_type": "code",
   "execution_count": 1,
   "metadata": {},
   "outputs": [
    {
     "name": "stdout",
     "output_type": "stream",
     "text": [
      "23 <class 'int'>\n"
     ]
    }
   ],
   "source": [
    "data = eval(input('Enter the data value '))  # user data is in final form\n",
    "print(data, type(data))"
   ]
  },
  {
   "cell_type": "code",
   "execution_count": 2,
   "metadata": {},
   "outputs": [
    {
     "name": "stdout",
     "output_type": "stream",
     "text": [
      "(4, 5, 6) <class 'tuple'>\n"
     ]
    }
   ],
   "source": [
    "# space separated or comma separated \n",
    "data = eval(input('Enter the values with comma separated '))  # data type of data variable is always tuple\n",
    "print(data, type(data))"
   ]
  },
  {
   "cell_type": "code",
   "execution_count": 3,
   "metadata": {},
   "outputs": [
    {
     "name": "stdout",
     "output_type": "stream",
     "text": [
      "[3, 4, 54] <class 'list'>\n"
     ]
    }
   ],
   "source": [
    "# space separated\n",
    "data = list(map(int, input(\"Enter values with space separated \").split()))\n",
    "print(data, type(data))"
   ]
  },
  {
   "cell_type": "code",
   "execution_count": null,
   "metadata": {},
   "outputs": [],
   "source": [
    "# print\n",
    "'''\n",
    "print(formated_data): to display the data on consol or monitor screen\n",
    "\n",
    "'''"
   ]
  },
  {
   "cell_type": "code",
   "execution_count": 4,
   "metadata": {},
   "outputs": [
    {
     "name": "stdout",
     "output_type": "stream",
     "text": [
      "sum of 23 and 34 is 57\n"
     ]
    }
   ],
   "source": [
    "a = 23\n",
    "b = 34\n",
    "c = a + b\n",
    "print(f'sum of {a} and {b} is {c}')\n"
   ]
  },
  {
   "cell_type": "code",
   "execution_count": 5,
   "metadata": {},
   "outputs": [
    {
     "name": "stdout",
     "output_type": "stream",
     "text": [
      "Hello Python\n",
      "Programming\n"
     ]
    }
   ],
   "source": [
    "# use of keyword argument end in print()\n",
    "print('Hello', end=' ')\n",
    "print('Python')\n",
    "print('Programming')\n"
   ]
  },
  {
   "cell_type": "code",
   "execution_count": 7,
   "metadata": {},
   "outputs": [
    {
     "name": "stdout",
     "output_type": "stream",
     "text": [
      "23 34 10\n",
      "23*34*10\n"
     ]
    }
   ],
   "source": [
    "# use of keyword argument sep in print()\n",
    "val1 = 23\n",
    "val2 = 34\n",
    "val3 = 10\n",
    "print(val1 , val2, val3)  # default join with space \n",
    "print(val1 , val2, val3, sep='*')  # custom join string "
   ]
  },
  {
   "cell_type": "code",
   "execution_count": 2,
   "metadata": {},
   "outputs": [
    {
     "name": "stdout",
     "output_type": "stream",
     "text": [
      "3 + 5j <class 'str'>\n"
     ]
    }
   ],
   "source": [
    "# standard input/output\n",
    "# input(prompt): Use to get the data from user via keyboard \n",
    "# the default data type of function input() is string\n",
    "\n",
    "data = eval(input())\n",
    "print(data, type(data)) "
   ]
  },
  {
   "cell_type": "code",
   "execution_count": 7,
   "metadata": {},
   "outputs": [
    {
     "name": "stdout",
     "output_type": "stream",
     "text": [
      "26 <class 'int'>\n"
     ]
    }
   ],
   "source": [
    "a = '23 + 3' \n",
    "a = eval(a)\n",
    "print(a, type(a))"
   ]
  },
  {
   "cell_type": "code",
   "execution_count": null,
   "metadata": {},
   "outputs": [],
   "source": [
    "# standard ouput\n",
    "'''print(data_format): Use to display the data on consol/monitor\n",
    "\n",
    "'''"
   ]
  },
  {
   "cell_type": "code",
   "execution_count": 27,
   "metadata": {},
   "outputs": [
    {
     "name": "stdout",
     "output_type": "stream",
     "text": [
      "sum of 23 and 3 is 26\n"
     ]
    }
   ],
   "source": [
    "a = 23\n",
    "b = 3\n",
    "out = a + b\n",
    "tmp = f'sum of {a} and {b} is {out}'\n",
    "print(tmp)"
   ]
  },
  {
   "cell_type": "code",
   "execution_count": 33,
   "metadata": {},
   "outputs": [
    {
     "name": "stdout",
     "output_type": "stream",
     "text": [
      "hello\n",
      "\n",
      "\n",
      "python programming\n"
     ]
    }
   ],
   "source": [
    "print('hello', end='\\n\\n\\n')\n",
    "print('python programming')"
   ]
  },
  {
   "cell_type": "code",
   "execution_count": 37,
   "metadata": {},
   "outputs": [
    {
     "name": "stdout",
     "output_type": "stream",
     "text": [
      "Number of Two Thausand notes 1\n",
      "number of five hundred notes is 0\n",
      "Number of Two Hundred Notes is 0\n",
      "Number of One Hundred Notes is 0\n",
      "\n"
     ]
    }
   ],
   "source": [
    "# atm notes\n",
    "# input section\n",
    "amount = int(input()) - 100\n",
    "twok = amount // 2000\n",
    "amount = amount - twok * 2000\n",
    "\n",
    "fiveh = amount // 500\n",
    "amount = amount - fiveh * 500\n",
    "\n",
    "twoh = amount // 200\n",
    "amount = amount - twoh * 200\n",
    "\n",
    "oneh = amount // 100 + 1\n",
    "tmp = f'''Number of Two Thausand notes {twok}\n",
    "number of five hundred notes is {fiveh}\n",
    "Number of Two Hundred Notes is {twoh}\n",
    "Number of One Hundred Notes is {oneh}\n",
    "'''\n",
    "print(tmp)"
   ]
  },
  {
   "cell_type": "code",
   "execution_count": 41,
   "metadata": {},
   "outputs": [
    {
     "data": {
      "text/plain": [
       "0"
      ]
     },
     "execution_count": 41,
     "metadata": {},
     "output_type": "execute_result"
    }
   ],
   "source": [
    "a = 10\n",
    "b = 5\n",
    "# a % b\n",
    "a - a // b * b"
   ]
  }
 ],
 "metadata": {
  "kernelspec": {
   "display_name": "Python 3.10.4 64-bit",
   "language": "python",
   "name": "python3"
  },
  "language_info": {
   "codemirror_mode": {
    "name": "ipython",
    "version": 3
   },
   "file_extension": ".py",
   "mimetype": "text/x-python",
   "name": "python",
   "nbconvert_exporter": "python",
   "pygments_lexer": "ipython3",
   "version": "3.10.7"
  },
  "orig_nbformat": 4,
  "vscode": {
   "interpreter": {
    "hash": "490f1c68ed42f2c5a574e22fb9e03ff49b98516de8582ff1c5d4fb43fb70f61b"
   }
  }
 },
 "nbformat": 4,
 "nbformat_minor": 2
}
