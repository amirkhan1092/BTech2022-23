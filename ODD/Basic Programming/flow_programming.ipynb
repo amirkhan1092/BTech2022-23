{
 "cells": [
  {
   "cell_type": "code",
   "execution_count": null,
   "metadata": {},
   "outputs": [],
   "source": [
    "# steps in programming\n",
    "'''\n",
    "1. Data Type\n",
    "    1. number\n",
    "        a) integer nm = 45\n",
    "        b) float nm = 34.6\n",
    "        c) complex nm = 34 + 5j\n",
    "        d) bool  h = True/False\n",
    "    2. string\n",
    "        1. ascii-7\n",
    "        2. ascii-8\n",
    "        3. unicode string  st = 'hello'\n",
    "        4. bytes    st = b'hello'\n",
    "    3. list  inf = ['ravi', 34, 8.5, 'GLA']\n",
    "    4. tuple info = ('ravi', 34, 8.5, 'GLA')\n",
    "    5. dict  info = {'name': 'ravi', 'rolln': 34, 'cpi': 8.5, 'college': 'GLA'}\n",
    "    6. set  \n",
    "2. Standard Input/Output\n",
    "    input()\n",
    "    print()\n",
    "3. Flow control statements\n",
    "    if-else\n",
    "4. looping\n",
    "    for-else\n",
    "    while-else\n",
    "5. function        \n",
    "6. modules\n",
    "\n",
    "\n",
    "\n",
    "'''"
   ]
  },
  {
   "cell_type": "code",
   "execution_count": 4,
   "metadata": {},
   "outputs": [
    {
     "name": "stdout",
     "output_type": "stream",
     "text": [
      "2\n",
      "4\n",
      "5\n"
     ]
    }
   ],
   "source": [
    "print(2, 4, 5, sep='\\n')\n"
   ]
  },
  {
   "cell_type": "code",
   "execution_count": 31,
   "metadata": {},
   "outputs": [
    {
     "name": "stdout",
     "output_type": "stream",
     "text": [
      "100\n"
     ]
    }
   ],
   "source": [
    "# list\n",
    "ls = [23, 34, 100]\n",
    "print(ls[2])"
   ]
  },
  {
   "cell_type": "code",
   "execution_count": 4,
   "metadata": {},
   "outputs": [
    {
     "name": "stdout",
     "output_type": "stream",
     "text": [
      "GLA\n"
     ]
    }
   ],
   "source": [
    "info = ['ravi', 34, 8.5, 'GLA']\n",
    "print(info[3])\n"
   ]
  },
  {
   "cell_type": "code",
   "execution_count": 13,
   "metadata": {},
   "outputs": [
    {
     "name": "stdout",
     "output_type": "stream",
     "text": [
      "hello🎂❤️ <class 'str'>\n"
     ]
    }
   ],
   "source": [
    "st = \"hello🎂❤️\"\n",
    "print(st, type(st))"
   ]
  },
  {
   "cell_type": "code",
   "execution_count": 18,
   "metadata": {},
   "outputs": [],
   "source": [
    "st = 'I❤️GLA'"
   ]
  },
  {
   "cell_type": "code",
   "execution_count": 20,
   "metadata": {},
   "outputs": [
    {
     "name": "stdout",
     "output_type": "stream",
     "text": [
      "b'I\\xe2\\x9d\\xa4\\xef\\xb8\\x8fGLA'\n"
     ]
    }
   ],
   "source": [
    "out = st.encode()\n",
    "print(out)"
   ]
  },
  {
   "cell_type": "code",
   "execution_count": 25,
   "metadata": {},
   "outputs": [
    {
     "name": "stdout",
     "output_type": "stream",
     "text": [
      "I❤️GLA\n"
     ]
    }
   ],
   "source": [
    "\n",
    "ts = b'I\\xe2\\x9d\\xa4\\xef\\xb8\\x8fGLA'\n",
    "out = ts.decode('utf', errors='replace')\n",
    "print(out)"
   ]
  },
  {
   "cell_type": "code",
   "execution_count": 29,
   "metadata": {},
   "outputs": [
    {
     "name": "stdout",
     "output_type": "stream",
     "text": [
      "<class 'bytes'>\n"
     ]
    }
   ],
   "source": [
    "h = b'hello'\n",
    "print(type(h))\n"
   ]
  },
  {
   "cell_type": "code",
   "execution_count": 5,
   "metadata": {},
   "outputs": [
    {
     "data": {
      "text/plain": [
       "'Ravi'"
      ]
     },
     "execution_count": 5,
     "metadata": {},
     "output_type": "execute_result"
    }
   ],
   "source": [
    "# dictionary \n",
    "info = {'name': 'Ravi', 'rolln': 40, 'cpi': 6.7, 'college': 'GLA'}\n",
    "info['name'] "
   ]
  },
  {
   "cell_type": "code",
   "execution_count": 7,
   "metadata": {},
   "outputs": [
    {
     "name": "stdout",
     "output_type": "stream",
     "text": [
      "{8, 3, 5, 7} <class 'set'>\n"
     ]
    }
   ],
   "source": [
    "# set\n",
    "st = {3, 5, 7, 8}\n",
    "print(st, type(st))"
   ]
  }
 ],
 "metadata": {
  "kernelspec": {
   "display_name": "Python 3.10.7 64-bit",
   "language": "python",
   "name": "python3"
  },
  "language_info": {
   "codemirror_mode": {
    "name": "ipython",
    "version": 3
   },
   "file_extension": ".py",
   "mimetype": "text/x-python",
   "name": "python",
   "nbconvert_exporter": "python",
   "pygments_lexer": "ipython3",
   "version": "3.10.7"
  },
  "orig_nbformat": 4,
  "vscode": {
   "interpreter": {
    "hash": "490f1c68ed42f2c5a574e22fb9e03ff49b98516de8582ff1c5d4fb43fb70f61b"
   }
  }
 },
 "nbformat": 4,
 "nbformat_minor": 2
}
