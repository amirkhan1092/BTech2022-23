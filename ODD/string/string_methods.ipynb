{
 "cells": [
  {
   "cell_type": "code",
   "execution_count": 13,
   "metadata": {},
   "outputs": [
    {
     "name": "stdout",
     "output_type": "stream",
     "text": [
      "Hello world\n"
     ]
    }
   ],
   "source": [
    "# methods in string class\n",
    "# 1. capitalize(): \n",
    "st = 'hello world'\n",
    "out = st.capitalize()\n",
    "print(out)"
   ]
  },
  {
   "cell_type": "code",
   "execution_count": 23,
   "metadata": {},
   "outputs": [
    {
     "name": "stdout",
     "output_type": "stream",
     "text": [
      "Welcome To 5G Network\n"
     ]
    }
   ],
   "source": [
    "# lower()/upper()/casefold()/title()\n",
    "# st = 'hEllo WorLd python programming'\n",
    "st = 'welcome to 5g network'\n",
    "out1 = st.lower()\n",
    "out2 = st.upper()\n",
    "out3 = st.casefold()\n",
    "out4 = st.title()\n",
    "print(out4)\n"
   ]
  },
  {
   "cell_type": "code",
   "execution_count": 30,
   "metadata": {},
   "outputs": [
    {
     "name": "stdout",
     "output_type": "stream",
     "text": [
      "****hello world*****\n"
     ]
    }
   ],
   "source": [
    "# center()\n",
    "st = 'hello world'\n",
    "out = st.center(20, '*')\n",
    "print(out)"
   ]
  },
  {
   "cell_type": "code",
   "execution_count": 32,
   "metadata": {},
   "outputs": [
    {
     "name": "stdout",
     "output_type": "stream",
     "text": [
      "hello world*********\n"
     ]
    }
   ],
   "source": [
    "# rjust()\n",
    "st = 'hello world'\n",
    "out = st.ljust(20, '*')\n",
    "print(out)"
   ]
  },
  {
   "cell_type": "code",
   "execution_count": 37,
   "metadata": {},
   "outputs": [
    {
     "name": "stdout",
     "output_type": "stream",
     "text": [
      "+0000000000048447555\n"
     ]
    }
   ],
   "source": [
    "# zfill()\n",
    "st = '+48447555'\n",
    "out = st.zfill(20)\n",
    "print(out)"
   ]
  },
  {
   "cell_type": "code",
   "execution_count": 2,
   "metadata": {},
   "outputs": [
    {
     "name": "stdout",
     "output_type": "stream",
     "text": [
      "False\n"
     ]
    }
   ],
   "source": [
    "# isalpha()/isalnum()/isdigit()/istitle()\n",
    "st = '22323 #s'\n",
    "out = st.isdigit()\n",
    "print(out)"
   ]
  },
  {
   "cell_type": "code",
   "execution_count": 7,
   "metadata": {},
   "outputs": [
    {
     "name": "stdout",
     "output_type": "stream",
     "text": [
      "1\n"
     ]
    }
   ],
   "source": [
    "# count()/index()/rindex()/find()/rfind()\n",
    "st = 'hello python programming'\n",
    "out = st.count('h', 2, 10)\n",
    "print(out)"
   ]
  },
  {
   "cell_type": "code",
   "execution_count": 16,
   "metadata": {},
   "outputs": [
    {
     "name": "stdout",
     "output_type": "stream",
     "text": [
      "20\n"
     ]
    }
   ],
   "source": [
    "# index()\n",
    "st = 'hello python programming python'\n",
    "out = st.rindex('python')\n",
    "print(out)"
   ]
  },
  {
   "cell_type": "code",
   "execution_count": 20,
   "metadata": {},
   "outputs": [
    {
     "name": "stdout",
     "output_type": "stream",
     "text": [
      "-1\n"
     ]
    }
   ],
   "source": [
    "st = 'hello python programming'\n",
    "out = st.find('z')\n",
    "print(out)"
   ]
  },
  {
   "cell_type": "code",
   "execution_count": 26,
   "metadata": {},
   "outputs": [
    {
     "name": "stdout",
     "output_type": "stream",
     "text": [
      "4\n",
      "5\n",
      "4\n"
     ]
    }
   ],
   "source": [
    "# All positions of given pattern\n",
    "st = 'hello python programming'\n",
    "pattern = 'o'\n",
    "count = st.count(pattern)\n",
    "for i in range(count):\n",
    "    out = st.index(pattern, )\n",
    "    print(out)\n",
    "    "
   ]
  },
  {
   "cell_type": "code",
   "execution_count": 31,
   "metadata": {},
   "outputs": [
    {
     "name": "stdout",
     "output_type": "stream",
     "text": [
      "4\n",
      "10\n",
      "15\n"
     ]
    }
   ],
   "source": [
    "st = 'hello python programming'\n",
    "pattern = 'o'\n",
    "start = 0 \n",
    "x = st.count(pattern)\n",
    "for i in range(x):\n",
    "    out = st.index(pattern, start)\n",
    "    start = out+1\n",
    "    print(out)"
   ]
  },
  {
   "cell_type": "code",
   "execution_count": 60,
   "metadata": {},
   "outputs": [
    {
     "name": "stdout",
     "output_type": "stream",
     "text": [
      "-1\n"
     ]
    }
   ],
   "source": [
    "# count()/index()/rindex()/find()/rfind()\n",
    "st = 'hello python programming'\n",
    "out = st.find('x')\n",
    "print(out)"
   ]
  },
  {
   "cell_type": "code",
   "execution_count": 20,
   "metadata": {},
   "outputs": [
    {
     "name": "stdout",
     "output_type": "stream",
     "text": [
      "congrats shivam\n"
     ]
    }
   ],
   "source": [
    "# name match\n",
    "name = input('enter the name').casefold()\n",
    "if name == 'shivam':\n",
    "    print('congrats', name)"
   ]
  },
  {
   "cell_type": "code",
   "execution_count": 1,
   "metadata": {},
   "outputs": [
    {
     "name": "stdout",
     "output_type": "stream",
     "text": [
      "True\n"
     ]
    }
   ],
   "source": [
    "st = input()\n",
    "out = st.isalpha()\n",
    "print(out)"
   ]
  },
  {
   "cell_type": "code",
   "execution_count": 13,
   "metadata": {},
   "outputs": [
    {
     "name": "stdout",
     "output_type": "stream",
     "text": [
      "1\n"
     ]
    }
   ],
   "source": [
    "# methods in a string which returns integer\n",
    "st = 'hello python programming'\n",
    "out = st.count('o', 6, 12)\n",
    "print(out)"
   ]
  },
  {
   "cell_type": "code",
   "execution_count": 23,
   "metadata": {},
   "outputs": [
    {
     "name": "stdout",
     "output_type": "stream",
     "text": [
      "15\n"
     ]
    }
   ],
   "source": [
    "# index(): return the position of index of the first match\n",
    "st = 'hello python programming'\n",
    "out = st.index('o', 11)\n",
    "print(out)"
   ]
  },
  {
   "cell_type": "code",
   "execution_count": 25,
   "metadata": {},
   "outputs": [
    {
     "name": "stdout",
     "output_type": "stream",
     "text": [
      "4 10 15 "
     ]
    },
    {
     "data": {
      "text/plain": [
       "'\\nOutput:\\n4 10 15\\n'"
      ]
     },
     "execution_count": 25,
     "metadata": {},
     "output_type": "execute_result"
    }
   ],
   "source": [
    "# all index of the pattern\n",
    "st = 'hello python program'\n",
    "ch = 'o'\n",
    "start = 0\n",
    "x = st.count(ch)\n",
    "for i in range(x):\n",
    "    re = st.index(ch, start)\n",
    "    print(re, end=' ')\n",
    "    start = re + 1\n",
    "\n",
    "'''\n",
    "Output:\n",
    "4 10 15\n",
    "'''\n",
    "\n"
   ]
  },
  {
   "cell_type": "code",
   "execution_count": 37,
   "metadata": {},
   "outputs": [],
   "source": [
    "# All index(positions) of the given pattern in a string\n",
    "st = 'hello python programming'\n",
    "pattern = 'z'\n",
    "start = 0\n",
    "count = st.count(pattern)\n",
    "for i in range(count):\n",
    "    out = st.index(pattern, start)\n",
    "    print(out)\n",
    "    start = out + 1"
   ]
  },
  {
   "cell_type": "code",
   "execution_count": 47,
   "metadata": {},
   "outputs": [
    {
     "name": "stdout",
     "output_type": "stream",
     "text": [
      "['hello', 'python', 'programmingg']\n"
     ]
    }
   ],
   "source": [
    "# split(): split the string with pattern into a list \n",
    "st = 'hello      python\\nprogrammingg'\n",
    "out = st.split()\n",
    "print(out)\n"
   ]
  },
  {
   "cell_type": "code",
   "execution_count": 61,
   "metadata": {},
   "outputs": [
    {
     "name": "stdout",
     "output_type": "stream",
     "text": [
      "['23', '45', '167']\n",
      "[23, 45, 167]\n"
     ]
    }
   ],
   "source": [
    "\n",
    "out = list(map(int, input().split()))\n",
    "print(out)\n",
    "\n"
   ]
  },
  {
   "cell_type": "code",
   "execution_count": 55,
   "metadata": {},
   "outputs": [
    {
     "name": "stdout",
     "output_type": "stream",
     "text": [
      "a: h\n",
      "b: e\n",
      "c: ['l', 'l', 'o']\n"
     ]
    }
   ],
   "source": [
    "a, b, *c = 'hello'\n",
    "print('a:', a)\n",
    "print('b:', b)\n",
    "print('c:', c)"
   ]
  },
  {
   "cell_type": "code",
   "execution_count": 1,
   "metadata": {},
   "outputs": [
    {
     "name": "stdout",
     "output_type": "stream",
     "text": [
      "5 27 "
     ]
    }
   ],
   "source": [
    "# find all the positions(index) of a given pattern in a string \n",
    "# st = 'hello python programming'\n",
    "st = input()\n",
    "pattern = 'leads'\n",
    "start = 0\n",
    "for i in range(st.count(pattern)):\n",
    "    out = st.index(pattern, start)\n",
    "    print(out, end=' ')\n",
    "    start = out + 1\n",
    "# output : 4 10 15"
   ]
  },
  {
   "cell_type": "code",
   "execution_count": 77,
   "metadata": {},
   "outputs": [
    {
     "name": "stdout",
     "output_type": "stream",
     "text": [
      "['hello', 'python', 'programmingg']\n"
     ]
    }
   ],
   "source": [
    "# split(): split the string with pattern match into a list \n",
    "st = 'hello     python\\nprogrammingg'\n",
    "out = st.split()\n",
    "print(out)\n"
   ]
  },
  {
   "cell_type": "code",
   "execution_count": 82,
   "metadata": {},
   "outputs": [
    {
     "name": "stdout",
     "output_type": "stream",
     "text": [
      "['2', '3', '33', '12', '19']\n",
      "[2, 3, 33, 12, 19]\n",
      "[]\n"
     ]
    }
   ],
   "source": [
    "\n",
    "out = list(map(int, input().split()))\n",
    "print(out)"
   ]
  },
  {
   "cell_type": "code",
   "execution_count": 83,
   "metadata": {},
   "outputs": [
    {
     "name": "stdout",
     "output_type": "stream",
     "text": [
      "h: 1\n",
      "e: 1\n",
      "l: 2\n",
      "l: 2\n",
      "o: 1\n"
     ]
    },
    {
     "data": {
      "text/plain": [
       "'\\nh: 1\\ne: 1\\nl: 2\\no: 1\\n'"
      ]
     },
     "execution_count": 83,
     "metadata": {},
     "output_type": "execute_result"
    }
   ],
   "source": [
    "# frequency of each char\n",
    "st = 'hello'\n",
    "s = ''\n",
    "# logic section\n",
    "for i in st:\n",
    "    if i not in s:\n",
    "        print(f'{i}: {st.count(i)}')\n",
    "        s += i\n",
    "'''\n",
    "h: 1\n",
    "e: 1\n",
    "l: 2\n",
    "o: 1\n",
    "'''"
   ]
  },
  {
   "cell_type": "code",
   "execution_count": 31,
   "metadata": {},
   "outputs": [
    {
     "name": "stdout",
     "output_type": "stream",
     "text": [
      "hello world\n"
     ]
    }
   ],
   "source": [
    "print('hello', end=' ')\n",
    "print('world')\n"
   ]
  },
  {
   "cell_type": "code",
   "execution_count": 42,
   "metadata": {},
   "outputs": [
    {
     "name": "stdout",
     "output_type": "stream",
     "text": [
      "25\n"
     ]
    }
   ],
   "source": [
    "# rindex():\n",
    "st = 'hello python programming python'\n",
    "out = st.rindex('python')\n",
    "print(out)\n"
   ]
  },
  {
   "cell_type": "code",
   "execution_count": 41,
   "metadata": {},
   "outputs": [
    {
     "name": "stdout",
     "output_type": "stream",
     "text": [
      "-1\n"
     ]
    }
   ],
   "source": [
    "st = 'hello python programming'\n",
    "out = st.find('Python')\n",
    "print(out)"
   ]
  }
 ],
 "metadata": {
  "kernelspec": {
   "display_name": "Python 3.10.7 64-bit",
   "language": "python",
   "name": "python3"
  },
  "language_info": {
   "codemirror_mode": {
    "name": "ipython",
    "version": 3
   },
   "file_extension": ".py",
   "mimetype": "text/x-python",
   "name": "python",
   "nbconvert_exporter": "python",
   "pygments_lexer": "ipython3",
   "version": "3.10.7"
  },
  "orig_nbformat": 4,
  "vscode": {
   "interpreter": {
    "hash": "490f1c68ed42f2c5a574e22fb9e03ff49b98516de8582ff1c5d4fb43fb70f61b"
   }
  }
 },
 "nbformat": 4,
 "nbformat_minor": 2
}
