{
 "cells": [
  {
   "cell_type": "code",
   "execution_count": 3,
   "metadata": {},
   "outputs": [
    {
     "name": "stdout",
     "output_type": "stream",
     "text": [
      "{} <class 'dict'>\n"
     ]
    }
   ],
   "source": [
    "# dictionary in Python: \n",
    "'''Unordered collection of items and \n",
    "each item is the pair of key and value\n",
    "'''\n",
    "# how to initialize the dictionary\n",
    "dct = {}\n",
    "print(dct, type(dct))\n"
   ]
  },
  {
   "cell_type": "code",
   "execution_count": 10,
   "metadata": {},
   "outputs": [],
   "source": [
    "if dct:  # empty dictionary evalute as a False in bool\n",
    "    print('Hello World')\n"
   ]
  },
  {
   "cell_type": "code",
   "execution_count": 19,
   "metadata": {},
   "outputs": [
    {
     "name": "stdout",
     "output_type": "stream",
     "text": [
      "saket\n"
     ]
    }
   ],
   "source": [
    "# how to access the elements in dictionary \n",
    "info = {'name': 'ravi', 'rolln': 33, 'college': 'GLA', 'name': 'saket'}\n",
    "# print(info)\n",
    "value = info['name']\n",
    "print(value)"
   ]
  },
  {
   "cell_type": "code",
   "execution_count": 15,
   "metadata": {},
   "outputs": [
    {
     "ename": "IndexError",
     "evalue": "list index out of range",
     "output_type": "error",
     "traceback": [
      "\u001b[1;31m---------------------------------------------------------------------------\u001b[0m",
      "\u001b[1;31mIndexError\u001b[0m                                Traceback (most recent call last)",
      "Cell \u001b[1;32mIn [15], line 2\u001b[0m\n\u001b[0;32m      1\u001b[0m ls \u001b[39m=\u001b[39m [\u001b[39m'\u001b[39m\u001b[39mravi\u001b[39m\u001b[39m'\u001b[39m, \u001b[39m34\u001b[39m, \u001b[39m'\u001b[39m\u001b[39mgla\u001b[39m\u001b[39m'\u001b[39m]\n\u001b[1;32m----> 2\u001b[0m value \u001b[39m=\u001b[39m ls[\u001b[39m3\u001b[39m]\n\u001b[0;32m      3\u001b[0m \u001b[39mprint\u001b[39m(value)\n",
      "\u001b[1;31mIndexError\u001b[0m: list index out of range"
     ]
    }
   ],
   "source": [
    "ls = ['ravi', 34, 'gla']\n",
    "value = ls[3]\n",
    "print(value)"
   ]
  },
  {
   "cell_type": "code",
   "execution_count": 24,
   "metadata": {},
   "outputs": [
    {
     "name": "stdout",
     "output_type": "stream",
     "text": [
      "var {'name': 'saket', 'rolln': 34, 'college': 'GLA'} 1780257653376\n",
      "info {'name': 'Ravi', 'rolln': 34, 'college': 'GLA'} 1778137489024\n"
     ]
    }
   ],
   "source": [
    "# methods in a dictionary object \n",
    "# copy(): return shallow copy of the dictinary object\n",
    "info = {'name': 'Ravi', 'rolln': 34, 'college': 'GLA'}\n",
    "var = info.copy()\n",
    "var['name'] = 'saket'\n",
    "\n",
    "print('var', var, id(var))\n",
    "print('info', info, id(info))\n"
   ]
  },
  {
   "cell_type": "code",
   "execution_count": 42,
   "metadata": {},
   "outputs": [
    {
     "name": "stdout",
     "output_type": "stream",
     "text": [
      "Ravi\n"
     ]
    }
   ],
   "source": [
    "# get(): return the value of the given key \n",
    "'return default value if key is not found'\n",
    "info = {'name': 'Ravi', 'rolln': 34, 'college': 'GLA', 'cpi':8.5}\n",
    "# var = info.get('mob', 'NA')\n",
    "var = info['name']\n",
    "print(var)\n",
    "\n"
   ]
  },
  {
   "cell_type": "code",
   "execution_count": 41,
   "metadata": {},
   "outputs": [
    {
     "name": "stdout",
     "output_type": "stream",
     "text": [
      "{}\n"
     ]
    }
   ],
   "source": [
    "# clear(): remove all the keys from dictionary object\n",
    "info = {'name': 'Ravi', 'rolln': 34, 'college': 'GLA'}\n",
    "info.clear()\n",
    "print(info)"
   ]
  },
  {
   "cell_type": "code",
   "execution_count": 48,
   "metadata": {},
   "outputs": [
    {
     "name": "stdout",
     "output_type": "stream",
     "text": [
      "deleted value Key is not found\n",
      "{'name': 'Ravi', 'rolln': 34, 'college': 'GLA'}\n"
     ]
    }
   ],
   "source": [
    "# pop('key'): remove the given key from dictionary object \n",
    "\n",
    "info = {'name': 'Ravi', 'rolln': 34, 'college': 'GLA'}\n",
    "out = info.pop('address', 'Key is not found')\n",
    "print('deleted value', out)\n",
    "print(info)"
   ]
  },
  {
   "cell_type": "code",
   "execution_count": 51,
   "metadata": {},
   "outputs": [
    {
     "name": "stdout",
     "output_type": "stream",
     "text": [
      "Deleted pair ('college', 'GLA')\n",
      "{'name': 'Ravi', 'rolln': 34}\n"
     ]
    }
   ],
   "source": [
    "# popitems()\n",
    "info = {'name': 'Ravi', 'rolln': 34, 'college': 'GLA'}\n",
    "out = info.popitem()\n",
    "# info.popitem()\n",
    "print('Deleted pair', out)\n",
    "print(info)"
   ]
  },
  {
   "cell_type": "code",
   "execution_count": 54,
   "metadata": {},
   "outputs": [
    {
     "name": "stdout",
     "output_type": "stream",
     "text": [
      "{} <class 'dict'>\n"
     ]
    }
   ],
   "source": [
    "# operations with dictionary object \n",
    "dct = {}\n",
    "print(dct, type(dct))"
   ]
  },
  {
   "cell_type": "code",
   "execution_count": 59,
   "metadata": {},
   "outputs": [
    {
     "name": "stdout",
     "output_type": "stream",
     "text": [
      "HEllo World\n"
     ]
    }
   ],
   "source": [
    "# bool(dct)\n",
    "if {'name': 'Ravi'}:\n",
    "    print('HEllo World')"
   ]
  },
  {
   "cell_type": "code",
   "execution_count": 62,
   "metadata": {},
   "outputs": [
    {
     "name": "stdout",
     "output_type": "stream",
     "text": [
      "{'name': 'Ravi', 'rolln': 34, 'college': 'GLA', 'address': 'GLA UNiversity'}\n"
     ]
    }
   ],
   "source": [
    "info = {'name': 'Ravi', 'rolln': 34, 'college': 'GLA'}\n",
    "# out = info['address']\n",
    "info['address'] = 'GLA UNiversity'\n",
    "print(info)\n"
   ]
  },
  {
   "cell_type": "code",
   "execution_count": 64,
   "metadata": {},
   "outputs": [
    {
     "name": "stdout",
     "output_type": "stream",
     "text": [
      "{'rolln': 34, 'college': 'GLA'}\n"
     ]
    }
   ],
   "source": [
    "# deletion statement in dictinary object \n",
    "info = {'name': 'Ravi', 'rolln': 34, 'college': 'GLA'}\n",
    "del info['name']\n",
    "print(info)"
   ]
  },
  {
   "cell_type": "code",
   "execution_count": 67,
   "metadata": {},
   "outputs": [
    {
     "name": "stdout",
     "output_type": "stream",
     "text": [
      "{'name': 'saket', 'rolln': 34, 'college': 'GLA'}\n"
     ]
    }
   ],
   "source": [
    "# item assignment \n",
    "info = {'name': 'Ravi', 'rolln': 34, 'college': 'GLA'}\n",
    "info['name'] = 'saket'\n",
    "print(info) "
   ]
  },
  {
   "cell_type": "code",
   "execution_count": 69,
   "metadata": {},
   "outputs": [
    {
     "name": "stdout",
     "output_type": "stream",
     "text": [
      "{'h': 1, 'e': 1, 'l': 3, 'o': 2, ' ': 1, 'w': 1, 'r': 1, 'd': 1}\n"
     ]
    }
   ],
   "source": [
    "st = 'hello world'\n",
    "dct = {}\n",
    "for i in st:\n",
    "    dct[i] = st.count(i)\n",
    "# for i in st:\n",
    "#     if i in dct:\n",
    "#         dct[i] += 1\n",
    "#     else:\n",
    "#         dct[i] = 1\n",
    "print(dct)            "
   ]
  },
  {
   "cell_type": "code",
   "execution_count": 6,
   "metadata": {},
   "outputs": [
    {
     "name": "stdout",
     "output_type": "stream",
     "text": [
      "NA\n"
     ]
    }
   ],
   "source": [
    "# methods in dict\n",
    "# get(key): return the value of the given key if key is found  \n",
    "# retrun default value if key is not found \n",
    "info =  {'rolln': 82, 'marks': [23, 17, 23, 16, 20, 12], 'College':'GLAU', 'name':'yash'}\n",
    "out = info.get('mobile', 'NA')\n",
    "print(out)\n"
   ]
  },
  {
   "cell_type": "code",
   "execution_count": 7,
   "metadata": {},
   "outputs": [
    {
     "name": "stdout",
     "output_type": "stream",
     "text": [
      "{}\n"
     ]
    }
   ],
   "source": [
    "# clear(): remove all the items from dict object\n",
    "info =  {'rolln': 82, 'marks': [23, 17, 23, 16, 20, 12], 'College':'GLAU', 'name':'yash'}\n",
    "info.clear()\n",
    "print(info)"
   ]
  },
  {
   "cell_type": "code",
   "execution_count": 11,
   "metadata": {},
   "outputs": [
    {
     "name": "stdout",
     "output_type": "stream",
     "text": [
      "var 1985860311296 {}\n",
      "info 1985860310144 {'rolln': 82, 'marks': [23, 17, 23, 16, 20, 12], 'College': 'GLAU', 'name': 'yash'}\n"
     ]
    }
   ],
   "source": [
    "# copy(): return the shallow copy of the dict object\n",
    "info =  {'rolln': 82, 'marks': [23, 17, 23, 16, 20, 12], 'College':'GLAU', 'name':'yash'}\n",
    "var = info.copy()\n",
    "# var['rolln'] = 100\n",
    "var.clear()\n",
    "print('var', id(var), var)\n",
    "print('info',id(info) ,info)"
   ]
  },
  {
   "cell_type": "code",
   "execution_count": 20,
   "metadata": {},
   "outputs": [
    {
     "name": "stdout",
     "output_type": "stream",
     "text": [
      "1985888553280 [4, 6]\n",
      "1985888553280 []\n",
      "1985888553280 [100]\n"
     ]
    }
   ],
   "source": [
    "ls = [4, 6]\n",
    "var = ls.copy()\n",
    "print(id(ls), ls)\n",
    "ls.clear()\n",
    "print(id(ls), ls)\n",
    "ls.append(100)\n",
    "print(id(ls), ls)"
   ]
  },
  {
   "cell_type": "code",
   "execution_count": 4,
   "metadata": {},
   "outputs": [
    {
     "name": "stdout",
     "output_type": "stream",
     "text": [
      "dict_items([('name', 'ravi'), ('rolln', 28), ('subject', 'Python')])\n"
     ]
    }
   ],
   "source": [
    "# items(): return a list of all items in the form of tuple\n",
    "dct = {'name': 'ravi', 'rolln': 28, 'subject':'Python'}\n",
    "out = dct.items()\n",
    "print(out)\n"
   ]
  },
  {
   "cell_type": "code",
   "execution_count": 9,
   "metadata": {},
   "outputs": [
    {
     "name": "stdout",
     "output_type": "stream",
     "text": [
      "['name', 'rolln', 'subject']\n"
     ]
    }
   ],
   "source": [
    "# values()/keys(): return a list of all values/keys only\n",
    "dct = {'name': 'ravi', 'rolln': 28, 'subject':'Python'}\n",
    "# out = list(dct.values())\n",
    "out = list(dct.keys())\n",
    "print(out)\n"
   ]
  },
  {
   "cell_type": "code",
   "execution_count": 20,
   "metadata": {},
   "outputs": [
    {
     "name": "stdout",
     "output_type": "stream",
     "text": [
      "last deleted pair ('subject', 'Python')\n",
      "last deleted pair ('rolln', 28)\n",
      "{'name': 'ravi'}\n"
     ]
    }
   ],
   "source": [
    "# popitem()/pop()\n",
    "dct = {'name': 'ravi', 'rolln': 28, 'subject':'Python'}\n",
    "\n",
    "# val = dct.pop('name', 'NA')\n",
    "val = dct.popitem()\n",
    "print('last deleted pair', val)\n",
    "\n",
    "val = dct.popitem()\n",
    "print('last deleted pair', val)\n",
    "\n",
    "# print(val)\n",
    "print(dct)\n",
    "\n"
   ]
  },
  {
   "cell_type": "code",
   "execution_count": 27,
   "metadata": {},
   "outputs": [
    {
     "name": "stdout",
     "output_type": "stream",
     "text": [
      "ravi\n",
      "{'name': 'ravi', 'subject': 'Python', 'rolln': 30}\n"
     ]
    }
   ],
   "source": [
    "# setdefault()\n",
    "dct = {'name': 'ravi', 'subject':'Python', 'rolln': 30}\n",
    "out = dct.setdefault('name', 'Ruchi')\n",
    "print(out)\n",
    "\n",
    "print(dct)"
   ]
  },
  {
   "cell_type": "code",
   "execution_count": 35,
   "metadata": {},
   "outputs": [
    {
     "name": "stdout",
     "output_type": "stream",
     "text": [
      "{'name': None, 'rolln': None, 'subjects': None, 'batch': None, 'cpi': None, 'branch': None}\n"
     ]
    }
   ],
   "source": [
    "# fromkeys()\n",
    "ls = ['name', 'rolln', 'subjects', 'batch', 'cpi', 'branch']\n",
    "out = dict.fromkeys(ls)\n",
    "print(out)"
   ]
  },
  {
   "cell_type": "code",
   "execution_count": 36,
   "metadata": {},
   "outputs": [
    {
     "name": "stdout",
     "output_type": "stream",
     "text": [
      "{'name': 'Ravi Kumar', 'rolln': 34, 'subjects': None, 'batch': None, 'cpi': None, 'branch': 'CSE'}\n"
     ]
    }
   ],
   "source": [
    "# update()\n",
    "info = {'name': 'ravi', 'branch': 'BioTech'}\n",
    "out.update(info)\n",
    "info = {'name': 'Ravi Kumar', 'branch': 'CSE', 'rolln': 34}\n",
    "out.update(info)\n",
    "print(out)"
   ]
  },
  {
   "cell_type": "code",
   "execution_count": 72,
   "metadata": {},
   "outputs": [
    {
     "name": "stdout",
     "output_type": "stream",
     "text": [
      "GLA\n"
     ]
    }
   ],
   "source": [
    "# dictionary methods \n",
    "# get(): \n",
    "info = {'Name':'Aftab alam',\n",
    "        'Sectioin':'L',\n",
    "        'Roll_No':2,\n",
    "        'College': 'GLA'}\n",
    "var = info['College']\n",
    "print(var)\n"
   ]
  },
  {
   "cell_type": "code",
   "execution_count": 46,
   "metadata": {},
   "outputs": [
    {
     "name": "stdout",
     "output_type": "stream",
     "text": [
      "Value nahi hai\n"
     ]
    }
   ],
   "source": [
    "var = info.get('Address', 'Value nahi hai')\n",
    "print(var)"
   ]
  },
  {
   "cell_type": "code",
   "execution_count": 50,
   "metadata": {},
   "outputs": [
    {
     "name": "stdout",
     "output_type": "stream",
     "text": [
      "dict_keys(['Name', 'Sectioin', 'Roll_No', 'College'])\n"
     ]
    }
   ],
   "source": [
    "# values()/keys(): return all values/keys() in form of list(dict_value)\n",
    "# out = list(info.values())\n",
    "out = info.keys()\n",
    "print(out)"
   ]
  },
  {
   "cell_type": "code",
   "execution_count": 58,
   "metadata": {},
   "outputs": [
    {
     "name": "stdout",
     "output_type": "stream",
     "text": [
      "{0: 'Zero', 1: 'One', 2: 'Two', 3: 'Three', 'a': 'b'} <class 'dict'>\n"
     ]
    }
   ],
   "source": [
    "dm = dict([(0, 'Zero'), (1, 'One'), (2, 'Two'), (3, 'Three'), 'ab'])\n",
    "print(dm, type(dm))"
   ]
  },
  {
   "cell_type": "code",
   "execution_count": 68,
   "metadata": {},
   "outputs": [
    {
     "name": "stdout",
     "output_type": "stream",
     "text": [
      "Two Two One One Three Three "
     ]
    }
   ],
   "source": [
    "dm = {0: 'Zero', 1: 'One', 2: 'Two', 3: 'Three'}\n",
    "num = int(input('Enter the Number Value '))\n",
    "for i in str(num):\n",
    "    print(dm.get(int(i)), end=' ')"
   ]
  },
  {
   "cell_type": "code",
   "execution_count": 71,
   "metadata": {},
   "outputs": [
    {
     "name": "stdout",
     "output_type": "stream",
     "text": [
      "Before Operation {'Name': 'Aftab alam', 'Sectioin': 'L', 'Roll_No': 2, 'College': 'GLA'}\n",
      "After Operation {}\n"
     ]
    }
   ],
   "source": [
    "# clear(): remove all the items from dict object\n",
    "print('Before Operation', info)\n",
    "info.clear()\n",
    "print('After Operation', info)"
   ]
  },
  {
   "cell_type": "code",
   "execution_count": 79,
   "metadata": {},
   "outputs": [
    {
     "name": "stdout",
     "output_type": "stream",
     "text": [
      "Deleted Value Null\n",
      "{'Name': 'Aftab alam', 'Sectioin': 'L', 'Roll_No': 2, 'College': 'GLA'}\n"
     ]
    }
   ],
   "source": [
    "# pop(): remove the item using given key \n",
    "info = {'Name': 'Aftab alam', 'Sectioin': 'L', 'Roll_No': 2, 'College': 'GLA'}\n",
    "val = info.pop('Address', 'Null')\n",
    "print('Deleted Value', val)\n",
    "print(info)"
   ]
  },
  {
   "cell_type": "code",
   "execution_count": 81,
   "metadata": {},
   "outputs": [
    {
     "name": "stdout",
     "output_type": "stream",
     "text": [
      "Deleted Arbitrary pair ('College', 'GLA')\n",
      "{'Name': 'Aftab alam', 'Sectioin': 'L'}\n"
     ]
    }
   ],
   "source": [
    "# popitem(): remove the last arbitrary pair form dict \n",
    "info = {'Name': 'Aftab alam', 'Sectioin': 'L', 'Roll_No': 2, 'College': 'GLA'}\n",
    "val = info.popitem()\n",
    "# info.popitem()\n",
    "print('Deleted Arbitrary pair', val)\n",
    "print(info)"
   ]
  },
  {
   "cell_type": "code",
   "execution_count": 84,
   "metadata": {},
   "outputs": [
    {
     "name": "stdout",
     "output_type": "stream",
     "text": [
      "{'Name': 'ravi', 'Sectioin': 'L', 'Roll_No': 30, 'College': 'GLA'}\n"
     ]
    }
   ],
   "source": [
    "tmp_info = {'Name': 'ravi', 'Roll_No': 30, 'College': 'GLA'}\n",
    "info.update(tmp_info)\n",
    "print(info)"
   ]
  },
  {
   "cell_type": "code",
   "execution_count": 87,
   "metadata": {},
   "outputs": [
    {
     "name": "stdout",
     "output_type": "stream",
     "text": [
      "{'name': 'NA', 'id': 'NA', 'mobile': 'NA', 'dob': 'NA'}\n"
     ]
    }
   ],
   "source": [
    "ls = ['name', 'id', 'mobile', 'dob']\n",
    "out = {}.fromkeys(ls, 'NA')\n",
    "print(out)"
   ]
  },
  {
   "cell_type": "code",
   "execution_count": 90,
   "metadata": {},
   "outputs": [
    {
     "name": "stdout",
     "output_type": "stream",
     "text": [
      "8.9\n",
      "{'Name': 'ravi', 'Sectioin': 'L', 'Roll_No': 30, 'College': 'GLA', 'CPI': 8.9}\n"
     ]
    }
   ],
   "source": [
    "# setdefault()\n",
    "val = info.setdefault('CPI', 8.9)\n",
    "print(val)\n",
    "print(info)"
   ]
  },
  {
   "cell_type": "code",
   "execution_count": 105,
   "metadata": {},
   "outputs": [
    {
     "name": "stdout",
     "output_type": "stream",
     "text": [
      "{0: 'Zero', 1: 'One'}\n",
      "{}\n"
     ]
    }
   ],
   "source": [
    "# copy(): return the shallow copy of the dict object\n",
    "ls = {0:'Zero', 1: 'One'}\n",
    "kd = ls.copy()\n",
    "ls.clear()\n",
    "print(kd)\n",
    "print(ls)\n"
   ]
  },
  {
   "cell_type": "code",
   "execution_count": 56,
   "metadata": {},
   "outputs": [
    {
     "name": "stdout",
     "output_type": "stream",
     "text": [
      "dict_items([('Name', 'Aftab alam'), ('Sectioin', 'L'), ('Roll_No', 2), ('College', 'GLA')])\n"
     ]
    }
   ],
   "source": [
    "# items(): return dictionary items in list form (pairs in tuples)\n",
    "raw_form = info.items()\n",
    "print(raw_form)"
   ]
  },
  {
   "cell_type": "code",
   "execution_count": null,
   "metadata": {},
   "outputs": [],
   "source": []
  }
 ],
 "metadata": {
  "kernelspec": {
   "display_name": "Python 3",
   "language": "python",
   "name": "python3"
  },
  "language_info": {
   "codemirror_mode": {
    "name": "ipython",
    "version": 3
   },
   "file_extension": ".py",
   "mimetype": "text/x-python",
   "name": "python",
   "nbconvert_exporter": "python",
   "pygments_lexer": "ipython3",
   "version": "3.10.7"
  },
  "orig_nbformat": 4,
  "vscode": {
   "interpreter": {
    "hash": "490f1c68ed42f2c5a574e22fb9e03ff49b98516de8582ff1c5d4fb43fb70f61b"
   }
  }
 },
 "nbformat": 4,
 "nbformat_minor": 2
}
