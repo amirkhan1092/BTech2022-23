{
 "cells": [
  {
   "cell_type": "code",
   "execution_count": 13,
   "metadata": {},
   "outputs": [
    {
     "name": "stdout",
     "output_type": "stream",
     "text": [
      "21\n"
     ]
    }
   ],
   "source": [
    "# dictionary : Unordered collection of items,each item is the pair of key and value\n",
    "\n",
    "info = { 'marks':{'math':23, 'python':21, 'english':28, 'physics':24}, \n",
    "            'section':'4B', 'college':'GLA', 'spi':7.4, 'name':'Ruchi', 'rolln':34}\n",
    "\n",
    "out = info['marks']['python']\n",
    "print(out)\n",
    "# print(info)"
   ]
  },
  {
   "cell_type": "code",
   "execution_count": 22,
   "metadata": {},
   "outputs": [],
   "source": [
    "# dictionary : unordered collection of items \n",
    "info = {'name':'krish', 'rolln':44, 'section':'5B', 'marks':{'math':28, 'python':25, 'english':21, 'physics':28}, 'college':'GLA'}\n",
    "# out = info[1]\n",
    "\n",
    "# print(out)"
   ]
  },
  {
   "cell_type": "code",
   "execution_count": 25,
   "metadata": {},
   "outputs": [
    {
     "name": "stdout",
     "output_type": "stream",
     "text": [
      "25\n"
     ]
    }
   ],
   "source": [
    "out = info['marks']['python']\n",
    "print(out)"
   ]
  },
  {
   "cell_type": "code",
   "execution_count": 8,
   "metadata": {},
   "outputs": [
    {
     "name": "stdout",
     "output_type": "stream",
     "text": [
      "yash\n"
     ]
    }
   ],
   "source": [
    "# dictionary object in Python:\n",
    "# unordered collection of items and each item is the pair of key and value\n",
    "\n",
    "info =  {'rolln': 82, 'marks': [23, 17, 23, 16, 20, 12], 'College':'GLAU', 'name':'yash'}\n",
    "out = info['name']\n",
    "print(out)"
   ]
  },
  {
   "cell_type": "code",
   "execution_count": 10,
   "metadata": {},
   "outputs": [
    {
     "name": "stdout",
     "output_type": "stream",
     "text": [
      "{'rolln': 82, 'marks': [23, 17, 23, 16, 20, 12], 'College': 'GLAU', 'name': 'Ravi', 'address': 'Chaumuhan'}\n"
     ]
    }
   ],
   "source": [
    "# operations with dictionary \n",
    "\n",
    "info =  {'rolln': 82, 'marks': [23, 17, 23, 16, 20, 12], \n",
    "'College':'GLAU', 'name':'yash', 'name': 'Ravi'}\n",
    "out = info['name']\n",
    "info['address'] = 'Chaumuhan'\n",
    "print(info)"
   ]
  },
  {
   "cell_type": "code",
   "execution_count": 16,
   "metadata": {},
   "outputs": [
    {
     "name": "stdout",
     "output_type": "stream",
     "text": [
      "{'rolln': 100, 'marks': [23, 17, 23, 16, 20, 12], 'College': 'GLAU', 'name': 'yash'}\n"
     ]
    }
   ],
   "source": [
    "# mutablity: mutable\n",
    "info =  {'rolln': 82, 'marks': [23, 17, 23, 16, 20, 12], 'College':'GLAU', 'name':'yash'}\n",
    "\n",
    "# item deletion\n",
    "# del info['rolln']\n",
    "\n",
    "# item assignment\n",
    "info['rolln'] =  100\n",
    "print(info)"
   ]
  },
  {
   "cell_type": "code",
   "execution_count": 17,
   "metadata": {},
   "outputs": [
    {
     "ename": "TypeError",
     "evalue": "'tuple' object doesn't support item deletion",
     "output_type": "error",
     "traceback": [
      "\u001b[1;31m---------------------------------------------------------------------------\u001b[0m",
      "\u001b[1;31mTypeError\u001b[0m                                 Traceback (most recent call last)",
      "Cell \u001b[1;32mIn [17], line 2\u001b[0m\n\u001b[0;32m      1\u001b[0m ls \u001b[39m=\u001b[39m (\u001b[39m3\u001b[39m, \u001b[39m5\u001b[39m, \u001b[39m6\u001b[39m)\n\u001b[1;32m----> 2\u001b[0m \u001b[39mdel\u001b[39;00m ls[\u001b[39m0\u001b[39m]  \u001b[39m# deletion not applicable \u001b[39;00m\n\u001b[0;32m      3\u001b[0m \u001b[39mprint\u001b[39m(ls)\n",
      "\u001b[1;31mTypeError\u001b[0m: 'tuple' object doesn't support item deletion"
     ]
    }
   ],
   "source": [
    "ls = (3, 5, 6)\n",
    "del ls[0]  # deletion not applicable \n",
    "print(ls)"
   ]
  },
  {
   "cell_type": "code",
   "execution_count": 16,
   "metadata": {},
   "outputs": [
    {
     "name": "stdout",
     "output_type": "stream",
     "text": [
      "{'name': 'Ravi', 'id': 'Au747372373', 'address': 'Chaumuhan', 'score': 8.5}\n"
     ]
    }
   ],
   "source": [
    "# dictionary in Python: Unordered collection of items and each item is the pair of key and value\n",
    "info = {'name':'Ravi', 'id':'Au747372373', 'address':'Chaumuhan', 'score':8.5}\n",
    "# out = info[2]\n",
    "print(info)"
   ]
  },
  {
   "cell_type": "code",
   "execution_count": 15,
   "metadata": {},
   "outputs": [
    {
     "name": "stdout",
     "output_type": "stream",
     "text": [
      "1250000025000000\n"
     ]
    }
   ],
   "source": [
    "n = 50000000\n",
    "s = n * (n+1) // 2\n",
    "# for i in range(1, n+1):\n",
    "#     s += i\n",
    "print(s)"
   ]
  }
 ],
 "metadata": {
  "kernelspec": {
   "display_name": "Python 3",
   "language": "python",
   "name": "python3"
  },
  "language_info": {
   "codemirror_mode": {
    "name": "ipython",
    "version": 3
   },
   "file_extension": ".py",
   "mimetype": "text/x-python",
   "name": "python",
   "nbconvert_exporter": "python",
   "pygments_lexer": "ipython3",
   "version": "3.10.7"
  },
  "orig_nbformat": 4,
  "vscode": {
   "interpreter": {
    "hash": "490f1c68ed42f2c5a574e22fb9e03ff49b98516de8582ff1c5d4fb43fb70f61b"
   }
  }
 },
 "nbformat": 4,
 "nbformat_minor": 2
}
