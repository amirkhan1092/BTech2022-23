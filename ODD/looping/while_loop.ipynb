{
 "cells": [
  {
   "cell_type": "code",
   "execution_count": 1,
   "metadata": {},
   "outputs": [
    {
     "name": "stdout",
     "output_type": "stream",
     "text": [
      "15\n"
     ]
    }
   ],
   "source": [
    "# while loop\n",
    "num = 5\n",
    "s = 0\n",
    "while num > 0:\n",
    "    s += num\n",
    "    num -= 1\n",
    "print(s)    "
   ]
  },
  {
   "cell_type": "code",
   "execution_count": 14,
   "metadata": {},
   "outputs": [
    {
     "name": "stdout",
     "output_type": "stream",
     "text": [
      "2\n"
     ]
    }
   ],
   "source": [
    "# count the number of digit \n",
    "num = 32\n",
    "count = 0\n",
    "while num != 0:\n",
    "    num //= 10\n",
    "    count += 1\n",
    "print(count)"
   ]
  },
  {
   "cell_type": "code",
   "execution_count": 18,
   "metadata": {},
   "outputs": [
    {
     "name": "stdout",
     "output_type": "stream",
     "text": [
      "4321\n"
     ]
    }
   ],
   "source": [
    "#  reverse the digit of the \n",
    "# number \n",
    "num = 1234\n",
    "num1 = num\n",
    "rev = 0\n",
    "# logic here\n",
    "while num != 0:\n",
    "    ld = num % 10\n",
    "    num //= 10\n",
    "    rev = rev * 10 + ld\n",
    "print(rev)\n",
    "if num1 == rev:\n",
    "    print(\"The given number is palindrome\")\n",
    "else:\n",
    "    print(\"Number is not palindrome\")        \n",
    "# output 4321"
   ]
  },
  {
   "cell_type": "code",
   "execution_count": null,
   "metadata": {},
   "outputs": [],
   "source": [
    "# armstrong number \n",
    "'''\n",
    "5\n",
    "153 :  1**3  + 5**3 + 3**3\n",
    "\n",
    "''' \n",
    "num = 120\n",
    "\n"
   ]
  },
  {
   "cell_type": "code",
   "execution_count": 26,
   "metadata": {},
   "outputs": [
    {
     "name": "stdout",
     "output_type": "stream",
     "text": [
      "5\n"
     ]
    }
   ],
   "source": [
    "# break/continue\n",
    "seq = [5, 5, 5]\n",
    "for i in seq:\n",
    "    print(i)\n",
    "    if i == 5:\n",
    "        break\n",
    "else:    \n",
    "    print('Else block')    "
   ]
  },
  {
   "cell_type": "code",
   "execution_count": null,
   "metadata": {},
   "outputs": [],
   "source": [
    "'hackerrank.com/b22-23lab01'\n",
    "'hackerrank.com/b22-23lab02'\n",
    "'hackerrank.com/b22-23lab03'\n",
    "'hackerrank.com/b22-23lab04'\n",
    "'"
   ]
  },
  {
   "cell_type": "code",
   "execution_count": null,
   "metadata": {},
   "outputs": [],
   "source": []
  }
 ],
 "metadata": {
  "kernelspec": {
   "display_name": "Python 3.10.7 64-bit",
   "language": "python",
   "name": "python3"
  },
  "language_info": {
   "codemirror_mode": {
    "name": "ipython",
    "version": 3
   },
   "file_extension": ".py",
   "mimetype": "text/x-python",
   "name": "python",
   "nbconvert_exporter": "python",
   "pygments_lexer": "ipython3",
   "version": "3.10.7"
  },
  "orig_nbformat": 4,
  "vscode": {
   "interpreter": {
    "hash": "490f1c68ed42f2c5a574e22fb9e03ff49b98516de8582ff1c5d4fb43fb70f61b"
   }
  }
 },
 "nbformat": 4,
 "nbformat_minor": 2
}
