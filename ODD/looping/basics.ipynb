{
 "cells": [
  {
   "cell_type": "code",
   "execution_count": null,
   "metadata": {},
   "outputs": [],
   "source": [
    "# loop in Python\n",
    "# looping: \n",
    "'''\n",
    "for loop: iterating over the sequence\n",
    "while loop:\n",
    "\n",
    "'''"
   ]
  },
  {
   "cell_type": "code",
   "execution_count": 14,
   "metadata": {},
   "outputs": [
    {
     "name": "stdout",
     "output_type": "stream",
     "text": [
      "python 0\n",
      "python 1\n",
      "python 2\n",
      "python 3\n"
     ]
    }
   ],
   "source": [
    "st = range(4)   # [0, 1, 2, 3]\n",
    "# range(start, stop, step)\n",
    "\n",
    "for val in st:\n",
    "    print('python', val)"
   ]
  },
  {
   "cell_type": "code",
   "execution_count": 27,
   "metadata": {},
   "outputs": [
    {
     "name": "stdout",
     "output_type": "stream",
     "text": [
      "10,8,6,4,"
     ]
    }
   ],
   "source": [
    "for i in range(10, 2, -2):      \n",
    "    print(i, end=',')"
   ]
  },
  {
   "cell_type": "code",
   "execution_count": 16,
   "metadata": {},
   "outputs": [
    {
     "data": {
      "text/plain": [
       "'hellohellohello'"
      ]
     },
     "execution_count": 16,
     "metadata": {},
     "output_type": "execute_result"
    }
   ],
   "source": [
    "'hello'*3"
   ]
  },
  {
   "cell_type": "code",
   "execution_count": 21,
   "metadata": {},
   "outputs": [
    {
     "name": "stdout",
     "output_type": "stream",
     "text": [
      "[0, 1, 2, 3, 4, 5, 6, 7, 8, 9]\n"
     ]
    }
   ],
   "source": [
    "print(list(range(10)))  # start = 0, stop=10"
   ]
  },
  {
   "cell_type": "code",
   "execution_count": 5,
   "metadata": {},
   "outputs": [
    {
     "name": "stdout",
     "output_type": "stream",
     "text": [
      "5050\n"
     ]
    }
   ],
   "source": [
    "# natural sum \n",
    "num = 100\n",
    "s = 0\n",
    "for i in range(num):\n",
    "    s = s + num\n",
    "    num = num - 1\n",
    "\n",
    "print(s)\n"
   ]
  },
  {
   "cell_type": "code",
   "execution_count": 26,
   "metadata": {},
   "outputs": [
    {
     "name": "stdout",
     "output_type": "stream",
     "text": [
      "1 2 3 4 "
     ]
    }
   ],
   "source": [
    "num = 4\n",
    "for i in range(1, num+1):\n",
    "    print(i, end=' ')"
   ]
  },
  {
   "cell_type": "code",
   "execution_count": null,
   "metadata": {},
   "outputs": [],
   "source": [
    "# Topic: looping\n",
    "'''\n",
    "1. for loop: \n",
    "2. while loop\n",
    "''' "
   ]
  },
  {
   "cell_type": "code",
   "execution_count": 20,
   "metadata": {},
   "outputs": [
    {
     "name": "stdout",
     "output_type": "stream",
     "text": [
      "[10, 8, 6, 4]\n"
     ]
    }
   ],
   "source": [
    "# range(start, stop, step)\n",
    "print(list(range(10, 2, -2)))  # start=2/stop=6/step=1 "
   ]
  },
  {
   "cell_type": "code",
   "execution_count": 24,
   "metadata": {},
   "outputs": [
    {
     "name": "stdout",
     "output_type": "stream",
     "text": [
      "120\n"
     ]
    }
   ],
   "source": [
    "num = 5\n",
    "s = 1\n",
    "for i in range(1, num+1):\n",
    "    s = s * i\n",
    "print(s)    "
   ]
  },
  {
   "cell_type": "code",
   "execution_count": 51,
   "metadata": {},
   "outputs": [
    {
     "name": "stdout",
     "output_type": "stream",
     "text": [
      "28\n"
     ]
    }
   ],
   "source": [
    "num = 28\n",
    "s = 0\n",
    "for i in range(1, num):\n",
    "    if num % i == 0:\n",
    "        s += i\n",
    "print(s)          "
   ]
  },
  {
   "cell_type": "code",
   "execution_count": 3,
   "metadata": {},
   "outputs": [
    {
     "ename": "ValueError",
     "evalue": "invalid literal for int() with base 10: ''",
     "output_type": "error",
     "traceback": [
      "\u001b[1;31m---------------------------------------------------------------------------\u001b[0m",
      "\u001b[1;31mValueError\u001b[0m                                Traceback (most recent call last)",
      "Cell \u001b[1;32mIn [3], line 6\u001b[0m\n\u001b[0;32m      1\u001b[0m \u001b[39m# perfect number \u001b[39;00m\n\u001b[0;32m      2\u001b[0m \u001b[39m# input section\u001b[39;00m\n\u001b[0;32m      3\u001b[0m \u001b[39mfrom\u001b[39;00m \u001b[39mast\u001b[39;00m \u001b[39mimport\u001b[39;00m Num\n\u001b[1;32m----> 6\u001b[0m n\u001b[39m=\u001b[39m\u001b[39mint\u001b[39m(\u001b[39minput\u001b[39m(\u001b[39m\"\u001b[39m\u001b[39mEnter no.\u001b[39m\u001b[39m\"\u001b[39m))\n\u001b[0;32m      7\u001b[0m \u001b[39m# logic section\u001b[39;00m\n\u001b[0;32m      8\u001b[0m \u001b[39msum\u001b[39m\u001b[39m=\u001b[39m\u001b[39m0\u001b[39m\n",
      "\u001b[1;31mValueError\u001b[0m: invalid literal for int() with base 10: ''"
     ]
    }
   ],
   "source": [
    "# perfect number \n",
    "# input section\n",
    "n=int(input(\"Enter no.\"))\n",
    "sum=0\n",
    "# logic section\n",
    "for i in range(1,n):\n",
    "    if(n%i==0):\n",
    "        sum=sum+i\n",
    "if(sum==n):\n",
    "    print(\"this is a perfect number\")\n",
    "else:\n",
    "    print(\"This number is not a perfect number\")\n",
    "\n",
    "# display section"
   ]
  },
  {
   "cell_type": "code",
   "execution_count": 8,
   "metadata": {},
   "outputs": [
    {
     "name": "stdout",
     "output_type": "stream",
     "text": [
      "Armstrong number \n"
     ]
    }
   ],
   "source": [
    "# armstrong number \n",
    "'''\n",
    "153: 1**3 + 5**3 + 3**3\n",
    "'''\n",
    "num = 370\n",
    "raw_num = str(num)\n",
    "pw = len(raw_num)\n",
    "sum = 0\n",
    "for i in raw_num:\n",
    "    sum += int(i) ** pw\n",
    "\n",
    "if sum == num:\n",
    "    print('Armstrong number ')\n",
    "else:\n",
    "    print('Not a Armstrong number ')\n",
    "\n",
    "'T'\n"
   ]
  },
  {
   "cell_type": "code",
   "execution_count": 20,
   "metadata": {},
   "outputs": [
    {
     "name": "stdout",
     "output_type": "stream",
     "text": [
      "6\n"
     ]
    }
   ],
   "source": [
    "num = 3\n",
    "s = 1\n",
    "for i in range(1, num+1):\n",
    "    s *= i\n",
    "print(s)"
   ]
  },
  {
   "cell_type": "code",
   "execution_count": 14,
   "metadata": {},
   "outputs": [
    {
     "name": "stdout",
     "output_type": "stream",
     "text": [
      "[5, 4, 3, 2]\n"
     ]
    }
   ],
   "source": [
    "# function range\n",
    "# range(start, stop, step)\n",
    "out = range(5, 1, -1 )\n",
    "print(list(out))"
   ]
  },
  {
   "cell_type": "code",
   "execution_count": 5,
   "metadata": {},
   "outputs": [
    {
     "name": "stdout",
     "output_type": "stream",
     "text": [
      "3\n"
     ]
    }
   ],
   "source": [
    "# loop\n",
    "num = 123\n",
    "d1 = 10\n",
    "while num >= d1:\n",
    "    num -= d1\n",
    "\n",
    "print(num)"
   ]
  }
 ],
 "metadata": {
  "kernelspec": {
   "display_name": "Python 3.10.7 64-bit",
   "language": "python",
   "name": "python3"
  },
  "language_info": {
   "codemirror_mode": {
    "name": "ipython",
    "version": 3
   },
   "file_extension": ".py",
   "mimetype": "text/x-python",
   "name": "python",
   "nbconvert_exporter": "python",
   "pygments_lexer": "ipython3",
   "version": "3.10.7"
  },
  "orig_nbformat": 4,
  "vscode": {
   "interpreter": {
    "hash": "490f1c68ed42f2c5a574e22fb9e03ff49b98516de8582ff1c5d4fb43fb70f61b"
   }
  }
 },
 "nbformat": 4,
 "nbformat_minor": 2
}
