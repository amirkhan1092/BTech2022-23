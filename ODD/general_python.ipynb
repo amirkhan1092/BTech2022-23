{
 "cells": [
  {
   "cell_type": "code",
   "execution_count": 1,
   "metadata": {},
   "outputs": [
    {
     "name": "stdout",
     "output_type": "stream",
     "text": [
      "2707713431888\n",
      "2707713431280\n"
     ]
    }
   ],
   "source": [
    "# Python Programming\n",
    "a = 10.0\n",
    "b =  10.0\n",
    "# print(a)\n",
    "# print(b)\n",
    "print(id(a))\n",
    "print(id(b))"
   ]
  },
  {
   "cell_type": "code",
   "execution_count": 18,
   "metadata": {},
   "outputs": [
    {
     "name": "stdout",
     "output_type": "stream",
     "text": [
      "23.0 <class 'float'>\n"
     ]
    }
   ],
   "source": [
    "# complex number \n",
    "a = 23.0\n",
    "print(a, type(a))\n"
   ]
  },
  {
   "cell_type": "code",
   "execution_count": 27,
   "metadata": {},
   "outputs": [
    {
     "name": "stdout",
     "output_type": "stream",
     "text": [
      "b'hello python \\xf0\\x9f\\x98\\x8d'\n"
     ]
    }
   ],
   "source": [
    "# string \n",
    "st = 'hello python 😍'\n",
    "out = st.encode()\n",
    "print(out)\n"
   ]
  },
  {
   "cell_type": "code",
   "execution_count": 52,
   "metadata": {},
   "outputs": [
    {
     "data": {
      "text/plain": [
       "'hello\\\\npython\\\\n\\\\t\\\\tprogramming'"
      ]
     },
     "execution_count": 52,
     "metadata": {},
     "output_type": "execute_result"
    }
   ],
   "source": [
    "st = r'hello\\npython\\n\\t\\tprogramming'\n",
    "st"
   ]
  },
  {
   "cell_type": "code",
   "execution_count": 68,
   "metadata": {},
   "outputs": [
    {
     "name": "stdout",
     "output_type": "stream",
     "text": [
      "4\n",
      "10\n",
      "15\n"
     ]
    }
   ],
   "source": [
    "st = 'Hello Python Programming'\n",
    "start = 0\n",
    "pat = 'o'\n",
    "x = st.count(pat)\n",
    "for i in range(x):\n",
    "    out = st.index(pat, start)\n",
    "    print(out)\n",
    "    start = out + 1"
   ]
  },
  {
   "cell_type": "code",
   "execution_count": 3,
   "metadata": {},
   "outputs": [
    {
     "name": "stdout",
     "output_type": "stream",
     "text": [
      "2\n"
     ]
    }
   ],
   "source": [
    "st = 'hello palla'\n",
    "ste = 'l'\n",
    "s = 0\n",
    "for i in range(st.count(ste)):\n",
    "    n =st.index(ste, s)\n",
    "    print(n)\n",
    "    s += n\n",
    "    break\n",
    "    "
   ]
  },
  {
   "cell_type": "code",
   "execution_count": null,
   "metadata": {},
   "outputs": [],
   "source": [
    "# list\n"
   ]
  },
  {
   "cell_type": "code",
   "execution_count": 10,
   "metadata": {},
   "outputs": [
    {
     "data": {
      "text/plain": [
       "True"
      ]
     },
     "execution_count": 10,
     "metadata": {},
     "output_type": "execute_result"
    }
   ],
   "source": [
    "a is b"
   ]
  },
  {
   "cell_type": "code",
   "execution_count": 4,
   "metadata": {},
   "outputs": [
    {
     "name": "stdout",
     "output_type": "stream",
     "text": [
      "-3+-6+-6+-6+-6+-3+= -30\n"
     ]
    }
   ],
   "source": [
    "# bitwise comlement sum include 0 or not\n",
    "ls = [2, 5, 5, 5, 5, 2]\n",
    "sum = 0\n",
    "for i in ls:\n",
    "    sum += ~i\n",
    "    print(~i, end='+')\n",
    "print('=', sum)    \n"
   ]
  }
 ],
 "metadata": {
  "kernelspec": {
   "display_name": "Python 3.10.7 64-bit",
   "language": "python",
   "name": "python3"
  },
  "language_info": {
   "codemirror_mode": {
    "name": "ipython",
    "version": 3
   },
   "file_extension": ".py",
   "mimetype": "text/x-python",
   "name": "python",
   "nbconvert_exporter": "python",
   "pygments_lexer": "ipython3",
   "version": "3.10.7"
  },
  "orig_nbformat": 4,
  "vscode": {
   "interpreter": {
    "hash": "490f1c68ed42f2c5a574e22fb9e03ff49b98516de8582ff1c5d4fb43fb70f61b"
   }
  }
 },
 "nbformat": 4,
 "nbformat_minor": 2
}
