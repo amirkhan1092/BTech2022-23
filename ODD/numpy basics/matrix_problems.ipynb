{
 "cells": [
  {
   "cell_type": "code",
   "execution_count": 13,
   "metadata": {},
   "outputs": [
    {
     "name": "stdout",
     "output_type": "stream",
     "text": [
      "List [130, -120, 8, -2]\n",
      "Array [-126 -120    8   -2]\n"
     ]
    }
   ],
   "source": [
    "# array vs list\n",
    "import numpy as np\n",
    "ls = [130, -120, 8, -2]\n",
    "arr = np.array(ls, dtype='int8')\n",
    "\n",
    "print('List', ls)\n",
    "print('Array', arr)\n"
   ]
  },
  {
   "cell_type": "code",
   "execution_count": 35,
   "metadata": {},
   "outputs": [
    {
     "name": "stdout",
     "output_type": "stream",
     "text": [
      "20\n"
     ]
    }
   ],
   "source": [
    "# ndmin\n",
    "ls = [[[[20, 3], 10, 22], [100, 200, 30]], [[5, 10], [4,0]]]\n",
    "out = ls[0][0][0][0]\n",
    "print(out)"
   ]
  },
  {
   "cell_type": "code",
   "execution_count": 23,
   "metadata": {},
   "outputs": [
    {
     "name": "stdout",
     "output_type": "stream",
     "text": [
      "[[ 2  4  6]\n",
      " [ 4 20  5]\n",
      " [ 3  6  3]]\n"
     ]
    }
   ],
   "source": [
    "# 3 x 3\n",
    "import numpy as np\n",
    "ls1 = [[2, 4, 5], [2, 19, 0], [1, 1, 0]]\n",
    "ls2 = [[0, 0, 1], [2, 1, 5], [2, 5, 3]]\n",
    "arr1 = np.array(ls1)\n",
    "arr2 = np.array(ls2)\n",
    "out = np.add(arr1, arr2)\n",
    "print(out)\n"
   ]
  },
  {
   "cell_type": "code",
   "execution_count": 34,
   "metadata": {},
   "outputs": [
    {
     "name": "stdout",
     "output_type": "stream",
     "text": [
      "List [0, 128, 129]\n",
      "Array [   0 -128 -127]\n"
     ]
    }
   ],
   "source": [
    "# array vs list\n",
    "import numpy as np\n",
    "ls = [0, 128, 129]\n",
    "arr = np.array(ls, dtype='int8')\n",
    "\n",
    "print('List', ls)\n",
    "print('Array', arr)"
   ]
  },
  {
   "cell_type": "code",
   "execution_count": 48,
   "metadata": {},
   "outputs": [
    {
     "name": "stdout",
     "output_type": "stream",
     "text": [
      "[[1 3]\n",
      " [5 2]\n",
      " [5 2]]\n"
     ]
    }
   ],
   "source": [
    "# ls \n",
    "arr = np.array([1, 3, 5, 2, 5, 2])\n",
    "arr.shape = 3, 2\n",
    "print(arr)"
   ]
  },
  {
   "cell_type": "code",
   "execution_count": 51,
   "metadata": {},
   "outputs": [
    {
     "name": "stdout",
     "output_type": "stream",
     "text": [
      "[[18 47 48]\n",
      " [ 7 13 12]]\n"
     ]
    }
   ],
   "source": [
    "arr1 = np.array([[2, 4, 5], [3, 1, 0]])\n",
    "arr2 = np.array([[2, 4, 4], [1, 1, 0], [2, 7, 8]])\n",
    "if arr1.shape[1] == arr2.shape[0]:\n",
    "    out = np.dot(arr1, arr2)\n",
    "    print(out)\n",
    "else:\n",
    "    print('Shape is not valid for Matrix Multiplication')"
   ]
  },
  {
   "cell_type": "code",
   "execution_count": 8,
   "metadata": {},
   "outputs": [
    {
     "name": "stdout",
     "output_type": "stream",
     "text": [
      "[20, 4, 56, 7, 8, 900]\n",
      "1\n"
     ]
    }
   ],
   "source": [
    "# list vs array\n",
    "import numpy as np\n",
    "ls = [20, 4, 56, 7, 8, 900]\n",
    "arr = np.array(ls, dtype='int8')\n",
    "print(ls)\n",
    "print(arr.ndim)"
   ]
  },
  {
   "cell_type": "code",
   "execution_count": 22,
   "metadata": {},
   "outputs": [
    {
     "name": "stdout",
     "output_type": "stream",
     "text": [
      "[ 3  4 45  4  5  6  2]\n"
     ]
    }
   ],
   "source": [
    "ls = [3, 4, 45, 4, 5, 6,2]\n",
    "out = np.array(ls)\n",
    "print(out)"
   ]
  },
  {
   "cell_type": "code",
   "execution_count": 27,
   "metadata": {},
   "outputs": [
    {
     "data": {
      "text/plain": [
       "7"
      ]
     },
     "execution_count": 27,
     "metadata": {},
     "output_type": "execute_result"
    }
   ],
   "source": [
    "out.shape[1]"
   ]
  }
 ],
 "metadata": {
  "kernelspec": {
   "display_name": "Python 3",
   "language": "python",
   "name": "python3"
  },
  "language_info": {
   "codemirror_mode": {
    "name": "ipython",
    "version": 3
   },
   "file_extension": ".py",
   "mimetype": "text/x-python",
   "name": "python",
   "nbconvert_exporter": "python",
   "pygments_lexer": "ipython3",
   "version": "3.10.7 (tags/v3.10.7:6cc6b13, Sep  5 2022, 14:08:36) [MSC v.1933 64 bit (AMD64)]"
  },
  "orig_nbformat": 4,
  "vscode": {
   "interpreter": {
    "hash": "490f1c68ed42f2c5a574e22fb9e03ff49b98516de8582ff1c5d4fb43fb70f61b"
   }
  }
 },
 "nbformat": 4,
 "nbformat_minor": 2
}
