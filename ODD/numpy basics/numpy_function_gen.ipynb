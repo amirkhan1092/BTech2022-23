{
 "cells": [
  {
   "cell_type": "code",
   "execution_count": null,
   "metadata": {},
   "outputs": [],
   "source": [
    "# functions in Numpy "
   ]
  },
  {
   "cell_type": "code",
   "execution_count": 8,
   "metadata": {},
   "outputs": [
    {
     "name": "stdout",
     "output_type": "stream",
     "text": [
      "[[3 5 7]\n",
      " [8 4 6]]\n"
     ]
    }
   ],
   "source": [
    "# array(): convert the list or ordinary array to numpy array\n",
    "# syntax array(object, dtype=None, ndmin=0)\n",
    "import numpy as np\n",
    "ls = [3, 5, 7, 8, 4, 6]\n",
    "out = np.array(ls)\n",
    "out.shape = 2, 3\n",
    "# out2 = out.reshape(2, 3)\n",
    "print(out)\n",
    "# print('\\n', out2)"
   ]
  },
  {
   "cell_type": "code",
   "execution_count": 16,
   "metadata": {},
   "outputs": [
    {
     "name": "stdout",
     "output_type": "stream",
     "text": [
      "[[ 1  2  3]\n",
      " [ 4  5  6]\n",
      " [ 7  8  9]\n",
      " [10 11 12]]\n"
     ]
    }
   ],
   "source": [
    "# arange(start, stop, step)\n",
    "import numpy as np\n",
    "ls = np.arange(1, 13).reshape(4, 3)\n",
    "print(ls)"
   ]
  },
  {
   "cell_type": "code",
   "execution_count": 22,
   "metadata": {},
   "outputs": [
    {
     "name": "stdout",
     "output_type": "stream",
     "text": [
      "Matrix1\n",
      "[[ 1  2  3  4]\n",
      " [ 5  6  7  8]\n",
      " [ 9 10 11 12]]\n",
      "\n",
      "Matrix2\n",
      "[[ 5  6  7  8]\n",
      " [ 9 10 11 12]\n",
      " [13 14 15 16]]\n",
      "\n",
      "Addition\n",
      "[[ 6  8 10 12]\n",
      " [14 16 18 20]\n",
      " [22 24 26 28]]\n"
     ]
    }
   ],
   "source": [
    "# addition of two matrix\n",
    "import numpy as np\n",
    "m1 = np.arange(1, 13).reshape(3, 4)\n",
    "m2 = np.arange(5, 17).reshape(3, 4)\n",
    "print('Matrix1')\n",
    "print(m1)\n",
    "print('\\nMatrix2')\n",
    "print(m2)\n",
    "\n",
    "# addition of two matrix \n",
    "if m1.shape == m2.shape:\n",
    "    out = np.add(m1, m2)\n",
    "\n",
    "    print('\\nAddition')\n",
    "    print(out)\n",
    "else:\n",
    "    print('Shape is not valid for Addition')\n"
   ]
  },
  {
   "cell_type": "code",
   "execution_count": 30,
   "metadata": {},
   "outputs": [
    {
     "name": "stdout",
     "output_type": "stream",
     "text": [
      "Matrix1\n",
      "[[ 1  2  3  4]\n",
      " [ 5  6  7  8]\n",
      " [ 9 10 11 12]]\n",
      "\n",
      "Matrix2\n",
      "[[ 5  6  7]\n",
      " [ 8  9 10]\n",
      " [11 12 13]\n",
      " [14 15 16]]\n",
      "\n",
      "Multiplication\n",
      "[[110 120 130]\n",
      " [262 288 314]\n",
      " [414 456 498]]\n"
     ]
    }
   ],
   "source": [
    "# multiplication \n",
    "import numpy as np\n",
    "m1 = np.arange(1, 13).reshape(3, 4)\n",
    "m2 = np.arange(5, 17).reshape(4, 3)\n",
    "print('Matrix1')\n",
    "print(m1)\n",
    "print('\\nMatrix2')\n",
    "print(m2)\n",
    "\n",
    "# Matrix Multiplication of two matrix \n",
    "if m1.shape[1] == m2.shape[0]:\n",
    "    out = np.dot(m1, m2)\n",
    "\n",
    "    print('\\nMultiplication')\n",
    "    print(out)\n",
    "else:\n",
    "    print('Shape is not valid for Matrix Multiplication')\n"
   ]
  },
  {
   "cell_type": "code",
   "execution_count": 40,
   "metadata": {},
   "outputs": [
    {
     "name": "stdout",
     "output_type": "stream",
     "text": [
      "[[1. 0. 0. 0.]\n",
      " [0. 1. 0. 0.]\n",
      " [0. 0. 1. 0.]\n",
      " [0. 0. 0. 1.]]\n"
     ]
    }
   ],
   "source": [
    "out = np.eye(4)\n",
    "print(out)"
   ]
  },
  {
   "cell_type": "code",
   "execution_count": 33,
   "metadata": {},
   "outputs": [
    {
     "data": {
      "text/plain": [
       "4"
      ]
     },
     "execution_count": 33,
     "metadata": {},
     "output_type": "execute_result"
    }
   ],
   "source": [
    "m1.shape[1]"
   ]
  },
  {
   "cell_type": "code",
   "execution_count": 28,
   "metadata": {},
   "outputs": [
    {
     "name": "stdout",
     "output_type": "stream",
     "text": [
      "[[ 1  2  3]\n",
      " [ 4  5  6]\n",
      " [ 7  8  9]\n",
      " [10 11 12]]\n"
     ]
    }
   ],
   "source": [
    "print(m1)"
   ]
  },
  {
   "cell_type": "code",
   "execution_count": 53,
   "metadata": {},
   "outputs": [
    {
     "name": "stdout",
     "output_type": "stream",
     "text": [
      "list [129, 10, 7, -130, 256]\n",
      "Array [-127   10    7  126    0]\n"
     ]
    }
   ],
   "source": [
    "# numpy module\n",
    "# a = array(object, dtype, ndmin=0)\n",
    "import numpy as np\n",
    "ls = [129, 10, 7, -130, 256]\n",
    "print('list', ls)\n",
    "out = np.array(ls, dtype='int8' )\n",
    "print('Array', out)\n"
   ]
  },
  {
   "cell_type": "code",
   "execution_count": 15,
   "metadata": {},
   "outputs": [
    {
     "name": "stdout",
     "output_type": "stream",
     "text": [
      "Matrix1\n",
      "[[3 5 7]\n",
      " [3 6 0]]\n",
      "\n",
      "Matrix2\n",
      "[[4 6 7]\n",
      " [2 5 0]\n",
      " [1 2 3]]\n",
      "\n",
      "Matrix Multiplication\n",
      "[[29 57 42]\n",
      " [24 48 21]]\n"
     ]
    }
   ],
   "source": [
    "# array(object, dtype=None, ndmin=0)\n",
    "import numpy as np\n",
    "# lst1 = [[3, 5, 7], [3, 6, 0]]\n",
    "# lst2 = [[4, 6, 7], [2, 5, 0], [1, 2, 3]]\n",
    "\n",
    "lst1 = eval(input())\n",
    "lst2 = eval(input())\n",
    "\n",
    "arr1 = np.array(lst1)\n",
    "arr2 = np.array(lst2)\n",
    "\n",
    "# Multiplication of two matrix\n",
    "if arr1.shape[1] == arr2.shape[0]:\n",
    "    out = np.dot(arr1, arr2)\n",
    "\n",
    "    print('Matrix1')\n",
    "    print(arr1)\n",
    "    print('\\nMatrix2')\n",
    "    print(arr2)\n",
    "    print('\\nMatrix Multiplication')\n",
    "    print(out)\n",
    "else:\n",
    "    print('Shape is not valid for Matrix Multiplication')"
   ]
  },
  {
   "cell_type": "code",
   "execution_count": 3,
   "metadata": {},
   "outputs": [
    {
     "name": "stdout",
     "output_type": "stream",
     "text": [
      "[[0. 0. 0. 0. 0. 0.]\n",
      " [0. 0. 0. 0. 0. 0.]\n",
      " [0. 0. 0. 0. 0. 0.]]\n"
     ]
    }
   ],
   "source": [
    "# zeros((r, c))\n",
    "import numpy as np\n",
    "out = np.zeros((3, 6))\n",
    "print(out)"
   ]
  },
  {
   "cell_type": "code",
   "execution_count": 4,
   "metadata": {},
   "outputs": [
    {
     "name": "stdout",
     "output_type": "stream",
     "text": [
      "[[1. 1. 1. 1. 1. 1.]\n",
      " [1. 1. 1. 1. 1. 1.]\n",
      " [1. 1. 1. 1. 1. 1.]]\n"
     ]
    }
   ],
   "source": [
    "# ones((r, c))\n",
    "import numpy as np\n",
    "out = np.ones((3, 6))\n",
    "print(out)"
   ]
  },
  {
   "cell_type": "code",
   "execution_count": 9,
   "metadata": {},
   "outputs": [
    {
     "name": "stdout",
     "output_type": "stream",
     "text": [
      "[[1. 0. 0. 0.]\n",
      " [0. 1. 0. 0.]\n",
      " [0. 0. 1. 0.]\n",
      " [0. 0. 0. 1.]]\n"
     ]
    }
   ],
   "source": [
    "# eye(r, c)\n",
    "import numpy as np\n",
    "out = np.eye(4)\n",
    "print(out)"
   ]
  },
  {
   "cell_type": "code",
   "execution_count": 11,
   "metadata": {},
   "outputs": [
    {
     "name": "stdout",
     "output_type": "stream",
     "text": [
      "[[ 1  2  3  4]\n",
      " [ 5  6  7  8]\n",
      " [ 9 10 11 12]]\n"
     ]
    }
   ],
   "source": [
    "import numpy as np\n",
    "# arange()\n",
    "out = np.arange(1, 13).reshape(3, 4)\n",
    "print(out)"
   ]
  },
  {
   "cell_type": "code",
   "execution_count": 18,
   "metadata": {},
   "outputs": [
    {
     "name": "stdout",
     "output_type": "stream",
     "text": [
      "[1.         1.05263158 1.10526316 1.15789474 1.21052632 1.26315789\n",
      " 1.31578947 1.36842105 1.42105263 1.47368421 1.52631579 1.57894737\n",
      " 1.63157895 1.68421053 1.73684211 1.78947368 1.84210526 1.89473684\n",
      " 1.94736842 2.        ]\n"
     ]
    }
   ],
   "source": [
    "out = np.linspace(1, 2, 20)\n",
    "print(out)"
   ]
  },
  {
   "cell_type": "code",
   "execution_count": 19,
   "metadata": {},
   "outputs": [
    {
     "name": "stdout",
     "output_type": "stream",
     "text": [
      "[[0. 0. 0. 0.]\n",
      " [0. 0. 0. 0.]\n",
      " [0. 0. 0. 0.]]\n"
     ]
    }
   ],
   "source": [
    "out = np.zeros((3, 4))\n",
    "print(out)"
   ]
  },
  {
   "cell_type": "code",
   "execution_count": 20,
   "metadata": {},
   "outputs": [
    {
     "name": "stdout",
     "output_type": "stream",
     "text": [
      "[[1. 1. 1. 1.]\n",
      " [1. 1. 1. 1.]\n",
      " [1. 1. 1. 1.]]\n"
     ]
    }
   ],
   "source": [
    "out = np.ones((3, 4))\n",
    "print(out)"
   ]
  },
  {
   "cell_type": "code",
   "execution_count": 24,
   "metadata": {},
   "outputs": [
    {
     "name": "stdout",
     "output_type": "stream",
     "text": [
      "[[1. 0. 0. 0. 0. 0.]\n",
      " [0. 1. 0. 0. 0. 0.]\n",
      " [0. 0. 1. 0. 0. 0.]\n",
      " [0. 0. 0. 1. 0. 0.]\n",
      " [0. 0. 0. 0. 1. 0.]\n",
      " [0. 0. 0. 0. 0. 1.]]\n"
     ]
    }
   ],
   "source": [
    "out = np.eye(6)\n",
    "print(out)"
   ]
  },
  {
   "cell_type": "code",
   "execution_count": 25,
   "metadata": {},
   "outputs": [
    {
     "name": "stdout",
     "output_type": "stream",
     "text": [
      "2 3 4 6\n",
      "1 2 3 4\n",
      "7 6 5 3\n",
      "1 2 9 0\n",
      "\n",
      "2 3 4 6 4 3 0 9 2 1 7 1 2 3 5 6\n"
     ]
    }
   ],
   "source": [
    "# spiral matrix\n",
    "# 3 4\n",
    "# 3 5 3 2\n",
    "# 1 2 4 6\n",
    "# 0 4 6 2\n",
    "\n",
    "R, C = list(map(int, input().split()))  # [3, 4]\n",
    "M = []\n",
    "for i in range(R):\n",
    "    M.append(list(map(int, input().split())))\n",
    "\n",
    "for i in M:\n",
    "    print(*i)\n",
    "print()    \n",
    "\n",
    "t = 0\n",
    "b = R - 1\n",
    "l = 0\n",
    "r = C - 1\n",
    "d = 0\n",
    "out = []\n",
    "while t <= b and l <= r:\n",
    "    if d == 0:\n",
    "        for i in range(l, r+1):\n",
    "            out.append(M[t][i])\n",
    "        d = 1\n",
    "        t += 1\n",
    "    elif d == 1:\n",
    "        for i in range(t, b+1):\n",
    "            out.append(M[i][r])\n",
    "        d = 2\n",
    "        r -= 1\n",
    "    elif d == 2:\n",
    "        for i in range(r, l-1, -1):\n",
    "            out.append(M[b][i])\n",
    "        d = 3\n",
    "        b -= 1\n",
    "    elif d == 3:\n",
    "        for i in range(b, t-1, -1):\n",
    "            out.append(M[i][l])\n",
    "        d = 0\n",
    "        l += 1\n",
    "print(*out)\n"
   ]
  }
 ],
 "metadata": {
  "kernelspec": {
   "display_name": "Python 3",
   "language": "python",
   "name": "python3"
  },
  "language_info": {
   "codemirror_mode": {
    "name": "ipython",
    "version": 3
   },
   "file_extension": ".py",
   "mimetype": "text/x-python",
   "name": "python",
   "nbconvert_exporter": "python",
   "pygments_lexer": "ipython3",
   "version": "3.10.7 (tags/v3.10.7:6cc6b13, Sep  5 2022, 14:08:36) [MSC v.1933 64 bit (AMD64)]"
  },
  "orig_nbformat": 4,
  "vscode": {
   "interpreter": {
    "hash": "490f1c68ed42f2c5a574e22fb9e03ff49b98516de8582ff1c5d4fb43fb70f61b"
   }
  }
 },
 "nbformat": 4,
 "nbformat_minor": 2
}
