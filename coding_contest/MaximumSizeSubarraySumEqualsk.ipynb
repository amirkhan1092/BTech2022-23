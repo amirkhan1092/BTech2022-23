{
 "cells": [
  {
   "cell_type": "code",
   "execution_count": 2,
   "metadata": {},
   "outputs": [],
   "source": [
    "class Solution:\n",
    "\tdef subarraySum(self, nums, k):\n",
    "\n",
    "\t\tans=0\n",
    "\t\tprefsum=0\n",
    "\t\td={0:1}\n",
    "\n",
    "\t\tfor num in nums:\n",
    "\t\t\tprefsum = prefsum + num\n",
    "\n",
    "\t\t\tif prefsum-k in d:\n",
    "\t\t\t\tans = ans + d[prefsum-k]\n",
    "\n",
    "\t\t\tif prefsum not in d:\n",
    "\t\t\t\td[prefsum] = 1\n",
    "\t\t\telse:\n",
    "\t\t\t\td[prefsum] = d[prefsum]+1\n",
    "\n",
    "\t\treturn ans"
   ]
  },
  {
   "cell_type": "code",
   "execution_count": 26,
   "metadata": {},
   "outputs": [
    {
     "name": "stdout",
     "output_type": "stream",
     "text": [
      "0\n"
     ]
    }
   ],
   "source": [
    "obj = Solution()\n",
    "k = 11\n",
    "lst = [1, 2, 3, 4]\n",
    "out = obj.subarraySum(lst, k)\n",
    "print(out)"
   ]
  }
 ],
 "metadata": {
  "kernelspec": {
   "display_name": "Python 3",
   "language": "python",
   "name": "python3"
  },
  "language_info": {
   "codemirror_mode": {
    "name": "ipython",
    "version": 3
   },
   "file_extension": ".py",
   "mimetype": "text/x-python",
   "name": "python",
   "nbconvert_exporter": "python",
   "pygments_lexer": "ipython3",
   "version": "3.10.7"
  },
  "orig_nbformat": 4
 },
 "nbformat": 4,
 "nbformat_minor": 2
}
