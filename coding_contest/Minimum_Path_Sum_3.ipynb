{
 "cells": [
  {
   "cell_type": "code",
   "execution_count": 5,
   "metadata": {},
   "outputs": [],
   "source": [
    "\n",
    "from ast import List\n",
    "import math\n",
    "class Solution:\n",
    "    def minPathSum(self, grid):\n",
    "        m = len(grid) \n",
    "        n = len(grid[0]) \n",
    "        memo = {}\n",
    "        def top_down(x, y, cur_sum = 0):\n",
    "            # print(f\"{x}, {y}, {cur_sum}, {grid[x][y]}\")\n",
    "            if x == m-1 and y == n-1:\n",
    "                return cur_sum + grid[x][y]\n",
    "            ans = -1\n",
    "            if (x,y) in memo:\n",
    "                return memo[(x,y)] + cur_sum\n",
    "            elif x + 1 < m and y+1 < n:\n",
    "                ans = min(top_down(x+1,y, cur_sum + grid[x][y]) , \n",
    "                top_down(x,y+1, cur_sum + grid[x][y]))\n",
    "            elif x+1 < m:\n",
    "                ans = top_down(x+1, y, cur_sum + grid[x][y]) \n",
    "            elif y+1 < n:\n",
    "                ans = top_down(x, y+1, cur_sum + grid[x][y]) \n",
    "            memo[(x,y)] = ans - cur_sum\n",
    "            return ans\n",
    "        \n",
    "        def bottom_up():\n",
    "            dp = [[ math.inf] * n for i in range(m)]\n",
    "            dp[0][0] = grid[0][0]\n",
    "            for i in range(1,n):\n",
    "                dp[0][i] = dp[0][i-1] + grid[0][i]\n",
    "\n",
    "            for i in range(1,m):\n",
    "                for j in range(0,n):\n",
    "                    if j-1 >= 0:\n",
    "                        dp[i][j] = min(dp[i-1][j], dp[i][j-1]) + grid[i][j]\n",
    "                    else:\n",
    "                        dp[i][j] = dp[i-1][j] + grid[i][j]\n",
    "            return dp[m-1][n-1]\n",
    "\n",
    "\n",
    "        return bottom_up()\n",
    "        return top_down(0 , 0)\n",
    "        "
   ]
  },
  {
   "cell_type": "code",
   "execution_count": 14,
   "metadata": {},
   "outputs": [
    {
     "name": "stdout",
     "output_type": "stream",
     "text": [
      "5\n"
     ]
    }
   ],
   "source": [
    "obj = Solution()\n",
    "'''\n",
    "3 2\n",
    "1 2  \n",
    "1 2 \n",
    "4 1  \n",
    "'''\n",
    "grid = []\n",
    "# m, n = map(int, input().split())\n",
    "m, n = 2, 3\n",
    "# for i in range(m):\n",
    "    # grid.append(list(map(int, input().split())))\n",
    "out = obj.minPathSum([[1, 2], [1, 2], [4, 1]])\n",
    "print(out)"
   ]
  }
 ],
 "metadata": {
  "kernelspec": {
   "display_name": "Python 3",
   "language": "python",
   "name": "python3"
  },
  "language_info": {
   "codemirror_mode": {
    "name": "ipython",
    "version": 3
   },
   "file_extension": ".py",
   "mimetype": "text/x-python",
   "name": "python",
   "nbconvert_exporter": "python",
   "pygments_lexer": "ipython3",
   "version": "3.10.7"
  },
  "orig_nbformat": 4
 },
 "nbformat": 4,
 "nbformat_minor": 2
}
