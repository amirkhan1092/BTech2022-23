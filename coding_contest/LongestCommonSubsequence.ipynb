{
 "cells": [
  {
   "cell_type": "code",
   "execution_count": 3,
   "metadata": {},
   "outputs": [],
   "source": [
    "class Solution:\n",
    "    def longestCommonSubsequence(self, text1: str, text2: str) -> int:\n",
    "        memo = [[0 for _ in range(len(text1))] for __ in range(len(text2))]\n",
    "        # row: text2\n",
    "        # column: text1\n",
    "        for i in range(len(text2)): #row\n",
    "            for j in range(len(text1)): #column\n",
    "                if text2[i] == text1[j]:\n",
    "                    memo[i][j] = max(1+memo[i-1][j-1] if j and i else 1, memo[i][j-1] if j else 0, memo[i-1][j] if i else 0)\n",
    "                else:\n",
    "                    memo[i][j] = max(memo[i-1][j] if i else 0, memo[i][j-1] if j else 0)\n",
    "        return memo[len(text2)-1][len(text1)-1]"
   ]
  },
  {
   "cell_type": "code",
   "execution_count": 4,
   "metadata": {},
   "outputs": [
    {
     "name": "stdout",
     "output_type": "stream",
     "text": [
      "<__main__.Solution object at 0x000002C5D50205E0>\n"
     ]
    }
   ],
   "source": [
    "obj = Solution()\n",
    "out = obj.longestCommonSubsequence('amirkhan', 'nazma')\n",
    "print(out)\n"
   ]
  }
 ],
 "metadata": {
  "kernelspec": {
   "display_name": "Python 3",
   "language": "python",
   "name": "python3"
  },
  "language_info": {
   "codemirror_mode": {
    "name": "ipython",
    "version": 3
   },
   "file_extension": ".py",
   "mimetype": "text/x-python",
   "name": "python",
   "nbconvert_exporter": "python",
   "pygments_lexer": "ipython3",
   "version": "3.10.7"
  },
  "orig_nbformat": 4
 },
 "nbformat": 4,
 "nbformat_minor": 2
}
